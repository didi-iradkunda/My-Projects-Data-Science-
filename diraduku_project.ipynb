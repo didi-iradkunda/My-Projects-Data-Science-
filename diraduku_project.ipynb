{
 "cells": [
  {
   "cell_type": "markdown",
   "id": "f2326b36",
   "metadata": {},
    " ### Final Project: Building a Credit Approval Model using Neural Networks \n",
    "    \n",
    "##### Didier Iradukunda"
   ]
  },
  {
   "cell_type": "code",
   "execution_count": 57,
   "id": "c8596a2e",
   "metadata": {},
   "outputs": [],
   "source": [
    "# importing useful libraries for the programming tasks\n",
    "import pandas as pd\n",
    "import numpy as np\n",
    "import seaborn as sns\n",
    "import matplotlib.pyplot as plt\n",
    "import warnings\n",
    "warnings.filterwarnings (\"ignore\")\n",
    "from sklearn.preprocessing import StandardScaler, MinMaxScaler\n",
    "from sklearn.preprocessing import LabelEncoder\n",
    "from sklearn.preprocessing import OneHotEncoder\n",
    "import sklearn.neural_network\n",
    "from sklearn.neural_network import MLPClassifier\n",
    "from sklearn.datasets import make_classification\n",
    "from sklearn.model_selection import train_test_split\n",
    "from sklearn.model_selection import KFold\n",
    "from sklearn.model_selection import cross_val_score\n",
    "from sklearn.model_selection import GridSearchCV"
   ]
  },
  {
   "cell_type": "code",
   "execution_count": 58,
   "id": "10d6374b",
   "metadata": {},
   "outputs": [
    {
     "data": {
      "text/html": [
       "<div>\n",
       "<style scoped>\n",
       "    .dataframe tbody tr th:only-of-type {\n",
       "        vertical-align: middle;\n",
       "    }\n",
       "\n",
       "    .dataframe tbody tr th {\n",
       "        vertical-align: top;\n",
       "    }\n",
       "\n",
       "    .dataframe thead th {\n",
       "        text-align: right;\n",
       "    }\n",
       "</style>\n",
       "<table border=\"1\" class=\"dataframe\">\n",
       "  <thead>\n",
       "    <tr style=\"text-align: right;\">\n",
       "      <th></th>\n",
       "      <th>0</th>\n",
       "      <th>1</th>\n",
       "      <th>2</th>\n",
       "      <th>3</th>\n",
       "      <th>4</th>\n",
       "      <th>5</th>\n",
       "      <th>6</th>\n",
       "      <th>7</th>\n",
       "      <th>8</th>\n",
       "      <th>9</th>\n",
       "      <th>10</th>\n",
       "      <th>11</th>\n",
       "      <th>12</th>\n",
       "      <th>13</th>\n",
       "      <th>14</th>\n",
       "      <th>15</th>\n",
       "    </tr>\n",
       "  </thead>\n",
       "  <tbody>\n",
       "    <tr>\n",
       "      <th>0</th>\n",
       "      <td>b</td>\n",
       "      <td>30.83</td>\n",
       "      <td>0.000</td>\n",
       "      <td>u</td>\n",
       "      <td>g</td>\n",
       "      <td>w</td>\n",
       "      <td>v</td>\n",
       "      <td>1.25</td>\n",
       "      <td>t</td>\n",
       "      <td>t</td>\n",
       "      <td>1</td>\n",
       "      <td>f</td>\n",
       "      <td>g</td>\n",
       "      <td>00202</td>\n",
       "      <td>0</td>\n",
       "      <td>+</td>\n",
       "    </tr>\n",
       "    <tr>\n",
       "      <th>1</th>\n",
       "      <td>a</td>\n",
       "      <td>58.67</td>\n",
       "      <td>4.460</td>\n",
       "      <td>u</td>\n",
       "      <td>g</td>\n",
       "      <td>q</td>\n",
       "      <td>h</td>\n",
       "      <td>3.04</td>\n",
       "      <td>t</td>\n",
       "      <td>t</td>\n",
       "      <td>6</td>\n",
       "      <td>f</td>\n",
       "      <td>g</td>\n",
       "      <td>00043</td>\n",
       "      <td>560</td>\n",
       "      <td>+</td>\n",
       "    </tr>\n",
       "    <tr>\n",
       "      <th>2</th>\n",
       "      <td>a</td>\n",
       "      <td>24.50</td>\n",
       "      <td>0.500</td>\n",
       "      <td>u</td>\n",
       "      <td>g</td>\n",
       "      <td>q</td>\n",
       "      <td>h</td>\n",
       "      <td>1.50</td>\n",
       "      <td>t</td>\n",
       "      <td>f</td>\n",
       "      <td>0</td>\n",
       "      <td>f</td>\n",
       "      <td>g</td>\n",
       "      <td>00280</td>\n",
       "      <td>824</td>\n",
       "      <td>+</td>\n",
       "    </tr>\n",
       "    <tr>\n",
       "      <th>3</th>\n",
       "      <td>b</td>\n",
       "      <td>27.83</td>\n",
       "      <td>1.540</td>\n",
       "      <td>u</td>\n",
       "      <td>g</td>\n",
       "      <td>w</td>\n",
       "      <td>v</td>\n",
       "      <td>3.75</td>\n",
       "      <td>t</td>\n",
       "      <td>t</td>\n",
       "      <td>5</td>\n",
       "      <td>t</td>\n",
       "      <td>g</td>\n",
       "      <td>00100</td>\n",
       "      <td>3</td>\n",
       "      <td>+</td>\n",
       "    </tr>\n",
       "    <tr>\n",
       "      <th>4</th>\n",
       "      <td>b</td>\n",
       "      <td>20.17</td>\n",
       "      <td>5.625</td>\n",
       "      <td>u</td>\n",
       "      <td>g</td>\n",
       "      <td>w</td>\n",
       "      <td>v</td>\n",
       "      <td>1.71</td>\n",
       "      <td>t</td>\n",
       "      <td>f</td>\n",
       "      <td>0</td>\n",
       "      <td>f</td>\n",
       "      <td>s</td>\n",
       "      <td>00120</td>\n",
       "      <td>0</td>\n",
       "      <td>+</td>\n",
       "    </tr>\n",
       "  </tbody>\n",
       "</table>\n",
       "</div>"
      ],
      "text/plain": [
       "  0      1      2  3  4  5  6     7  8  9   10 11 12     13   14 15\n",
       "0  b  30.83  0.000  u  g  w  v  1.25  t  t   1  f  g  00202    0  +\n",
       "1  a  58.67  4.460  u  g  q  h  3.04  t  t   6  f  g  00043  560  +\n",
       "2  a  24.50  0.500  u  g  q  h  1.50  t  f   0  f  g  00280  824  +\n",
       "3  b  27.83  1.540  u  g  w  v  3.75  t  t   5  t  g  00100    3  +\n",
       "4  b  20.17  5.625  u  g  w  v  1.71  t  f   0  f  s  00120    0  +"
      ]
     },
     "execution_count": 58,
     "metadata": {},
     "output_type": "execute_result"
    }
   ],
   "source": [
    "# read the dataset\n",
    "credit_data = pd.read_csv('crx.data', header = None)\n",
    "credit_data.head(5)"
   ]
  },
  {
   "cell_type": "code",
   "execution_count": 59,
   "id": "44654417",
   "metadata": {},
   "outputs": [
    {
     "data": {
      "text/html": [
       "<div>\n",
       "<style scoped>\n",
       "    .dataframe tbody tr th:only-of-type {\n",
       "        vertical-align: middle;\n",
       "    }\n",
       "\n",
       "    .dataframe tbody tr th {\n",
       "        vertical-align: top;\n",
       "    }\n",
       "\n",
       "    .dataframe thead th {\n",
       "        text-align: right;\n",
       "    }\n",
       "</style>\n",
       "<table border=\"1\" class=\"dataframe\">\n",
       "  <thead>\n",
       "    <tr style=\"text-align: right;\">\n",
       "      <th></th>\n",
       "      <th>A1</th>\n",
       "      <th>A2</th>\n",
       "      <th>A3</th>\n",
       "      <th>A4</th>\n",
       "      <th>A5</th>\n",
       "      <th>A6</th>\n",
       "      <th>A7</th>\n",
       "      <th>A8</th>\n",
       "      <th>A9</th>\n",
       "      <th>A10</th>\n",
       "      <th>A11</th>\n",
       "      <th>A12</th>\n",
       "      <th>A13</th>\n",
       "      <th>A14</th>\n",
       "      <th>A15</th>\n",
       "      <th>A16</th>\n",
       "    </tr>\n",
       "  </thead>\n",
       "  <tbody>\n",
       "    <tr>\n",
       "      <th>0</th>\n",
       "      <td>b</td>\n",
       "      <td>30.83</td>\n",
       "      <td>0.000</td>\n",
       "      <td>u</td>\n",
       "      <td>g</td>\n",
       "      <td>w</td>\n",
       "      <td>v</td>\n",
       "      <td>1.25</td>\n",
       "      <td>t</td>\n",
       "      <td>t</td>\n",
       "      <td>1</td>\n",
       "      <td>f</td>\n",
       "      <td>g</td>\n",
       "      <td>00202</td>\n",
       "      <td>0</td>\n",
       "      <td>+</td>\n",
       "    </tr>\n",
       "    <tr>\n",
       "      <th>1</th>\n",
       "      <td>a</td>\n",
       "      <td>58.67</td>\n",
       "      <td>4.460</td>\n",
       "      <td>u</td>\n",
       "      <td>g</td>\n",
       "      <td>q</td>\n",
       "      <td>h</td>\n",
       "      <td>3.04</td>\n",
       "      <td>t</td>\n",
       "      <td>t</td>\n",
       "      <td>6</td>\n",
       "      <td>f</td>\n",
       "      <td>g</td>\n",
       "      <td>00043</td>\n",
       "      <td>560</td>\n",
       "      <td>+</td>\n",
       "    </tr>\n",
       "    <tr>\n",
       "      <th>2</th>\n",
       "      <td>a</td>\n",
       "      <td>24.50</td>\n",
       "      <td>0.500</td>\n",
       "      <td>u</td>\n",
       "      <td>g</td>\n",
       "      <td>q</td>\n",
       "      <td>h</td>\n",
       "      <td>1.50</td>\n",
       "      <td>t</td>\n",
       "      <td>f</td>\n",
       "      <td>0</td>\n",
       "      <td>f</td>\n",
       "      <td>g</td>\n",
       "      <td>00280</td>\n",
       "      <td>824</td>\n",
       "      <td>+</td>\n",
       "    </tr>\n",
       "    <tr>\n",
       "      <th>3</th>\n",
       "      <td>b</td>\n",
       "      <td>27.83</td>\n",
       "      <td>1.540</td>\n",
       "      <td>u</td>\n",
       "      <td>g</td>\n",
       "      <td>w</td>\n",
       "      <td>v</td>\n",
       "      <td>3.75</td>\n",
       "      <td>t</td>\n",
       "      <td>t</td>\n",
       "      <td>5</td>\n",
       "      <td>t</td>\n",
       "      <td>g</td>\n",
       "      <td>00100</td>\n",
       "      <td>3</td>\n",
       "      <td>+</td>\n",
       "    </tr>\n",
       "    <tr>\n",
       "      <th>4</th>\n",
       "      <td>b</td>\n",
       "      <td>20.17</td>\n",
       "      <td>5.625</td>\n",
       "      <td>u</td>\n",
       "      <td>g</td>\n",
       "      <td>w</td>\n",
       "      <td>v</td>\n",
       "      <td>1.71</td>\n",
       "      <td>t</td>\n",
       "      <td>f</td>\n",
       "      <td>0</td>\n",
       "      <td>f</td>\n",
       "      <td>s</td>\n",
       "      <td>00120</td>\n",
       "      <td>0</td>\n",
       "      <td>+</td>\n",
       "    </tr>\n",
       "    <tr>\n",
       "      <th>...</th>\n",
       "      <td>...</td>\n",
       "      <td>...</td>\n",
       "      <td>...</td>\n",
       "      <td>...</td>\n",
       "      <td>...</td>\n",
       "      <td>...</td>\n",
       "      <td>...</td>\n",
       "      <td>...</td>\n",
       "      <td>...</td>\n",
       "      <td>...</td>\n",
       "      <td>...</td>\n",
       "      <td>...</td>\n",
       "      <td>...</td>\n",
       "      <td>...</td>\n",
       "      <td>...</td>\n",
       "      <td>...</td>\n",
       "    </tr>\n",
       "    <tr>\n",
       "      <th>685</th>\n",
       "      <td>b</td>\n",
       "      <td>21.08</td>\n",
       "      <td>10.085</td>\n",
       "      <td>y</td>\n",
       "      <td>p</td>\n",
       "      <td>e</td>\n",
       "      <td>h</td>\n",
       "      <td>1.25</td>\n",
       "      <td>f</td>\n",
       "      <td>f</td>\n",
       "      <td>0</td>\n",
       "      <td>f</td>\n",
       "      <td>g</td>\n",
       "      <td>00260</td>\n",
       "      <td>0</td>\n",
       "      <td>-</td>\n",
       "    </tr>\n",
       "    <tr>\n",
       "      <th>686</th>\n",
       "      <td>a</td>\n",
       "      <td>22.67</td>\n",
       "      <td>0.750</td>\n",
       "      <td>u</td>\n",
       "      <td>g</td>\n",
       "      <td>c</td>\n",
       "      <td>v</td>\n",
       "      <td>2.00</td>\n",
       "      <td>f</td>\n",
       "      <td>t</td>\n",
       "      <td>2</td>\n",
       "      <td>t</td>\n",
       "      <td>g</td>\n",
       "      <td>00200</td>\n",
       "      <td>394</td>\n",
       "      <td>-</td>\n",
       "    </tr>\n",
       "    <tr>\n",
       "      <th>687</th>\n",
       "      <td>a</td>\n",
       "      <td>25.25</td>\n",
       "      <td>13.500</td>\n",
       "      <td>y</td>\n",
       "      <td>p</td>\n",
       "      <td>ff</td>\n",
       "      <td>ff</td>\n",
       "      <td>2.00</td>\n",
       "      <td>f</td>\n",
       "      <td>t</td>\n",
       "      <td>1</td>\n",
       "      <td>t</td>\n",
       "      <td>g</td>\n",
       "      <td>00200</td>\n",
       "      <td>1</td>\n",
       "      <td>-</td>\n",
       "    </tr>\n",
       "    <tr>\n",
       "      <th>688</th>\n",
       "      <td>b</td>\n",
       "      <td>17.92</td>\n",
       "      <td>0.205</td>\n",
       "      <td>u</td>\n",
       "      <td>g</td>\n",
       "      <td>aa</td>\n",
       "      <td>v</td>\n",
       "      <td>0.04</td>\n",
       "      <td>f</td>\n",
       "      <td>f</td>\n",
       "      <td>0</td>\n",
       "      <td>f</td>\n",
       "      <td>g</td>\n",
       "      <td>00280</td>\n",
       "      <td>750</td>\n",
       "      <td>-</td>\n",
       "    </tr>\n",
       "    <tr>\n",
       "      <th>689</th>\n",
       "      <td>b</td>\n",
       "      <td>35.00</td>\n",
       "      <td>3.375</td>\n",
       "      <td>u</td>\n",
       "      <td>g</td>\n",
       "      <td>c</td>\n",
       "      <td>h</td>\n",
       "      <td>8.29</td>\n",
       "      <td>f</td>\n",
       "      <td>f</td>\n",
       "      <td>0</td>\n",
       "      <td>t</td>\n",
       "      <td>g</td>\n",
       "      <td>00000</td>\n",
       "      <td>0</td>\n",
       "      <td>-</td>\n",
       "    </tr>\n",
       "  </tbody>\n",
       "</table>\n",
       "<p>690 rows × 16 columns</p>\n",
       "</div>"
      ],
      "text/plain": [
       "    A1     A2      A3 A4 A5  A6  A7    A8 A9 A10  A11 A12 A13    A14  A15 A16\n",
       "0    b  30.83   0.000  u  g   w   v  1.25  t   t    1   f   g  00202    0   +\n",
       "1    a  58.67   4.460  u  g   q   h  3.04  t   t    6   f   g  00043  560   +\n",
       "2    a  24.50   0.500  u  g   q   h  1.50  t   f    0   f   g  00280  824   +\n",
       "3    b  27.83   1.540  u  g   w   v  3.75  t   t    5   t   g  00100    3   +\n",
       "4    b  20.17   5.625  u  g   w   v  1.71  t   f    0   f   s  00120    0   +\n",
       "..  ..    ...     ... .. ..  ..  ..   ... ..  ..  ...  ..  ..    ...  ...  ..\n",
       "685  b  21.08  10.085  y  p   e   h  1.25  f   f    0   f   g  00260    0   -\n",
       "686  a  22.67   0.750  u  g   c   v  2.00  f   t    2   t   g  00200  394   -\n",
       "687  a  25.25  13.500  y  p  ff  ff  2.00  f   t    1   t   g  00200    1   -\n",
       "688  b  17.92   0.205  u  g  aa   v  0.04  f   f    0   f   g  00280  750   -\n",
       "689  b  35.00   3.375  u  g   c   h  8.29  f   f    0   t   g  00000    0   -\n",
       "\n",
       "[690 rows x 16 columns]"
      ]
     },
     "execution_count": 59,
     "metadata": {},
     "output_type": "execute_result"
    }
   ],
   "source": [
    "# rename columns\n",
    "credit_data.columns=['A1','A2','A3','A4','A5','A6','A7','A8','A9','A10','A11','A12','A13','A14','A15','A16']\n",
    "credit_data"
   ]
  },
  {
   "cell_type": "markdown",
   "id": "8b4c4edb",
   "metadata": {},
   "source": [
    "# Basic insights from the data"
   ]
  },
  {
   "cell_type": "code",
   "execution_count": 60,
   "id": "1eb1ee56",
   "metadata": {},
   "outputs": [
    {
     "name": "stdout",
     "output_type": "stream",
     "text": [
      "               A3          A8        A11            A15\n",
      "count  690.000000  690.000000  690.00000     690.000000\n",
      "mean     4.758725    2.223406    2.40000    1017.385507\n",
      "std      4.978163    3.346513    4.86294    5210.102598\n",
      "min      0.000000    0.000000    0.00000       0.000000\n",
      "25%      1.000000    0.165000    0.00000       0.000000\n",
      "50%      2.750000    1.000000    0.00000       5.000000\n",
      "75%      7.207500    2.625000    3.00000     395.500000\n",
      "max     28.000000   28.500000   67.00000  100000.000000\n",
      "\n",
      "<class 'pandas.core.frame.DataFrame'>\n",
      "RangeIndex: 690 entries, 0 to 689\n",
      "Data columns (total 16 columns):\n",
      " #   Column  Non-Null Count  Dtype  \n",
      "---  ------  --------------  -----  \n",
      " 0   A1      690 non-null    object \n",
      " 1   A2      690 non-null    object \n",
      " 2   A3      690 non-null    float64\n",
      " 3   A4      690 non-null    object \n",
      " 4   A5      690 non-null    object \n",
      " 5   A6      690 non-null    object \n",
      " 6   A7      690 non-null    object \n",
      " 7   A8      690 non-null    float64\n",
      " 8   A9      690 non-null    object \n",
      " 9   A10     690 non-null    object \n",
      " 10  A11     690 non-null    int64  \n",
      " 11  A12     690 non-null    object \n",
      " 12  A13     690 non-null    object \n",
      " 13  A14     690 non-null    object \n",
      " 14  A15     690 non-null    int64  \n",
      " 15  A16     690 non-null    object \n",
      "dtypes: float64(2), int64(2), object(12)\n",
      "memory usage: 86.4+ KB\n",
      "None\n",
      "\n",
      "    A1     A2      A3 A4 A5  A6  A7    A8 A9 A10  A11 A12 A13    A14  A15 A16\n",
      "685  b  21.08  10.085  y  p   e   h  1.25  f   f    0   f   g  00260    0   -\n",
      "686  a  22.67   0.750  u  g   c   v  2.00  f   t    2   t   g  00200  394   -\n",
      "687  a  25.25  13.500  y  p  ff  ff  2.00  f   t    1   t   g  00200    1   -\n",
      "688  b  17.92   0.205  u  g  aa   v  0.04  f   f    0   f   g  00280  750   -\n",
      "689  b  35.00   3.375  u  g   c   h  8.29  f   f    0   t   g  00000    0   -\n"
     ]
    }
   ],
   "source": [
    "# summary statistics\n",
    "print(f'{credit_data.describe()}\\n')\n",
    "# Print DataFrame information\n",
    "print(f'{credit_data.info()}\\n')\n",
    "# last five values of the dataset\n",
    "print(credit_data.tail(5))"
   ]
  },
  {
   "cell_type": "code",
   "execution_count": 61,
   "id": "f1b75e1c",
   "metadata": {},
   "outputs": [],
   "source": [
    "# save the CSV file\n",
    "credit_data.to_csv('diraduku_project.csv', index = False)"
   ]
  },
  {
   "cell_type": "markdown",
   "id": "24edc82d",
   "metadata": {},
   "source": [
    "# Exploratory Data Analysis (EDA)"
   ]
  },
  {
   "cell_type": "code",
   "execution_count": 62,
   "id": "c579956c",
   "metadata": {},
   "outputs": [
    {
     "data": {
      "text/plain": [
       "A1     0\n",
       "A2     0\n",
       "A3     0\n",
       "A4     0\n",
       "A5     0\n",
       "A6     0\n",
       "A7     0\n",
       "A8     0\n",
       "A9     0\n",
       "A10    0\n",
       "A11    0\n",
       "A12    0\n",
       "A13    0\n",
       "A14    0\n",
       "A15    0\n",
       "A16    0\n",
       "dtype: int64"
      ]
     },
     "execution_count": 62,
     "metadata": {},
     "output_type": "execute_result"
    }
   ],
   "source": [
    "# checking missingvalues\n",
    "credit_data.isna().sum()"
   ]
  },
  {
   "cell_type": "code",
   "execution_count": 63,
   "id": "f485164e",
   "metadata": {},
   "outputs": [],
   "source": [
    "# replace the questions marls with NaN \n",
    "credit_data = credit_data.replace('?', np.nan)"
   ]
  },
  {
   "cell_type": "code",
   "execution_count": 64,
   "id": "da91433b",
   "metadata": {},
   "outputs": [],
   "source": [
    "# replace in numerical data the NaN with the mean\n",
    "credit_data.fillna(credit_data.mean(), inplace=True)"
   ]
  },
  {
   "cell_type": "code",
   "execution_count": 65,
   "id": "19577c8b",
   "metadata": {},
   "outputs": [
    {
     "name": "stdout",
     "output_type": "stream",
     "text": [
      "A1     12\n",
      "A2     12\n",
      "A3      0\n",
      "A4      6\n",
      "A5      6\n",
      "A6      9\n",
      "A7      9\n",
      "A8      0\n",
      "A9      0\n",
      "A10     0\n",
      "A11     0\n",
      "A12     0\n",
      "A13     0\n",
      "A14    13\n",
      "A15     0\n",
      "A16     0\n",
      "dtype: int64\n",
      "\n"
     ]
    }
   ],
   "source": [
    "# checking missingvalues\n",
    "print(f'{credit_data.isnull().sum()}\\n')"
   ]
  },
  {
   "cell_type": "code",
   "execution_count": 66,
   "id": "7fa7bbda",
   "metadata": {},
   "outputs": [],
   "source": [
    "# replace in categorical data the NaN with the mode\n",
    "credit_data.fillna(credit_data.select_dtypes(include='object').mode().iloc[0], inplace=True)"
   ]
  },
  {
   "cell_type": "code",
   "execution_count": 67,
   "id": "0ea6be5e",
   "metadata": {},
   "outputs": [
    {
     "data": {
      "text/plain": [
       "A1     0\n",
       "A2     0\n",
       "A3     0\n",
       "A4     0\n",
       "A5     0\n",
       "A6     0\n",
       "A7     0\n",
       "A8     0\n",
       "A9     0\n",
       "A10    0\n",
       "A11    0\n",
       "A12    0\n",
       "A13    0\n",
       "A14    0\n",
       "A15    0\n",
       "A16    0\n",
       "dtype: int64"
      ]
     },
     "execution_count": 67,
     "metadata": {},
     "output_type": "execute_result"
    }
   ],
   "source": [
    "# checking missingvalues\n",
    "credit_data.isna().sum()"
   ]
  },
  {
   "cell_type": "code",
   "execution_count": 68,
   "id": "e8bfa752",
   "metadata": {},
   "outputs": [],
   "source": [
    "# changing from object to numeric\n",
    "credit_data[['A2']] = credit_data[['A2']].apply(pd.to_numeric) \n",
    "credit_data[['A14']] = credit_data[['A14']].apply(pd.to_numeric) "
   ]
  },
  {
   "cell_type": "code",
   "execution_count": 69,
   "id": "1481b0fd",
   "metadata": {},
   "outputs": [
    {
     "name": "stdout",
     "output_type": "stream",
     "text": [
      "<class 'pandas.core.frame.DataFrame'>\n",
      "RangeIndex: 690 entries, 0 to 689\n",
      "Data columns (total 16 columns):\n",
      " #   Column  Non-Null Count  Dtype  \n",
      "---  ------  --------------  -----  \n",
      " 0   A1      690 non-null    object \n",
      " 1   A2      690 non-null    float64\n",
      " 2   A3      690 non-null    float64\n",
      " 3   A4      690 non-null    object \n",
      " 4   A5      690 non-null    object \n",
      " 5   A6      690 non-null    object \n",
      " 6   A7      690 non-null    object \n",
      " 7   A8      690 non-null    float64\n",
      " 8   A9      690 non-null    object \n",
      " 9   A10     690 non-null    object \n",
      " 10  A11     690 non-null    int64  \n",
      " 11  A12     690 non-null    object \n",
      " 12  A13     690 non-null    object \n",
      " 13  A14     690 non-null    int64  \n",
      " 14  A15     690 non-null    int64  \n",
      " 15  A16     690 non-null    object \n",
      "dtypes: float64(3), int64(3), object(10)\n",
      "memory usage: 86.4+ KB\n"
     ]
    }
   ],
   "source": [
    "credit_data.info()"
   ]
  },
  {
   "cell_type": "markdown",
   "id": "e0af379f",
   "metadata": {},
   "source": [
    "# Data visualization"
   ]
  },
  {
   "cell_type": "code",
   "execution_count": 70,
   "id": "5fe817b0",
   "metadata": {},
   "outputs": [
    {
     "data": {
      "image/png": "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\n",
      "text/plain": [
       "<Figure size 432x288 with 1 Axes>"
      ]
     },
     "metadata": {},
     "output_type": "display_data"
    },
    {
     "data": {
      "image/png": "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\n",
      "text/plain": [
       "<Figure size 432x288 with 1 Axes>"
      ]
     },
     "metadata": {},
     "output_type": "display_data"
    },
    {
     "data": {
      "image/png": "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\n",
      "text/plain": [
       "<Figure size 432x288 with 1 Axes>"
      ]
     },
     "metadata": {},
     "output_type": "display_data"
    },
    {
     "data": {
      "image/png": "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\n",
      "text/plain": [
       "<Figure size 432x288 with 1 Axes>"
      ]
     },
     "metadata": {},
     "output_type": "display_data"
    },
    {
     "data": {
      "image/png": "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\n",
      "text/plain": [
       "<Figure size 432x288 with 1 Axes>"
      ]
     },
     "metadata": {},
     "output_type": "display_data"
    },
    {
     "data": {
      "image/png": "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\n",
      "text/plain": [
       "<Figure size 432x288 with 1 Axes>"
      ]
     },
     "metadata": {},
     "output_type": "display_data"
    }
   ],
   "source": [
    "def plotDistPlot(col):\n",
    "    \"\"\"Flexibly plot a univariate distribution of observation\"\"\"\n",
    "    sns.distplot(col)\n",
    "    plt.show()\n",
    "plotDistPlot(credit_data['A2'])\n",
    "plotDistPlot(credit_data['A3'])\n",
    "plotDistPlot(credit_data['A8'])\n",
    "plotDistPlot(credit_data['A11'])\n",
    "plotDistPlot(credit_data['A14'])\n",
    "plotDistPlot(credit_data['A15'])"
   ]
  },
  {
   "cell_type": "code",
   "execution_count": 71,
   "id": "f2b8b62e",
   "metadata": {},
   "outputs": [
    {
     "data": {
      "text/plain": [
       "<AxesSubplot:xlabel='A16', ylabel='count'>"
      ]
     },
     "execution_count": 71,
     "metadata": {},
     "output_type": "execute_result"
    },
    {
     "data": {
      "image/png": "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\n",
      "text/plain": [
       "<Figure size 432x288 with 1 Axes>"
      ]
     },
     "metadata": {},
     "output_type": "display_data"
    }
   ],
   "source": [
    "sns.countplot(data = credit_data, x = 'A16')"
   ]
  },
  {
   "cell_type": "code",
   "execution_count": 72,
   "id": "488a3495",
   "metadata": {},
   "outputs": [
    {
     "name": "stdout",
     "output_type": "stream",
     "text": [
      "Correlation matrix\n"
     ]
    },
    {
     "data": {
      "text/plain": [
       "<AxesSubplot:>"
      ]
     },
     "execution_count": 72,
     "metadata": {},
     "output_type": "execute_result"
    },
    {
     "data": {
      "image/png": "iVBORw0KGgoAAAANSUhEUgAAAaAAAAGPCAYAAAAazAS6AAAAOXRFWHRTb2Z0d2FyZQBNYXRwbG90bGliIHZlcnNpb24zLjMuNCwgaHR0cHM6Ly9tYXRwbG90bGliLm9yZy8QVMy6AAAACXBIWXMAAAsTAAALEwEAmpwYAABb8UlEQVR4nO3dd3zM9x/A8Vciew8ZBKlNjaqiSo2iZs1SqkVLY4aido1atWqrVmytkti0NhV7tlZQtYPIkERk3/r9kV+PkyHhcnfc+9nHPR6+33vf996ffpO87/P+fu7OQqPRaBBCCCEMzNLYCQghhDBPUoCEEEIYhRQgIYQQRiEFSAghhFFIARJCCGEUUoCEEEIYhRQgIYQQWomJiXz00UfcvXs3032XL1+mXbt2NGnShG+//RalUvlSzyUFSAghBADnzp3j008/5datW1neP3ToUMaOHcuuXbvQaDSEhIS81PNJARJCCAFASEgI48aNw9vbO9N99+7dIzU1lSpVqgDQrl07du7c+VLPZ/VSjxZCCGHyEhISSEhIyLTfxcUFFxcX7fbkyZOzPUZUVBReXl7abS8vLyIjI18qLylAQghhgiw+LKK3Y81rNZwFCxZk2h8YGEj//v1zdQy1Wo2FhYV2W6PR6Gy/CClAQgjxmuvWrRtt27bNtP/p2c/z+Pr6Eh0drd2OiYnJslWXF1KAhBDCFL3k7OJpz7baXoSfnx+2tracOXOGd955hy1btlC3bt2XOqYsQhBCCFNkqcfbSwgICODChQsA/PDDD0yZMoWmTZuSnJxM165dX+rYFvJ1DEIIYXosmhbV27E0O8P1dix9khacEEKYIj224EyVFCAhhDBFr3/9kWtAQgghjENmQEIIYYqkBSeEEMIozKA/ZQZDFEIIYYpkBiSEEKZIWnBCCCGM4vWvP9KCE0IIYRwyAxJCCFNk+fpPgaQACSGEKXr964+04IQQQhiHzICEEMIUySo4IYQQRvH61x9pwQkhhDAOmQEJIYQpklVwQgghjOL1rz/SghNCCGEcMgMSQghTJKvghBBCGIUZXAOSFpwQQgijkBmQEEKYotd/AiQFSAghTJIZXAOSFpwQQgijkBmQEEKYotd/AiQFSAghTJKsghNCCCHyh8yAhBDCFL3+EyApQEIIYZLMYBWcQQuQxYdFDPl0+Spk0TRjp6BXpyIuGDsFvXqvcBVjp6B37/m+b+wU9Co2LcbYKejVm25VjJ3CK0dmQEIIYYrM4Aq9FCAhhDBFZtCCM4MaK4QQwhTJDEgIIUzR6z8BkgIkhBAmSVpwQgghRP6QGZAQQpgiM5geSAESQghTZAYtOClAQghhil7/+mMOkzwhhBCmSGZAQghhiszg6xikAAkhhCkyg2tA0oITQghhFDIDEkIIU/T6T4CkAAkhhCmykBacEEIIkT9kBiSEECbIHGZAUoCEEMIEmUH9kRacEEII45AZkBBCmCBLM5gCvZYFaMXQ2Vy4eYWZ6xcZO5Vc++fkVXYv349KocKnuDdtB7bCztFWJ+bs/vMcXn8MLMDa1pqPejfFr0xhI2Wc2YNzD7i8IQyVQo1rUReqfFkVa3trnZgb+65z68+bYAGOXo5U+aIqti62pCemc+6Xszy68wgr2wIUe9+fEo1KGmkkGa6cuMrO5XtRKpQUKu7Dx4NaY+dolylOo9GwbuYmfN/woW772gAkP05m8/zfuX/9ATZ2NrzTuAq1W9c09BA4dvA4QfOXoEhXUKJ0CYZ/NwRHJ8dcx6lUKuZMnc+5M+cAqPn+u/QZ1AsLCwv+OvU3P88OQqlUYmtry4BhgZSvVC5fx3P68F/8+tMaFOkK/EsVI/Db3jg4OeQpJiYyhuE9RjP71+m4uLkAcOH0RVbM+wWVSo2zixPdB3WjeJk38nUsz2MO14BeqxZcuWKl2Dc9mPZ1Whg7lTxJik9i46ytfDq6AwOX9MPD153dy/fpxETfjWHnkr10m9SZwB97Ub9THX6bFGKkjDNLS0jj72VnqN7vXRpN+RAHL0curQ/TiYm/Fce1ndeoM6oeDSY2wtHHicubLgFwce15rGytaDi5EXVH1yfyQiQPzkYYYygAJMYnsW7WZj4f05EhSwfgUcidncv3ZoqLuhPN4hEruXDoks7+3xftxMbOhsFBgfSd8xVXT1/j8ol/DJU+APGx8UwdN4OJP3zHr1tWUrhIIRbNXZKnuN2/7yH8VjjL1y1hWfBizp4+z4E9B1EoFIwfNokhYwezLGQxXQI+Y/LoKfk6nkdxCcyf9BPDpgzmx3Vz8PXz4ZeFv+Up5s/toXzb6ztio+O0+5ISk5k2Yhbd+n/OnNUz6DX8K374dg6KdEW+jke8ZgWoX6svWLJjDesO/W7sVPLk379u4FemMAX9PAGo8VE1zv15AY1Go42xsrai7cCPcPZwBsCvTGES4xJRKlRGyflZUWFRuBd3x8nHCYDiHxTn7vFwnTG4veFOoykfYu1gjUqhIjUuFRsnGwDib8dTtFZRLCwtsLSyxKeyL/fP3DfKWAD+/es6RZ46J++2qM7f+8/rjAfg2LaT1GhalUp1Kujsv/dvBG83fAvLApZYWVtRrnrpTEUqv506dppyFcpSxL8IAK07tGLvjn2ZxpBTnFqtJjUlFUW6gnSFAqVSgY2tNdbW1mzYHUyZcqXRaDTcvxuBi6tLvo7n7IlzlC5fksLFCgHQtN2HHNx5WGc8OcXERsdyIvQUY+eN0jluRHgEDk4OVK5eCYAib/jh4GjPPxeu5ut4nsfCwkJvN1OVbQGKiIigb9++tGvXjoULF6JSPflD16tXL4Mkl1f9F4xmzZ+bjZ1Gnj2KeYSrl6t226WgC2nJaaQlp2v3ufu4UbZGGSCj5bMjaDfl3i2LlXUBg+eblZTYZOw97LXbdu72KFOUKFOVOnGWVpZE/HWf3d/s5OHVGIq97w+Ae3EPwo+Go1aqUaYqiThzj9T4VIOO4WmPoh/h9tQ5cfX675yk6cS17teCKh9UzvT4omX9+HvfOVRKFWkpaVw4cpnHsY/zPe+nRUVG4+3rpd328vEiKTGJ5KTkXMc1bdUEZxdnPm7ckXaNOuBX1I/a9WoBGS+KYh/G0r5xR36eHcSnX3TM1/HERD7E08dTu+3p7UlyUgopSSm5ivHw8mDEtCH4FdNtWxcuWoi0lFTOHs9oM/576Rp3btwlLiY+X8fzPGZdgEaNGkXDhg2ZMGEC58+fp3fv3iiVGX9MIiMjDZagOdCoNVl+6oZlgcx701PTWfv9eh7ej6XNwJb5n1xuaSCrzw6xyOITfQtVLUyzeS0o27ocx2YeQaPWULFTRbCAA+P3c2L+cbwqeGNpZbwJukajyfKjUCwL5C6nFj2bgIUF8/r9zC/j11L67RIUMPCLBbVaneVa3mfHkFPcikWrcHV3ZfP+9azftZaERwkEr3rS+vXw9GDDnhAWrprH1HEzCL8drv+B/J9Go8nyj+nT48lNzLMcnBwYMX0I61duZtBnQzmw/SCVqlXEyvq1vET+XNu2baN58+Y0btyY1atXZ7o/LCyMjz/+mFatWtGrVy8SEhJe+LmyPSvx8fF8/PHHVKxYkZ9++glnZ2eGDh36wk8ksufm7UrCU6+OE2ISsHeyw8bORicuPuoRQYOXY2lpSY9pXbF3ynxB3FjsPe1JjX/ySjQ1LhVrR2usbJ/8EidGJvLwaox227/OGyQ/TEaRnI4iRUmFDhVpMLERtYe+Dxpw9M58sdxQ3LxcSXj49Dl5jL2TfaZzkp205DSaf/Uhgxb146up3QDwLOyRL7k+benC5fT4pCc9PunJH5t28DD6ofa+mKgYnF2csbe313mMTyHvbOMO7TtM8zZNsba2xsnZiaYtG/P3qbMkPk7k4P7D2seUKV+GUmVKcuPfm/k2toI+BXWu3TyMjsXJxRE7e7s8xTxLrVZjZ2/HpJ/GMXv1DAKGdOf+nQh8i/jkz0ByycJCf7fcioyMZPbs2fz2229s3ryZ4OBgrl27phMzefJkBgwYwNatWylevDhLly594TFmW4CsrKz4999/gYyp4LRp04iNjWXs2LE67Tjx8kpVLUn4lXvE3Mv4I3Bq+xnKvVdWJyYtOY2lw1fyZu1ydBz5Mda21lkdymi8K/gQdyOOxMhEAG4duIlvlUI6MWmPUjm96BRpjzPaWOHHwnHxc8HGyZZbB25yZfNlAFIfpXL74C2K1Cxq2EE8pfQ7JQm/cld7Tk78cYo3nzknOTn+x2n2rPoTgMdxiZza+RdV6mdu1elbj75fsjQkiKUhQfz0y3wunb/E3dt3Adi6fhu169fK9Jjq71XLNq50+dL8uTsUAKVCyZHQY7xZ+U0sCxRg2rgZXPj7IgA3r93izq07lK9UPt/GVuXdyly9+C/372QsTtm1cQ816lTLc8yzLCwsmDR4KtcuXwfg8J6j2Nha80Zp/3wYRe7pswWXkJDA3bt3M92enb0cPXqUmjVr4ubmhoODA02aNGHnzp06MWq1mqSkJABSUlKws3vxF8IWmmevSP7fmTNnGDp0KIMGDaJly4xWT3JyMkOHDmX//v1cvnw570/2YZEXTjQvlg+dxcWb/+TrMuyQRdP0erx/Tv7LnhX7USlVeBRy5+MhbYiLiGPT3G0E/tiL0ODD7F31Jz5veOs8rvuULji4OGRz1Nw7FXHhpY8Ref4Bl9aHoVapcfRypOpX1UiKTuLsir/5YHwDAG7+eYOb+29gYWmJnZsdlT9/C0cvRxQpCv5acoakqETQQOkWZSj6XrEXzuW9wlVeejxXTmYsw1YpVXgW8uCToW2JjYhjw5ytfL2wj05syA+b8H3DW7sMOy05jeAZG3l4PxaNRsMHHevwdsO3Xiqf93zfz/Njjh86kbG8WqHEr0ghRk0agYurC1fC/mHG+JksDQnKMe5R/CPmTJ3PtSvXsLS0pOq7Vek7uBfW1tacPX2OhbMWoVIqsbaxpueAr6ha4+1c5xabFvP8oGecOfI3vy78DYVSia+fL1+P60fk/Uh+nLyI2b9OzzbG2dVJ5zht3+3Iyl2LtcuwL/51iWWzV6JUKHEv6EafkT3x9cvbDOhNtyp5Hk9OHIfnXDjzYmqRbixYsCDT/sDAQPr376/dXrRoEcnJyQwaNAiAdevWcf78eSZOnKiNOXv2LN27d8fBwQF7e3tCQkJwd3d/obyyLUD/SU9Px8bGBqVSye7du1mzZg3nz5/n3LlzeX8yAxUgQ9B3ATI2fRQgU6KPAmRqXqQAmbIXKUCmTN8FyGlEdb0d6/6ofVleq3FxccHF5cnqxZ9++om0tDQGDhwIQEhICBcvXmTChAkApKam8vHHHzNlyhQqV67M8uXLOXbsGEFBQS+U13OvskVGRhISEsKGDRtISEigd+/ezJ0794WeTAghRO5Y6PELgZ4tNNnx9fXl9OnT2u3o6Gi8vZ90Xa5evYqtrS2VK2e0kzt27PhS9SDba0B79uyhR48edOjQgfj4eGbMmIG3tzeBgYF4eOT/xVQhhBCGVatWLY4dO0ZsbCwpKSns3r2bunXrau/39/fnwYMH3LhxA4B9+/ZRqVKlF36+bGdA/fv3p1mzZgQHB+Pvn3ExzpTXkwshxOvEGH9vfXx8GDRoEF27dkWhUNC+fXsqV65MQEAAAwYMoFKlSkyZMoWBAwei0Wjw9PTk+++/f+Hny7YAbd26lY0bN9K5c2f8/Pxo0aKFrH4TQggDMdbr/ZYtW2oXnv1n8eLF2n/Xq1ePevXq6eW5sm3BlSlThhEjRhAaGkrPnj05ceIEMTEx9OzZk9DQUL08uRBCCPP13EUIVlZWNGrUiEaNGhEbG8vmzZuZOXOm3iqgEEKIzMzh6xjy9FknHh4edO/ena1bt+ZXPkIIITDzz4ITQggh8pN5ftqeEEKYOFOeueiLFCAhhDBBZlB/pAUnhBDCOGQGJIQQJkhacEIIIYzCHAqQtOCEEEIYhcyAhBDCBJnDDEgKkBBCmCBzKEDSghNCCGEUMgMSQggTZAYTIClAQghhiqQFJ4QQQuQTmQEJIYQJMocZkEELUMiiaYZ8unz1Sa/hxk5B7+bMHGzsFPTmzuP72FnZGjsNvXKz8TB2Cnp1OS7M2Cno1Ztu+j2efB+QMBuvU/EBXrviI8TrSFpwQghhgsxgAiQFSAghTJE5XAOSFpwQQgijkBmQEEKYIAte/xmQFCAhhDBB0oITQggh8onMgIQQwgSZwwxICpAQQpggM6g/0oITQghhHDIDEkIIEyQtOCGEEEYhBUgIIYRRmEMBkmtAQgghjEJmQEIIYYLMYAIkBUgIIUyRtOCEEEKIfCIzICGEMEHmMAOSAiSEECbIHAqQtOCEEEIYhcyAhBDCBJnBBOjVLUD/nLzK7uX7USlU+BT3pu3AVtg52urEnN1/nsPrj4EFWNta81HvpviVKWykjF/ciqGzuXDzCjPXLzJ2Krl268xtjv92ErVChae/Jx/0qYeNg41OzIUdF7m4+xIWFuDi40L93vVwcLU3UsaZ3Th9k8O/HkWlUFHQvyCNAxti66D7M3bpwBVOb/kLC8DK1ooPvqqHbykftk3/g/iIR9q4R1EJFKngR5tRLQ08Cl0HQw8xb/Z80tPTKVOmNN9NGoeTk1OmuN+3/sHK5SuxwAI7ezuGjxpGhYoVSE1N5fuJU7l44SIajYZKlSsxaswI7OzsDD6WC8fC2LxkG0qFEr8Sheky9FPsHTP//Gg0GlZOXU3hEoVo3LEhAOlp6ayds45bV+6g0WgoXt6fTgM7YGNrk+nxxiItOBOVFJ/Exllb+XR0BwYu6YeHrzu7l+/TiYm+G8POJXvpNqkzgT/2on6nOvw2KcRIGb+YcsVKsW96MO3rtDB2KnmS8iiFPxceoOmQxnSe1wkXH2eOrT6hExN1PZqz287RblJrOs36BNdCrpxce8pIGWeW/CiZXfP30nJYC778sSuuvq4c/uWoTkzsvTgOrTpMuzGt6TK7M+92qMG2aX8A0HJYC7rM7kyX2Z35sG9DbB1tadizvhFG8lS+sbGM/XYcM+fMYOv2zfgVLcLcWfMyxd26eYvZP8xhYdCPhGwKJqDXVwweMASAJYuWolIpWb85hPWbQ0hLS2Xp4mWGHgqP4x+zavpqeo7vzvhVoylYyJNNQdsyxUXcfsCcbxbw18GzOvt3/LoblUrN6KXDGbN0BOnpCnau3mOg7MV/XskC9O9fN/ArU5iCfp4A1PioGuf+vIBGo9HGWFlb0XbgRzh7OAPgV6YwiXGJKBUqo+T8Ivq1+oIlO9aw7tDvxk4lT8LP38WrpDduhVwBqNC4Av8euqZzfrxLetF5XidsHW1RpitJik3Cztk2u0Ma3O2zd/At7YN7YTcA3mpaicsH/9EZQwHrAnzYtyFOHo4A+Jb0Jik+GdVTP2MqhYqd83ZTv3tdnAs6G3QMzzp25DgVK1bA/w1/AD7p1IHtv+/QGROAtY0N4yaOxcvLC4A3K1YgJiYGRbqCqtWqEtA7AEtLSwoUKEC58uWIuB9h8LFcOnUF/7LF8CniDUDd1u9zct/pTGM5sPkQtZu/R9V6VXT2l65ckuZdmmBpaYllAUuKlipCbGScodLPFQsLC73dTFW2LbjHjx+zZMkSXF1dadGiBV9//TVXr17lnXfeYdKkSfj4+BgyTx2PYh7h6uWq3XYp6EJachppyenaNpy7jxvuPm5AxhR8R9Buyr1bFivrAsZI+YX0XzAagMbV6ho5k7xJjEnEqaCjdtvJ05H0lHQUKQqdNlwBqwLcOHmTAz8fpICVJTU6VjdGull6HJOIs+eT1pSzpxPpyemkp6Rr23Cu3i64ersAGT9jB5YfomT14hR46mfs4r4wnDycKF2zpGEHkIUHDx7g4/vk99bHx5vExESSkpJ02nB+foXx88toVWs0Gn6YNpP6DephbWNNrdrvaePu37vP6lWrGTN+jOEG8X9x0fG4e7trt9293EhNSiU1OVWnDffp1x0AuHT6is7j36xeXvvvhw9i2b/hAJ990ymfs84bUy4c+pLtDGj48OGo1WquXLlCx44dadu2LUeOHKFp06aMGzfOkDlmolFryOrUWBbIvDc9NZ2136/n4f1Y2gw0bv/dXGg0GiyyOEMWlpn3lahRnO7LulH9k2r8PukPNGpNphhj0Gg0WV4FtrTM/CujSFXw+4wdxD+I58N+jXTuO7P1LO92MI3CqlFrsvyjZmmZ9Yuy5OQUhg4aRvidcMZN0P2dvxR2iS+79KBT507Uq2/4F0gZY8m8P6vzk5Pb/9zhh6/nUr9NXSq/V1FP2YncyvZs3b17l2+++YbJkyejUCjo2LEj9vb2fPzxx0RGRhoyx0zcvF1JiH2s3U6IScDeyQ4bO90LiPFRjwgavBxLS0t6TOuKvZPhL5SaI6eCTiTFJWm3k2KTsHW0xdrOWrvvUcQjIi4/ad2U+6Asj6MTSUtKM2iu2XEu6ExSbKJ2O/FhIrZOumMASIh+zJqR67AsYEGHCR/rLISJuhGFRq2mSAU/g+X9rB/nL+STth35pG1HNm7YRHRU9JP8IqNwcXHBwSHzhfuI+xF0+6wblgUsWbIiCBeXJ+3DHdt30qtHH74ePICvevUwyDie5eHjTnzMk0Ue8dGPcHB2wNY+923cU/vPMHfoQtoGtKTZ543zI82XYmGhv5upyrYAWVlZcePGDaytrVm+fLl2f1hYmNGnhqWqliT8yj1i7j0E4NT2M5R7r6xOTFpyGkuHr+TN2uXoOPJjrG2tszqUyAdF3ypK5L9R2lVgF3dfonh1f52YpPhkds/ZR0pCCgBXD1/Do5g7ds6m8SLhjSrFiLj6gLj78QCc23WBUjVK6MSkp6SzbswGStcsSYtvmmFtq9vRvht2j6KVihj196Vf/76EbAomZFMwv6xZxfnzF7h96zYA64LXU79B/UyPSUpKoscXATRs1JDpM6fprHA78Gco076fzs9LFtL8o2aGGkYm5auV4+bl20TejQLg4LbDvFW7Uq4ff/7oBULmb+DrGX2p0ahafqX5Usz6GtCoUaPo06cP27dvp0yZMgDs3buXiRMnMnv2bIMlmBUnN0faDWrF2snrUSlVeBRy5+Mhbbh39T6b5m4j8MdeHN92ivioR1w6eoVLR5/0f7tP6YKDi4MRs3/9Obja06BvfXbN3I1KqcbVx4WGgR8QdT2aP38KpeMP7SlcvhDvtHubLd9tw8LSEkcPB5oNbWLs1LUc3Bxo3P9Dts3YjlqhwtXXlaZfN+bBtUj2/LiPLrM7c3b7ORKiH3Pt+HWuHb+ufWz78W2xd7En7n48Lv+/RmQKPD09mDDpO4YMGopCoaRI0SJMnjIRgLCLYYwfM4GQTcGsXb2WiPsR7N+7n/1792sfH7R8EbNmzAaNhvFjJmj3V6lahVFjRhp0LC7uznQd1pmgcctQKVV4FS7IFyM/5/Y/d/hlxhpGLxme4+M3/LwFjUbDLzPWaPeVrFicTwd+kt+pi6dYaJ5dNpINpVLJ7t27Wb16NZcuXeLvv//O85Otu7E6z48xVZ/0yvkH/FUzZ+ZgY6egV3ZWprOiTl+6lf3S2Cno1bHIQ8ZOQa8+KKzfF1BVFrXR27HO9tqst2Pp03PfiBoeHk5ISAgbNmwgISGB3r17M3/+fEPkJoQQZsuUW2f6ku01oD179tCjRw86dOhAfHw8M2bMwNvbm8DAQDw8PAyZoxBCiNdQtjOg/v3706xZM4KDg/H3z7iAbA4VWQghTIE5/LnNtgBt3bqVjRs30rlzZ/z8/GjRogUq1avzKQJCCPEqM4cX/Nm24MqUKcOIESMIDQ2lZ8+enDhxgpiYGHr27EloaKghcxRCCPEaeu7bhq2srGjUqBELFy7k4MGD1KxZk5kzZxoiNyGEMFvGeh/Qtm3baN68OY0bN2b16swrl2/cuEGXLl1o1aoVPXr04NGjR1kcJXfy9LkVHh4edO/ena1bt77wEwohhHg+YxSgyMhIZs+ezW+//cbmzZsJDg7m2rVr2vs1Gg19+vQhICCArVu3Ur58eYKCgl54jK/kp2ELIYTQv6NHj1KzZk3c3NxwcHCgSZMm7Ny5U3t/WFgYDg4O1K2b8fl/vXv35rPPPnvh53tlv5BOCCFeZ/pcg5CQkEBCQkKm/S4uLri4PPm0jqioKO3XcAB4e3tz/vx57fadO3coWLAgo0aN4vLly5QoUYIxY17809BlBiSEECZIny24lStX0rBhw0y3lStX6jynWq3WadlpNLqfoK5UKjl58iSffvopmzZtomjRokydOvWFxygzICGEeM1169aNtm3bZtr/9OwHwNfXl9OnT2u3o6Oj8fb21m57eXnh7+9PpUoZH/z60UcfMWDAgBfOSwqQEEKYIH2+D+jZVlt2atWqxfz584mNjcXe3p7du3czceJE7f1vv/02sbGxXLlyhXLlyrF//34qVKjwwnlJARJCCBNkjDei+vj4MGjQILp27YpCoaB9+/ZUrlyZgIAABgwYQKVKlfjxxx8ZPXo0KSkp+Pr6Mn369Bd+PilAQgghtFq2bEnLlrrfHr148WLtv9966y3Wr1+vl+eSAiSEECbIHD6KRwqQEEKYIDOoP7IMWwghhHHIDEgIIUyQtOCEEEIYhTkUIGnBCSGEMAqZAQkhhAkyhxmQFCAhhDBBZlB/DFuATkVcMOTT5as5MwcbOwW9GvjNLGOnoFdTpwcaOwW9i0uLMXYKeuVm62bsFISRyQxICCFMkLTghBBCGIcZFCBZBSeEEMIoZAYkhBAmSFpwQgghjMLy9a8/0oITQghhHDIDEkIIEyQtOCGEEEZhaQYFSFpwQgghjEJmQEIIYYKkBSeEEMIozKE9JQVICCFMkFwDEkIIIfKJzICEEMIEyTUgIYQQRiEtOCGEECKfyAxICCFMkLTghBBCGIU5tKfMYYxCCCFMkMyAhBDCBJnDIoRXqgA9OPeAyxvCUCnUuBZ1ocqXVbG2t9aJubHvOrf+vAkW4OjlSJUvqmLrYkt6YjrnfjnLozuPsLItQLH3/SnRqKSRRpLZrTO3Of7bSdQKFZ7+nnzQpx42DjY6MRd2XOTi7ktYWICLjwv1e9fDwdXeSBm/uBVDZ3Ph5hVmrl9k7FRyFP5XOKfXnkGlUOFRzIP3e9XOdE4u7bzElb3/AODi40ztnrWxd7VHma7k2LLjRF+LBsCrlBfvda+JlY1xf+WOHTrB4vlLUaQrKFG6OMPGfYOjk2Ou48YOmcC98HvauAf3H/BW1cp8P3eiQfL/68hZ1v68DoVCQbGSRek16iscHO1zHRPQrC8e3h7a2Jadm/N+k1ra7T9/D+VU6BmGzRhskPHkxByuAb0yLbi0hDT+XnaG6v3epdGUD3HwcuTS+jCdmPhbcVzbeY06o+rRYGIjHH2cuLzpEgAX157HytaKhpMbUXd0fSIvRPLgbIQxhpJJyqMU/lx4gKZDGtN5XidcfJw5tvqETkzU9WjObjtHu0mt6TTrE1wLuXJy7SkjZfxiyhUrxb7pwbSv08LYqTxXSkIqh34+TINBH9B+9sc4eztxes0ZnZiYGzFc/D2Mjya0oN0PbXHxdeGvkL8AOLfpHGqVmrbT29BmemuU6UrObz5vjKFoxcfGM23cD0yYMZZfNi+ncJFCBM1bmqe4CT+MZWnwIpYGL2Lo2ME4OTkxcGR/g+SfEJfAz5MXM+j7/sxeOx3vwt6sWRic65j7tyNwdHFk2spJ2tt/xScxIZEl05ezcs5qNBqNQcYj8liA4uLi8iuP54oKi8K9uDtOPk4AFP+gOHePh+v8sLi94U6jKR9i7WCNSqEiNS4VG6eMV6zxt+MpWqsoFpYWWFpZ4lPZl/tn7htlLM8KP38Xr5LeuBVyBaBC4wr8e+iazti8S3rReV4nbB1tUaYrSYpNws7Z1lgpv5B+rb5gyY41rDv0u7FTea775+9RsGRBXP9/Tsp9WI7rh6/rnJOCJQrSfs7H2DjYZJyTuGRsnewA8C3nS5W2b2X8vFla4vmGJ4kxiUYZy39OHT9DuQplKOJfBIBWHVqyd8e+TH9wcxOnUCiYMmY6gUP74O3rbZD8z5+8SMnyJShU1BeAD9s14PDuYzp55RRz9cK/WFpaMq7PJIZ1+ZYNyzajVqkBOLbvJO4F3fk8sJNBxpIblhYWeruZqmz7AREREcyaNQt7e3sCAgLo27cvMTExODk5MX/+fMqVK2fIPEmJTcbe48lU287dHmWKEmWqUqcNZ2llScRf9zm74m8srSwp17YOAO7FPQg/Go5HKU/USjURZ+5hUcA0JoCJMYk4FXzSBnHydCQ9JR1FikKn5VPAqgA3Tt7kwM8HKWBlSY2O1Y2R7gvrv2A0AI2r1TVyJs+X+DAJR88n58TR0xFFiiLTObG0suT2qdscDjpCAasCVO3wNgB+b/k9OVZ0ImE7wqj9VW3DDSALUQ+i8fLx0m57eXuRlJhMclKyThsuN3HbN+3E08uTOg3eN1j+DyMf4unzpH3m6eVBSlIKKcmp2hZbTjEqlYpK1SvwaZ+OqJRKpg2Zhb2jHc07NuXDtg0AOPDHIYON53lMt2zoT7Z/gYcPH85bb71FkSJF6NixI/379+fYsWNMnTqVCRMmGDLHDBrI6pRYZPHF6YWqFqbZvBaUbV2OYzOPoFFrqNipIljAgfH7OTH/OF4VvLG0Mo0CpNFosMjl2ErUKE73Zd2o/kk1fp/0Bxq1tAvyhVqT5R+ArM6Jf3V/PlvcmbfbV2HXlN065yTmRgx/fLedNxuXp9g7RfMx4efTaNRZXlewfOaFWG7i1q3eQJeAz/SfZA7UGg1klZelZa5iGrb+gC8Hd8XO3hZHZ0dadGrKqdAzmWKF4WQ7A0pISODzzz8H4Ndff6Vx48YAvPPOOyQlJRkmu6fYe9oTdyNWu50al4q1ozVWtk+GkBiZSNqjVDzLFATAv84bnFt1FkVyOso0FRU6VNS25K7+/g+O3pkvvhqDU0EnIv+N0m4nxSZh62iLtd2Tmd2jiEckxydTqHwhAMp9UJbQoEOkJaVh52xn8Jxfd44FnbQLCACSY5OxcbTROScJDxJIjk/Bt5wPAKU/KM3RJce05+TG0RscXXqM976sScn3jbPgZdnCFRwJPZYxhqRkSpQqrr0vJioGZxdn7O11L+J7+3pz+cKVbOP+vXINlUpFlXcqG2AETxT08eRa2HXtdmx0HI7OjtjZ2+Yq5uCOI/iXLop/qWJAxgu/AlYFDDeAPDLl1pm+ZDsFcHJyYu3atSxZsgSVSsWff/4JwOnTp7G1Nfy1B+8KPsTdiCMxMqOPfuvATXyrFNKJSXuUyulFp0h7nAZA+LFwXPxcsHGy5daBm1zZfBmA1Eep3D54iyI1jfuK9D9F3ypK5L9RxEc8AuDi7ksUr+6vE5MUn8zuOftISUgB4Orha3gUc5fik0/8Khcm6lo0j/5/Tq7svYJ/tWI6MclxyRyYd4DUhFQArh++gVtRN+yc7bhz5g7HV5yg6agmRis+AN37fqFdNLBw1TwuXbjM3dt3Adi6/ndq138v02Oqv/dOjnFnz5zn7epVDL5Kq3KNSlwLu05E+AMA9m7eT7U6VXMdE37jLusWb0StUpOels6uDXt5r+G7Bh1DXpj1NaBp06Yxd+5c1Go1a9euZfjw4YwaNQpbW1t++OEHQ+YIgK2LLW93r8qpH0+gVqlx9HKk6lfViLsZx9kVf/PB+AZ4lilImY/KcmT6ISwsLbFzs6NG/5oAlG5ehr+WnGH/mL2ggXJty+Ne3N3g48iKg6s9DfrWZ9fM3aiUalx9XGgY+AFR16P586dQOv7QnsLlC/FOu7fZ8t02LCwtcfRwoNnQJsZO/bVl72pPnd7vs3/2n6iValx8nKnbry4x12M4HHSENtNa41vel7favMX2CTuwLGCJg7s9jYY0BODkr6dAo+Fw0BHtMb3LelOre+Y/+Ibi7uHO8O+GMG7oRBRKBYWLFGbUxGEAXAn7hxkTZrE0eFGOcQD37tzFt7CvwfN39XCh97cBzP52PkqFEh8/b/qN7cX1yzcImrqMaSsnZRsD0L5HG5bPXMXQLqNQKVW826AGDVrVN/g4xBMWmlyuOVQoFGzfvp3169dz8eJF/v777zw/2bAjI/L8GFPl52yYlT+GMvCbWcZOQa+mTg80dgp617VsZ2OnoFcPUkzjbRD68ranfmdTn+/qp7dj/drkR70dS5+e+6648PBwQkJC2LhxI48ePaJ3797MnTvXELkJIYTZMuXWmb5kew1oz5499OjRgw4dOhAfH8/06dPx9vYmMDAQDw+P7B4mhBBC5Eq2M6D+/fvTrFkzgoOD8ffPuCBuDh8NIYQQpsAc/tpmW4C2bt3Kxo0b6dy5M35+frRo0QKVSmXI3IQQwmyZdQuuTJkyjBgxgtDQUHr27MmJEyeIiYmhZ8+ehIaGGjJHIYQQr6HnLkKwsrKiUaNGNGrUiNjYWDZv3szMmTOpV6+eIfITQgizZNYzoKx4eHjQvXt3tm7dml/5CCGEIOOau75upso0PgxNCCGE2XmlvpBOCCHMhTm04KQACSGECXr9y4+04IQQQhiJzICEEMIESQtOCCGEUZhDAZIWnBBCCKOQGZAQQpggU37/jr5IARJCCBNkDu0pcxijEEKIXNq2bRvNmzencePGrF69Otu4AwcO0KBBg5d6LpkBCSGECTJGCy4yMpLZs2ezceNGbGxs6NSpE++++y6lSpXSiYuJiWHatGkv/XwyAxJCCBNkaWGht1tCQgJ3797NdEtISNB5zqNHj1KzZk3c3NxwcHCgSZMm7Ny5M1Nuo0ePJjDw5b/2XmZAQgjxmlu5ciULFizItD8wMJD+/ftrt6OiovDy8tJue3t7c/78eZ3HrFq1ijfffJO33nrrpfOSAiSEECZIn+8D6tatG23bts2038XFRWdbrVbrtP40Go3O9tWrV9m9ezcrVqzgwYMHL52XFCAhhDBB+rwG5OLikqnYZMXX15fTp09rt6Ojo/H29tZu79y5k+joaD7++GMUCgVRUVF07tyZ33777YXystBoNJoXeuQL2HRzraGeKt9FpTw0dgp6FZ/22Ngp6NWIYZnbDa+66G2nnx/0CrmVeMPYKehVtYK19Hq8IUeG6+1YP9TO3YKByMhIPv30U9avX4+9vT2dOnVi4sSJVK5cOVPs3bt36dq1K/v373/hvGQRghBCmCBLLPR2yy0fHx8GDRpE165dadOmDR999BGVK1cmICCACxcu6H2M0oITQggTZKxPQmjZsiUtW7bU2bd48eJMcUWKFHmp2Q/IDEgIIYSRyAxICCFMkDl8GrYUICGEMEEWZvCdqNKCE0IIYRQyAxJCCBMkX8cghBDCKMzhGpC04IQQQhiFzICEEMIEWZjB/EAKkBBCmCBpwQkhhBD5RGZAQghhgmQVnBBCCKMwhzeiSgESQggTJNeAhBBCiHwiMyAhhDBBcg1ICCGEUViaQYPq9R+hEEIIkyQzICGEMEHSgjMxV05cZefyvSgVSgoV9+HjQa2xc7TLFKfRaFg3cxO+b/hQt31tAJIfJ7N5/u/cv/4AGzsb3mlchdqtaxp6CDpunL7J4V+PolKoKOhfkMaBDbF1sNWJuXTgCqe3/IUFYGVrxQdf1cO3lA/bpv9BfMQjbdyjqASKVPCjzaiWGEv4X+GcXnsGlUKFRzEP3u9VGxsHG52YSzsvcWXvPwC4+DhTu2dt7F3tUaYrObbsONHXogHwKuXFe91rYmVj+j+iK4bO5sLNK8xcv8jYqTzX0YPH+HleEOnpCkqVKcHI74bj6OSYZaxGo2HSmCmULF2Czt06afc/TnhMv+4DGDl+OOUrlDNU6gD8ffQcwT+vR5mupGipIgSM7I6Do32uY/Zs3M+BbaGkpykoXtafgJHdsbax1j426n40o7uPZ8TsbyhRvrhBx/YscyhAr0wLLjE+iXWzNvP5mI4MWToAj0Lu7Fy+N1Nc1J1oFo9YyYVDl3T2/75oJzZ2NgwOCqTvnK+4evoal0/8Y6j0M0l+lMyu+XtpOawFX/7YFVdfVw7/clQnJvZeHIdWHabdmNZ0md2ZdzvUYNu0PwBoOawFXWZ3psvsznzYtyG2jrY07FnfCCPJkJKQyqGfD9Ng0Ae0n/0xzt5OnF5zRicm5kYMF38P46MJLWj3Q1tcfF34K+QvAM5tOodapabt9Da0md4aZbqS85vPG2MouVauWCn2TQ+mfZ0Wxk4lV+Ji45k8diqTZ05k7dZfKexXmJ/mZl00b924xYCAQRzYE6qz/+ih4wR83oc7t8INkbKOhLgEgiYvZeDkfvywdgrehb0I/mldrmNOHTjN7vV7GTl3KNN+nUR6moIdwbu1j01PU7BwQhBKpdKg4zJnr0wB+vev6xQpU5iCfp4AvNuiOn/vP49Go9GJO7btJDWaVqVSnQo6++/9G8HbDd/CsoAlVtZWlKteOlORMqTbZ+/gW9oH98JuALzVtBKXD/6jM54C1gX4sG9DnDwyXqH6lvQmKT4ZlUKljVEpVOyct5v63eviXNDZoGN42v3z9yhYsiCuhVwBKPdhOa4fvq4znoIlCtJ+zsfYONigTFeSFJeMrVPGDNa3nC9V2r6FhaUFlpaWeL7hSWJMolHGklv9Wn3Bkh1rWHfod2Onkisnj52ifMVyFPUvAkDbT1qze/veTL9DABvWbqZluxZ80Li+zv71v21g3Pff4unlaYiUdVw4GUaJ8sXxLeoLQKO2DTiy+7hO/jnFHNp5lOadmuDk4oSlpSXdh3bl/aa1tI9dMesX6jZ/H2dXJ8MOLBuWWOjtZqpMv7/xf4+iH+Hm5arddvVyIS05jbTkNJ02XOt+Ga9Gr565rvP4omX9+HvfOd6oUAylQsmFI5cpUMB49fdxTCLOnk9+0J09nUhPTic9JV3bhnP1dsHV2wXIaIccWH6IktWLU8C6gPZxF/eF4eThROmaJQ07gGckPkzC0fNJK8fR0xFFigJFikKnDWdpZcntU7c5HHSEAlYFqNrhbQD83vJ7cqzoRMJ2hFH7q9qGG8AL6L9gNACNq9U1cia5E/UgCm8fb+22l48XSYlJJCclZ2rDfTNqIAAnj53W2T/rpxn5nmd2HkbF4uHtod328HInJSmFlORUbYstp5iI8EhKxj1m2uCZxMXEU/atMnza9xMA/twaikqpokGremxZuc2wA8uGObTgsi1AX3zxBWq1OtsHrlq1Kl8Syo5GoyGrQm6ZyyLSomcT/li8m3n9fsbZ3YnSb5fg9mXDtxH+kzGezAOytMw8HkWqgp3z9vD44WPajW2jc9+ZrWf5sG+D/Eoz99SaLF9nWVhm3utf3R//6v78s+8fdk3ZTYc57bVxMTdi2DdzP282Lk+xd4rmc9LmRa1RZ/Ujl+XPnCnSqDVZ/lF+Ov+cYlRKJRdOhTF42gBsbKz5edIS1i3awPvNarFv8wHGLByRr/mLzLItQAEBAQwePJjJkyfj4uJiyJyy5Oblyp0rd7XbCTGPsXeyx8bOJodHPZGWnEbzrz7EwdkBgD/XHsSzsMdzHpV/nAs68+DqA+124sNEbJ1ssbaz1olLiH7M5u+34VnEnQ4TPsba9skpi7oRhUatpkgFP4zNsaCTdgEBQHJsMjaONjrjSXiQQHJ8Cr7lfAAo/UFpji45RlpSGnbOdtw4eoOjS4/x3pc1Kfm+cWd0r4vFPy7lcGjGtcXkxCRKlC6hvS8mKgZnF2fsHeyze7hJ8fT14NqlJ52N2Jg4HJ0dsbO3zVWMe0F3qtd7Rztbqt3kPTYt3wpASnIK3/WaDEBcTDwLxwfxab9PeKfO24YYWpbM+qN4ateuTa9evQgNDaVGjRqZboZW+p2ShF+5S8y9hwCc+OMUb75XNtePP/7Hafas+hOAx3GJnNr5F1XqV86XXHPjjSrFiLj6gLj78QCc23WBUjVK6MSkp6SzbswGStcsSYtvmukUH4C7YfcoWqmISUzV/SoXJupaNI/+vzLvyt4r+FcrphOTHJfMgXkHSE1IBeD64Ru4FXXDztmOO2fucHzFCZqOaiLFR48C+vVgZchSVoYsJeiXnwg7f4nw2xkv5Dat20qd+qbd5nxapRoVuRZ2gwfhGS/c9m36M1OByCmmRv1qnNh/kvS0dDQaDacP/kWJcm/QZWBnZq6dypSVE5iycgLuBd3oO66nUYsPZHwYqb7+M1U5XgP68ssvuX79ek4hBuPk5kT7wW34dVIwKqUKz0IefDK0LXev3mPDnK18vbBPjo//oGMdgmdsZHavH9FoNHzY5QOKljXezMHBzYHG/T9k24ztqBUqXH1dafp1Yx5ci2TPj/voMrszZ7efIyH6MdeOX+fa8Sfnof34tti72BN3Px4Xb+PPTgHsXe2p0/t99s/+E7VSjYuPM3X71SXmegyHg47QZlprfMv78labt9g+YQeWBSxxcLen0ZCGAJz89RRoNBwOOqI9pndZb2p1f89YQ3rtuHu6M2rCCEYPGYtCocCviB9jJo8C4HLYFaaOn8HKkKVGzjJ7ru4u9BrVnbmjF6JUKPH286bPmK+4cfkmi6cuZ8rKCdnGAHzYrgGJjxP5tvt4NCo1b5T157P+nZ7zrCI/WWiyWgKTTzbdXGuop8p3USkPjZ2CXsWnPTZ2Cno1YtgCY6egd9HbTj8/6BVyK/GGsVPQq2oFaz0/KA/mnp+lt2N9XXmw3o6lT9nOgBYsyPkXODAwUO/JCCGEyGAKrfX8lu01IKVSydKlS3NcCSeEEEK8qGxnQAMHDiQ6Ohp7e3sCAgIMmZMQQpg9U148oC85vgFg5MiReHl5Zdp/8+bNfEtICCFExjJsfd1MVY4FyMnJiTZt2gAZLbnt27fTpUsX2rVrZ4jchBBCvMae+1E84eHhhISEsGHDBhISEujduzdz5841RG5CCGG2zLoFt2fPHnr06EGHDh2Ij49nxowZeHt7ExgYiIeH8T5BQAghzIE5tOCynQH179+fZs2aERwcjL+/P2AeywKFEEIYRrYFaOvWrWzcuJHOnTvj5+dHixYtUKlU2YULIYTQIwuLV+NDYl9GtiMsU6YMI0aMIDQ0lJ49e3LixAliYmLo2bMnoaGh2T1MCCGEHpjDZ8E9t8RaWVnRqFEjFi5cyMGDB6lZsyYzZ840RG5CCCFeY3n6QjoPDw+6d+9O9+7d8ysfIYQQmMfXMbwy34gqhBDmxBwWfb3+V7mEEEKYJJkBCSGECbI04cUD+iIFSAghTJC04IQQQoh8IjMgIYQwQebwRlQpQEIIYYLM4RrQ619ihRBCmCSZAQkhhAkyh0UIUoCEEMIEmfJnuOmLQQvQe77vG/Lp8pWbzev1nUhxaTHGTkGvemz7wtgp6J1Xy2rGTkGvTq9ZZ+wUhJHJDEgIIUyQtOCEEEIYhayCE0IIIfKJFCAhhDBBFhaWervlxbZt22jevDmNGzdm9erVme7fu3cvrVu3plWrVvTt25dHjx698BilAAkhhAkyxjeiRkZGMnv2bH777Tc2b95McHAw165d096fmJjId999R1BQEFu3bqVs2bLMnz//hccoBUgIIQQAR48epWbNmri5ueHg4ECTJk3YuXOn9n6FQsG4cePw8fEBoGzZskRERLzw88kiBCGEMEH6XAWXkJBAQkJCpv0uLi64uLhot6OiovDy8tJue3t7c/78ee22u7s7H374IQCpqakEBQXRpUuXF85LCpAQQpggfb4RdeXKlSxYsCDT/sDAQPr376/dVqvVOoVPo9FkWQgfP35Mv379KFeuHG3btn3hvKQACSHEa65bt25ZFoqnZz8Avr6+nD59WrsdHR2Nt7e3TkxUVBQ9evSgZs2ajBo16qXykgIkhBAmSJ8tuGdbbdmpVasW8+fPJzY2Fnt7e3bv3s3EiRO196tUKnr37k2zZs3o27fvS+clBUgIIUyQMd6I6uPjw6BBg+jatSsKhYL27dtTuXJlAgICGDBgAA8ePODSpUuoVCp27doFQMWKFZk8efILPZ8UICGEEFotW7akZcuWOvsWL14MQKVKlbhy5YrenksKkBBCmCD5LDghhBBGYWEGb9N8/UcohBDCJMkMSAghTJC04IQQQhiFfCOqEEIIo7A0gxmQXAMSQghhFDIDEkIIEyQtOCGEEEYhixBMwLGDxwmavwRFuoISpUsw/LshODo55jpOpVIxZ+p8zp05B0DN99+lz6BeWFhY8Nepv/l5dhBKpRJbW1sGDAukfKVyBh3fwdBDzJs9n/T0dMqUKc13k8bh5OSUKe73rX+wcvlKLLDAzt6O4aOGUaFiBVJTU/l+4lQuXriIRqOhUuVKjBozAjs7O4OO4z/HDp1g8fyl/z8PxRk27pusz1c2cWOHTOBe+D1t3IP7D3iramW+nzsx0zEM4ejBY/w8L4j0dAWlypRg5HfDsxwPZHxy8KQxUyhZugSdu3XS7n+c8Jh+3Qcwcvxwylcw7M/Xi1gxdDYXbl5h5vpFxk4lk7+PnmXtz+tRpispWqoIPUf2wMHRPtcxPZsH4unlro1t0bkZ7zepRdiZy6xesBaVSoWzixNdvu6Mf+liBh2bOcrTNaBbt27lUxpZi4+NZ+q4GUz84Tt+3bKSwkUKsWjukjzF7f59D+G3wlm+bgnLghdz9vR5Duw5iEKhYPywSQwZO5hlIYvpEvAZk0dPMej4YmNjGfvtOGbOmcHW7ZvxK1qEubPmZYq7dfMWs3+Yw8KgHwnZFExAr68YPGAIAEsWLUWlUrJ+cwjrN4eQlpbK0sXLDDqO/8THxjNt3A9MmDGWXzYvp3CRQgTNW5qnuAk/jGVp8CKWBi9i6NjBODk5MXBk/0zHMIS42Hgmj53K5JkTWbv1Vwr7FeanuVn/Ub514xYDAgZxYE+ozv6jh44T8Hkf7twKN0TKL6VcsVLsmx5M+zotjJ1KlhLiElg0eSkDJwcyc+1UfAp7s/andbmOuX87AicXR6asnKi9vd+kFsmJycz+dj6d+3Vk2qpJfDm0K/PGLESRrjDGMLUssNTbzVRlm9n9+/cz3QIDA4mIiOD+/fsGSe7UsdOUq1CWIv5FAGjdoRV7d+xDo9HkOk6tVpOakooiXUG6QoFSqcDG1hpra2s27A6mTLnSaDQa7t+NwMX1+Z8Wq0/HjhynYsUK+L/hD8AnnTqw/fcdmcZnbWPDuIljtV8U9WbFCsTExKBIV1C1WlUCegdgaWlJgQIFKFe+HBH3X/wbCl/GqeNnKFehjPY8tOrQMuvzlYs4hULBlDHTCRzaB29f3Y+DN5STx05RvmI5iv4/z7aftGb39r2ZxgOwYe1mWrZrwQeN6+vsX//bBsZ9/y2eXp6GSPml9Gv1BUt2rGHdod+NnUqWzp+8SInyxSlU1BeARm0/4MjuYzrnI6eYqxevYWlpyfg+3zO862g2LtuCWqXmQXgkDo72VKz2JgB+/oWxd7Tn34vXMidhQBYWFnq7mapsW3Bt27ZFoVDg7u6uPcFRUVF89tlnWFhYsG/fvnxPLioyGm/fJ9/O5+XjRVJiEslJyTptkJzimrZqwoE9B/m4cUdUKhXV36tG7Xq1ALCytiL2YSwBnXrzKD6BcdNG5/uYnvbgwQN8fH202z4+3iQmJpKUlKTThvPzK4yfX2Ego83zw7SZ1G9QD2sba2rVfk8bd//efVavWs2Y8WMMN4inRD2IxsvnqfPg7UVSYnLm85WLuO2bduLp5UmdBu8bbgDPiHoQhbfPk+KX3c8fwDejBgJw8thpnf2zfpqR73nqS/8FGT//javVNXImWYuNisXT20O77eHlQUpSCinJqdoWW04xapWKitXepFOfT1AplcwYOht7RzvqfVSXtNR0zp+4SOV3K3L98g3u3rxH/MNHBh+jucl2BrRlyxaqVq3K559/zv79+9m/fz+lSpVi//79Bik+kPHtfGRRvS0LWOY6bsWiVbi6u7J5/3rW71pLwqMEgleFaGM8PD3YsCeEhavmMXXcDMJvG65VolFn/W2DlpYFsoxPTk5h6KBhhN8JZ9yEcTr3XQq7xJddetCpcyfq1TfOHxCNRp31eJ45X7mJW7d6A10CPtN/knmg1qiz+rHC0tJ0WxqvM7Vak/Xv+VPnI6eYBq3q88XgLtjZ2+Lo7Ejzjk04dfAvHBztGTxlAFt+2caIbmM4tOMIFd4pj5VV1r+HhqK/BtwrOAPy9fVl8eLFLF68mB49ejB58mSDTOWWLlzO0QPHAEhKSqZE6eLa+2KiYnB2ccbeXveio08hby5fvJJl3KF9hxkwIhBr64y2W9OWjQnde5AWbZvz16mz1P3/K+wy5ctQqkxJbvx7k6L+RfNtfD/OX0jo/ozrBIlJSZQuXUp7X1RkFC4uLjg42Gd6XMT9CAb0+5riJYqzZEWQziKDHdt38v2EKYwcPYLmHzXLt9yzsmzhCo6EZpyv5KRkSpR6/vny9vXm8oWszxfAv1euoVKpqPJOZQOMQNfiH5dyOPQoAMmJSZQoXSJznlmcH5H/Cvp6cv3SDe12bEwcjs6O2Nnb5irm0M4j+JcqRrFSGb/fGqCAVQHUajV29raMWTBS+7jBnYbjU+RJd8IYTLl1pi85vpSzsLCgZ8+eDBo0iAEDBpCQkJDvCfXo+yVLQ4JYGhLET7/M59L5S9y9fReAreu3Ubt+rUyPqf5etWzjSpcvzZ+7M/7gKxVKjoQe483Kb2JZoADTxs3gwt8XAbh57RZ3bt2hfKXy+Tq+fv37ErIpmJBNwfyyZhXnz1/g9q3bAKwLXk/9BvUzPSYpKYkeXwTQsFFDps+cplN8DvwZyrTvp/PzkoUGLz4A3ft+oV00sHDVPC5duPzUefid2vXfy/SY6u+9k2Pc2TPnebt6FaP8Agb068HKkKWsDFlK0C8/EXb+EuH/z3PTuq3UqV/b4DmJDJVqVOTfsOtEhD8AYN+mP3mnztu5jrl74x7rlmxErVKTnpbO7g17ea9hDSwsLJg+ZBY3Lt8E4NjeE1jbWGsLlcg/FpqsrqhmITU1ldOnT/P++y/ek3+QcjfPjzl+6ETG8mqFEr8ihRg1aQQuri5cCfuHGeNnsjQkKMe4R/GPmDN1PteuZFyArPpuVfoO7oW1tTVnT59j4axFqJRKrG2s6TngK6rWePs5GWVws/F4flAuHAo9xLw581EolBQpWoTJUybi6uZK2MUwxo+ZQMimYJYGLWXBvIU6syWAoOWL6Nr5CxIePdL53vYqVaswaszIZ58qR3FpMXoZz/FDJ1g8fxkKpYLCRQozauKwJ+drwiyWBi/KMQ5gzpR5eBT0pOtLtOCsLW30Mp6jh46zaF4QCoUCvyJ+jJk8ChdXFy6HXWHq+BmsDNFd5TdpzBRKlCquswwb4ONmHZn0w/iXWobt1bLaCz82L5YPncXFm//k+zLs02vWPT/oGX8fPUfwovUoFUp8/LzpMyaAqHvRLJ66jCkrJ2Yb4+TiRFpqGitm/cq1sOsolSre/aA6HXt9jIWFBZf/vsKqub+hVChxK+jGV8O+wMcvb4tf3imY+cXWy9h3b7vejtXQr7nejqVPuS5A+vAiBchU6asAmQp9FSBToa8CZEoMVYAM5UUKkCnTdwHaf3+H3o7VoLDhuyO5ke01oAULFuT4wMDAQL0nI4QQwnxkew1IqVSydOnSjBVmQgghDMoc3oia7Qxo4MCBREdHY29vT0BAgCFzEkIIs2f2X8cwcuRI7bvvn3bz5s18S0gIIYR5yPHDSJ2cnGjTpg2Q0ZLbvXs3a9as4eLFi/z999+GyE8IIcySfB0DEB4eTkhICBs2bCAhIYHevXszd+5cQ+QmhBBmy6zfiLpnzx569OhBhw4diI+PZ8aMGXh7exMYGIiHx+u1BFkIIYThZTsD6t+/P82aNSM4OBh//4xPazaHiiyEEKbArFtwW7duZePGjXTu3Bk/Pz9atGiBSqUyZG5CCGG2zOEFf7YtuDJlyjBixAhCQ0Pp2bMnJ06cICYmhp49exIaGprdw4QQQohcee4iBCsrKxo1akSjRo2IjY1l8+bNzJw5k3r16hkiPyGEMEuWJvwGUn3J0wg9PDzo3r07W7duza98hBBCYB7fiPr6l1ghhBAm6bktOCGEEIZn1qvghBBCGI8pt870RVpwQgghjEJmQEIIYYKkBSeEEMIozKEASQtOCCGEUcgMSAghTJEZLEKQAiSEECbIHFpwBi1AsWkxhny6fHU5LszYKeiVm62bsVPQK5Xm9fvg3NNr1hk7Bb2q9mkHY6egV5o9d42dwitHZkBCCGGCzOF9QFKAhBDCBJlDC05WwQkhhDAKmQEJIYQJMocZkBQgIYQwQeZwDUhacEIIIYxCZkBCCGGCpAUnhBDCKMyhAEkLTgghhFHIDEgIIUyQOSxCkAIkhBAmSFpwQgghRD6RGZAQQpggacEJIYQwCmnBCSGEMCvbtm2jefPmNG7cmNWrV2e6//Lly7Rr144mTZrw7bffolQqX/i5pAAJIYQJstDjf7kVGRnJ7Nmz+e2339i8eTPBwcFcu3ZNJ2bo0KGMHTuWXbt2odFoCAkJeeExSgESQggTZGFhobdbQkICd+/ezXRLSEjQec6jR49Ss2ZN3NzccHBwoEmTJuzcuVN7/71790hNTaVKlSoAtGvXTuf+vJJrQEII8ZpbuXIlCxYsyLQ/MDCQ/v37a7ejoqLw8vLSbnt7e3P+/Pls7/fy8iIyMvKF85ICJIQQJkifixC6detG27ZtM+13cXHR2Var1Tqr7zQajc728+7PKylAQghhgvRZgFxcXDIVm6z4+vpy+vRp7XZ0dDTe3t4690dHR2u3Y2JidO7PK7kGJIQQJkif14Byq1atWhw7dozY2FhSUlLYvXs3devW1d7v5+eHra0tZ86cAWDLli069+eVSc+ATh/+i19/WoMiXYF/qWIEftsbByeHPMXERMYwvMdoZv86HRe3jFcAF05fZMW8X1Cp1Di7ONF9UDeKl3nDkEPLyONYGJuXbEOpUOJXojBdhn6KvaN9pjiNRsPKqaspXKIQjTs2BCA9LZ21c9Zx68odNBoNxcv702lgB2xsbQyW/19HzrL253UoFAqKlSxKr1Ff4fBM/jnFBDTri4e3hza2ZefmvN+klnb7z99DORV6hmEzBhtmQMDfR88R/PN6lOlKipYqQsDI7pnGlFPMno37ObAtlPQ0BcXL+hMwsjvWNtbax0bdj2Z09/GMmP0NJcoXN8B4zrL2qVx7juyRxXiyj+nZPBBPL3dtbIvOzXi/SS3Czlxm9YK1qFQqnF2c6PJ1Z/xLF8v38byIFUNnc+HmFWauX2TsVEyej48PgwYNomvXrigUCtq3b0/lypUJCAhgwIABVKpUiR9++IHRo0eTmJhIhQoV6Nq16ws/n4VGo9HkJjAxMRErKyvs7Oxe+MkuxZ/NdeyjuAQGfPoNU4ImULhYIVYtWE1Kcgq9hn2V65g/t4eyNmgdURHRrNy1GBc3F5ISk+nVJpBhUwZRuXol7t66x5ShM5izeobOH4rniUx+8QtvAI/jHzPhyykMmT8QnyLebFy0hdTkNDoP+kQnLuL2A9bOXcfNy7f56Itm2gK0ZenvxEbG0W3EZ6CBZd+vwtvPi1bdW7xQPm62bnmKT4hLYMhnIxm/aAyFivqy+sdgUpNT6DH0i1zF3L8dwfRhs5gTPCPTsRMTEln78zoO7z5G+SplGf7DN3kej0qjyvNjEuISGP75aMb9PArfor6sWRhCanIqXw7pmquYUwdOExK0kXE/j8LByYF5oxdSonxxWnXJOCfpaQq+/3o6d66FM3r+8DwXoLy2ZBLiEhj2+beM+/lbCv0/15TkVLo/M57sYu7fjuCH4XOYtXaaznGTE5MZ0H4IAycFUrHam9y7fZ9Zw+cxddXEPP0OVfu0Q57Gk1flipXix8DJvFvubcatmpnvBUiz565ej3ct4bLejlXKpbzejqVP2bbgRo0aBcCDBw/49NNP+eCDD6hbty5fffXVS616yK2zJ85RunxJChcrBEDTdh9ycOdhnq6XOcXERsdyIvQUY+eN0jluRHgEDk4OVK5eCYAib/jh4GjPPxeu5vuYnnbp1BX8yxbDp0hG/7Ru6/c5ue80z74eOLD5ELWbv0fVelV09peuXJLmXZpgaWmJZQFLipYqQmxknKHS5/zJi5QsX4JCRX0B+LBdAw7vPqaTf04xVy/8i6WlJeP6TGJYl2/ZsGwzapUagGP7TuJe0J3PAzsZbDwAF06GUaJ8cXz/n2+jtg04svu4zphyijm08yjNOzXBycUJS0tLug/tyvtNn8zoVsz6hbrN38fZ1ckg4zl/8iIlyhfX/v9v1PYDjmRxjrKLuXrxGpaWlozv8z3Du45m47ItqFVqHoRH4uBoT8VqbwLg518Ye0d7/r14LXMSRtSv1Rcs2bGGdYd+N3YqL8QYLThDy7YAXb6cUX0nTJhA69atOXXqFCdPnuSjjz5i2LBh+Z5YTORDPH08tdue3p4kJ6WQkpSSqxgPLw9GTBuCX7HCOsctXLQQaSmpnD1+DoB/L13jzo27xMXE5++AnhEXHY+795PWhruXG6lJqaQmp+rEffp1B2o0qpbp8W9WL49P0Yzi9fBBLPs3HKBq/Sr5mvPTHkY+xNPnSfvM08uDlKQUUp7KP6cYlUpFpeoVGDlrKOMWjuLciQvsXL8bgA/bNuDj7m2wss79q2l9eBgVq9MS9PByzzymHGIiwiNJiHvMtMEzGdF1DBuWbdG2g//cGopKqaJBq3oGG09sVCyeOrlmPkc5xahVKipWe5Phs75h7I8jOX/yArvW78G3mC9pqemcP3ERgOuXb3D35j3iHz4y2Nhyo/+C0az5c7Ox0xA5eO41oLt379Kp05NXom3atGHp0qX5mhRkv7zPsoBlnmKe5eDkwIjpQ1j9czAr5//Km2+Xp1K1ilhZG/ZymEatIasXJpaWeVsXcvufO/w8din129Sl8nsV9ZTd86k1GrIawNP55xTTsPUHT+2xpUWnpuxct5vmHZvmR7q5knFOch5TTjEqpZILp8IYPG0ANjbW/DxpCesWbeD9ZrXYt/kAYxaOyNf8n6VW5+Ic5RDToFX9p/bY0rxjE3au30uzjk0YPGUAIUHr+W1hMOXeKkOFd8pjZVUgH0Zhvszhs+Cy/at7//59goKCcHNzY+/evTRq1AiNRsOuXbtwdHTM98QK+hTk6lNT+ofRsTi5OGJnb5enmGep1Wrs7O2Y9NM47b6+7QfiW8RHzyPImYePOzcv39Jux0c/wsHZAVt721wf49T+M6yZs45OA9pnOUvKTwV9PLkWdl27HRsdh6OzI3ZP5Z9TzMEdR/AvXRT/UhkXrjUaDQWM/AfM09eDa5eeyjcm85hyinEv6E71eu9oL+DXbvIem5ZvBSAlOYXvek0GIC4mnoXjg/i03ye8U+ftfBtPQV9Prl+6keN4coo5tPMI/qWKUaxUUQA0QAGrAv//HbJlzIKR2scN7jQcHwP/Dr3uzKEAZftye8GCBVhbW1OwYEEOHz4MwKJFi1i8eDGTJ0/O98SqvFuZqxf/5f6dCAB2bdxDjTrV8hzzLAsLCyYNnsq1yxl/RA7vOYqNrTVvlPbPh1Fkr3y1cty8fJvIu1EAHNx2mLdqV8r1488fvUDI/A18PaOvwYsPQOUalbgWdp2I8AcA7N28n2p1quY6JvzGXdYt3ohapSY9LZ1dG/byXsN3DTuIZ1SqUZFrYTd48P989236M1OByCmmRv1qnNh/kvS0dDQaDacP/kWJcm/QZWBnZq6dypSVE5iycgLuBd3oO65nvhaf/3L996n//9mNJ7uYuzfusW7Jk3O0e8Ne3mtYAwsLC6YPmcWNyzcBOLb3BNY21tpCJURu5XoVHLz8u17zsgoO4MyRv/l14W8olEp8/Xz5elw/Iu9H8uPkRcz+dXq2Mc9e5G37bkftKjiAi39dYtnslSgVStwLutFnZE98/fL26u1lV8EBXDgexubF21ApVXgVLsgXIz8nJuIhv8xYw+glw3ViV0z9lcLFnyzDHtd1EkkJSbgVdNPGlKxYnE8H6q6iy628roKDjOXIa34OQalQ4uPnTb+xvYi8F0XQ1GVMWzkp2xgnFyfSUtNYPnMV/4ZdR6VU8W6DGnTq1V7n5+vAH4c48edJg62CAzh79BzBizagVCjx9vOmz5iviLoXzeKpy5myckK2MU4uTqhVajat3MrxfafQqNS8Udaf7sO6ZVr2/PXHQ/h6Ur98XwUH/18yvmi99v9/nzEB/x/PMqasnJhtzH/naMWsX7kWdh2lUsW7H1SnY6+PsbCw4PLfV1g19zeUCiVuBd34atgX+Pjl7Q2J+b0K7j/Lh87i4s1/XrlVcLcS/9Xbsd5wKq23Y+lTngrQy8prATJl+ihApuRFCpApe9ECZMpet5aMoQqQoei7AN1O1N+qQn+nUno7lj5lew0oqw+ue1pgYKDekxFCCGE+sr0GpFQqWbp0KWq12pD5CCGEwDjfB2Ro2c6ABg4cSHR0NPb29gQEBBgyJyGEMHum/AZSfcnxTScjR47U+e6H/9y8eTPfEhJCCGEecnz3pZOTE23atAEyWnK7d+9mzZo1XLx4kb///tsQ+QkhhFky5daZvjz37f/h4eGEhISwYcMGEhIS6N27N3PnzjVEbkIIYbbMugW3Z88eevToQYcOHYiPj2fGjBl4e3sTGBiIh4dHdg8TQgghciXbGVD//v1p1qwZwcHB+PtnfEqAOVRkIYQwBWbdgtu6dSsbN26kc+fO+Pn50aJFC1Sq1+/NfUIIYZpe/wKUbQuuTJkyjBgxgtDQUHr27MmJEyeIiYmhZ8+ehIaGGjJHIYQQr6HnLkKwsrKiUaNGNGrUiNjYWDZv3szMmTOpV89w32sihBDm5vWf/zznfUDP8vDwoHv37mzdujW/8hFCCIGZfyOqEEIIkZ8M+zWgQgghcsl0Zy76IgVICCFM0OtffqQFJ4QQwkhkBiSEECbp9Z8DSQESQggTZMqr1/RFWnBCCCGMQgqQEEIIo5AWnBBCmCBz+DBSC41GozF2EkIIIXRFp0bo7VhedoX0dix9khmQEEKYIHOYAck1ICGEEEYhBUgIIYRRSAtOCCFMkLwPSAghhMgnUoCEEEIYhbTghBDCBJnDKjgpQEIIYZJe/wIkLTghhBBG8VoUoKtXr1K2bFl27dql3XfmzBnat29P69at6datG/fu3TNihnmT1XhOnz5Nu3btaNmyJb179+bRo0dGzDBvshrP3bt3+eyzz2jdujVdunR5Jc5PVuP4z5w5c5g/f77OviNHjtCtWzdDpZcneR0LwIMHD6hRowZ37941RIp5kpfxnDx5knfffZfWrVvTunVrRo4cachUc81CjzdT9VoUoA0bNtC0aVOCg4O1+4YOHcqkSZPYsmULLVu2ZNKkSUbMMG+yGs/IkSOZPn0627Zto1SpUixdutSIGeZNVuOZO3cuLVq0YMuWLTRu3JjZs2cbMcPcyWocjx8/ZtSoUSxfvly7T61Ws2zZMgYPHoxarTZGqs+V27H8R61W8+2336JQKAyZZq7lZTwXL16ke/fubNmyhS1btjBlyhRDp5srFhYWeruZqle+ACkUCrZt28bAgQMJCwvjzp07pKen8/XXX1OuXDkAypYtS0SE/j5XKT9lNR6A7du3U6pUKRQKBZGRkbi4uBg509zJbjxqtZrExEQAUlJSsLOzM2aaz5XdOPbt28cbb7zBl19+qY29fv06169fZ+LEicZKN0d5Gct/lixZQq1atXB3dzd0us+V1/FcuHCBw4cPa7sJr8rfhtfRK1+AQkNDKVy4MMWLF6dRo0YEBwdjY2ND69atgYw/dAsWLKBRo0ZGzjR3shoPgLW1Nf/88w/16tXjxIkTtGjRwsiZ5k524/n6669ZsWIFderUYdmyZQQEBBg505xlN442bdrQs2dPChQooI0tXbo0kydPxtXV1Vjp5igvY4GMGcPx48ezLEymIK/jcXZ2pkuXLmzbto169eoxaNAgY6SdC69/E+6VL0AbNmzgo48+AqB58+Zs3LiR9PR0ANLT0xkyZAhKpZJevXoZM81cy2k8ZcuW5ejRo/Tt29eEf2l0ZTee4cOHM2HCBA4dOsT48eMJDAzElD+YPafz8qrJy1hSUlIYP348kyZNwtLSNP9c5PXcTJgwgcaNGwPw6aefcu3aNR4/fmyQXPPi9S8/r/gy7IcPH3Lo0CHCwsJYtWoVGo2GhIQE9uzZQ/369enTpw9ubm789NNPWFtbGzvd58ppPLa2ttpZXKtWrZg2bZqRs32+7Mazfft2bty4oR1PkyZNGDduHHFxcXh4eBg568xyOi+vykz0P3kdy+nTp3n48CF9+vQBICoqip49e7JgwQJKlChh6PQzyet41Go1ixYtyjQzenaWJAzjlS5AW7ZsoWbNmixZskS7b/78+axdu5Y//vgDf39/xo8fb7Kv3J6V3XhWr15NeHg4vr6+VKxYkR07dlC1alUjZpo72Y1n/fr12Nracvr0aapVq8aZM2dwdHQ0yeIDOf+cvWoFKK9jqVOnDvv379duN2jQgKCgIIoUKWKQfJ8nr+OxtLRkz549+Pv707x5czZv3sxbb72Fg4ODIdPOJVOeu+jHq/GXORubNm2ic+fOOvs+++wzzp07x759+/jrr79o27YtrVu3NvlrDJD9eMLCwpg9ezZjx46ldevW7Nq1i8mTJxspy9zLbjwXLlxg5syZTJs2jZYtWzJjxowsl/2aiuzGcf78ea5fv26krF7M6zQWeLHxTJs2jVWrVtGiRQs2bNhgsitkzWEVnHwjqhBCmKAERZzejuVibXqrF+EVnwEJIYR4db3S14CEEOJ1ZQ4fRiozICGEEEYhMyAhhDBJr/8MSAqQEEKYoNe//EgBEkIIk2TKy6f1Ra4BCSGEyNH9+/f57LPPaNq0KX369CEpKSlTTFRUFD169KB169a0bduWY8eOPfe4UoCEEMIkmc6nwY0fP57OnTuzc+dOKlasyMKFCzPFTJ8+nQYNGrBlyxZmzpzJkCFDUKlUOR5XCpAQQpggUyk/CoWCU6dO0aRJEwDatWvHzp07M8V9+OGH2g+F9ff3Jy0tjeTk5ByPLdeAhBDiNZeQkEBCQkKm/S4uLs/9brG4uDicnJywssooF15eXkRGRmaK+69AASxdupTy5cvj7Oyc47GlAAkhhEnS3yKElStXsGDBgkz7AwMD6d+/v3Z7x44dmb4h1t/fP9OCiJwWSKxYsYLg4GB+/fXX5+YlnwUnhBAmKEWV+UL/i1IkqV54BqRQKHj33Xc5deoUBQoUICIigs8//5x9+/Zlip0+fTqhoaEsXboUX1/f5+YlMyAhhHjN5abQZMfa2ppq1aqxfft2WrZsyebNm6lbt26muBUrVnDixAnWrFmT6+eSGZAQQpggfc6A7As4vtTj7927x4gRI3j48CGFChVi1qxZuLq6smbNGqKiohgwYAA1atTAyclJp/gEBQXh4+OT7XGlAAkhhAlKVeW8giwv7AqY4hfuSQESQghhJPI+ICGEEEYhBUgIIYRRSAESQghhFFKAhBBCGIUUICGEEEYhBUgIIYRRSAESQghhFP8DjJGGEB0r1b0AAAAASUVORK5CYII=\n",
      "text/plain": [
       "<Figure size 504x504 with 2 Axes>"
      ]
     },
     "metadata": {},
     "output_type": "display_data"
    }
   ],
   "source": [
    "# correlation with heatmap\n",
    "correlation = credit_data.corr()\n",
    "print('Correlation matrix')\n",
    "f, ax = plt.subplots(figsize=(7, 7))\n",
    "sns.heatmap(correlation,square=True,annot=True,cmap='Greens')"
   ]
  },
  {
   "cell_type": "code",
   "execution_count": 73,
   "id": "e0ad401a",
   "metadata": {},
   "outputs": [
    {
     "data": {
      "image/png": "iVBORw0KGgoAAAANSUhEUgAAA1AAAANRCAYAAADtR12UAAAAOXRFWHRTb2Z0d2FyZQBNYXRwbG90bGliIHZlcnNpb24zLjMuNCwgaHR0cHM6Ly9tYXRwbG90bGliLm9yZy8QVMy6AAAACXBIWXMAAAsTAAALEwEAmpwYAAEAAElEQVR4nOzdeXyU5b0//M89+5497IkYCFBZIkgRWoF6CKiIKVCTgNpaRVGL/I4952jLQ097TtWjbZ+fTz2up3paW49CXBArag1SXJoeFFQWRcKasJOFZPaZe5bnj8ncyWSWTJJJZvu8X6++Kslk5rpnvnPd93Vf3+t7CX6/3w8iIiIiIiLqkyzZDSAiIiIiIkoXHEARERERERHFiQMoIiIiIiKiOHEARUREREREFCcOoIiIiIiIiOLEARQREREREVGcFMluQKppa7PC54te2T0vT4eLF+3D2KLkyrbjBbLjmIuKjFF/F+s7kA3vTU/ZdLzZdKwDjX8gs96nTDmWTDkOYPiOJRvOAenS1nRpJ5A+bY2nnbG+A/HgDFQ/KRTyZDdhWGXb8QLZeczxyrb3JpuON5uOdTAy6X3KlGPJlOMAUv9YUr19PaVLW9OlnUD6tHU42skBFBERERERUZw4gCIiIiIiIooTB1BERERERERx4gCKiIiIiIgoThxAERFRZhAAs0NEc4sNZqcHEJLdIBpSXZ/3/iMt/LyHgwCcvmDl94sILGNORESZQAAONnfi8bov4BK9UCvlWF9dgSklOUD0quSUrvh5Dy++30QhOANFRERpz2wXpYs7AHCJXjxe9wXMdjHJLaOhwM97ePH9JgrFARQREaW9DqtburgLcoledNjcSWoRDSV+3sOL7zdRKA6giIgo7eUa1VArQzdPVCvlyNWrktQiGkr8vIcX32+iUBxAERFR2jNpFVhfXSFd5AXXaJh0yiS3jIYCP+/hxfebKBSLSBARUfrzA1NKcvDoPfPQYXMjV68KXNxxgXtm6vF520UvdEo5P++h1PV+//bHC3GuzcrvF2U9DqCIiCgz+AGTVgmTVin9mzJY1+ddVpKPlhYLP++h5gfGFBugEvzSv4myFVP4iIiIiIiI4sQBFBERERERUZw4gCKivgmA2SFi/5EW7kBP2YnfAcpmjH+iEFwDRUSxcQd6ynb8DlA2Y/wTheEMFBHFxB3oKdvxO0DZjPFPFI4DKCKKiTvQU7bjd4CyGeOfKBwHUEQUE3egp2zH7wBlM8Y/UTgOoIgoJu5AT9mO3wHKZox/onAsIkFEsXXtQP/oPfNgF73QKeXcgZ6yC78DlM0Y/0RhOANFRH3zAyatEpeNLwQANF+wsZQtZRd+Byib+QGTTol8oxYdVjfMDsY+Zbe0noF64okn8M477wAAFixYgPvvvx8//elPsWfPHmi1WgDAunXrUFlZmcxmEmUGAfj7/rN47OXPopeyFQCr0wOzwwOny4PCHA1MWgXvVFJmiPUdQKBaWYfVjVyjmnFPmYWlzIlCpO0AqqGhAR9//DG2bNkCQRCwZs0a1NfX48CBA3jxxRdRXFyc7CYSZRSzXZQuHIHuUraP3jMPJq0SEICjZyw41WLFpvpGnmQp40T9DvxoHk632HlxSRnL7IhcyvzRH82DScO1UJR90jaFr6ioCD/5yU+gUqmgVCpRVlaGM2fO4MyZM9iwYQOWLVuGxx9/HD6fL9lNJcoIfZWyNdtFHD1jlgZPwd9zvxDKFK1mV8TvQEuni/vkUEZr6XBGjX2ibJS2A6iJEyeioqICAHDixAm88847uOqqq3DllVfi4YcfRl1dHXbv3o1XX301uQ0lyhB9lbLtsLrh8/u5XwhlLK1aEfE7oFbKGPeU0dQqedTYJ8pGaZvCF3T48GGsXbsW999/Py699FI8+eST0u9uueUWvPHGG6iuro77+QoKDH0+pqjIOKC2pqtsO14gO485KNp3oMDnx32rZoas/7hv1UyMH5sHmUyA2y/g6+YOqJXykItJtVKOkQUGFBX1/d1KRdkUC9l0rNHEOgeIEFBbWR6SolpbWQ6jXp22cZ8pn3mmHAeQ/GOJ9B3odHmjxn6y2xtLKretp3RpJ5A+bR3qdqb1AGrPnj1Yv349NmzYgKVLl+LQoUM4ceIElixZAgDw+/1QKPp3iG1tVvh80ZPWi4qMaGmxDKrd6STbjhfIjmOO1bHE+g7MnTYKI/PmocPmRq5eBZNOibY2KwBAJQPKRpvCTrLrqyugkvnT8j3NhlgIyrZjjSZW/CsFoGSkCcsXToDP74dMEDC2yIAcbSDOe6+BSvW4z5TPPFOOAxi+Y+nvdyBHK0dxvjYk9ovztcjRylP2vU+XuEiXdgLp09Z42jnYAVbaDqDOnj2LH/3oR3jssccwd+5cAIEB08MPP4wrr7wSOp0OmzdvxvLly5PcUqLMIZMJMGmVgaIRQOgCeT9QNtqIEflaTCzJC1ThM6m5XwhlDj9wxZQRKDCqQm4iwNe9T07Izxn3lCl8wJSSXIwsMKDloh0FJg0KTCqAy8wpS6XtAOr555+Hy+XCI488Iv2strYWd955J1atWgWPx4PFixfj+uuvT2IribKMHzCoFTCoFSE/I8oUUW8idO0TFfHmAlEm8AHlJXnI0yqkfxNlq7QdQG3cuBEbN26M+LubbrppmFtDRERERETZgOVTiIiIiIiI4sQBFBERERERUZw4gCIiIiIiIooTB1BERERERERx4gCKiIiIiIgoThxAERERERERxYkDKCIiIiIiojhxAEVERERERBQnDqCIiIiIiIjixAEUEVGiCYDZIaK5xQaz0wMIyW4QJYrP5+dnS9lJAE5fsDL2iQAokt0AIqKMIgAHmzvxeN0XcIleqJVyrK+uwJSSHMCf7MbRoAjA3/efxWMvf8bPlrIL+zWiEJyBIqK+dc2o7D/SwjuPfTDbRekiAwBcoheP130Bs11McstoUASgzeKWBk8AP1vKHuzXKC0M47UKZ6CIKDbeeeyXDqtbusgIcoledNjcMGmVSWoVDUrXd+DkBQs/W8pK7Nco5Q3ztQpnoIgoJt557J9coxpqpTzkZ2qlHLl6VZJaRIMV/A74/OBnS1mJ/RqluuG+VuEAiohiinXnkcKZtAqsr66QLjaCd8FMuhS9S8v0zD4FvwM7djejprJ8eD5bFiKhFBKpX7t75XTI5DLGJqWE4b5WYQofEcUUvPPYs2PinccY/MCUkhw8es88dNjcyNWrAhfYqZjuyPTMuAS/A60dTrzdcBxV88sgkwGzJhWjwKhK/HvFz4VSTVe/9th9C3D8TCdOnrfixXcPwmITGZuUEob7WoUzUEQUU9rNqKQCP2DSKlFSqA+sD0jRCwumZ8an53egtcOJrR8exbhi49AMnsDPhVKUH5AJAh7f/AU21R9Ca4eTsUkpY7ivVTgDRUSx9ZhRsYte6JTy1J1RSRQhcBF77kgLdGoFTFpFRh4vF4bHaZi/A32lonRY3cg1qjM2Lil1tZsd8fUZXX0oY5WGzTD30xxAEVHfumZUykry0dJiyewTYRalTzE9sx+G8TsQ7XMRBAEPPNWQ8XFJqSvfpO27z8iiPpRSzDD200zhIyLqIZvSp5iemZoifS7rbpyBZ17flxVxSalrVKG+zz4jm/pQyl6cgSIi6iGr0tqyMT0zHUQoRGJ1iDjbZg95WMbGJaUsmUzos0hOVvWhlLU4gCIi6iHr0tqyKT0znXR9LtIFpyBkV1xS6uodm736jKzrQykrpXUK3xNPPIGlS5di6dKl+NWvfgUAaGhowLJly7B48WI89thjSW4hEaUbprVRKmJcUrpgrFI2SNsZqIaGBnz88cfYsmULBEHAmjVr8NZbb+E3v/kN/vSnP2HUqFFYu3YtPvjgAyxYsCDZzSWidJGuaW2sepW+4vns0ml/McpYPp8fZgdjlShtB1BFRUX4yU9+ApUqMCVcVlaGEydOoLS0FOPGjQMALFu2DO+++y4HUETUP+mW1saqV+mrP59dH6lTRENKAP6+/ywee/kzxiplvbRN4Zs4cSIqKioAACdOnMA777wDQRBQVFQkPaa4uBjnz59PUguJiIYHq16lL352lC7MdlEaPAGMVcpuaTsDFXT48GGsXbsW999/P+RyOU6cOCH9zu/3QxCEfj1fQYGhz8cUFRn728y0lm3HC2TnMQf19R1I1nvj8/lxttWGdrMD+SYtRhXqIZMJ/X5Mf6VDLJw70hKx6pVd9KKsJD/u50mHYx1qQ30O6B2jNpc3IZ/dQGM/Uz7zTDkOIPnHEu07EK2fuWh1w+72oiBHC6/Pjw6LM2H972Al+72MV7q0E0iftg51O9N6ALVnzx6sX78eGzZswNKlS/HJJ5+gpaVF+n1LSwuKi4v79ZxtbVb4fNHnmouKjIGUniyRbccLZMcxx+pYYn0HkvbexJPmNARpbOkSCzq1ImLVK51SHnf70+VYE2Gg8R/82wG/TxFidMOtswf92Q009jPlM8+U4wCG71gG8h2I1s8cau7A9k+bsHTeeGyqb0yZNOJ0iYt0aSeQPm2Np52DHWClbQrf2bNn8aMf/Qi/+c1vsHTpUgDAjBkzcPz4cTQ1NcHr9eKtt97C/Pnzk9xSIhqseNKcsjkVilWv0kOkGH3m9X1Yd+OMQX122Rz7NHxMWgXuWzUzJFZrK8ux/dMmXD2rRBo8AYxBynxpOwP1/PPPw+Vy4ZFHHpF+Vltbi0ceeQT33nsvXC4XFixYgGuuuSaJrSTKEAJgdXpw/mgrbA4RhTmaYa3yFs/GjFm9eSOrXg2bnlXI8nM08Hl9cVc+jBSjZ9vsyDOqBvXZZXXs0/DoOgfk56ix8bZvwiV6oVMr8H9f/gytHU5AAGOQskraDqA2btyIjRs3Rvzdm2++OcytIcpgAnD0jAWnWqxJS8+IZ2PGrN+8kVWvhl6PKmRGvbLfKUvRYtSgUQ7qs8v62KehFeUcsO7GGVDKuxOZGIOUTdI2hY+IhofZLuLoGXNS0zPiSVFjGhsNtZ5VyAaSsjRUMcrYp6EU7RzwxCt7cdeK6VAr5dixuxm1leWMQcoaaTsDRUTDo8Pqhs/vT256RjwpakxjoyEWkio3kJSloYpRxj4NoVjnAL/fL8VdvlGNyycWMgYpK3AARUQx5RrVkAlC8tMz4klRS/c0NiFwtzfeNTU0vHqnyg3oOzFUMdrzeRlHlEB9nQNC4hlI3/6XqB+YwkdEMZm0CpSNNjE9Y6h1laJ+4KkG/OL5XXjgyb/hYHMnkNxtVKiHnlXIUjZliXFECWbSKTBuhD41450oSTgDRUSx+YGy0UaMLNRh8iX56LC6UGjSoMCkAnzJblzmiFaK+tF75rGKVSromtUx6pR4cO1cuEQPTDpVyqUsMY4o0cw2ES++8zUWzynF+poKOF1edNpcGFesD8Q7ZzwpC3EARURxaT5nTegmtRSKpahTWJSNakfn66TUOQAp8V1gHFGidVjdONtmxwtvHwz5+aWjTTBoFAnfwJwoHTCFj4j6ZHV6cPKCFVULylC9qBxGvZKbJCZYcH1NTywDnBrMdhEvvnsQVfMD8V+1oAwvvnswJeOfcUSJlmtUY1SBDtX/UI7qRYH/jSrQIVev4ibOlLU4A0VEsQnAsbMWbNl5RLrDWFNZjrcbjvOudgIFS1H3vpObCmlh2c7qEFE5pxSbe+yBU1NZDqtTTLn4ZxxRopl0ClQvKsczr++XYuquFdNg0ivRfN7GGU/KShxAEVFMZruIp1/bF3KHcXN9I5YvnMC72onEUtQpS61SSIMnoPs78ODauUluWQSMI0ows02UBk9AIP6feX0/Hr1nHjdxpqzFFD4iiinamopxIwyswJRoXetpSgr1gbu3vOhNCTanGPE7YHOmaJoS44gSKPa6Om7iTNmJM1BEFFO0O4xjCnS8MKOskGvgXXbKXjFnmTjjSVmKM1BEFBPvMFK243eAslmf8c8ZT8pCnIEioth63GG0i17olHLeYaTswu8AZTPGP1EYzkARUd+67jBOKyviHUbKTvwOUDZj/BOF4ACKiJJPAMwOEc0tNpidHkBIdoOiSJd2UuLJgDarGw37z6DN5ubZk7JLV9+3/0jL4Po+9qGUIZjCR0TJJSA9drJPl3ZS4smAvUfbw/bBmVGWD/iS3TiiIZaovo99KGUQ3kMjouET4e5juuxkny7tpMRrM7sj7oPTZnYn5gV4V55SWLS+r83i7lessg+lTMIZKCLqW9dA59yRFujUCpi0iv7fMYxy91GvVaTFTvax90JJnXZS4rWZnRE/+zazEwWGQZYyH+xd+a7vZofVjVyjemDfTaIYgn1fYa4GV88qkQZNX51oQ2GOLu5YZR9KmYQzUEQUW9cF3gNPNWDD0w144Mm/4WBzZ7/vkke7+6jXKKXyuEGpuMdOcC+UnlKxnZR4BTmaiJ99gUkz6Oce1F35Ht/NXzy/a8DfTaJYco1qjCrQ4bp547H1w6Oo296IrR8chVatxIvvHox7Bol9KGUSDqCIKKZEpV1Eu/voEj1psccO9wLKXgVGFe5aMS3ks79rxTQUmAZ/4RfrrnxfmBJFw8GkVeCuFdOxub4xJNaef/NLXFUxNq5YDT4P+1DKFEzhI6KYol3gnbvoAAQh7pShaLvZGzRKjM7Xpf5O9j32QknpdlLi+YAZE/Lxb3deiYtmF/JMahTnqgFv33/al2jfi3juyg84JSoRKbmUPfyA3++PGGsyGeKfQWIfShmEAygiiinaBd7pFisee/nzuNdrBO8+9l7rETyBmrTK7ou+VD2hpks7KbEE4OCJoake1tf3IpYBDb5YCY36SwDkMlnEWLtsfEH/BkHsQylDMIWPiGKSCUBtZXlI2kVtZTlkgtC/lKEedx9/sWYOHr1nHi/aKC0MaarcIL4XA0mJYtof9ZfZLuLYmc6I54EcPWeQKDul/QyU1WpFbW0tnnnmGYwdOxY//elPsWfPHmi1WgDAunXrUFlZmeRWEqWvdrML2xqOo2p+WWBxuh/Y1nAcV19RAqCfVZR495HS0JBXDxvo92IAKVGshEb91WF1w+b0YMfu5rDzwPjRJhjUaX8pSdRvaR31e/fuxcaNG3HixAnpZwcOHMCLL76I4uLi5DWMKIPkGtUoytGgdJQRTpcXWo0cRUc00kXasFRRkgFtFjfazS7oNQqY9CoY1PKBDcBY9pn6KViF7KqKsVKFu48+P5W4uJcF9ppqMztRkKNBgVEF+GPEaYTHxzv4GsyaK8pOuUY19BoFrps3Hjl6NbQaOTosTiz79qXw+YELFhecLg9yDQPsT9knUxpK6wFUXV0dfv7zn+P+++8HADgcDpw5cwYbNmzA+fPnUVlZiXXr1kEmY6Yi0UCZ9ApUzrkEj2/uXjOxdvk0NOw73a/1GgMiADa3F0dOdUobmQZTR8YWGVA22ti/1+X6DxoAk06B6kXlITF414ppMOmVgC/GH8ZzYSgD9h5tD3vuPIMa//HH3eFxKkR+/Iyy/NhtCR7LINZcUXYy6RTIMajx9Gv7QvpgnUaJc202vLDt4MD7U/bJlKZSbmTR2dkZ92MfeughXHHFFdK/W1tbceWVV+Lhhx9GXV0ddu/ejVdffXUomkmUNdo63Xh2y/6QNRPPbtmPFd8pH9p1TF0n1pPnbdLFYvD1N9U34ugZc7/XbXD9Bw2E2SaGxeAzr++H2RYjbuLco6nN7I743HaXN2KcRnt8mzm+UtI90/4evmce1yJSn8w2URo8Ad198EWLC2abOKj+lH0ypaukzkC1t7fjt7/9LXJzc7Fy5UrcdtttOHPmDMrLy/Hkk09izJgx/Xq+cePG4cknn5T+fcstt+CNN95AdXV13M9RUGDo8zFFRcZ+tSvdZdvxAtl5zEG9vwNHzp2JuGbC5hQxbcKofj+/z+fH2VYb2s0O5Ju0GFWoh0wWvvPn6QtWPF73Be787rSIr+/z+2EXvSgryY/7tc8daYn4XLGeJx1jId73uLd0PNZEi3QOOHs4ctxctLkxfmxezPjtfWH42x8vxJji7tc4HOX75XB7wn5mF72w2MWQxxfmanD1rBK0dDph1Kvj/6z7fER6yaTYTfax9P4ONH11LmofrFLIwn7en355IH1yfyT7vYxXurQTSJ+2DnU7kzqA+tnPfoaSkhKcOnUKt9xyC9atW4eVK1fizTffxL//+7/j2Wef7dfzHTp0CCdOnMCSJUsABPYtUCj6d4htbVb4fNFvxRUVGdHSYunXc6azbDteIDuOOVbH0vs7kKNXRVwzoVUr0NJqGbIUunOtNrjEwJqrSK8vEwTolPJ+fVY6tSLic0V7nrSMhQGmxKTlsQ5Qf+IfAFSKyCWcXW4fPv7idMz47cklenGuzQqV0P3g/ChrkrSq0HNXME6Vxu62FOZqcN288dIGp/1Nf8qUzzxTjgMYvmPpz3dAHaXflAkCLhlpQmGuBq0dTunn/emX+9sn90e6xEW6tBNIn7bG087BDrCSmsLX3NyMBx54AA8//DBcLhduvPFGyGQyfPe738WFCxf6/Xx+vx8PP/wwOjs7IYoiNm/ezAp8RIMkeryo6VW+tqayHEdPXRzSFLrgYvctO4/gzu9ODSufWzba1O8d7AdS9jndMCUm8ewuMeJ3wOPpO357ilSsocCowl0rpoU8910rpkGnlkeM056Pv3pWiTR4AvhZ09AQRQ9WL5kU1gePLtTidKsVi2aXSj/vb3+aDX0yZaakzkD5/X7YbDbo9Xo8+OCD0s8vXrwIj8cT4y8jmzx5Mu68806sWrUKHo8HixcvxvXXX5/IJhNlHYNWhUMn2rDh1tkw290w6VR4+2/HUDoqt9+lj/tTQrnnYvd3//cEfrx6JvwA9BoFcnRKGDQDqNTUY/1Hq9kFjVqRcSdqlqlOPIVcjvpdTSElnOt3NeG2ZZehan4Zzl10AIIQUiSiZ/wa9Uosml2KcSMMgCBIzwEA8AEzyvLx4Nq5gap6Jg0KTIFBVtjPfIG/Cz6+pdPBz5qGXI5ejf/dfwj3rbocoseHHIMafp8P7RY3ivK00KoV+MWaOXGV0Q8zgFL8RKkgqQOo2tpa3HDDDXjvvfewaNEiAMCePXvwT//0T7jrrrvifp4dO3ZI/33TTTfhpptuSnhbibKVSa/AnKmj8fAfPpXShO5cPg2fHDiDeVNH9Ou5+lVCOdqJFYFZluYLtgGXvD3das/Yqk8sU514Rp0Si+eUYlOPVLlbl05Bp9WNrR8ejRxHXfH763XfwrGzlpAKZmHx5gMKDCoUGLo+I38faZhdj1dGSS3kZ02JZNIrUHnlJXjs5c9DqvBtazgOi03Euhtn4LLSXCnu+437A1IaSmoK380334zHH38ccnl3mkNRURG+973v4bXXXktiy4goKFIVvv/ash83zJ8QOnsjAGaHiOYWG8xOT1i1MWAA6RpdJ9aSQr10co2nslksVqcHJy9YUbWgDNWLymHUKzMq7YkpMYln0MgxokCH5QsnoHpROZYvnIBRRXr8buuB2Olz/kBBj94VzPqKt3jTMPlZ03Bo63Tj2QiVUK+eVQKX6MUTr+zNmP6TKF5J3wfqsssuAxAoX75582b8z//8D+x2O2655ZYkt4yIAKDN7IyYJmSxuzEqVxP4Qa/CBaMKdLhrxXT4/f7QzRX7m67Rax8d+P0RLywfvWdefClLAnDsrAVbdh6R7qTWVJbj7YbjmZP2xJSYhLM6PLB0lSzXquUYkaeH1eFB1YIy7NjdLC2gj5Q+N5CUyrj/hp81DYOLVheMeiWqZpVJN6t27G6W/luKTZ2SG+JS1kj6AOrYsWN44YUX8Oabb2LMmDFwOp3YsWMHjMb0KJNIlOkKcjQR04QKTBrp3z3vmBfmalA5pzQk5a93alNc6RqRqsnVVAxqzYfZHr6fyeb6RixfOCGz0p6YEpNQFocHb3xwBIvnlEKvUeK3mz8PG4C3djgjps8NJKWyv6mu/KxpKOUZ1Vg6b3xICmttZbn0+2BsckNcyiZJTeG78847cfPNN0OpVOKPf/wj3nrrLej1eg6eiFKIRiXHHb2q4N1RNRUWu1u6A9nzjnmiKoNFSmM6ed4aV2WzaKLd2R83wsC0J4rK5fGick4pXKIPz7/5ZdgA/OpZJdJFZe89mAaSZsfUPEolLtEnDZ4C/w6k8Pn8fik2ZTKB1T8pqyR1Buqrr77CZZddhokTJ6K0NFAGUxD6sZiBiIZcW4cTgB//p+ZyONwemHRKnGu3o/GkA0adCgVGVegdcwEJqQwWabCz/dMm3L1yetiC/HjTlqLd2R9ToONdUopKowxU4fve1eURY3tEgQ5V88uwreE4xo82waDucWqNJ82uV6qqSatgah6lDJtDjBj3eUYNHlw7FwVGFZovRN73LGNSo4l6SeoAaufOnXjvvffw8ssv46GHHsLChQvhcrmS2aQ+2Z0iFOronYFMANxO3nGhzJGfo8FFqxu/enE3CnM1WLFwAmwOD3x+YM+hFpSNNqFsjFEq2QwgIZXBIg12LDYRhbmaAV9Y9iwtPZABGGUnj9eLZVddCq0m8qaf59vsqHu/cWBpdjE2PmZqHqWCgpzIN54uWpxQq+ThN9F6PCajUqOJekjqAEqhUOC6667DddddhyNHjmDTpk1wuVxYvHgxfvjDH2LVqlXJbF5EHq8PD/9+V9Tfb/jhnGFsDdHQ83l9ON9uh1opx9J54+Fye0OKMNRWlmNEvla6Y251ihhXbMATr+wd1CDFpFPgpz+Yja+b2uHzAx99fgrXzL0ET76yFw/cPAslhfrAA7nnCA0xrVoJl9uLP739FWoqy6UU1cCmt9OhlAu4/5YroFPJ+x1P0SruxV0YhWiIyeUy3FE1Vao6GUzj9vp8OHneijEFOph0SqyvrsCL7x7EVRVjIZMBUy7Jh0mvDOxfRpRhkl5EImjChAnYuHEj/umf/glvvvkmNm3alJIDKKJs02F1Y/unTaipLMeIfB1+u/mLsFz4srE5sLu9MNvc0KkVuGS0URqk6DVKuNwemB0emHQKmG1xVGkSgINNoXfl11RNhUwGiF5f/9NCeqdI6Xhnn+LncHmkNSBvNxxH1fwyyGTAtAmFeKLuC5xts3cNpqZBrZJBq1bGXYGsz4p7EdL7GLMU1RDEi8Xmxmt/PRyykfRrfz2MO5dPwys7DmPCuByYdEpMKc3B6iWTw26esZAEZaKUGUAFabVa1NTUoKamJtlNISIEUuksNhF/338GK6OsAbE6PPjt7z+FUa/EotmlGJGvQ3GeFqLow8YX/t7jbv001G1vxNk2e/RS54h8V/65rQewfOEELJpd2r+0kBgpUjypUzxcoleKxdYOJ+rebwQAXDLKhLNtdukxz7y+H+trKvD4c5+ExliMi9qYqU+MXeqPIYoXl+jF2a401ZCfu71QymVoPmeBy+XFmEKdNHgK/h1nUylTJbUKHxGlPpNWgbtXTsesySNxtjVyFbxzbTYY9UpcN288tuw8gt9u/hz//vwunGqxwqgPnDiDF5hXVYwNKXX+i+fCN8SNdlfe5/f3u2JevJuSEkVj0qsjxn2OUR3yM5fohdPtlWKszeIGZLE3f45VcY+xS/0xVPESLf5VSjnWVE2DAODxui/QanZFnU0lyjQcQBFRbH7g0tEmFOdpse1vx7F6yaSQi727VkzD2w3Hw8qXG/VKuEQffnj9Zfj+dZNRmKuRqvRdO/eSmKXOg3fle1Ir5ZAJQr8r5sVKkUoaATA7RDS32GB2eqSL6YQ9nhJK9Hhxy7WTQ+L+lmsnQwDwg+umoHpROaoXlWNUgQ4aVeAxLtGLPYcu4GSLPepFrdkhovmCDWOK9Pj1um/hF2vm4NF75kkzBikZu5SyhipeosX/yfMWuD1eOLpuGmjVioj9tl6jZJ9FGSflUviIKPUY1HIU5GhgsYn488fHpFx4mSDAqFXCYhNDypcX5mpw3bzxIYvtVy+ZhHf/fgJalRy5Rk3MdR+RquXVVpZjbFH37FO8ef4pVx2qv2k2TONKOo/XB5lMwPKFE+Dz+yETBMhkAo6e6gAA7NjdDItNxJ3Lp+Gvu5sBBGLM5wMOnmiPGOun2+x4fHOUzzSe9D6iXoYqXqLFv+j1weX2Av7A6xgj9Ns1leX4vy9/hpuvmcI+izIKZ6CIqG9+YFyxDj+7/Zu47frLMCJfB61ajrHFerz218OoqSyHTBCku4+RNtN96S+HsKZqGvyAVNWvp5ATfY9qeRt/+E387PY5mDWpCGWjA5tsx0qJ6i3VNiXtb5oN07iST6NS4M8fHYPPF7j68/n9+PNHxzC22IhNXRvpukQv/mvLflw6Jk+6cNyxpxm+rovLntRKOU6et/b5maZa7FJqG6p4iRb/I/L0KMzV4qMvTmF9dQUMmsD+ZQ+unYvaynJUzS/D2w3HcbbNzj6LMg5noIiobwJw9JQFp1qsUjWyYPrercumoq3TgYIcDUbk6/DM6/uibqZ78oIZY4oM+N3W/WHloO9eOT20BHTvvXO6fmZ29LPsc4qVLu+z6togH0+JZ3OIqJxTGhKvNZXl3RuMdg3eXaIXJSMN0oVja4cTH31+CutunBFSmezuldPx4rsHQ14j4meaYrFLKW6I4sUaJf4VcsDp9uCBm2eFvI7NIWJTfa+CE+yzKMNwAEVEfTI7RBw9Y5b2fwK6i0L8cNk34HB68Ke3D+KGqy7Fv94+B502V8RUEp8PyDGosGh2CQQBqF40ES7RB5kg4NJRxvATfYTqZQMaUMTayHSY9TfNhmlcyafTKMNmVDfXN2LDrbMDd/u74kmtDKSn/mddYLAUrDQplwEPrp0Lm1NErl4FmVwWSHvtUpirwaLZpfB4/TA7PYGUVAFoM7vRZnaiIEeDkmJ9YD8dDp4oliHo6/RR4v9fb58DQQjc5AEg9dP5OZqQPitifDOOKc1xAEVEsQnAmTY7fH5/xIGLQauERinDD5ZOwdlWO5545Qt87x8mhm+8+N2pyNEr8fP/+t+Qu5gffX4Ki+eU4ny7A4bRPQZRUdb+jCnSp/WAItL6rlgbDff38ZR41uBMUw8u0YtTF6yorSzHtobj0l5lGrWAB9fORbvFCbVSgWde3yftE7W+ugIlRYENoIOfqVGvxNJ540Nmdv959UzYXB48/dq+kNneGWX58W1Kyr2jKIGsjsg3rS5aAjOssy8bhWff2A/R68Oi2aUYN8KAjT/8Jp56bS9Ery8svrmGkzIBB1BEFJPV6YFcJpPWOPUeuJy6YAMAFORo8N6uJpxts6PD4sL2T5pDN17ccRgLZo4Lu4u5vqYCv3/rS1hsYkgaXrS1P79e9630HlD0N82GaVxJZ9QpI8b+pWNyYHd6sGrxZGhUcnz42UloVGND0vVqKsuldL6eqabBz9Tq8uKXz+8KifNos70Prp2LAkMfNwpYdIQSzKRXRe37v3NFCR57+XPUVpbDD4Sk+a27cQYK87T4RddNM4B7Q1HmYBEJIorJ7PDgD299CZNeibXLp4UsUK6pLMf2T5ugkAt4busB3HxtoKRzrkEjbbxYt70Rde8HNs/1+UOv4FyiF03nLGjtcHaX2+0q2X3uoiPiXc92i0u6+Oxd9jltdKXZlBTqAxcRfbW9v4/vj673e/+RFpZIj8JqF1FTWR4W+3anCI/Xh4tmJ06et2LZ/LKwjUQ31zfi2rmXoPofylG1oAx20YuLdhGNp80QfX7A7wuL82izvW1mZ59tZdERSjSH04O7VkTu+0VvIH6L83VhaX5PvLIXXm/kWGYpfkp3nIEiopicLg/Ottnx+s4j+Mfay6VStvADbzcch8UmYmyxEUa9EifPW1C3vRG1lZMi3rGUCaFX52HrR/Qq6e551YKy6Kl6KbSmKa1xtiIuep0S9buaQmZU63c14c7l0/B//7RHeu9GFkwP7H/W0R2zLtGLfJMWz7weSMfb+sFRKe3PYhNx9/emY1SBDmfb7NLfaNXyiLFfkKPps60sOkKJZtSroJALEft+ky4wO+V0eSPGndPtSeuUa6JoOANFRDEVdi0IBoDjZ8wYW2yATBCwY09g75uaynK8sO1LLJpdCl/X+oztnzahttcd+7tWTINJrwz5WW1XqefghbtMJkgX8zt2N4fd9WcJ58TibEV8FDIBi+eUYuuHR1G3vRFbPzyKFd+ZiP/asj/kvXv6tX1YNLs05G/VSjnOt9tDHtez9PnTr+7D2uXTQ+J84rhc6ftTmKtBbeUk3LVieuAJ+5ghjLYJNS9YaaBcbi/+592vcckoE2QCAAFQymW4a8V0nGuzYU3VVJjtrohxV2hUsxQ/ZSTOQBFRTCatAv+8eibOtNnx4jtfS3fb11RNhdXuxrau9R0j8nX4n78ESjO3djixreE4/nHV5Th+xgyZIMCgVeLthuNYX1MBn98PpUKOtg471twwFSPztDDplGi+YJMuNFs7nHi74Tiq5pfhktFGFOVoUWBShS+i54L5AeNsRXzaLS407D+D9TUVcLq90KjkMNtcIbNGQOC9GzfCIN1xVyvlWLt8Gl567+uwx/Usfe4SvSFr3Dpsge9VbWU59Folnn/zy7hnCFl0hBLN7vRg9mWj8NjLn4UUNSnKVePwSSca9p/BvGmjcfsNl4XFqkmnhIlrOCkDcQBFRH3SapV46S9fh9xFf27rAVQvmojWDifUSjkuWpxo7eheo2GxiTh+2oytHwZSllo7HJg7bTQe39x9YVdbWY7RBToY1IFBT++S3a0dTmz98Ciq5pfht5u+CL94ZAraoLBEenwKczWY1yt211RNDUu9UyvlGFOgw6P3zMO5iw4cO21Gp80VUrI8+Lieqav5RnVoSqogwGIT4XB5peplQJwL8Fl0hBJMrwsvY/7M6/vxkx9cgU++PIvDJztx+GQnCnM1WL5wAiaMzUGhSR0Sd0y5pkyT9il8VqsV119/PU6dOgUAaGhowLJly7B48WI89thjSW4dUfoz20V0WJyoml+G6kXlqF5UjsJcDVyiF7mGQHrfHVWXYVyxEbWVgd8H97/RagKLjUtGmqBRK+AWfTDqAyfRYCpTcHd7oPvuee/Fyjv2NEdML2MK2uBEer+ZXhPO4/Hjky/PYn1NBe69sQL/p7YCOz5twp29Uu+CaaomrRIj83XY+uFRbPvbcaxeMinkcauXTJZSV++omgqNOjT1Kfi5yGSRN6TucwH+UBYdoaxjc4gw6pW45drJuPfGCtx/yyzULi5H8zkzbr72G1JsW2wixhUbcOlIA+OOMl5az0Dt3bsXGzduxIkTJwAATqcTGzZswJ/+9CeMGjUKa9euxQcffIAFCxYkt6FEaczqEOHx+rH1w6MhpZnrdzWhME+Df13zTbRcdOI3/7MnJL0jP0eFUYU6dFpcOHyyAz6/HzJBwIqFE/D6ziMhlfdMOqWUhjemSI9fr/sWzrTZcey0WSoBDYSnlzEFbZB6zFbYRS90SjlnKyJwukRcPbs0bAZKLvPj5msnw2IXAT9Qt70RZaOvgM/nR4fNjQ23zsam976GUiGTFuDLBAGFuWrcuvQbEAQBb3xwBCMLpsCrUYakoU4pzUFhrgZbdh6NOENodjBtlYaHVqPAsm+XSVkIweyBXKMabo8Xv1n/bbR1OjnbSVklrQdQdXV1+PnPf477778fALBv3z6UlpZi3LhxAIBly5bh3Xff5QCKaBA0GgWe/v2nYaWZ71s1Ex6PHwePX4y4Z836mgqc6LDA5/NLvw+eeJfOG48X3j4YVnmvZxreuBEGPPby5zHTy+JOQeM6qei6ZivKSvLR0mLh+xKBSqnAc12bQgPdKay/uONKaFQKfPj5KSmF6dhZS8gGuD+6cQZe/svXYal+1YsmwuX24dszRqPd4sYv//vTkI103R4fXnz3IGoqy0P21llfXYGWDid+89JnIT9j2ioNFbkghKVwb6pvxPKFE6BUKHDY0omKCfmAF4xByhppncL30EMP4YorrpD+feHCBRQVFUn/Li4uxvnz55PRNKKMcdHsijjL4/X58NzW/VH3rDnbakNhrjZsDcem+kYU5+siVt4LPubxui/g8/r6TC+LKwWta53UA0814BfP78IDT/4NR89YYHaIaG6xce8j6lOHJfJ3oMPqwnNbD+C7CyYAABbNLpUGT8HHPPnKXlxVMTbsb/NNWmz98ChsjsBjem+k+3jdFzjbZpcKqdRWluPBtXMxrlgvDZ6Cj2faKg0lsy3yTL/P78eZViuefX0/LnS4ktQ6ouRI6xmo3nw+H4Qe+8z4/f6Qf8ejoMAQ8/dmmwtKZfS3TS4XkFdk7NdrprqiDDueeGTjMQf1/g6cuuiIOMtj1ClxVcVYXDLKGPH3Y0cYoVLIIu6Lo1TI8NsfL8SoQj2+PNYa8eRsF734dsUYlI3NRbvFgXyjFqMK9ZDJQr/Tebl6jCzUo63TgYIcLS4dnQOFovve0OkL1pABmlGvxKkWa8gd/PtWzcTcaaPCnhvIrljIpmONJtI54GxXoZTw74Cqa6+bQByVjDRGjGVZr1uVIaXNhe51ToW5Glw9qwRFudqQQip17zcCAKZPLIToDKwjrJpVJg38d+xuhl30oqwkv9/HmymfeaYcB5D8Y+n9HTjZZo+6r59bDGyke9HiQq5Bg3azA/mmyH11MiT7vYxXurQTSJ+2DnU7M2oANXLkSLS0tEj/bmlpQXFxcb+eo63NGrKovTe1TgVR9ET9vdfrD6TBZIiiImNGHU88suGYY3Usvb8Deo0CtZXl0kxScBG8xS5i64dHYdQrw35fW1mO9k4H/vzRMSydN14qdQ4ETrzFORqoBD/a2qzQqRURT846pRxtbVaoBGCkSQPAj7Z2a2gqnk6Bg02xq/Cda7WFPPfVs0rCZsUee/kzjMwLr2w25LGQQqmF2RD3Qf2JfwDQaRVYu3wanu3a9ylYnlytkkGtlGNUgR6P3jMPEISIsXzJqJyQ0uZ3rZiGtxuOhzzGqFfiunnjsbm+Meom0jqlHDK5DEvnjQ/7vhnUin5/fpnymWfKcQDDdyz9+Q7oNArccu1k/Omd0DVQBTka/PnjY9LNhH977u842zXYSoW00nSJi3RpJ5A+bY2nnYMdYGXUAGrGjBk4fvw4mpqaMHbsWLz11ltYuXJlsptFlNby9EoU52tDFsFfOtqIB7vWRbk6vNjWcBzLF05A6UgjBEHA2TYrzDYRi+eUSrnym+oPRdyTJtK+NetunAGrQwQEoXtQEaFk+YZbZ0dM/+tZ5jlsnZQQvbLZsBaeYAn2tCGKPtTvOhGyD9RbHx3FjYsm4a4V0zAyTw34AavTg7tXTg9ZA7V6ySS89tdGVM0PzBhdMtKITqsL354xBodPdkobRrtFn7TWKfiznmuf7loxDTK5DD6fL2Ja7OUTC5P8LlGmUqplKB1pRE1lOXL0amjUclxot+Pl9w5hwcxxWDxHg/955ytcVTEWde83xldunyjNZdQASq1W45FHHsG9994Ll8uFBQsW4Jprrkl2s4jSmw8w6pSYVJoLhVwGu8sDH4DaxeXY9rfAzFJrhxOb6g/hvlWX46lXuy8eb7/hMhj1SkwYm4NfrJkTuUqTH5hSmoMH185Fm9kJo06FF9/5CgebOroHFaU5aDO7cfKCBVULyrBjdzNaO5w4eKK9z8FQ7wGaVi1Pib2PopVg50VH6mnpcMATvCPvBwQB8Pj8cItejB9lRPMFGwRBwDOv74Po9WH5wgkYka/DRYsTSoUMFy0u1L3fCLVSjqr5Zdj64VFsuHU21Eo5WjucqN/VhB8s/UbETaRLRhpx6oIV//OXr2GxiVhfU5EaNwAoa7S0OaBWyjAiXwenywtBABr2n8HZNjtKRhqwZecRHD7ZiWkTuzN+GJOU6TJiALVjxw7pv+fOnYs333wzia0hyjx6rQoHjraHlbHtWZJcrZSjrdMZMiB4/s0vsXzhhMCmitE2URQQloZXU1mOls7AwOzFdw9i9ZLJeKJroX3w9283HIfPj74HQz1KdVudImwOT1jKYe9ZseHAEuzpY1ShDkvmXBJSxvyOqqnIMSjxwJMNYXEZnG2tml8WSMnrGjQFf+8SvRA9vpDNbnun/wU3kQ7O3gadPG9NiRsAlD1GF+tw6EQnnn29O4V1TdVUKGRNkAkyHD7ZGbI5NMCYpMyX1lX4iGh4yAVELGNrtom4elaJNKDqvWTYJXoxboQh5saskWZiNtc34upZJQCAqyrGSoOn3r//6PNTWHfjjL43gu0q1W3QKPF/X/4c27ru7lcvKsfyhRMwrlg/7GlzwdTCnnjRkZrcog+/61XG/HdbD0D0IGrc9iwQMbJAh6r5ZdKeZmqlXLqpENzsNlJFydtvuAzbP20Kacv2T5tw98rpfcc8UYKYLR5p8AR0l/Fffc03IJd1byL90RenADAmKTtkxAwUEQ2tDkv0MrYjui4OtzUcx6LZJVIlMQiATBAwrij24CTaTExwNCaTRV6zJJMBN18zBVNKc0Lu5MtkApov2CIWZQi+lqvDK1U2A4DJpbkwqBPUHcZTGEIA4PdjfU0FTp63YvunTYH0rCTMhFHfes6sBrlELzptrrCfBeM2eEderZQjx6AOKUARtsYPgZjJN6nwb3deiQ6LC0adCqcuWGCxhZYnt9hEXDrKGBLzjBkaSu3myPFvsbugUSnw4Nq5KMhRYfzIWYxJyhocQBFRn6JtWCsTBJxvs0vrOyaOy4NaKQ9JjxtXbMC4Yj3aza6IA4pozx28+JxySX7E38+aVIwCowrwBWaXTDpln0UZ4t54d6DiKQwR4TF3r5yOS0cZYdBwg99UVJCjiRg3OXp1yON6xm1NZTnqdzVhTdVUvNNwDFXzyyCTAdPKCvHEK19I1cp6bppbOac0pHDEuhtn4P/UVuC3m0LjKRgnUdNiiRIoWvwbdWpcNDvwuzf2B25mleQwJilrMIWPiPokE4DVSyaHpA3VVpZjdKEOO/Y0S2Wdz7VZwyqEPV73BRoOnJc2sT3Y3BmycW2k1KV1N87A9An5ePSeeRhXpIu4WW6BURVyko5WlKHnBqNxbbw7CPG0IdJjnn5tX6BsMC86UpJSIcMdVVND4uaOqqmQCf6wlLv8HBU23DobI/K1+NGNFdjxaRN2f92CrR8exZgigzR4AkI3zb2qYqw0eAr+7olX9mJ0vg6P3jMPv1gzB4/eMy8wGAe4ETQNG5NBgbUrpoXE+pqqqXjp3a9wptWOqyrGcjNnyjqcgSKiPrWbXfjzx0dRvWgicg0aqYytTBBw9RUlKB1pxFsfHcWib14SNdUv+N9hleZ6FHmImP7h6+P3XeIqytDXaw1SPG1g8Yj0097pxF96lTF/44MjWPbtS3Hfqsvh8/vh9wNvfBCoRhb04Norsfa706RYszpEafAU5PP7wzbUDQrGRXCdVBDL39Nwar3oggz+sPiXKu8J7MMo+3AARUR9yjWqYbGJ+NM7X0s/UyvlqF40EXXbG1GYq8HSeePR0uGImo4XFPFE25WOFDX9I9bvu9YceXx+1FZOwvZPm0I27c3Vq2B2hK5JivlagxBPiuCQpxFSwuk0SjSfs+LXL+6RfqZWyqFSKvDYy5+FVOG7aHFJhSIMmkCcmfRKtJndsDg8uP+WK7Bl52FpoCXrqr4XfM6+4oLl72m4uUQv2i0ubK4/EBafMkGAz+dnHzYIPp8/7BzFmyGpjyl8RNSnSCl8q5dMhkIe6EIsNhFjiwyYN3UE7loRWiGstrIcO/Y0S881FGuOHniqAQ/+/hNs2XkES+eNR2GuRroz39LhxANPNURNIUykeFIEhzqNkBLPqFOGxf8dVVPxwrYvI1bhC/lMZcDeo+3Y+Ozf8eifduO3mz7HkjmXYOK4HKiVcpSNNmF9dQU++vwUairL+4yLWDOYREOhKEcLvUaJNb3SWGsryzGqQIuPvjjFPmygBODv+88O2zmKEkfw+/0c5/bQ1mYNrEWIQq1T4ZfP/W/U32/44Rx4XJmTB1xUZERLiyXZzRhW2XDMRUXGqL+L9B04027H+Q4HtColHC4PtBoFHC4RhTka+P0ISYWzur1o2H8OPr8faqUMWrUCL2w7OCTpRmaHiAeeagi7K/qz2+fAoJZDrpDhb/vOQa2SoThPh7OtNni8fsybOiKuqnsDioVgFb5YKYL9ecww3ZXMhrgP6m/8QwYcbO7AyfM2qFUyjMjTww8/zrfb8HbDCWnGEwB+8v0rMDJPK32mbVY3Nj7797AY/fmaK6FTyaSLTrNdhNUpQq1UwOYUu+MCoXEgkwn4l//8OHLMaxT9ipNM+cwz5TiA4TuWfn0Hum4CvPe/J3D9VWVwub0oztPiwkU7THo1vD4/RhfqoFfJh7XP6ks6xEW0c1iqziinw3sKxNfOWN+BeDCFj4j6pNUoYbZ24r+6UjiCdx8vGWlCXvCuowC0WdxoNTsxrawAL77zFQ42dWBUgQ4bbp3dtV9I4OLQ7PAk5OQa7W68x+OFKU+Dfccv4oPPTqJyTmnIJqgjC3SYPj5vaE7ufaUjxvOYeKr50bAx20Q8vnkvjHolrps3Hr/d/Ln0uaxeMgl//viYlLY3Mk8b+Fz9AATA4fagakEZAGDH7ma0dgRKQpttLozMMUmfZ894KDB0z9BGioP1NTPw+ObujaWDs2HN56yME0o4s01E3fbGsH50TdVUyGQCnn/zAGoXT4JOpcBvXvosep81zDeFkvaa/cA1semLAygi6pPD7cV7u5pQNb9MSi14b1cTJpbkBQZQXXcon+mxU/2dy6ehplIduJOuV+JgUycer/s0oQOCWOuJzHYRT7+2D1Xzy8Kqmz392r6UvcMHcJ1LqumwBS5yqmaVob7X9+Ddv5/AtXMvQd32w6H7eEUYBNdUluPthuOw2EQUmDR9vm60OKipLO9ugx947a+HcVXFWBw+2ck4oYTrsLmxeE4pXKIv5GbAc1sP4PvXTcZVFWPx1Kv7sHzhhOh9VhJuCvl8/pS/EcU1semLa6ASTC4XoFArY/5PpeGJjdKL1+tF5ZxSbP3wKOq2N2LrB0dROacUXm+g028zu6XBExA4ef7Xlv2wOwP/Ntv6Lu89ED3XExXmalBbOQnrayoAQYDVIfZZ3SxVcZ1LatFrlFAr5dBq5BG/B+NH5+DX676FMYU6NF8IlBa3Oj1hMb+5vhGLZpfirhXTUGDq+wIpWhw43YGNoOu2N6Lu/cZAZT+h+/eME0oko04Fg06JLTuPSHF/3bzxMOqV0KiUUh/r67UipGcsxrPFQ6KdbbUN+2v2l0mrwH2rZnJNbBriDFSC+Xx+PPz7XTEfs+GHc4apNUSJoVMrw2ZxNtc34t/uvBJWlwctnY6IF3qit+sE6g/8uzBXg6tnlUgXe1anOLg75V1lyX+97ls4dtaCp1/bF7IJ6agCHYD4qpv122BSQ/r4W96VTC0utwd3r5iKvBwtHv79p2Hfg5+vmYOTF2whd7rv+d50GPVKuDq6P0OX6MWlY0wYVaBD83lbn3ETawPrnnpWumScUKK5RC+e2xpeMGX5wgkoyNXAbHNFjctgLCYjVa3dHPm8lFLpcX5g7rRRGJk3NFtr0NDhAIqIYhOANrMz4onoy2NtkAkC/PBH2alehYIcDbxeP0YV6FA5p1QaiKmVcowrNmB0vm5wJwt/4MZFcPAUbNsTr+zFhltn45nX96GmsjzkdUNSrQZiMOkocfxtcGat92N4Yk2Ognw1WjqdOHKyI+L3wBZhtumpVwNx98e3D0qPVSvlOHbajNMXrNjWlcoXNW6EQPXLu1dOD7kxsL66AiqFTPq+Bdcjbms4zjihIeF0eyLG/cgCHTyiDzKZDP+8eiYAhMRlz1hMxk2hfJM2LW5EyWTCkG2tQUOHAygiislsF+HzR57Fcbl92PrhUdRWluP2Gy7D829+GbLe43dv7MePV81Eh8WFHyy9TNozB+ge5MS9XiPGrE20u5sOlwc/XjUTHp8XD66dG1rdbBAnqcGsUYrrb4d4w1/qnw6zB8+8vh9VC8oifg80KnnE+BtdZAi5oOy5Bqpqfhnq3m+MHDc9BtlGvRLLF07AuBEGjCnQSak9PWNDJhMwfrSJcUJDQtuVwhoe9wqcOGfGK+8fxoN3zUWBQRW1z0rGTaFRhXreiKIhwwEUEcXUYXXjfLsNq5dMwkt/ORRWfcwleuFwB9Ya9VzY/nbDcbR2ONFqduL/e/lz3PgPEyNeZF7odAKCAJkAmG1uqFVdZZwNPQZJEWZt1t04A3lGFdRKBVQqecQT/LHTZjz28ufSXX6putkQVf+LJzUk7r+Np5ofDYv2rhnYHbubI85mKnvMCAWplXIYtEr87PY52HekVfpOAIHvSckIA/7l5lk422qDzeUNuajrOcg2Qgmfz4+T5y0oztUGHtAzNrpuLAS+J9w8hhLPanOHxX1NZTk8Xi9GF+ph1CvR0uGAUh4oyx+xz+p1U0ivUcLl9iSsImskMpnAG1E0ZDiAIqKYco1qyM4LUClkWL5wAnx+P2SCAKUiUIMmuP7C4fJi64dHwy4ic/RquEQv3B5fxItMuUyGZ7fsw5XTxkCpECLuGRVp1uaJV/aian4Ztn54FD9YOgWrl0zGS3/5Ouxu/1BUsBtMOgrXN6Wf4MbMrR1OvN1wHFXzyyCTATMmFsFqc0OpkKG2shybelxg1laWQ6uSQy4TsPWDo9IawOvmjUf9rqawdNaeqXzBQXbw8cHHbdl5NDTlj+XuaRgY9arQ6pN+oH5XE66qGCtlIJxvs+O3m76IHX9+wKRT4nSrHf/xwu7hiVneiKIhwip8RBSTSavA+NEm/GHbQWyqP4S67Y3YVH8IL2w7iEWzS1FbWY4de5rx0eencEevnervWjENRr0CaqUcO3Y3464V00J+X1NZjue27sf1V5Xhpb98DbNNjFgxKdqsTbD60wvbDsLn82H5wgl44PtXoGp+mTQDFnxsIiuT9az+FzyWeCsnDeZvKTnkssAAKTiI2vrhUaiVcijkQve+Nyo5li+cgOpF5Vi+cALUKjmsDnfI5331rBJsrm/EVRVjw4qy9KwOFhxkBx8f7XHJqGxG2UehkKF60aTu6pMfBqpP7tjTDJfoxab6Rvj8/rjijzFLmYIzUEQUmx9wi96IA5jSUQYIkOHW674Bo16Fk+ct+Nfb56DT6oIfQL5JBb1Kjg23zsbBE+0ozNGgetFEuERfSJqf0+2NWQY32qxN8G5iMI2wbnsjHrprXsSZsITO8AxmjRLXN6WdCxft2NY18xS8A7+t4ThG5OvgEr2w2kXsbbyA6751Kcw2N0x6Fd7+2zGMHzMRZrsIvVaBB9fORafNFTLw76lnGmdw0HXygiXm47gJJw2Htk4n4PcFtojocuGiHVdfUdJjc2gfgL7jjzFLmYIDKCKKTQAU8vA1RqMKdHC6fKjbfhCVc0rxn6/slVIy1lRNxY5Pm3D3iuldG+h2pxjVVpZLJ12gexF+rDK4Jq0C/7x6Jo6eMUsphCa9Eq/vPCI9Dl2FLoyJWKzcta7k3JEW6NSKyDn6g0kNYVpJWinI0UAp75GwIQBKuQy5Jk3XHmRazJk6Gg//oXuj6LtWTIPZ6sIvXvpc+tmP4iitb3YEZlzHjTCgOE+LLTvDbwbkG9UwO0R4fH7UVk7C9k+bQr5PTAelRCrK1aLZ6cGHn53Eknnj0dh0ET4/8NHnp6SU1HjL6DOFmTIFB1BEFJPZLuLZLeGlwNfcMBW/enEPquaXhaUZPbf1AH52+xy4PL6wdI1NXfuHbKo/JA223vroKFYvmQylQohcBheA2+PDlp1HehSxmAygOxWwflcT1ldXwKBRDG6Gh+tKqBdBELDyOxPxu60HpJi4o2oqBJkfNZXlcLm9eHZL6EbSz7y+H8sXTgj52ZNdpfVPnDWHVa1cX12Blg5nd0qgUo5/Xj0z7GbAP6+eGbbnVLCMebAsOmc0KZHcoheb6w+helE5Hu2xdinY7965fBpOnDWjtnISxo8yxow/btFAmYIDKCKKqcPqxtk2u7R4HgKgVcnh8vhipiO1dTpwttUW8XfjR5vwj7WXI8+oxrk2K267YSrUChnMdndouXG9EmabCKvLGzYQe+kvX+Nnt8+BWiGDS/Rg5sRZvcrmDmyGZzAlysMMZrNdShlOl1caPAGBmPjd1gP4f374TXz65VmMKtBHjPNIKalWh4iX/nIorDy5TCbgX574W8hr/Oalz/Cb9d/Gg2vnos3sRIFJA6VCwANPNoTdlPjZ7XNgUMt5IUoJ12524qqKsXjm9dCbBJvrG1E1vwx2pwcvbDsobSAdE1OYKUNwAEVEMQVTLlo7nKh7vxGFuRosnTcezecsIYUQwko4a5RQKSOXdz5+xgyfz4//b9PnAIBfrJmDgkI9DOpAl1RgUAVmgrrS/6oWlEW8QPV4vBidqwGQmPLkQAJz9DmTlTHcnshrAF2iF4uvvESq0tc7ziOlpJ48bw38bYdXmoV99J55aDe7wl7DqFfi6Glz6Ea6NRVRvwumXA1jixIu36RB87nI6/FkMkgVWV1iYAPpPm82MYWZMkBGVuG75ZZbsHTpUlRVVaGqqgp79+5NdpOI0pZJq8C6rrUb1f9QjtWLJ8Ml+rDn63OoqSzHR5+fQk1XhTKgR3W9Nw9Aq1JErLy3/dOmwGJ8RM9/7z0TFHyOILVSDo068feAggPG3q/V3xx9VpvKHHqtMmJMGLRKPPP6fmhU8rA4v3vldJSNNoX87J7vTQ/Efg+9C6X0tGh2qTR4Cj725HlrQuKTKF4KuYApl+RHjLvykjy0dTiknyW64ilRqsq4GSi/348TJ07gr3/9KxSKjDs8ouHnB0YVanHn8mk41HQR59rt+OjzU6icU4q/7z+DqyrGQhCAn90+B60XHWgzO6QNQxUKOeq2N0r75owfnYNXdzTCYhOhVclRWzkJ40YYIJPLpMXzwVQ3q0PsThlUy8M28q2pLIfNIQJGdeR2R0uf6yOtLmaOPuJMyRMAq8uLqgVlANCjUpUX5y46AEFgOl8acbk8uHP5VPzXlu41UHcunwq3x4P1NRVoPm9F6SijlGqXa1RDJvhx0ewO2TtNoZBh5XcmwOkKpL4W5+lwrs0GvUYJky68UErZGFPYXf/tnzbh7pXTQ2eluIaEhlCHxQUAWFM1Fc/1WAd414rpsNldUCkVqF5UDiBQWIKDecoGGTfCOHbsGADgtttuQ0dHB6qrq3HzzTcnuVVEaUwGnLpgD7lgCy4evqpiLOreb4RaKZc2ta2pDJxIF80ulU62de83AuiegVr5HT2cbi+efm0fjHolls4bH7IJ6frqCijkglSOXK2U4wdLp6Cmshw5ejXOt9tRv6sJP141M3Kbo6XPleaEVQUMS6vrkaNvF73QKeXS4CmulLwIrx3c1NdiE3HstBmPvfw50/nSiF6nxNlWW8hgyO32QqNS4OHfdy+qv7d6BgQI+Pl//a/0feid1rd84QRo1QooFQIe3xxaHKJ3oZTgzO/ZNrv0HBabiEtHGbmGhIZNfo4Gextb8V7XZroyGXDJqBzYnG4olSqcbjWjbnujVFylw+pmTFLGy7gUPrPZjLlz5+LJJ5/EH/7wB2zatAl/+9vfkt0sorTVZnaHpREFNwOF0D0oCm6quLm+Ecu+fSkml+ahakEZqheVozBXI/3tyHwdBEGQnvPqWSXS4Cn4mMfrvsDxs5aQn72w7SBGFxrwcv3X2PrhUVQvKkeBKfKdzmjpc21md3xpdV05+tPKigJ5+v74U/IiPW5zfSMWzS4NeZ+Yzpc+HC5v2EbSf9h2EB6vHyUjDQACn/OpHtXxohVX8fn9ETeNPnrGHBY3T7yyF3etmB626bJBo4BJq0RJoV6KT6KhYnV4sKm+EWfb7Kh7vxGb6hvx2MufoThPB6VCkNJSg8VVvm7uYN9GGS/jZqAuv/xyXH755dK/v/e97+GDDz7At771rbj+vqDAEPP3ZpsLSmXst62v38vlAvKKjHG1JxUUpVFbEyUbjzmo93fg8NkzURcPl5fkAfPLpA1xgcDCd6NOhf94oXtPnJ4zMAqFDJYeF4+xLjR7/8zp8uC2ZZehMEcLmQxwewWMKtRDJgtdrH/uSAuMeiWqZpVJa6127G7GRWv4Qn2X6IVd9KKsJD/i+xGMhXNHWuL622iPK8rV4uX6r6X3qa/XTYZsjvugSOeAxjPmiJ/p/iOtuG7epbA73Oi0i1CrZGEzTr3/DX/k+Pb5/RFfQ6GQ4bc/Xoh2iwP5Rm3EeB+MTPnMM+U4gOQfS+/vQLT477S6kdvrJlYwtlOlb0v2exmvdGknkD5tHep2ZtwAavfu3RBFEXPnzgUQWBPVn7VQbW1W+HzRb+epdSqIoifmc/T1e6/Xj5YWS9xtSqaiImPatDVRsuGYY3Usvb8DuQZVxAvBSaV5aD5nCUtTWjS7NGxPnM1dez+plTKYDCoo5aHV+eKtYHau3Y6pZQX42bN/D0lzuuySXMDX/ViDNjwtsLayHAWmyNXSdEp5xM+8Zyzo1Iq4/jba41o6HNLgqa/XTYZsiPug/sQ/AOSZIm/+6fMBz7y+T0rXW1M1VUq527G7OWzvtOCNhEjxLROEiK+hV8mhEvwYadIA8KOtzZqYNwGZ85lnynEAw3cs/fkORIv/UxesyDcV4Lp546WbaMHYToW+LV3iIl3aCaRPW+Np52AHWBmXwmexWPCrX/0KLpcLVqsVW7ZsQWVlZbKbRZS2fD4f7vzu1JA0otrKcrSbnRiZr8XN104O+d3Y4sh74hTlarGt4Ti+ONSCJ1/bi9quyn07djdL/x18jtVLJiPPqAr52Zqqqbh0jBH/885XIYOzl/7yNc62O9HcaoPZ6QEEwOf1haUFbqpvhFwGrK+uCEuJCq5xiiVYXKKvv432uN4V2eJ9XUo+vV6BtRGqSQbTMYOzqM9tPYA7vjtNKvtfv6sJG26djX+5eRaWL5wgzcKuXjIZJr0y5PnKRptw98rQdL27VkyDSR9njAiA2SGiuaX7e0CUCFpN9GqqLR0ObK5vxNWzSqRzQ9loE/s2yngZNwP1ne98B3v37sV3v/td+Hw+rF69OiSlj4j6R6tWwg+/tIAefmBb14Xg/bfMwoefn5Kq5cEPmPSRZ6zOt9thsYnw+YDWDie2NRzH8oUTUJSrhdXhxsYffhNWhwi/34//futL5BnV+PHqmTh+phM+H/D6Xw+jdvEktHR2z+IU5mpQOacU//78LrhEL0YV6HDXiulwuDyR93KyujGlNCdkY9ICkypk9iqqeDeAjPY4gAv/05TF6sEr2xuxvqYCJ89b4PMh5I578HN0iV5Y7G5pof2sScVQK2V4+2/HcN23LsWYYj3yjBqIHi9kAvCLO65Ep9WFApMGGrUcD//h05DvUt32RowfOavv/ce45xgNIbNVhNnmDjkHBG8GBPv6S8ea8LPb58CkVcCgYYVRynwZN4ACgH/8x3/EP/7jPya7GUQZwaRVwKRX44lX9oX9zu7yYOV3ynHqggVyuQC/H7A7Pbj/lll4busBnG2zh1TtC6YwAYFB1Kb6Q6heVC5VcAqeoC02EVfPKsEf3vpSKlZx1eVjsem9Q7hu3nipDHTpSKNUySw4mHr4D5+iakFZxEFcrl7VdxW+WOLZADJGmXRuHpmezDY3RK8P59psGJGvx/n2QFW8nml5wX/nGtQ43WLD9k+bMbk0DzYHsOurC9j11QUU5mpw3bzxqN/VhMo5pSHpfXevnA7R65MqVgbFs4FztAInfW5oShQHu1PEx3tPY+V3ynHibCd8AJRyGe5eOR1GvQK1lZNQlKNFno59G2WPjBxAEVFimfQq1FZOglolQ3GeDmdbbfB4/RiRr8Ph5osoHWmEzekJKXV++w2XweESUTLShAvtNtx87RS8+M7BsHVAPe/e+/x+ae2IXIawi8yaynKMLTLg/33pM7hEL2ory6WLxqtnlUiPjbT+ZH11BWQyYWgvNDkTkJFyjSos+3YZXvrL19LnunbFNIwtNuD3bx6QZqLuqJqKF989iOZzVtRWliPfqIbPD4wq0OGqirEYka9DS4cDi+eUhqWYPv3aPvyfmgqcOGeR9g2Ld4PcDqs78oxrHIMvor7kGFX49oyxeOzlz6T4v+d70zF2hB7HTlmwt/E8RhXqkHdJHvs5yhoZtwaKiBLL6vTgbKsNH3x2En4/8PjmL/Diu19jy84jOHXBirc+Po7DJzvDSp0//+aXsDm8eOSF3TDo1PD7/FjxnYkR15EE/y0TBLR2OPF2w3FMGJsnDYCCz7m5vhEeb3e1Mp8f0vP1rOYXfI6q+WX4yfevwKP3zMOUkhy0myNX4euwuRPyXsVb6pzSi9fjlwZPQOBzffb1/fjs6xZ854oS/GDpFFTNL8Nrfz2My8tHSGvufD4/TLrAJqNbPzyK/3zlC2zZeQR6rRLGXmubXKIXJ85ZsPWDo7hu3niMKtDFvU4u16ju/h50iXfwRdSXSPH/1Kv70GkRsePTJlx/VRmeenUf+znKKhxAEVFMZocHz7y+H4vnlMIt+qS9nYx6JZ59fb+UYhdpYBL8edM5C5ovWLF5+yFUzS/DzddMxn2rZqJ+V5N0p319TXehhdYOJ1o6HBGf80xrdxWy4ExTz0FZUGuHE1s/PIqReVppr5yhvtCMNRNA6cvqECN+rj6/H8+/+SUczsBm0Wfb7FLxhuDnbraJeOb1/WE3F267/rKQPdJ6ljjfXN+IH6+aGffMZbwFTogGIlr8NzZfxPVXlcHp9ob3cyxqQhmOKXxEFJPT5YFRr4Req8R7u47gqoqxkMmANVXT8NqORunEGGnNkVopC+TH52qh1ynw0ecyaY3HxHE5uOXab8Dr80GllEOvVcDj8eHBtXPhEj1QKuRQK+Uw6pW4elYJIARKPSsV3fd9gpXOgn8zrtiAJ17ZG5I+17NYg0mnwIZbZ+PgiXb4/MBHn5/C6iWTYXWIgCCErFcaiOAALdLaK0pfOo0Sc75RjOu+dSnMNjdMBhXe/vgY1MrAvk8jCnSoXlSOjz4/JcVP8HOPNqgOzjYF1wdWzimV1lK5RC9sThEFhihxE2GdXVwFTogGIFr8KxUy+P1+mHTK0H6OqcyUBTiASgK5XADU0e8MygTA7eRUOKWGHIMKi2aXYsvOI2FrktZUTYXV7sa2huNha45WL5kElUKGP2w/GLJQ/i9/P46WTifmTRuN327+PGSfpmB1v/XVFZhyiQ7ra2bgQrsjZD+nu1dOl/baUSvluPmaKSgwqgC/CqPzddEvIgWEFZC4+3vT8fbfjuFgU0dCTvLBmYDeFw68mE1vBp0Cc6aOxsN/6N4ceu3yaVApA3s3dVic2PrBUdxRNRV/2XVCKsUvkwlRB9U9Z5v+T83l+O+3DkjrA2MOumNcnLJICQ2FaPGvUQmQywMVVv959Uypn2NRE8oGHEAlgc/nx8O/3xX19xt+OGcYW0MUm8vlwciuRfC91yQ9t/UAairLpZmg+2+5Am6PFwUmDdxeL3753CdhC+U33DobMpmAB/879Heb6htRNb8Mde83SifbMYV6PL55b9hzPLh2LjptbmjUishpSn4AggCr04N2swu5RjXg94ed1J9+NbAJ6sGmjsSc5OMpdR6jSh+lJrvTG7Y59LNb9uNfb5+D2spy6We/23qgq/S+GRqVDGa7G6PzdWGD6prKcnx1rBX/cvMsOF1e5BhUKMrRdKezVlfApFfCbAuPkwFfnEaKO6I4RIv/n6+5EsfPdOBP73yNX6/7lhRfyq7MAVdH902DQRU1YZ9JKYg9KBHFZNCp0HTeCpks8jqnPKMG66srcK7Njue27seyqy6FSiGH2Ra5YEOn1QWfP/qaqeB/n73ogFIui/i4Cx0OqXy5dAe+NCdshilkVqumIuZrBv896MplsUqdM7UlLV00O6PsK+bCtobjuPqKEulnXp8Pm+oPQa2U45F130KbxQ2NWo5f3HElLA43jp0y46tjrZgzdXRIDN+1Yhq+v1QLrVIBk14Ztdz+gCruRYm7gnzDkLxflFmixf9FixOdNhFGvRLHzlpCqrAG+964ZlVjYZ9JKYpFJIgoJoVSQOlIA8aPzolYgEGrVuCl976WFtG/sO0gDp/skFLsej9epVSgIEcT8Xc9148cP23GkVOdER93vt0edge+zewOuzO/qb4RV88qgUv04uR5a8zXDP57KNcrsUpfeooWr0adEhabGBK3Ok1gEFMy0oDjZ8zY+Ozf8cv//gS/+N3/wmx1ozhPg6uvKMVzWw+ExMEzr++HQiaHSRuYeYoWJwMphBIt7s622hLy/lBmix7/Khh1SiyaXRpWhXVTfSMWzS6VHjvQoibsMylVcQBFRDGZrR54/X74fF7c8d2pIZW+7vnedLR12nH1FSVSRbFgdbIdu5tx14ppYWXLX9j2JQS/P6x6Xm1XSfPg3XitRg61SobVSyaHPU6jkkvVy4DASbWt113SwlwNquaXYUR+YIH/nq/P4e6V00Oe664V0/DRF6ekf0sn+a4KUvuPtCS0ghSr9KUntTqw5qNn7KxdPg3bPj6GNVVTodXIUVs5CbcunQKFPBAsyxdMxLO9qu/97o0DMOhU8MMfMQ7azIG79R1WN4x6Jar/oRw3XzMZ9988C7WLy2FzeWHS9b/iXrS4a7c4EvMGUWYT/BHjX4APl4w0YkyxPmJ8TRibg1+smSNtIzGQGSP2mZSqmMJHRDGJHg98fgF/fPtrLLvqUixfOAE+v1+qiPfWx8el2aZgRTGtSo6rZ5VAp1agan5ZYADiB97uSukwOzz49Muz2HjbHHRanbhwMXAht2h2CSaOy8Or7x+SCjv8YOkU/Hj1TBw93Qn4gYb9ZzBr8kisqpyM8xft2LG7GRabKN0ldYleFOZqcN288SFFLWory1E2xhS6PkmvxPiRs0LXK2HoUkZYpS892R0iVEoBG26dDbPdDZNOBY/Xg+9+ZyIe3/S5FP93rZiGDktgHZPPH3mQJHp8MHRVLesdBwWmwE2B/BwNVi6cgE6bCLfHh+bzVpj0Sjzxyhe4+ZopmFLav4p70eIu36gF86CoL6Lox5hiHf51zRxcNDth1Knw9t+O4RuXFqFsnAmFuVrUVpbD50fIJtCFJvWgi5qwz6RUxQEUEcWkVinw5bE2XFUxFi9sOxh2IgsWfghWFPuXm2bhdKsVWz88iqoFZdj64dGwvznXZsP3/mESDp+8iNKRRky7tAA2lwilQo4n6r4I7KeDwAXnC9sOYn1NBeq2N0YdGI0tMkCtkKG2slxK2+td8GJTfSMun1gYuj7JF75eyewYugpSrNKXnrw+4D/r9oXF8QPfvyIkVp95fT823vZNLF84ATkGVcQLP41KgU1/+RprqqZKaXzBwVeBSQX4APj9cLq92LLzSEicL55TGhKL8V6cRou7UYV6tLVZY/8xZT2NSg6Hy4uHfv9JSDx/cbgNG26djQMnWrGpvjHkJtriOaWQyQY/dc8+k1IVB1ApqK8y5wBLndPwsTk9GFNsxIkznTGLMBTmanD1rBK4vT4AQPWiifD7gftWz8QLb30p3aW/e+V0OFwiOizOkIHQLddOxsgCvXRB2vM1zrUF1mpEGhi9t6sJP141E2fa7NjWcFxK2+v3QvsuHbYBLNKPVzxV+ijlOF2eiDFhsbsj/qxkhAE7Pm0KGyTdvXI6ntu6H2fb7PD4/IHCJm4vRhXqMSJXHRg8IbB59aYINwCChVD6HYtR4i7iBS4rnlEvdpcIl9sX8Ttgd3ng8/ulf2/uitPfv/UlSkYa4TOqBxdL7DMpRXEAlYL6KnMOsNQ5DR+tSo7n3tiPH1x/WdT9bHrODBn1SiydNx512w9LF46333AZdBoFms9ZcdHihMvtw5adB0MuEP/0ztfY8MPZEV+jbExu4LWE0Op9hbkaVM4pxcZn/46qBWWw2ETUvd+I6kXlA0770Gsip1fpNQnavyRWlT5KSdHSiEy60HgKLqx/8L8/6SpV3oINt86G1SEi16CG0+2RbhAcPtmJX7+4BwCw8YffBExq6XmiDdicLu/A05fiiTtWPKMItGolAE/070CP2HCJXjSds8BiEyF6/HjgqYbBxxL7TEpBLCJBRDHZXYGLvtd2NOKOqtAiEsEiDD1nhq6eVRJ29/z5N7+EIAjY+uFROJzeqOtDjp/pxJ29ClXcvXI6CvPU+NntczC9rCCkGlTP192xu1kqTLFjdzNqexWpiLcKlMvtCStwUVNZDpfoGfybSWnJ5/eHxVNtZTk0GkXYz+RyAVXzyyCXAfOmj4bN4YHT5UWnzQ2FQohYzawwRw2zQ0Rziw1mpweFUaqeddpcA65mFg9WPKNInC4PTpwxR/wO+OHHjj3N0mPVSjkuGWnCuuoZONtmhVEfiFXGEmUazkARUUzBBe8AkGfS4P/UVMDhDuznZNQrcduyqXB7vN0Dol6zREB3Gl5NZTne7to3J9LdzJH5ejhdYkihCpVChof++1OIXh+WfftS3LViGp7pqm7Wc2+q1g4n3u5K4bt0jAmjC3S4fGJhv9M+DDoV6nc1hRS/qN/VhJkTZyXk/aT0c7HTJaWHBmNiW8NxjCzUY/nCCSjK1eJ8eyCFtDhfh60fHsWtS6eg0yrid73WOd236nI89vLnIXflWy468ZuXPoNRHygJXTbGhHU3zsATr+wNSf8bV2xAnkEppfol2oD2mKKM53R7YXN6sGN3c9h34M7iaYFS/uiuzvend74KKSwULB7EWOqlK1323JEW6NQKpsumGQ6giCgmmSBg3Y3T4XT78Ks/7ZYu6FYvmYSWdgf+sO0gqhaUhQyIIg2Oxo0w4r/e2I/WDqc0Q7SpxxqoQInzr7B4Tim2f9oUsgFj9aKJEAQBL/3lEIx6JZYvnIBxIwwoztViy86jIYOorR8exaP3zINBHeje4k776DqZWR0iVi+ZHHLxykXL2S0vRy2lhwaplXLkGdV49I+7Ub0oUIJ/0exSCIKAqgVlGFNsDFl0HywyUVNZjge+fwVkApCrV0EmE/AvT/wNRr0ypEDKqAIdfrx6ZiDtr9WOF989GNgQOloaVALWLrHiGUWSZ1JDJggRvwMmvQo/vXU2rHYRMkGQBk9A95qoYKEhxlIPTJdNexxAEVFMTrcXFrsIs01E1YIyAIFStS/95RCWL5wQkj63ub4x4uCotrIceq1SulNpsYnIN6mx8bZv4stjbfD5ukucb+pxwgUCJ+Fcgwb/9UZg1snV4cWm+kNQK+X49bpvJaZCU6+T2agCHTbcOhsKhQx6lTyxgycu0k87cpmAdd+bjtOtdmlmdEyhDnK5gNrKSRiRr8MdVdPwhx7FUkpGGiOvY3J78egfd+PBtXNh0irR3GKDS/SialZZSIGUs212/N+XPsPyhROwqf6Q9BwRK0Im6GKMFc8oEp8PKM7T4L5VM3HibCd8fuCjz0+hpnIS2judaD5vxZadR1C1oCxiESAIYCz1Ei1dNhHVXml4cABFRDF5PD4o5LKQksqrl0yCz+eHSa8O3H3f3Sylz40o0MFqd+O+VTMher04ec6KbQ3HkWtUo7ayHMX5gQvPs602tFtc2FTfGPJ6PSv7AV2ln9XyiBej7RYXppTm4MG1c9FmdqLApOkuBd0PvU9mZ9vsePgPn+K3P14IleBP6OCJdx3TT6fFLVWXDHJ7fei0uEO+Fz3TlWSCEHE2R62UoWp+GVo6HVAqZMgPrneKkvpalKeVvmPR0qASdjHGimcUgcXqgsUu4pX3D+OqirGQyYA7vzsNSjng8gBqlSxm9sH0CYWYd9kImPRKmG0pdvMoSTe0mC6b/jiAoqhUGiXMNhcUMUqqs5x65tNpFHj+zS9DLs6Cs0//+coXIReOWz88iuULJ0CllOGFbV/i5munSKkbBq0SFy0uPL65e/Bw+w2XYVSBLuSuZaDinQLV/1AOmQyYOC4PrR32qKlFB5sGPyCJdjJrtzgwsmtz00TgXcf0lGNQ4eR5S9i+TCUjjCGf5eb6RlQvmgiX24eLnQ7cvXI6nn5tX8iNB6VChrrtB0Pi9Z9Xz8SpVmvEGO+wOLH1g6PSd8xiE8PSoBJ6McaKZ9SLXqfCu3//EpVzSkO2nrh75XT8fd9pfKdrTWvPTISe8T06L9CHJqKvTqgk3tBiumz64wCKovL5gV+/sBtijOpjLKee+S5aXGEXZ0a9EuNGGFC9qBxAoMjCotmlGFmog1GrhCAIuLe6AsdOd6K2chLGFOpwrt0etofT829+iQe+fwUamzuw/dMmKOUy3LVyOqx2EQ6XFds/bcKWnUdxR9VU3LNyGp56bX/IiU4mExIyIIl2Mss3apHIMynvOqYnhzuw35i0gB7Ae7uaUH5JHu5aMQ3tZheAQGrriHw9Tl2wYsuHR6GUy/CTH1wBu9ODk+et8Pn80mbUwX3TTl6wYNakYhTmaQE/wlJfge7B2fKFEzCu2BA2K8SLMRpKZptL2hh3fU1FV1VJJzbXH8LN106B3w+su3EGTrfY8Pf9Z7B84QSMyNfhosWJHGMgBlPx5lEy28R02fTHARQNSl+b/nKGKv3lGkIvzgpzNVg6b3zITFJN19345988AINOicVzLgnZQPRHN87AyCib237ddBFbPziKu1dOh0Ylx8O//zQsJep3Ww+getFEqcLeyDwtTDolmi/YEjIgiXYyG1WoR1ubdfBvYhde6KYnj8cXdvf9B0unoKXdgd//+auQAU/LRTu27Dwixe4jL+xG9aKJAICifB2MeiWq505EvilQuS94k+DuldPRsP9MWJWzq68oARCI6wljc3DpSEPYBRYvxmgoFeZp4XJ70NYZmkGweskkCALQdM6CTfWHMKpAhzU3TIXZLuKixYG3G07ALZbA8I0RITePgjcPIAA2lzdpcZrUG1o90mXtohc6ZYLX2tKQ4wCKBqWvTX85Q5X+NGp5SOnwRbNLw/Z52lzfiA23zoZBp8TK75TjsZc/C/n9k6/sjbpJLvyBxzz92j6pKEXP5w0WlMg1avDq+42YN3VW4OTmT+CApNfaj3yjGj6fH18eaw2Ul9UpEpK7zwvd9KTVKMJmT802UZpNCv5sU30jbr52Mqrml8EtenHb9Zfhv9/6EnK5gJEFeqgUMtQsmhRycyE40ArGf7BgRGGuBotml2LcCAPuv2UW/vzhURSa1JHjhGuXaAh5PH6caXVIKaxAdyr3L+64Ev/95y+lTc1/9eKesBnUDptb6qt7V5vc+sHR0LS5YVyTlPQbWl3psmUl+WhpsfD7mmY4gEpTiZj5UWmU8MX4wgpC9N9R9mjtcKAgR42f3TYbHh9gcwSq8QUXtQOBk+mRUx1Y+Z1ynDjbGfGu3pGTHWH58bffcBlsTlFaJO/z+8P+LljBSauS487vToPJoAS6nj6hA5Lg2g+dMiwv/q4V01C3vVGqsDbgPPm+LnRZoS8lmbv2PKua1Z3C13PhfJBL9MKgVeHFd74OuYi8dHQOHvr9p6iaX4atHx6NepOgdKRRushcOm98SDrf3Sunh8R+mP6sXeL+M9QPnVaXtPl5z9kjALC7RLR2OFH9D+VhNxk21TeiprI80M919dUnL1jDHielzemUOHrGgqNnzFK1y7LRJpSNNg5JfPKGFg1GRg6g/vznP+Ppp5+Gx+PBD37wA9x0003JblLCJWLmx+dHzOf4f27j7BEBGpUCMhlw5KQZL/3l67A7560dzsBdPLdPKnEbcZPcAj3e+OAIquaXYewIPVQKBV7Y1l32ubayHDJZ6KhdrZRDJgiorSzHf7/1JSw2EetunIHLSnMDJ7ghuPMeKS/+mdf3Sxe5g86Tj3ahywp9KSs/RxM2oFlTNTViAZTz7faIF5HBmwGRBl3BmwQ5BpW0x1kwVSr4mKdf24eH7pqL/MHeHWecUT8ZdErIBAGjCnRhqaz3fG8GCnM1UWN7VIEeANB8wYYxRXoYdApsipI2J5MJONViDSvWMiJfK+3rl1CcuaVBkCW7AYl2/vx5PPbYY3jppZfwxhtvYPPmzThy5Eiym0WUtnQaBbw+SIMnoPvO+dWzSqRc+B17mnvsD1IeSM8DpJmmF985iLnTRuPzxvPQqpR47OXPQjZc3FTfiHEjjKitnITqReWorZyEe6tnQKuWY1uPneyfeGUvzPYes6tdA5KSQr2U2jcY0fLie5ZWD57wEynaguaQY6Wk8Hj8YWmrz209gDuXTwuJ8zVVl2H7p00hf+sSA3s/BQUf3/PfMkFATWU5Dp+8iE31h9B0zhKlKqRr0MfCOKP+crg8GF2oww+WXhY2e/TUq3tx3bzxACLHtk6jwANPNeAXz+/CA0/+DWabiFEFurDH5epVMDs8Yd+zTfWNMDuiF7IatASfPyh7ZNwAqqGhAVdeeSVyc3Oh0+mwZMkSvPvuu8lu1rCTywUo1MqY/2OKHsXD4/PB4fREvKAbUaDDP666HH/++BhaO5z46PNTqF5UjvquimW1leX48eqZqP+kCWfbAlX4vrtgAo6e7oj4fGZbYF+duu2N2LLzCJxur/TcPR+X6MFLT8G8+J6Ca7V6/jvRefIdtugLmim5IlWidIle2J0e/NNNM/GT71+B6kUTMapQL20WHRQcIAGQyjz3vrmgVspQv6sJNkfsgZY2AXfhYy2cJ4pEr1XiosUJhyvyeWBkvg5adWBWtmdsr7txBp55fV/IgOiJV/birhXTQx4XTJtzRnl+p2sIB1BEA5RxKXwXLlxAUVGR9O/i4mLs27cviS1Kjr5S/ACm6FF8PB4/9BpFxLS8losOAJDS+K6ZewlGFuhwy7VT4Adwrs2G323dH7JWyuX2Rk3zO9cWmv70uzcOhCysDz5uKBf5RsqLD66BCr7+UOTJ6zXKiO+JXsPy5smWb4pS5t6kweObP8fdK6ejbvth/MstM7F2+TQ8u6W73P7a5dOgVAQ21W3tcKJ+VxN+eutsdFpdONtqR937jbDYRKypmorX/3oYACLup1NbWQ6NSh6tiXFL+sJ5SjsKmYCRBQYcP2OOGDt+AC9sO4jCXA2WL5yACWNzUGhSw+oQQ1JcgUC/7vf7I6bNFXZtKt37+QtN6uE6VKK4ZdwAyufzQegxteL3+0P+3ZeCAkPM35ttLiiVsd+2vn4fz2NS5TkG+zpyuYC8ImOfr5FqitKwzYnS+zvw9WkzLnY6cPO1k8MWxxfna9FhcaF6UTlKRxrx4jsHMaZoKgABeo0cddsPh50MC3I0eOX9xrALxLXLp+Gl974OeW2X6MW4EQbppKpWynHfqpkYPzYvbL1UQt+DfAPKxuai3eJAvlGLEfk6TLmkQPr3qEJ9wl+/xdoa9p7UVJbDJ/iHLR6zOe6DIp0DTrbZcMd3p+J3b3RXz7vju1NxusWCxXNKIZfLUDW/DOfb7Nj52anAXjluL/QaBS6anSjON+Df7rwSFy0uFJg0GD8qB/uOtgKw4+orSiATBIzI1+IHSy/DYy9/Jg207ls1E6cuWOAWfdjWcBzlJXmD/owKfH7ct2qmVClzuL5TQy2TYjfZx9L7O3Doi9N4fedhXP+t8aitLA9ZC3jLtZNxoT0wSGrtcGJT/SE8fM88lJXk4/SFyJtDjywwYExx+PdsKGIz2e9lvNKlnUD6tHWo25lxA6iRI0di9+7d0r9bWlpQXFwc99+3tQU2O4xGrVPF3FgWQJ+/j+cxqfIcg30dr9cfKM+ZRoqKjGnX5v6K1bH0/g7km9RoPmfBB5+dRPWiicg1aKBRy9Ha4cCFdgdeePsg1Eo5li+cgJVXT4RL9ODkeRsmjDXhRzfOwJOv7A0ZEGx672usXjIZL/3la1TNL4NMBky5JB8GnTJi+tOYAl3Y3cpE7s0UjUoAppUVoaXFgosXbVAJwEiTBoB/SF5frZBLqY/BfYDqdzVh5sTCYYnHbIj7oP7EPwCoVQq8/0mTNDDSqOR466Oj+P7Sy3BC7MSZFiu2fngUG26djeZzVvz6xT3df6uUSwVHio2BO+kWiwPjR+hRYFSF3oUH8Og989BqceHIyU4892b37K1aKYdeLU/IZ1Q+xhi2/8xwfKeGSibF7nAdS3++A3kmNZrPWfGnd7/G0nnjsb6mAi63F6OL9Dh+uhNvNByXHqtWyqFTBuJUJUPEKncqWfTrgmBsJqK/T5e4SJd2AunT1njaOdgBVsYNoObNm4f//M//RHt7O7RaLd577z388pe/THazslZf5dYBbrab6orz1Rg3Qo/Fc0pD7jzWVpZjW8NxaR2Hw+WBWiFDa4cDUy7Jw7iiwELhDbfOxsET7fD5AgOCm6+ZgimlOXjg5llhF4+xSsrGVZ45jZm0Ctx8zRSW1E1BxflqVM65JGQT0bXLp8HpciPPpIFBqwgMkvTK+MsiR6nGGCyl73J5pRsKCY8F7j9D/VCcr5ZSU4M3zNYunwajQYEcozp6nA6kyl1/yvETJVHGDaBGjBiB++67D9///vchiiK+973vYfr06cluVtaKZy3Wz9ZcCcUg97SiISQCU8bnYkS+HmVjc+FweZBnVAOCH+NGGJGjV8EleqBWKuASPRhXbAicJH2BPx9XqEOOTokOmxvzpo6QfhfpJJnVJWVZUjd1iUDFpHz84o4rcdHiRJ5RA61WgOgCSkeopFiHL0GfIWOBUkmE+B9RoAZEYPLYPuKUAyLKUBk3gAKAZcuWYdmyZcluBsUpEXta0RATgXydEpNK80OmxQv1wcW9qtD/H+gJNNtPttl+/KlMBEaY1Jha1iOlUonuwVNQoj5DxgKlkt7xH7ynyTilLJVxZcyJiIiIiIiGSkbOQFFmScQ6KpVGiRi1QeJ6DiIiIiIiDqAo5cWzjqqvND+fH4N+Dg7CiIiIiIgDqF7SeR+MbNbXLFU8W4EFn8Nsc0UsauFHfIOwWDGkUCvg671movdj5AI83ugjtb5+L5MBnkHs3N7XdyDbviPZdLzZdKzRxPMeZNL7lCnHkinHAST/WDLpHJAubU2XdgLp09ahbqfg9/u55I+IiIiIiCgOLCJBREREREQUJw6giIiIiIiI4sQBFBERERERUZw4gCIiIiIiIooTB1BERERERERx4gCKiIiIiIgoThxAERERERERxYkDKCIiIiIiojgpkt2AVNPWZoXPF31v4bw8HS5etA9ji5Ir244XyI5jLioyRv1drO9ANrw3PWXT8WbTsQ40/oHMep8y5Vgy5TiA4TuWbDgHpEtb06WdQPq0NZ52xvoOxIMzUP2kUMiT3YRhlW3HC2TnMccr296bbDrebDrWwcik9ylTjiVTjgNI/WNJ9fb1lC5tTZd2AunT1uFoJwdQREREREREceIAioiIiIiIKE4cQBEREREREcWJAyiiTCEAZoeI5hYbzE4PICS7QUREQ6irz9t/pIV93nAQgNMXrDzHEIFV+IgygwAcbO7E43VfwCV6oVbKsb66AlNKcoDoBcWIiNIT+7zhxfebKARnoIgygNkuSic2AHCJXjxe9wXMdjHJLSMiSjz2ecOL7zdRKA6giDJAh9UtndiCXKIXHTZ3klpERDR02OcNL77fRKE4gCLKALlGNdTK0H0P1Eo5cvWqJLWIiGjosM8bXny/iUJxAEWUAUxaBdZXV0gnuGB+ukmnTHLLiIgSj33e8OL7TRSKRSSIMoEfmFKSg0fvmYcOmxu5elXgxMbFvUSUiXr0eXbRC51Szj5vKHW937/98UKca7PyHENZjwMookzhB0xaJUxapfRvIqKM1dXnlZXko6XFwj5vqPmBMcUGqAS/9G+ibMUUPiIiIiIiojhxAEVERERERBQnDqCIiIiIiIjixAEUERERERFRnDiAIiIiIiIiihMHUERERERERHHiAIqIiIiIiChOHEARERERERHFiQMoIiIiIiKiOHEARUREREREFCcOoIiIiIiIiOLEARQREREREVGcOIAiIiIiIiKKkyLZDRiMJ554Au+88w4AYMGCBbj//vvx05/+FHv27IFWqwUArFu3DpWVlclsJhERERERZYi0HUA1NDTg448/xpYtWyAIAtasWYP6+nocOHAAL774IoqLi5PdRCIiIiIiyjBpm8JXVFSEn/zkJ1CpVFAqlSgrK8OZM2dw5swZbNiwAcuWLcPjjz8On8+X7KYSEREREVGGSNsB1MSJE1FRUQEAOHHiBN555x1cddVVuPLKK/Hwww+jrq4Ou3fvxquvvprchhIRERERUcYQ/H6/P9mNGIzDhw9j7dq1uPfee7F8+fKQ39XX1+ONN97Ak08+maTWERERERFRJknbNVAAsGfPHqxfvx4bNmzA0qVLcejQIZw4cQJLliwBAPj9figU/TvEtjYrfL7oY8qiIiNaWiyDanc6ybbjBbLjmIuKjFF/F+s7kA3vTU/ZdLzZdqzRZNM5IFOOJVOOAxi+Y8mGc0C6tDVd2gmkT1vjaWes70A80jaF7+zZs/jRj36E3/zmN1i6dCmAwIDp4YcfRmdnJ0RRxObNm1mBj4iIiIiIEiZtZ6Cef/55uFwuPPLII9LPamtrceedd2LVqlXweDxYvHgxrr/++iS2koiIiIiIMknaDqA2btyIjRs3RvzdTTfdNMytISIiIiKibJC2KXxERERERETDjQMoIiIiIiKiOHEARUREREREFCcOoIiIiIiIiOLEARQREREREVGcOIAiIiIiIiKKEwdQREREREREceIAioiIiIiIKE4cQBEREREREcWJAygiIiIiIqI4cQBFREREREQUJw6giIiIiIiI4sQBFBERERERUZw4gCIiIiIiIooTB1BERERERERx4gCKiIiIiIgoThxAERERERERxYkDKCIiIiIiojhxAEVERERERBQnDqCIiIiIiIjixAEUERERERFRnDiAIiIiIiIiilNaD6CeeOIJLF26FEuXLsWvfvUrAEBDQwOWLVuGxYsX47HHHktyC4mIiIiIKJOk7QCqoaEBH3/8MbZs2YI33ngDX375Jd566y1s2LABTz31FN5++20cOHAAH3zwQbKbmnkEwOwQ0dxig9npAYRkN2gYZfOxE9HgxduHsK+hVNIVj/uPtMDq9jI2Kespkt2AgSoqKsJPfvITqFQqAEBZWRlOnDiB0tJSjBs3DgCwbNkyvPvuu1iwYEEym5pZBOBgcycer/sCLtELtVKO9dUVmFKSA/iT3bghls3HTkSDF28fwr6GUkmPeDTqlVg6bzw21TcyNimrpe0M1MSJE1FRUQEAOHHiBN555x0IgoCioiLpMcXFxTh//nySWpiZzHZROqkDgEv04vG6L2C2i0lu2dDL5mMnosGLtw9hX0OppGc8Xj2rRBo8AYxNyl5pOwMVdPjwYaxduxb3338/5HI5Tpw4If3O7/dDEPo3t1xQYOjzMUVFxv42M631PN5zR1qkjjPIJXphF70oK8kf7qYNmUifcbYce1/fgWyO/0yXTccazVCeA+LtQ4azr8mUzzxTjgNI/rH0/g6ExKOAtDoPJvu9jFe6tBNIn7YOdTvTegC1Z88erF+/Hhs2bMDSpUvxySefoKWlRfp9S0sLiouL+/WcbW1W+HzR56GLioxoabEMuM3ppvfx6tQKqJXykA5UrZRDp5RnzPsS7TPOpGOP1bHE+g5ke/xnsmw71miG8hwQbx8yXH1NpnzmmXIcwPAdS3++A73jMV3Og+kSF+nSTiB92hpPOwc7wErbFL6zZ8/iRz/6EX7zm99g6dKlAIAZM2bg+PHjaGpqgtfrxVtvvYX58+cnuaWZxaRVYH11BdRKOQBI+c8mnTLJLRt62XzsRDR48fYh7GsolfSMxx27m1FbWc7YpKyXtjNQzz//PFwuFx555BHpZ7W1tXjkkUdw7733wuVyYcGCBbjmmmuS2MoM5AemlOTg0XvmocPmRq5eFeg4s2HxaDYfOxENXrx9CPsaSiU94tEuemFQK3D5xELGJmW1tB1Abdy4ERs3boz4uzfffHOYW5Nl/IBJq4RJq5T+nTWy+diJaPDi7UPY11Aq6YrHspJ8KTWKsUnZLG1T+IiIiIiIiIYbB1BERERERERxStsUPiJKDrm8e2sAr5e5G0RERJRdOIAiorjI5QL+8NaXuNBmAwDk52ixYv54DqKIiIgoq3AARalBCOx23mF1I9eohkmr4MLUFNRudqGlw5HsZhBREPtOGkY+nx9mB+ONiAMoSj4BONjcicfrvoBL9Er7SkwpyWHHTEQUDftOGk4C8Pf9Z/HYy58x3ijrsYgEJZ3ZLkoXAADgEr14vO4LmO1ikltGRJS62HfScDLbRWnwBDDeKLtxBoqSrsPqljrkIJfoRYfN3b3PxHDoSoU5d6QFOrWCqQlENDwGmIaXMn0nZYUOqxtGvRJVs8qArlpCO3Y3M94oK3EARUmXa1RDrZSHXAiolXLk6lXD1wimwhBRMgyi70mJvpOyRn6OBkvnjcem+kYpVmsry5FvVCe7aUTDjil8lHQmrQLrqyugVsoBQLqAMOmG744WU2GIKBkG0/ekQt9J2cPn9UmDJyAQq5vqG+Hz8S4jZR/OQFHy+YEpJTl49J556LC5katXBS4AhrFPZioMESXDoPqeFOg7KXvwPEnUjQMoSg1+wKRVdnfCw3wBwFQYIkqGQfc9Se47KXvwPEnUjSl8RGAqDBElB/seShcmrQL3rZrJWCUCZ6CIAnqkwthFL3RKOVNhiGjoMQ2P0oUfmDttFEbmMVaJOIAiCupKhSkryUdLi4UnBSIaHkzDozQhkwmMVSIwhY+IiIiIiChuHEARERERERHFiQMoShwBMDtENLfYYHZ6pJ3KiYjSXlf/tv9IC/s3yj6Mf6IQXANFiSEAB5s7pQ0hg9V5ppTkMEeaiNIb+zfKZox/ojCcgaKEMNtFqXMFApvrPV73Bcx2McktIyIaHPZvlM0Y/0ThOIDKdMOUVhdrh3IionSW1P6NqdGUZNHiv9XiYjxS1mIKXyYbxml37lBORJkqaf0bU6coBUSL/yMnO+FyeRmPlJXSfgbKarXi+uuvx6lTpwAAP/3pT7F48WJUVVWhqqoK9fX1SW5h8gzntLtJq8D66gruUE5EGSdZ/RtTpygVRIr/mspybP+0ifFIWSutZ6D27t2LjRs34sSJE9LPDhw4gBdffBHFxcWJfTEhcDJrOd4KGQTYnCJyDWqYtIqUvfMSK+1E2gQvUfzAlJIcPHpPiu5Q3vX5dVjdyDWm9udGRCnGD0wpzcGDa+fiotWFPIMaBSYV4Bvalx1wH95Xf9f1+3NHWqBTK9gfUmx+YMolOdh42zex/2gb4AfebjiO1g4nACT2moLnakoTKTeA6ujoQG5ublyPraurw89//nPcf//9AACHw4EzZ85gw4YNOH/+PCorK7Fu3TrIZIOcaOtKo3jx3YOonFOKzfWNaZFOMexpJ36k5g7lTIMhosEQgINNw9+HDKgP76u/Y39I/SUD9h5px/l2B7Z+cHTorikYm5RGkprCd/LkSaxduxbr16/HyZMnUVVVhXnz5mHJkiU4evRon3//0EMP4YorrpD+3draiiuvvBIPP/ww6urqsHv3brz66quDbmcwjeKqirHS4AlI/XQKptUFMA2GiAYjWX3IQPrwvtrK/pD6q83sxjOv78f2T5tQU1k+ZNcUjE1KJ0mdgfrZz36GhQsXwm63Y9WqVVi7di1uuukm1NfX49///d/xwgsv9Ov5xo0bhyeffFL69y233II33ngD1dXVcT9HQYEh7GfnjrQEvtACIqZT2EUvykry+9XW4VKQb0DZ2Fy0WxzIN2oxqlAPmSxy2Ryfz4+zrTa0mx3INwUeCwBFRcbhbHLCSZ9fD319bul+zIMR6TvQk1IZ6DYUSgXy82M/NhNkUyxk07FGE/Mc0MNQ9/3B/rgwT4OH7/kWnG4PCkyx+/B42pqMYxkOmRS7yT6W3t+Bw+fOwCV64erw4u2G46iaXwYIwLSyAkyfUBQzHvtjKGIz2e9lvNKlnUD6tHWo25nUAVRnZyduvfVWAMCmTZtwyy23AACWLFmCp59+ut/Pd+jQIZw4cQJLliwBAPj9figU/TvEtjYrfL7QuWKdWhFyx6X39LVOKUdLi6Xf7R0uKgEYadIA8KOtzRr5QVGmzr9dMSb636SJ4OcX7+dWVGRM6c8zEWJ1LJG+AwAglwdOkqLoAQB4RA/a263wejM3tyIbYiEo2441mljngGHr+6P0x6NyNX32x321ddiPZRhkUuwO17H05zuQ3yOVtLXDibr3G6FWyvGNS/LR1m5NWHpdomMzXeIiXdoJpE9b42nnYAdYSU3h83q9OHnyJL766itcvHhRqqTX1tYGt7v/+2v4/X48/PDD6OzshCiK2Lx5MyorKwfdzmAaxUefnxrS6etkijZ1frbVluSWDR5TGYloMIa7DxlMKlNfbWV/SP1VYFTh7u9ND6vC9+yWfQlNr2NsUjpJ6gzUvffeixtuuAEA8Mtf/hK33XYbZs2ahU8++QS33357v59v8uTJuPPOO7Fq1Sp4PB4sXrwY119//eAb2lVh7oGbZ8Hl8+HBS+cGqvClWqW5oDgrMPX8fbRqT+0WR9fsVQJeN1lSvUIgEaW2Hn2Iy+eDzB+oxGp2eOLr5yL1jYjeXw6qgmpf/V2P39tFL3RKOftDis0HFJrUUuqeWimDViXHzddOwfkOJyAIcV1n9BljPFdTGknqAKqyshL/+7//C6/XC51Oh2984xv4+OOP8a1vfQsvvPACVq9eHdfz7NixQ/rvm266CTfddFPiG9tVYS44LVhgUEk/71dHMdSDjAFWYBo3whBx6jzfqEVcDUz16jmpWiGQiNKDHzDplDh+3obDJzvg8/shEwSMH2WEXqOAQaeK3J9H6Bv/efVMuD2+qP3loCuo9tXfdf2+rCQ/kObC/pD6YNCq8NEXp7DomyUoztdBp1biua37cbbNnthKjzxXU5pI+ka6arUaOp0OnZ2d2LlzJ1544QX827/9G6666qpkNy0+XR3FA0814BfP78IDT/4NB5s7gUhrKvvz2AEaaAUmn9cXceo8WEhisK9LRJTurE4Pms+ZsWXnEdRtb8SWnUdwptWGw6c6o/bnkfrGo2fMMftLpjJRqjHpFKheVI667Yfx//7PZ/jVn3ajck4pCnM1rPRIWSnp+0AdO3YML7zwAt58802MGTMGTqcTO3bsgNGYHlU+onUUj94zLyzVoj+PlfRzxqqv1I9Yv480dR5vdZ1h3bSXiGi4CUCnXcSmXltZbKpvxPqaiqj9eaS+0ef3x+4vmcpEKcZsE/HM6/tDYn9zfSOq5peh7v3GuK8zeD1AmSKpA6g777wTBw4cwHXXXYc//vGPmDZtGq6++uq0GTwB/Rs49LtTGcA0eF+pHzF/P4ip82HftJeIaLh09cUu0RuxD3e6ui8qe/fnkfpGmSD03V8ylYlShQCcbrNHjP3gjGvc1xlEGSKpKXxfffUVLrvsMkycOBGlpaUAAEFIYD7bMAh2FD1F6yj681hgYNPgyarAxJQTIspUwb64w+qM2Id3WJ3Sf/fuzyP1jWWjTewvKW2Y7SJOnrdGjH34A/+/7sYZrPRIWSWpM1A7d+7Ee++9h5dffhkPPfQQFi5cCJfLlcwm9Vuwo+g9SxQp3aI/jwXCZ6wKczW4elYJzl10RK56A/SrAlNCU0OYckJEGSrYF7/dcAI3XzsZL77ztdSHr14yGX/++Gj0/jxa3wiwv6S00GF1Y8/X53D7DZfh+Te/lGL/9hsug8MlYsOtszGuSAf4uv6A1wOUBZI6gFIoFLjuuutw3XXX4ciRI9i0aRNcLhcWL16MH/7wh1i1alUymxef/nQU/exUek6DF+ZqcN288djclX8fM50vzgpMCU8NYcoJEWWgntkDcpmA5QsnwOf3Q6OSo2ysCeu+N6PPvj9S38j+ktJBfo4G86aNxpadR1A1vwxqlQwTx+UB8MGkzQnEva/XH/F6gDJc0qvwBU2YMAEbN27Ehx9+iNtvvx11dXXJblL8ujqKkkK9tAA4EY81aRX459UzUVs5CasqJ8Mt+mDUBzojVrVJIQJgdohobrHB7PQktKoiESVfsC++7fqpcLg8KBlhgFYth9PtxZOv7A0Mnvrq+4nSlM/rw3u7mrDomyUYka/DqEI9jp/pRK5ezbinrJX0Kny9abVa1NTUoKamJtlNGV5RNlp0e3zYsvOINOtUU1mOtxuOo7XDOfCqNqm64W06SvX9r4goIXrv21RTWY6PPj+FyjmlsDrFwVUXY59MKczqEHHN3Evw0l8OSfFfW1mOky02jCs2wKCWM14p66TcACorRbkIH1OoCysi0bNs6ICq2vCCP6EGVJqeiNJKpO95sC/eXN+IB9fOHfiTs0+mFKdWKaTBE9Bdvn/5wgk4ed6KccUGxitlnZRJ4ctm0S7CW82uqGVDB1rVhhvcJVas0vRElBli9cUu0Qubc+D9J/tkSnVme+TznM/vh8/vZ7xSVuIMVAqIdhGuVSsi7qUwfUIh5l02YkBVbbjBXWJxvwuizBetLw6WcB7M9519MqU6jSpy/MsEAT6fn/FKWYkzUCkg2v5Qxih7KYzO0wx44WZ/96Ki2LjfBVHmM+qUqK0sD/me11SW46MvTg36+84+mVKdUafE6iWTQ+K/trIcJr0SO/Y0M14pK3EGKgVE2x/KoFEkfC+F/u5FRX3gfhdEGc+glmNskQHLF06AQi5gdKEBSoWAB26exT6ZMp5BLcfoAh1qKsuRZ1Qj16BG83kLXt95BBabyHilrMQBVCro4yK8X3sp9FXNiRf8icf9Logymx8oG21EUa4GdtELnVLe3W/29/seoY9mn0wpzQ+UjTEi16hGu9UFk16FGRMKUDrSyHilrMUBVKpIxEV4vNWceMFPRNQ/Xf1mWUk+WlosCe+j2SdTyhKAg00xri0Yr5SFuAYqg7CaExFR6mIfTemIcUsUjjNQqa4fGyxmVTUnbjxJRMNJBrSZ3Th87gzyjWoUGFWAr39PkVV9NGWMDqsbRr0SVbPKACHwsx27mwcWtzx3U4bgACqV9XODxawpqc2NJ4loOMmAvUfb8czr+6U+564V0zCjLL9fg6is6aMpo+TnaLB03nhsqm+U4r+2shz5RnX/nojnbsogTOEbCAEwO0Q0t9hgdnqkOzKJ1t9p82wpqc10AiIaTm1mtzR4AgJ9zjOv70ebuX8bZmdLH02Zxef1SYMnIBD/m+ob4fP1b9TDczdlEs5A9ZPP5x+2Oyj9TvfIkgp7TIMhouHUZnZG7HPazE4UGPoxe5QlfTRllg5bYs65PHdTJuEMVD+dbbUN2x2UAW2w2FUpqqRQP+DNdlMdN54kouGUF63P6W8KE5AVfTRlFr1GGTH+9Zr+DXp47qZMwgFUP7WbHVHvoCQa0z0i4/tCRMPJ5/NhTdXUkD5nTdVU+P39rCJBlIZcbg9qKstD4r+mshwu0dOv5+G5mzJJ2qfwWa1W1NbW4plnnsHYsWPR0NCA//iP/4DL5cK1116L++67L6Gvl2/SDt8iYKZ7RMb3hYiGkVatxI5Pm7C+pgJOtxcalRxvfXQUa787LdlNIxpyBp0K9buaUDW/qwqfH6jf1YSZE2f174l47qYMktYDqL1792Ljxo04ceIEAMDpdGLDhg3405/+hFGjRmHt2rX44IMPsGDBgoS95oh8HTbcOhsHT7TD5wc++vwUbr5mSvROQACsTg/MDg+cLg8KczT9K9sZbdPbbC8FOpybAWf7e02U5UxaBW5aMhlef2AdrEGnxE1LJg//xV+wL7K5odco4XJ7YNCp2CfRkArMHM2Azy+gw+pCrlGNy8sLYsd/tPPmcJ67iYZQWg+g6urq8POf/xz3338/AGDfvn0oLS3FuHHjAADLli3Du+++m7gBlADs+vIcHnv5M6mAxLobZ2BKaU7kUrYCcPSMBadarCHlPwdddIKlQIcP32sikgEXOpx4dkt3GfO1y6dhdJEO8Pb95wkRoS+qqSxH/a4m3HzNFPZJNHTkwNk2R1j8jyjQApGy+HjepCyQ1mugHnroIVxxxRXSvy9cuICioiLp38XFxTh//nzCXs9sF6XBExBY+/TEK3thtkUuIGG2izh6xhxW/nOwRSdYCnT48L0mogsdLuniEQj0A89u2Y8LHa5ha0OkvmhzfSOuqhjLPomG1Pn2yPF/vj1y/PO8SdkgrWegevP5fBCE7k2Z/H5/yL/jUVBgiPq7c0daIhaQsItejB+bh7OtNrSbHcg3aTGqUI9zx1rh8/uj/k1ZSX6/2hZPOwb6nLEUFRkT/pypLnjMw/1ep4JY3wEAUCoD3YZCqUB+fuzHZoJsiv9sOtZoIsX/16fNEfuBi2YXLru0cFjaFa0vgjC4PilTPvNMOQ4g+cfS+ztw8FRn5Pi3ODG1LDz+U+m8mez3Ml7p0k4gfdo61O3MqAHUyJEj0dLSIv27paUFxcXF/XqOtjZr1M3hdGpFxAISOqUcH39xOmy6ekyRHjJBiPo3LS2Wfh5h3+0Y6HNGU1RkTPhzprqexzyc7/VwitWxRPsOyOWBmxFiV+Ulj+hBe7sVXm/m5mRkU/xn27FGEyn+C3LUEfuBPJN62N6zaH0R/APvkzLlM8+U4wCG71j68x0oyNFEjn+jBi2tlrC0vFQ5b6ZLXKRLO4H0aWs87RzsACutU/h6mzFjBo4fP46mpiZ4vV689dZbmD9/fsKe36RV4L5VM8NKcMpkQsTpapkAlI02obZX+c/Blu1kKdDhw/eaiPRaBdYunxbSD6xdPg0G3fDdg4zUF9VUluOjL06xT6IhVZynjhj/739yImJaHs+blA0yagZKrVbjkUcewb333guXy4UFCxbgmmuuSdwL+IG500ZhZF5oCc7mC7aI09XtFhfKRhsxIl+LiSV5gSp8JrXUiZgdA6zsxlKgw4fvNVHWa213Yv+RC/jX2+cEqpAZ1Nj+yQnkm9QoKdQPTyN69UV6jRIu0YOZE2exT6Kh5QFKRuql+M8zatDWYUN+rh5Wp9hdUS+I503KAhkxgNqxY4f033PnzsWbb745ZK8lkwlhJTiDu2tH3BvKDxjUChjUoW/1oCvUsBTo8OF7TZTV8nM0KBmZg39/fpfUZ9dWliPfqB7ehvTui6CSfk40lBQyOf7fV3ajck4pHt/cfe0yrtiA0fm68BjkeZMyXEal8CVLf6erU7pCjRCYGWtuscHs9ERdD5bo10H/an0QEQ0bn9cXVk11U31j3/1jsJ9rtaHN6saZdjv7O0pLJr0CP7qxAm7Ri6oFZSjM1XRXIk6FaxeiYZYRM1BJ18/p6g6rOyzlz6hXwuryhqf0DfUmrj2ePz9Hg5PnrSEzY/etmonyMcbEvWbX651us+PkeSu2f9oEi00MnYHjxrVElEI6rG4Y9UpUzSqTBj87djejw+YOT18KirAXzuolk/C/+8+gdvFk+P1+5Bq6+jewz6MUJgMOnexE01krfH5AJgioWVSOzdsb0drhjP09IMpQHEAlSj+mq3ONaowq0OGqirGAAGhUMmhVCvyyR3rI+uoKTCnNwcGmIdyMrtcJvrZyErbsPBJyl/Wxlz/Do/fMS0znGGUjyLcbjuPxui8Cr6NTcgM+Ikop+TkarFw4AZ02ET6/HzJBwMqFE2Km8EXKNHjpL4fw49Uz8fAfPpX6t39ePRNuj499HqWsDruIDnPonk8ejw81i8rx3NYvA8sViLIMU/iSwKRToHpRObZ+eBR12xuxuf4wnG4vjPrAICWY0tdmdg9pql/vE3y0Pas6bO4heb3gRpBXzyqRXiel0xuJKCuJXh+cbi+27DyCuu2N2LLzCJxuL8QYKXytZlfE/vT4mc6Q/u3oGTP7PEppDrc3YvyPKtSzuh5lLQ6gksBsE/HM66G7em/qGkgEuUQv2szOwQ9oYqw1ipRKGFzH1fPfA7q7FOF1I71ecCPI4OtEe0yiBnFERP1lc4gR10DZHNEHOdquvXB6Uivl8PlCHzegG1dcQ0rDyOuJtgYQUCgEtFndvJqkrMMUviSINZAIUivlKDBF3rwu7gFNhJS5u1dOx6WjTTCo5WHVA3fsbkZtZbnUUQYrTbV0OPtXgjTC6wY3Fo50PDJB6L6LFWXjYaYIEFGyuERvxD7bJfqi/AVg1CnD+tM1VVPx+l8Phzwu2mbrUfu8KP0rU/5oqDjdkePf4fLgP17YDbVSjrtWTMOMsnwg+leCKKPwnkESBAcuPQUHEsH/Xl9dgQKTalCb0UVKh3v6tX1o2H8OB5s7YdKFVg+02ESMLtSjprIc1YvKUTW/DNsajuM3L33Wr3SSaGl4MgFhx3P3yumYN3WEdPLnBnxElGpyDZH77FxD9Bs7BrUcY4sMWL5wAqoXlWP5wgkwaOVYefXEkP7NpFdi9ZJJmVHFlTJSQU7k+L9ocQIIxOAzr+9Hm5mZIpQ9OAM1HHpXlesauPS+gziuWI/JpbnIN6rh8/nRfN6GMUV6PHz3PLR0OFBg0qDApIr7Dk+0mS6f3y8VbehdPdDqEPHHtw+GP1c/quxEe912iyt6tcLgnVNuwEdEKcbl8uDmayfjxXe+lvrsm6+dDI/XG31DdD9QNtqIXKMaX51oQ2GuDqdbbJDLBfx49UwcPd0J+IHXdx4BAFTNL8OlY0wYmaftdxVXl+jFuYsOQBBYwY8SzuHw4I6qqfjd1gNS/N+27Bt4ZUf3bGpw2YFSLrCaJGUFDqCGWoR0i3U3zkBhjhoPrp0Lm1MMGSQYNIqwx9dWlmNbw/Hwct+9Xqd3GdxoG/yqlTIpxz5YOVAaHCUgha6vjYX7rFbIDfiIKIWYDGooZFYsXzhBqsKn1yjQ2uHCE698EtK35xlUMOhU0sWjy+2B14eQzUdvv+EyfPT5KZxts0uvsfXDo90VT/uo4hqpfz122ozHXv6c6XyUcDkmNS5aXSHxr1MrkGdUo7UjMAulVsph1KnwwFMNTC2lrMAUviEWKd3iiVf24vPGNmx89u+wOTwhdxsjPX5Tj0p1EVM1ugZpDzzVgF88vwsPPPk3HGzuhFwuoLayPCQ1pLayXMq5jzQoSkQKHdPwiCiT+Hw+/GHbQWyqP4S67Y3YVH8IFy468cQre8P69n1H26U+GAKgVimwudcC/Off/BJrl08fUB8ZqX+tqSzHjj3NTOejIeF0evHEK/tC4v+JV/dh+YKJACCtgXrxna+YWkpZgzNQQyxausWIAh2qFpThxXcP4oGbZ8GkU8JsF3HuoiNmgYmeM0dB0XLif3b7HGxrOI6q+V2bP/qBbQ3Hce3cS7Dh1tmBKk+9Uz56pdCNLDBAJfP37w5SOqXhRdq0l4ioh9bO8JLk0arnQejugx+9Zx5sTjHi4xRy4MG1c9FmdvYvPbtH/3ruogPHTpvxdsNxAED1P5QDAmBzeVO3z6W009oZuSKwH37cW12Bkfk6yGR+tHQ6pRgE4thsmiiN8WpxiEVLtzjfZsfWD4+iprIcDtGD0812PF73BaoWlEV8fPBE+P+zd+fxTVzn/vg/I2m0S17klcUGDAYHzBpKIQ2mFAOBEAMJtuOSZiOFbLT09qZtbrrc3tw2afv7cpPbZrlNmqShBEgDgUACMaEhtKQUEgiEAGa1WYwXedEujTT6/SFprLFGtoxXyc/79corWMvojObozJw5z3mO1MhRtE6ay+OF1c5hy0dVom3lDU0WLeQYMcweFkKXnq5HQ4O16zseD2F4UbJZmVL1/V0yQsgAotMoItrlaNnzQm1d6GZXKAFF+OuyTVo0Wz34/dsdtMMdCbavYBisf+soDDoWi2aNFEa6tu8/T+FTpMckG6NNB5Dj+c2BGwUyuQyLZ42MyOLb0WLThMQzCuHrZTIGEWF04eEWmyurwDAy4SJ+35EalEmE3e37rCZqmEf7rH5pyWqUF48F/MCT901HtkkrbOuxFZPw8rbjNMyO6CN3tY32fi4ZIWQgUchlEe14ko7FoysmiR578I7x0KjlKJ2Xj2yTFjo1Kxlyt2b5xIjwvxtph0Pbnjc9NyJMcLC266TnsQoZHiqZIKrD311WCKOeFa5JeF+0taKoB08SE41AdZdUCJi/7fHrzU4hjC7TpEWd2YH3D14UJl66OR9arG3hIY0tLrwffP3IoUZkp2ogYxiMHGKMGgoXOok+v+UYDDo24i7QYysmIS1ZBYVMjiarC7dOGYZ9R2rEZbB7hDBCyXC2aPsZx6JnC3Qiy6jup1IRQgYac6sLB09cw9qyyXB5fFAr5Xh3/zmUFY/Fs4/MQn2rC3KZDK9sP4Fas0NY88nL+wIhd7lJonC9aGF9MYc7hbXHQ9N1UKvk3dseIR2oMztw8kIDnnrga2hodkKllGPngfOY//URyBuaBCCQqTcu6+AAuLbheX/0bJ5kwKIOVHdEW9AwNwmnqluFkLxQGF3pvHxs/+R8xDB4+wVzG1tc2P7J+UDGG58fBTlJ0KuChypK1rpQTLzN7cN/vXooYmLzk/dNxy9e/1QoZ1lxvtCRU7FypBpU0cPZEnThxmjhlakGDeJ6xwghPSo9RYNZhUNEmfTKi/MBHrja6EBGqgZPvfSpqN19ZfuXeHr1zED7WS1uP5+8b/qNZzuVaI+7tT1COpGRosGMCUPx9J/+JapjF66dQFlxPoan66FUyuOvDg6EaxsG+PRELda/9XlCXV8NBhTC1w3RQsDMFo9kSN6+IzURYSDRFswtK87H3sPVsYVhhN1Bcbm9kneBTl1qEpVzczCzX6gMPO+PGs6WqAs3RssWmJ2m6+eSEUIGEj/vlwxPqm2y4/ktx9AaZTTb7uIk28+Xth7HY+3C/2LNwhdte6vahViVF+dDJmN67DsggxerYHCptlWyjifpVDh/zYKXth6PmH7w2IpJ0nWaASxODjUNdlhcXiHpRF8bCNc2FgcndJ76qwzkxtAIVDdECwEzW9oy1oSH5I0aasQQkxYT8kwwt4ozLxXkJOGnD87A8XONgB+iML8Oh8AZ4Pw1K85fs4D3+zEi2yh5F4hvl93JzfkwaqgxsO6IlkVNvT1qOJvH7et8aH4ADIN3WZRsgXTRQQgJFy0LmdURCMXTqCKTTITuvkudJ2rNDqQYlB1nKo3Spkbbns3pici4OnKIsS16gZAb1GLxgPdDso6rVXLwfj9qg9MTwutgikEpuWZlv4/6BEW7huvLsMOBUAZyY6hl7YZoIWDRQvKefWQWLtfbozYcerUC2/dHhvgxDCM0SO3ZXF5cabBh28fn4OZ8yDZpI1YMf2zFJGzcc1r0PhUrD6x4H1y0saNwNpeS63hofgA1iF0WD9kCCSH9Ki1ZLdkGqlhZYAFRjQJrlhfipa0nhDZwzfJCGHVs1MXJ9Wo2etvTQZsara12e/iIjKsDOnyKxI1kowoHjl5BWXG+kKwkNM+vvskhZKRsbHEJdVDFyjFrQmbEtqKN+giLSPflfkX5LfXl72YglIHcGArh64ZoIWBSIXkP3zkRPj+wYfcp6aFaJpCx7+E7xYsrPnjHeGz68HTU4VyL0ysKLak1O/DO387i56u+jl+smoFnH5mF8SOSsXJhQYfhIkatQjKkJDtN1+nCuF0eBh8gw/eEEBILBtKLkivkMjy2YhKabW5Y7B6UzhuD0nn5KJmdhy17q2CxczBqFPhhxVSUF49F6bx8lBePxQ8rpnYYrtdRmyrVHlcsGAujjqXFy0mv4Lw85s/IReWhapTMzkN5cT7W3T0VWakafHioGnlDjB1eI4TraMSlr3V2bdNXZVh391T67cYhGoHqjnYhYKkGFXjej5o6O4Zn6vHso7NwtdGBy3U2bNh9ClY7J0reAAQaDpuLw9VGh5BFb9mc0chK1cJscWLbx+dQPCMXNhcHo46F2eKBxeGBTsPC5fZCIZfBoGNhAIu503KEzgjn9SInNJeH72Rh2+Ak5417TqNkdh5kMqBgRCqGp2sD4WydLIzbpSHoWEar+jIckBbSJYR0wmwJy8Ln9kGjkmPb/nO4a24+Xt95ErVmB7JNWty7eDyu1Fvh8fLgfLyQ3dTj5YUogVBUwDWzA3qtUrJ9C29T05LVQtseWiA3lNWv0eKCnwe27T+LZqtbaL+njc2ASSp8ipAb0Njqwq6DF7F41khkpGrhcvtwrdGKnEwDvn/3FChkMjjdHJ5ePRN2Fxc1YzAwwEZcOrm26asyzCzMRlZKP5aB3BC6WuyuUAiYlpXMjBTK2hSyubIqcHcybJhbxSrw/JbAgoruFh82VZ6BipWjZHYeas0ObK6swjOP3oIvzjdhy94qFM/IFQ2jVywYB1bB4I1dp4THhmdMAtIguThu6O+Q8Lud4eV69pFZSDd1/v6uNIidDt+3m9MlYxjkDTEib4ih5xsUWkiXEBKDVKNKMgtfslGFWrMDaclqFM/IFWXSCi0iKtXm/f7tL1AyOw/bPzkvZG612Ntu5KQmBUIGpRbI/WHFVHi8vKjdKi/Ox66DF4XtUeeJ9KRUoxqsXAaZjBH9Bh6+cyI0ahY/e/mg6Byak66LWv/Cl10Jf0+/dRoGQBi/TMb0exlI11EIXw+ROkmGZ74LcXM+ZJm0Qkz92tLJUdcECY0muTkfnG4fXtp6ArdOHhaxYOLGPadhsXMRJ+iYsrgwgM3tQ0lRHkrn5SMtWS1sI9Yh9U6HwcNC9hotbsl9DX1W+JyuLXursO3jc7jSYIPN5Y2pLF1BC+kSQmLh8UovEurz8cIIUft2ObSIaLQRejCB/2/YfQonL7XgRy8cxC9ePYQf/eEfuFxnw9qySZIL5J6/ZolotzZVVuH75VPx7COz4mPuKYkrXp7HQ0sLsXHPGVG9e/Gd4+C8fNcyyIWN+oSmGVCdJfEoIUeg7rnnHjQ1NUGhCOzeL3/5S0yaNKn7G2aAq/U2XDfboVOzcHu80GuVkDHA9WZnxEkyWtaa+mYnHlgyHunJGtidHHQaFgW5ySgcnQElK8OQNB0aWhxIT9bi5nHpmHtzLpqtLhh0LDJTtZInY97vj3is0ywuEiMwoRBDq50TjyB1smBwko6NHL5HoON01RwIY9x7uBqLbxkZfbSKAVodnOSFyujhyT2eTYoW0iWExCJamnKLzYOHl02Ei/OhrHgMGDBwegKv23ekBjYXB7VagftvL0Basha1jXZ4vDwOHL2C3CwDSuflQ8XK8Pu3v4i4CC0rzkd6skbivOKXLIvX64MxWU0XoqTHud0+OKMskeLy+PDEymmoa3bA6Q4s3XK92QkwTMR1QovdI7p2EkaqqM6SOJRwHSi/349Lly7hb3/7m9CB6hFROhuVh6oxf0Yu/PBHdAwOHL2Ch++aiBf/elz0nk9PXIOKHYLnNrVta/WyQrz9UZWwin1ZcT7e/OAUVnwrH29+8BXmfz0Xi2eNREOLU7IDImPEmRhiiSmWGoHZXFmFZXNGY3iGXjSC1NmCwRHD94h8z72LCyCXBSZjbwoLQVxbOhlGHYtT1a3CXdlwbs4HRy+MQNFCuoSQWKQapdsKlVKOZ944Igql23ekBlY7h4oF42Bxcnhz13EUz8gVhT49VDIB7+4/h5rrNqxZPlH6phjvR12zI+JzZVGy+lHWLtJbjDolOC8vWe98Ph7Pbw50+A8cvYLFs0aittGO9W8djXqdELp2WrmwgEafSNxKuBC+CxcuAAAeeOAB3HHHHdiwYUOPbDdaZ+PWycOwqbIKDBg8eMd4URhb8Yxc7Dl4EU898DUhM9P7By9iSn5mxCjLy9sC4Xntt/3ythOYPyMX2SZdoPFRylCxYGxEuFzeEGOXs7hEG4EZPSxJ1KjFsmBw+OMWR2DxyA27T6FkdiA0sKQoD5yXx5/e+wq7gmtFlM7LD3bWdLDYA5+hkMuE/QhRsXKkGlU3dNw6QgvpEkJi4XB5IxYJffCO8fi/bSciRsvnTssRQqtram2SYdd/3P4lpuRnws35UNfkkGzzhqTpRQuxhx7vSsYzQnqCw+3F6ztPRtTFNcsLUd/kiLgeCo2SRrtOCL2WFowl8SzhRqAsFgtmzpyJn/70p+A4Dt/5zncwcuRI3HLLLTG932SSTiBw/VxDRGfDoGORm21ASVEeMk1atNrcokXkQtn2FAqZeH2nKKMs4em8Q38bdCx0Ghbr3zoqGskpnTcGbo7HlPx03DQykOnhuR/MQZPViVSDBtlpuk4XhPX4pe9kDsswID2t7XtweKQX0m2ySc9ncnA+yGVMRLKLB+8YD4OOFa0VAQATx5gAf+C9f91Xhe8unYD/e7dtHauH75yI0cNSoFD0fH/flKpH3rDkiO8tPd3Q458VL6L9BkJYNtBsKFgFUgdBwo3BVBcG075GI1X/L5sdQgrnUPvudHOoNTtEr3NzPihZmfBv3u/vtL3fe7gaD94xHq/uOCm6Q88qGFjtHN4/eBHL5oxGTpYBI7KNGJoeKJ9Uu3UjEuWYJ8p+AP2/L+1/A2drrZIL5Rq0SvwluMZk+Lw+N8cLj0W7Tgi91sH5kJeT2mv70t/fZazipZxA/JS1t8uZcB2oKVOmYMqUKcLfd911F/bv3x9zB8pstoHnI8eTte1Wmk9LVmPxrJGisIwH7xiPA8eugPPxmDstB3NvzoGMYWDUKfCTe6fj/NUWZJt0kAdHWdp3XMKHsUN/z5ueK5xYgUCD88auU0IGp1njM2E22wAASgbBuTt+4bGOKGWIyIbz2IpJUMr9aGiwAghUQKl9nzc9F7p2j4fKrWXl4Hz+iLuur+44iWVzRmNT5ZmI14cWmzx7uRXAJawtmwy3x4ch6TpkJKnQ3Nx7iR3af2/p6QZh/xNVRw1LtN+AXB64QOO4QDill/OiqckGny9x4y8GQ10IGWz7Go1U/deqFZg/I1cUevzEPTdLtn+hEWwVK8eILCOuN9kkXxeaA3Xg6BU43V7RhWnloWr86J5pQnrl0LwRj8cLc5MN8He9vY/2PSTCMU+U/QD6bl+68htIMiglF8r9929PE5ZkCWQUlomuZVSsHKl66fBX+NvO/721v/FSL+KlnED8lDWWcna3g5VwHagjR46A4zjMnDkTQGBOVE/MhTJqFXjyvuk4dakJvB8wGVVotnpQUpQHIDBh+NUdJ/HkfdNx4WqrcKLNNmmRkaLBy9vaVqi/d3EBKhaMw8Y9pyPmQAEQxQhXLBgnefdGFuz8hC9m2+V1k/xAQW5S237xwMY9pyPiksPTjhp0LBbPGolNlVXYe5iVns+kZVHTYJcs9/BMvdCYtg89CX3G2cuteH7zMawtnYwMowrgu3HgCCGkm7RaOYam6/C9silwur3QqBVQqRiUFedHjLL7eT/KiwML2775wVe449ZRqFgwVshgFpor9drOk7DaOaxeXohUvQq//vMRcbsYTADU0OLCZ9UNvb+sAyFReDxerLxtHDZ80HbN8t2lE2C2BEZgQ3VaFpzjvOvgxbZlQYzKiBu1oeubfk1fTkg3JVwHymq14vnnn8emTZvAcRy2bduG//zP/+zeRoMLzYY3AKuXF2L/55dFSR/eP3gRnE+c7jY0j6n9CFJ5cWD+z+hhSUgzqmDUsxieMRWNrS4YdEqcvdyMWycPQ6vNLXn3RlgoETEsTNsBi53Dr14/LNq+aF0mQJR21Ob24b9ePRQYpm/xYVcwvETYj2BjmBzlrtNQkzbqonX9vqAdIYRIsNm9qG924s2wC8iH75yIwydrUTI7D0pWhmEZBryx66RwTqhYMBacj8fru07hpw9+Dd8rmwIP58P1Jgd2hS2m/vLWE3j2kVmSbZ/N3basQ3jnKzNV0+NZSQmJhlXIoVTIsWzOaKEj7+F8MOqVuHdxAZyuwLXAd5cWwmRUY+QQY1s95sXndp2ahZvzYuqYaXSOJ3Et4Vrgb37zm/jiiy+wdOlS8DyPiooKUUjfjZBKovDy1hPCgrjh2evadxo6in/neT84Lw8wDMADrJzB/2w6ipKiPGHO1JjhSVh391Rcqm0F7w9k9lu5sEBYKNHi7GRh2k7YnFxb6AgCI2mNLS7YXIGJndfPNUCrUsCoUcCoYSMSTzS2uLCp8gx+sWpG4PMkRq0iRpuCC9cBEDeeXVnQLlpadUII6WEuj0/oPAFta+Csu3sq1r/1OUpm5wmL6Iae37jnDNaWTcZrO0/iy/NmbKqsQum8fGzZWyXatpsLLDmRk6aLaPssTq/ksg43jUqFm+NhtrhgSlIHzgc0Uk96CcMw+NN7JyNuiC6bMxrDM/XCaGqKXoUUHYsUbbtzePtzO5Ti5wmJQwnXgQKA73//+/j+97/fY9vraCHE8L+HZ+qhZGUoL84H7w90RoDItaAKcpORrFdh04cnRJ2LJB0LN+cTMi9VHqrGzMIhotXtH1sxCQW5ScLJssUuXbZO14ACAAZotnmw/ZPzoqH1wydr0Wz14L/+dDhiVCta6u+IFLr+XhxRipZWndKh9imGgWjieiLPhSKDmztKIh3ez2PZnNGS6zW5OR8u11mxeNZI4TG1Unr+a7QU5C6JtXcMOhbXGux4aWvb+WPN8kJMykulThTpFVaH9HUG7/cLddyUpMb/e+tzSk1OBo2ES2PeG0KdhnBSSR/0GhY/e/mf2FRZhe37z2PRrJE4cbYe311WKLw/26TFXd8aK5z8gLZRI5VSIUzUfP/gRay8rSAiEcPv3/4CFntb2k+dmpUsm07d+eiTxcFFLOC4ubIKK2+7SXJhR4uDi5r6WzKFbvCuk3BntYca1Ghp1Skdat9KMajx1/0X8Mp7X2HrJxeFJBOEJJqUKOcAffAmVYpR+nmeBzZVVglNH4PAHJHw9jM0d0RKWpI6YrvzpudGnD9e2noCZounu7tJiCSDVilZv2UMI9RxrYpFrdlB52IyaCTkCFRPM2oUePjOiXjxneMw6FjMm56LYRl6KBQy3Lu4AG4Pj9xsPV7aejyiM/LDb0+F2eLC2rLJMGhZKFk5jlU1wKBjUTJNHDpnd3H4YcVUnL9mCayjEOWuZ/joktvjxb2LC2Cxc0JsslEXiDEWhsmjiDayFu1uU+hzw0eWUg0q8LwfNfX2tlA69G54XbRyxzTqRnpUU6sTDS3O/i4GIb3Kx/vxbxWTodOo0GJzI9mggt3hhkzGYFPlGdy7uCAioURoXqyb8yEzVRtMLKFCq92F8uJ8OD0+wA/sOngRY4Yngef9sDk5qJQK2F0ckvUqGLWRodDDMvSS7Z/Z4oJJT4vpkp7n5Xl8r2wS9FoVrI7AeZ2BH/VNDmwIJkdpdQQ68HQuJoMFdaBi4QdGDTHi3sUFUCsVoox6ZcX52P/5ZZQVByYMhzPoWDRb3Xjtva9EE4+T9Eohk134xGCFQga7yytMGL53cUGn4R5GvQrcNatoknHFgnEwajs/kUYLxzMZ1R1/biieWcuKQumyTVo8umISGltcePGd470WXhdzGCEhhPQAP3jYnD78fxsPiTKnpibLcf/tN8GoU8Ji9+CpB76GkxfM4Pm2dQCzTVo4wtr10HkjNN8026RFs9WDP/z1eMTaeWtLJ6MgVxwKzfH+qO02Ib1BLgNcHh7Pbf6XqP6n6JVIMahgtXNQK9tGVUXnYpqvTBIUhfDFSK+WI8uki8ioF1pR+8V3jmPe9FzRe6TWcHrxneNIMWgkJwbbnV5hXSkAgB/Rwz2YQAIJm5PDP09cxdqyyXh8xWR8r3wy/nniquQ6Pu1FC8cLpR3tLEwvPJQuLVmN4hm5+PJ8k9B5Cu1bTEP6wf2pabDD4vKK5pfFWm7JMEJCCOkuvyyi7X952wm43Tx43o+/7DmNjXvOwOrwID1Zg+2fnEdjiyu4bMV4vLL9y4jzxuJZI1FePBb3Lr4JVxvsmB/WeQq97vktx2Cxc6JQaJNBiTXLC0Xt35rlhTAZ6QYS6SVR6r9MLsfK2wqwtmwy3t1/LvJcHJyv/KMXDuIXrx7Cj/7wD5yqae3w/E5IvKARqBhZ7ByqapolJ/TmZhtQUpSHsTnJyDZphTS2malayVALH89LPu7x+oTOyNxpOTDqVHir8rRogcVdBy9i5BAjLtfb8fyWY7jv9gLMnZ4rdLyyTVqsKilEfasLYJiO7/ZES/QQlnbUwfmgZeUw6lhY7G13kWQMcL3ZKYQiZqZq0dDihELOdD28ritJIYJ3s5J0LJ5ePTMQ6kIpzwkhvajJ4pJu12xubKqsEjKyPrfpmLBERWaqFmnJaly42ip53kgxqkUj9Q/eMR4GHQt3i0/8Ge3bTh6YlJeKp1fPDITtGdWBzhMlkCC9JFr9tzk5XK6zIsukw72LCqBXs6JzcbT5yrFmCSZkIKMOVIxabB7wfnFGvbRkNRbPGil0XkInQbuLQ0aKFs0Wl2SoRWqUEDk5I0O2SSuEcZQU5cFq54SVv0OvU6sU+PUbgUUXh6TphXWcQqNAv3nzSOcdkZBoqcODj+flpKKh0RqxDlZ5cT5USllEKOK6iqmS+8YwjNAJbC/mRjZKRysnXUedJ0JIr0lLlm6zU41qUUbWwA0yPzZVnoGKlePp1TMxLjcl4r3zpudGjNS/uuMkls0ZjU2VZ0SfIZkQiAdMemXbnCfqPJFeZEqSrv9adSDx1YvvHMfTa2ZGJIui+cokkVEIX4ySDSocOHoFZWEhdfOm50aE4r264yTcHh71TQ5hVe7wUIuH75yIdz8+K9pOqEOybf9Z3Lt4vBDGEUpnHv66igVj4eN5lBTloXRePpotbuHz507LkQwBudbs6jQsriNSHZxNlVVINWoj9v+NnSfx4B3jRWUuK87HS1uPRw3j66iR7awclPFnYAilNJfLGcrGRxKOXCaTDKfmvF6oWDkMwZAlFStHdpoOQKB9cnNe+Px+PLR0gui9WSbp6ITMVK3odQ/eMR4Wh6db7Tch3aVk5VizfGLEef3/tp0IJLzifKhvdkbU02gZjPt0vnIXpgcQ0hU0AhUjo1aBigXjsHFPIKROpZRhaIZB8iSYk6WHXsPiv187HAhxC4bgqZVy6NUsZk4cCqNOiXUVU+FwckhP0eC5zUfR2OLClXqrsM1QOvOS2XkYnqUHq5Cj1erGL1/5l5ANUK1WoLx4LPYero66aO/xc43Yvv9822gUYpjUGQyVq/7qOuRyBuXz87HrH4FJ0aHtcr7ILIG1ZgfsLk4IYWmyOIXJ1NHuOsWaFILuZg1coZTmTS1OpCZpsHz2SFoXiiSM+mYndgXb4vBw6or541BenI8RWQbcf/tNGJKmh83JoXRePk6crUez1YONe05jya2jsGzOaCFTql7LSrZ5GrUCa8smo7bRjlFDk/DHd0+A8/GYNz0XwzP1GJqmi20SPk3cJz2oodkJh9Mjqv+h87o/GJlTXWvF85uPiaJeQvOV20eN9FXIPc/7ac1I0muoAxULBjhV3Yr3/3EBa5ZPhLnVBbVSjsZmh+RJ8NI1K2SywMW9AYELe40qEIrx27981jZX6Y4JsDo8SDGokJ6kRmOLCzJZW5hgaC6UTAakGlXgeeBqvRXl8/MhYxhsDKYPDd0N9UM6OxP84rC4q42OjhsUiVC58uJ8LJ8zGls/PidMjpYzjOTn5Q1NxrkrLWixuuDmeMy9OQcHjl6Jetcp1kaWsu8NbJTSnCSqUKax9uHU2Wk6HDx+Vbio/F2wfVexcjxy10S8/48LWHlbgSg5UFqyGhrVKDxeNglX6uyi5Sde2X5CaF+XzRkNzsdj0ayRkZn5OroApIXGSQ/TqRW46PRi+yfnI86/I7KMWFs2CbyPR+m8Mbhcb0VGigYmgzL6POs+qoe1jXaag0V6DYXwxcDi4LBh9ylMH5+NX71+GM9vOYbnNh+DTMagYsHYiGHtfZ/VgPcHFs1dNGsktn9yHk6XT8jIJ8xV2vAZXtv5FZ758xEsmDkS2SatsNBi+Hv3Hq5BVXULnv7Tv/DmB6fh9vBC5wloC6kbMyw5IjtTqDyh1zVa3J2GwUUL2bPYOcydliNsd9v+c7h3cQHKi8eidF4+7r/9Jvz7t6eh5roFuVlGfHioGlv2BhYVLp2XD6MuSoMV1sj+YtUMPPvILMmTPWXfI4T0ByUrw0MlEyLa1uc3H8XXJwxBTqYxIpz5hb8eR0nRGFyus4o6T4tmjcTuTy/B3OLCto/PYcveKmz7+Bw4r1/Y9prlE/HZ6eu4//bx8HA+lBTlIS1ZHVPYMoU6k56mViswepgx4jfw0NIJMFucaLK40djqxpa9Z7GpsgpPvfxpW7a94HzqUBbJvuzEN1mcMU0PIORG0AhUDFpsHtw6eZhofpEhmJUuM1WL75VPgUopx6VrrWAAzL05B8l6Fo/cNQknL5hRVjwGGcltMe9Sc5VefOc41t09BXanF29Vnsb9t4/Hhg9OoWR2W4a7UIamUMxxODfnw8mLTdh7uCbwHpMWDc1t4XNAoMFTKeVRG5TQHZlooXK8348RQwz4zqJxMCVpUXJrHry8H2/sOgWDjsXiWSOFEbbQfK33/n4BjS0uvLT1ROCuj5aVDi2JlswiXD/fzSKEDE6NrS7888tr+NmDM9BsdcGgVeLitVYUz8iB3cVBp2VRUpQnrO0EBNrMS7WtouRDoba/ZHZexE2wjXtO46cPzoBeJYeclWHe9FxcrrOB9wMyhhFFANhcgc6QVIgehTqTnubhfFCrFOBbXVh39xSoVQoo5Aze++Q85tycA5VCjqrLzaLfQI+O9NxgSGqqUUNRK6TXUAcqBskGlRCSB7TdRQwPq1i9rBApBhXqm13QqORgFQo8/ae2RedWlUwQUpxHm6t04ZoFAGC1c6hvdkQsqhha2R6AZKNQMCIV2z4+jy0fVSHbpEXpvHxY7Zzw/JrlhbhwtbXTBiVaqJyMYZCZqoXD6cX6tz5Hyew8YUi/ZFpexB3YjXvOoHTemMCoGeeDzcV1Hj7YmVg6WoQQ0oOSDUqMH5WG3799DMUzcvG/W74QhTe/uuNLWO2c0EaHwvB4Htj3WQ3uXVwAi51DerJGyNondQ7wen0wJqth83jhcHGixXfLi/OxeNZIfHioGs1WD/7rT4cl29Fo7XeqQQWLs91FKCEx8CMwJ/vV974S1cdbJg2FViXHr14/EnGd0tG85y7pRkhqdpquX+dgkcRGIXwxMGoUKBiRKgxd3zZzRMQI0svbTkCrVmLbx+fgdPkiFk58ZfuXuHexODtduFAssVIhww8qpmJImj7iMzZXVmHutBzsO1ITkRFqbelkDE/X4ndrv4FfPXwLvrPoJgzL0OO3j92CX6yagadXz8SWvVV47+8XRGF35cVj8cOKqYF1nlwczl+3wuLw4KcPfg3ZJq2w/fLifOQNMYLn/fhjaN/CLwKiXBAk69XCNlSsgkJLopEBZpsHVdcsMNs99MskZADhOD82BRdNb98ubwq2y+FtdCjj6olz9bht5ghog6nILQ53h+eAZL0SZpsHzVaP5GLrmalaPLS0EL9/+4uo7ahUqPMPK6bicr09YkHTWBZcJ4T3+SPS7m+qrMK1RgcUCrnkdUpPjfR0JyRVJmNimh5AyI2gW1Cx8APD07V45K6J2PThGZiSNJKdhasNVhh0bNQFdK/UW1EyOw8aVWA06KWtJ9ruipRNwvUmOzxeHhevWTBqiFFyG2ACI1SpRhW+s2gckg1qDE3TQsYwqGt24nqTU9hutilwsvX6eCg4HzhfYLEQzsuL7myuLZ2M81et+N3Gz0UjZvcuLoDX64dMxsCoV2JIqgZVVyzC4rmjhhhFdzql7nqmpaiRbdJi5cIC2F0chZZIkQFfnG8S1Yc1ywsxKS+V1nchZABwhNquKDeKwteByk7TYtmc0UgzKlE8YwRe3tb2u65YMBb3Li7AewcuoKw4XxRh8MhdE9HQ4sT5q1YMy9BLfo6ClYnmVIU/J7SjEqHOAPCjFw5GXITmDUuGktI6k064PN6oYf3NFnfE4zIZemykp9shqQM5aiUYmnj9XAO0KgVly4wz1IGKlR/Qa1g8XjoZx8+ZpbPPDUtC6bfyhbuM7Z9nGGDLR1WBO4LfnorvlU0B5/Mhy6TF6UstopOpKOQvbBsjsgwomZ2H3Z9eQknRGNQ12aFTs3h523GsvK1AuAgPJap49s9Hwk7e4+D1+SJi75/fcgzL5oyOGDFbd/dUNLTY8Mb7p5Bt0uIHd09Fkl4pLJ5r0LEoL87HpsoqYVRsU7uQw5feOY7l3xwDnVqBZL10aElHi+wOBmaLRzhuQOD7f2nrCTy9embbQplxJLQmVAilMyfxLsWoEo3otG/DQm2XipVDycqxqfIMnlh5M97+qKot9TOA3Z9ewryv5eDWycMwMtuIJ++bjiaLCypWgfRUNb48Z8a2j8+hpChP8nN4H5Bp0nU+r6PdRWNNg13yIrTJ6kSWUd2TXxVJQEZd9LB+Y7tRJhUrR06mEazUeoA3MJcpYbPvUrbMuEeBQjGyODicvdwKs8WFvYerIxa4XVUyHqxChm0fn4NSIb3ooiyY9rusOB8vv3sCv9lwBH4+cIG5cc/piA7MQ0sLI7bxp50nse+zGkwfn431b32O13Z+hV+/cRgLZ46An29LLiGVqGLjntNINUqPnvF+f8RjdU02jBqahJULx+He28fj/731Ob662CR0khpbXNh18CKWzRmNby8Yh5wsI35QMRXlxfkomZ2H9w9eRK3ZgVe2f4kLtRbIGOCxFZMiMll1tMjuYGC2uCSPidni6qcSdU9oTahX3vsK2z65CJaVCQvs0iK7JB7xfuC+xQXQqRURC4WXBzOdhtqz+ubATS+e51E8IxfbPzkvZCMtnpELmYzBgWNX0Njqwq9eP4znNh/Dc5uP4mq9HR8eqoabk15Evaw4H7VmG97YeRKPtmtHO8tGGm1B01SDpje+LtKfemHhWC/P497FBRH1flimDiol0+5aaAK27T+L3238XHxeD3YY2oeRdla+RM2+S9ky4x+NQMWCARpaXRieqUOqUQOrnRMWuAUTyJBkc3BotXowf0YudBoltu0/FbHo4n2Lb8K6u6eg2eLC3JtzIGMYeHkfWmxu6QnFPh4/uudmWJ2BuzUXrrZi7s05ULEyic7RGfz0wRltd2qihJqkJauj3kkKV5CbDKNOhV+93jZR+cE7xoPjxIvnNra4sKnyDErn5eMvewLZAzdVVom25eZ8SDWqYXF4kKJXSi7GN5jD+ExJ0sfEFMd3hkNrQqUa2xbYBUCL7JK4ZLG64fEGlo8w6FgsmzMaWSYt9BoWVxtsWFVSCPj9aLW5oWQVeGLlNBh0SvwluPB66CKx8lA17rntJjy0tFCIDgDaMrGWzM7Dlo+qRIuoZ5q0qDM7UHmoGrdOHoZaswOpBmVkNlIgMklE8GcWba297DQdzGZbf3ylpDf00qiGy+0FAJQV5yNJp4JGJYdeo4BcIcPpSy2ic/q+w9VYWjQa1detaHVwUChlaGxyQadhb2xNpgTNvkvZMuMfdaBiYHN54fIEGpBL11qFULVQOF7FgrHY/eklrCopRN6wZNicHslFF2uu27D9k/OBO5ZHamC1c/he+WTIZTLJC+iGZge27T+PxbNG4oW/HhfFykv98C5da8VDJRPwx+1fCttov025nMHDd04UJoSGyp8SvENp0LFYNGskRg1Jwq/fOCxq7F7dcRL/cf/XooawWO0cmCiL6143OzAkTQelQia5GF/cD8d3g8mgjJgTt2Z5IUxGZULMgaIFdkm802uV2LgnMEfU3eLDpsozULFyfK9sCnjej1e2n4DVzqG8OB9v7zsLq53D2rLJkplUVUoZOK9Psg2XhcWENLa4sP2T80K209XLCnHiXD1UrBx6NSue14FOLpyjXISGh9qS+BdtVKO76cR1ahZv7DoVcd7+xUNfx8ghRjy/5RgaW1xChuLQwtGBc9lEvH/wAqaNy7zxDsNAnsd0gxI2NHEQoRC+GFicXjRZ3JDL5Hh91ynsCt4ZLJ2Xj4oFY5Fl0mHlbQXg/X68+M4X+NN7JyNC+EIL2rbP2lRz3YbXd56MCNd4+M6J8HA85k7LicjGxCrkkuEYwzMNeOdvZ4VEFVKhJnqVAqOGGLFszmg8XjoZZcX54Hk/miwu/GzVDJQXj8Xmyip8dalJsrE7e7lZmJ9V+q18lBfnY13FVJw4V4/y4nw43RzWLJ8Yse97D1ejxeZO2OH4buGBSXmpeHr1TPz4Ozfj6dUzKYEEIQNItAQ4LMtgV3AUvX3bzoCRzKSq07Aw6JSSbfjY3FRR2/jQ0gnQqOUomZ2Htz+qwpxpOZLtZUzhQP24oCnpGx2NanSH1SFd/6trLXB7AtcpgPTUgZe2HsfKhQVQsjLpzJODtMNA10Lxj0agYuDz+aBRKVBTZxHuQO77LLBgbZJehYvXLNh7uFq0DkhobtDwTD2qa62iBW1DIXZpyWqkJ2tQa3aIQgLhB3RqBa41ikPx0pLVmDstB7yPj8jgVFacD6vDI2Tac7oD7ymdNwbJBjUamp0Ylq6HXq0AGCAzVYMP/3kJc6fnCinXy4vHCtn5gCiTpQGkGFS4e8E4XGuw47PT1wEwWPyNPKQYVNjwwVf49m0FWDZnNHi/HxqlHAqFDBXzx0GtVMDm9qEgtwvD8Te4gF7c4QGTXtmWNII6T4QMGFq1QrI91KlZoV0HAm21kpWh9Fv5cHNeycV1za0uNLY4JNtwc4sD3yubAn+wkXt3/zmcvdwqbN/u4iTDsSgciAC9N6qh00jX//QULXieF0ZOw9fLDAnVebVSgYoFY4UkVqIOQyKe0zsTNirs4HzQsvLB+13EKepAxUCrZvHqjiNCZiSDjsWSb4zChuACsaGT3/sHLwqrzG/5qAqbKs9gbelkyZC1JB2LVXcUwuHiUF48FnsPVwshfypWjh9UTIWKlcHN8aLQus2VVSgpysOBo1dEHa7KQ9W49/bxQoa8ULnKi/MxJF2HvGyD8OO0ODhs2VuFlbcVCEPtAMD725JQhCYxt0+z63L78NsNn8HNBdKkL//mGKEDpmLl+O7SCfDzfqhYGT48VI2FM0eIvqfy4nwMS9cjb4ih8+F4ylJDCBkAlAoZHlo6AX98t62te2jpBChZGdKS1UIHScXKkZtlxO/+8lnEuSG0uO7lOht4v1+6DV88Huvf+lz03marW3hvqlEt2fZROBABos916+6FOQM/Vi8vxMthYeYPLZ2Av350Bvcsugk5mUY8cc/NMGpZyXqoUsrx8rYTqFgwFk+vngm7i0uYuUzdEhwVzstJRUODdXB/F3EoITtQ7733Hl588UV4vV7ce++9+Pa3v92t7YXu7h09U4fHSydBxsjw3OajEaEZoY5TaMKwipXDqFPi8dKJqG92BSZfquUwaFjUNztFJ8o1yyfC5eHQauMwLF0Lu9MDrUqBUxfr8NDSCWhscQmdmX1HaoTOVOj9q0omwGp3Sy6++NvHbgHP+1HTEEh57vRwWHlbATycD+XzAyF8bo7HiGyDkDo9NIl52ZzRyEjRQKtmoVbK8MJf2yY+3zp5GF7Z/qWwLhQYoKHFheFZBqQYVFizfKKQhCK8PMvmjEZ6srrTO6O9Fc89YA2W0TZC4ozLw+OdfWdFHZ539p3Foysm4845o/HOx+dgtXOoWDAO1xptkueG7Z+cx5rlhXB5vGAYBhULxuFqg12IXvjuskJs33+2w/dmpKgAb2T5euvCmcSZXkq4wDAyvL23KqL+L7plJOwuL1psLiTpVfjocDWeWDkNZ6+0gPcDB45ewfJvjsG7+88Fk1hpYDKERVpIlYvOgyROJFwHqq6uDuvXr8fWrVuhVCpRXl6OGTNmYPTo0Te8TRUrQ7ZJi3tuGwfOC7Ta3JKhGZkmLcqLxyJvqBHlxWORpGMBxg8fD1FnZ93dU/F/wTuZofe+tPU41t09FTs+uYC7F4xFdroeDU0OlBbng+P80KoV+F7ZZNQ1O+B0+/DpiWsomZ2HnCw9FAo5mlqdSNKrhHIBgXhkrVoOq9OLc1eaYXf5cOJsvRC2Z9CxuHPOaLTaA3HyNddtqJg/Fhs/PINaswNWO4dhGTqkGNSwOjyQy2T44benovq6FR4vD41KPDIW2r/MVA1USjlORZlHxfv9qGtxQaGUwekMpOs2JamhkMtQ1+RAeooGft6P+hYn1lVMQXOrC802DzQqOXjej+vNToBhojes7RpgGQM0WdxtjTETWHsp9Lkmww0ma+jJhr6j0TYkzgmF1ogi8cjh4oTwaAAAA3A+Hg5XoO38fulkWBxeOD0cLO3mm7g5H/JzkvC9simob7YjO02P13eeRK3ZIWQ3tTs5/PWjKtw6eRhOVbcAAMYMT8LSotFQKmT42aoZsNo9aLJ4kBocVWrfxiXp2Njv7ne0gCddwMa3Xki40GrzoNbswJaPqoSpBLdOGYacLAM0KgX2HrqE4q+PQMHINPxmQ9vo6yN3TcSxM3U4e7kVKlaOoSZtoDzt65hWAYudQ4vdA4Zh8NLW48Lvg6JOSJf04eLECdeBOnjwIL7+9a8jOTkZALBgwQLs3r0bjz322A1vMzNdhW8vHIe6JpcoXK19aEad2YHtn5xHxYKx2P/5ZSycOQI1120Rkyov1bZKZ9GrbcWtk4fhD28fF7bdPiSvrDgfB45eQfGMXFQeqsa8rwXSoYe/5t7FBeCCKXfbv2/ZnNHY+rfAXc7yWflweXzCvKdQiN26iqmoa3KgqdWFZqsb/7vlC9Hzu/95CVY7hwfvGI8l3xgVsTDvS1tPBJJT+KXnUckYBo0tDtidHF7eFhYSUDIB//zyGsaPShPtz0MlE3DhSjPGj0rDlr1nOw7nk+iIlBfnY9fBi7DaOfywYirsbq8oC+Ga5YVdT9rQw+GFHY22XW10JEwYY2iNqKYWJ6U0J3FDr2Ulw6O1KjmuegJzVZ/bfBTlxfkYnmEQvTfbpEWz1RP13PHqjpMomZ2HWrNDmEsyZngS5s8YgQ0fnIrI5Le2dDKUChl+t/FzyTZubelk5KTrbiw0GhQ2TSLpgnMApW6YPrpiEpbcOgoXa61CuD4QOIe98Nfj+OG3p+F0dQtWLiwQEiSE17Fskxal8/JFWWjDfx8JHXVCelYfT/tIuCx89fX1SE9PF/7OyMhAXV1dt7bZ1OzFlXq7cAIE2sIr5k7Liciyt3HPGdw6eRg27jmDJJ0qorMU6liEU7Fy8DyEpBFJOpVkBr7NlYG7lJsrq3Dv4vGizlPoNRY7F9GpCb3v1R0ncevkYYHvJlUrGfLn8vjw+y1fwO70RjSI4VmmXt1xErnZRsnOYJJOhX1HalCxYGxEJkCjjkVGilboPIXe88ftX2LJrXkRZYr2uNSic1IdkfAyn79mETpPoedf2noCZkvXshT19CJ40SaBN1rcCbfYXiiteVNr7KnNaSFe0r8i29lNlVWQyWTYVFkF3s8Ij7FKmajNe6ikMOq5I/Q3mMBrR2QnQcXKsbRoNF7Z/qXQ1rf//Z+/ZonaxnXWPnTUdtHinkSKUhk4d8+bnhtRH//w9hfweP3QqljJc5jV4cH3yqcIF7Ht69itk4cJnafQe9r/PrqbRZAMDn3dfiXcCBTP82DCFoX1+/2ivztjMukjHjt1pVWUYCHEzfmQZdJibdlkvLbzZESWPTfng0YtjxiFOXD0CtYsn4iXtraNgpQV5wsLJapYOdQqedTFcEOPX6kPhNJFdtCkyxp6X+gup8stvRaJw+UVvV5qO6F/uz0+yVEmjUqOxhYX3vv7BZTOG4Nskw5+APVNDmz9+BzuLh4nuW2LQ7ojEe1xB+dDXk6q8Nj1cw0dljnad9Nsc2PcSJPwWHq6+C5ye9E+p315YuXxS6+fpdNIn5Ru9HNiIfUbCMeygWZDrpBDoVCAZRUx/bv9exSsAqmpHX9WyOs7T6LJ4kaqUYX7bh/fvR3sos7qQiIZTPsajVT9P3vdGuXiMJDe2RlcaNTN+eBy+7C2bDJ4vx+Xr9vQapduu8LnysoYBg/eMR7v/C0wzyQwLzV6G8z7/VG311n70FHbBb/05/Vme9NTEqnu9ve+tP8NnL9+DalGFXy8dP1wur2S1zqhBBIWuwfjR6UBkKh/nVxnqFg5skx6pKfHdq5or7+/y1jFSzmBgVvWnr4u60zCdaCysrJw5MgR4e+GhgZkZGTE/H6z2QaeF5+cTElqXK6zSTYOSTolXtnxpSiVbWhhWRUrh4pVYOVt40SZ6ObPyIVBK8e/fXsqLlxtBc8HMjCFwvLKi/NR3+QQttX+M0Pb9nC8cOcy/DWyKIvZht43ZngKVKwcrXaX5Ov0GlZ0B1VqO6F/y2UMVpVMEIWnlBfnQ6UMDPk3triwZe9ZrKuYivXBkBMAURtbo1bZpce1rDyQvSZIq5JOtxoqc7TvJkWvEraTnm4QbVNKtM9pX55YKWWQnASui5I++UY/J6SjBlDqNwBAGP3huMDFos/rg9frBcd5Y/p35Hu8aGmxS34W0DY/Si5nUG+2o6HFCS/nRVOTrc/C/mKpC4lisO1rNFL1P1kfpf0J/j61alb02E9f/hTlxWOx/ZPzKCse02F7/PCdE9Fqc8Pu4lBz3Yazl1vxxD3TOmyDZe1uCrZvlztqHzpquxClfexue9PbEqnu9tW+dOU3YNApsfVvZ3H3ggLJ+qGQy3CtwRaRube8OB+NLU7cNCJV2Kdo9S/a72Nt6WQoZf4b+k7ipV7ESzmBgV3Wrl6XdbcjmHAhfLNmzcKnn36KpqYmOJ1OfPjhh5g9e3a3tpmRqsKwDF3E4rgP3jEeHx66hBXzIhfNPXDsCh6+cyL++tGZ4Ek0H0/cczPW3T0FudlGbN57Fq+9dxL5OSnIzTbgnttuAsMARVOHw5SkxoeHqrHvSI3kgrwHjl3Bd5cV4sCxK5KvGZKmxUNLJ0i+79EVk2DQyfH06pnIH56Mx1ZMEr1uzfJCvPfJOXx36QQcOHpFMgRv32c1wr837z0Dr9eHZXNGo3RePpbNGY1h6XrIGWDZnNFYuXAc1t09Fds/PitaLPi9T85j9bLCdqEuE/DegfMR+xPtcalF56QWpwsvc94QIx6+c2LEPpuMXUv32+OL4IVlT/rFqhl49pFZKMhJgl4lT9jF9kLzoV557yt89PlVbD1wEa+89xVeee8rbP3komS4XigJBYXzkb6UnqLCmuWFEe3GzgOB7Hjb958VHtu+/1zgpo+ORcWCcag8FBnK/NiKSZg4OhXPPjILE0elIC1Jgw//WS20kds+PoeHSgJtcPtF1teWTkbeEGPUNq6z9qGjtosW9yRSMlJVmP/1EXhrzyk8eMd4Uf145K6JsDs92HXwIioPVWPd3VOx7u4pKCvOh0HLIi1ZLTq/tq9jgYicwqi/D5p/R2LV1+0X4/f7E65qvvfee3j55ZfBcRzuuusuPPTQQzG/N9rdd7BAY4sHTrcXHo6HTs3C5fFCq1ZAyTJwe/xotbuRpFPB7uKgVbNgwEMmk8Fi56BTK+DifFCzgYVlmyyBtJ9KhQxOFweVUoFWuwdaFQsf74NcJoPD5YVRzwJ+Bs1WN5L0Sng4L2SywDpSPh8Ps8UNg04JDxfICJWsV8Hn98Pj8UKrYmF3cdCpWbg5L/RqNjIzUygbTijlqZ6FudUDp4eDklXA5uSg07CwOTho1Qoo5DLYHB6YjCrIGAZNVjd0GhYujw8ujw/pSSphsmdou6kGFXjeD5uLg4pVwOLwQKVUINnAtmXhM6qhUASz8CVr4Pf70dgaeFytksPc6hK202l61nb7JJMFyim8JzwLnzHYuIclkIj5Dkv77663Ugb3wufc6AjU67urUBv8bsbmpKDJ6kJDszOmf8f6HgBIT9Zg1ZKb4PP5IZczeOW9r9DQEngdZEyfJaEYyHfbetpg29doOjoH1JndaLa6kGJQAwwP+GXQaBS4Vm9DikENrUaB640OGHVKON1eJOmU8Pv9aLV7Au2k2yv9Gw7+xkNtpN3FwZSkht3lhc3hgU6jhNsT9l500sZ19pMIfp7kAp591a71oESquwNxBAoAwAL1TW7YXV6olXI43V4Yg3XPz/vRYvNArZSDZWVwurxQsnKoWTlS9Gxkgqb2dUzHCln4erLOxUu9iJdyAnFQ1o7atna6OwKVcCF8ALBkyRIsWbKkZzfKAWk6JdJHmMIqj6rteTWQaQz+bVSJ3pquF/8NBLYVkhLscJjaL3qYFPb60LoJ4Z/JymFUh/es1WH/DrxOWG8BUdZdaJ/y1Bd6T+D140eloaHBikxD2+em69vKqVcFq5BOvE2g3XaDf4vLBGj1ctHfSUOMwr9Tw74PXVrbB3SanrX9PoWX0x/4z6QPW4viRlKYS31Ob11k9NXnDCDh6c7D054DbUkoCOlTXKCNn5CXFnEBYRza1lgbskMn5bY2U2jLQu1oJ+1wqG3SsXJkCG2v+L0dtnGd6WgBz0HY3pAYcECGQYX0UZH1H2h3/RJ+zSN1fm1fx3iqc6SH9OHixAnZgSKExLfwdOcjhyYJE4rDtV9TCohtXan2oX+URp0QQgghXUEdKELIgBQaaUo1qiWfD+9kAYApSYM754yKmpQCCHS4/vrxBSGFekdhgKGOllzO9HgnK7wTRx04QgghJL5QB4oQErfCw/lSjeJRq1a7R/LfTZbOQwDlcgZbP7kIi4ODUctGdLKidYA6SmwRnlVw6ycX0dQaOY+rv0bHerOzSAghhCQa6kC10z4k6EZfk0gG2/4Cg3OfQ6LtO8MwSDWq4A2mJE8yqMDIGMAf279jfU93tm0JW3AxfC/C/21K0gjvSU3SQC6XgWHEnYb230H4a2QyBh99fhWtVjeSDCp8a+pQ8Lxf9PjQDD3sTg4tVrdQtvDXSW07/P3t39ObQp9rc3qh1yj65DN7W3fKP9jOAYmyL4myH0D/70tnn9/f5euKeClrvJQTiJ+y9nY5EzILHyGEEEIIIYT0hoRbB4oQQgghhBBCegt1oAghhBBCCCEkRtSBIoQQQgghhJAYUQeKEEIIIYQQQmJEHShCCCGEEEIIiVHcpjF/++23sWHDBuHvK1euoKSkBPPmzcOvf/1ruN1u3HbbbVi3bl0/lpIQQgghhBCSSBIijfnZs2fx6KOP4o033sDdd9+NN998E9nZ2Vi9ejW+853voKioqL+LSAghhBBCCEkACRHC94tf/ALr1q3D5cuXkZubi+HDh0OhUGDJkiXYvXt3fxePEEIIIYQQkiDiNoQv5ODBg3C5XLjtttuwc+dOpKenC89lZGSgrq6uS9szm20drmKfkqJFc7Pjhssbbwbb/gKDY5/T0w1Rn+voNzAYvptwg2l/B9O+3mj9BxLre0qUfUmU/QD6bl8GwzkgXsoaL+UE4qessZSzo99ALOK+A7Vp0ybcf//9AACe58EwjPCc3+8X/R0Lk0nf6Wu6+6XHm8G2v8Dg3OeQzn4Dg+27GUz7O5j2NZrBdg5IlH1JlP0A+n9fEukcEC9ljZdyAvFT1t4uZ1x3oDweDw4fPoxnnnkGAJCVlYWGhgbh+YaGBmRkZHRpm53dfUxPN6ChwXpjBY5Dg21/gcGxzzd693EwfDfhBtP+DrZ9jWYwnQMSZV8SZT+AvtuXwXAOiJeyxks5gfgpayzl7G4HK67nQJ05cwYjRoyAVqsFAEyaNAkXL15EdXU1fD4fdu7cidmzZ/dzKQkhhBBCCCGJIq5HoC5fvoysrCzhb5VKhWeeeQaPP/443G43ioqKsHDhwn4sISGEEEIIISSRxHUHatGiRVi0aJHosZkzZ2LHjh39VCJCCCGEEEJIIovrED4ygDGAxcmhpsEOi8sLdC2XB4k3dLwJISSxMcDVehu184QgzkegyADFAKdqWvH8lmNwcz6oWDnWlk5GQU4SEPfLNpMIdLwJISSxUTtPiAiNQJEeZ3FwQiMLAG7Oh+e3HIPFwfVzyUhvoONNCCGJjdp5QsSoA0V6XIvNIzSyIW7Ohxa7p59KRHoTHW9CCEls1M4TIkYdKNLjkg0qqFi56DEVK0eyTtlPJSK9iY43IYQkNmrnCRGjDhTpcUaNAmtLJwuNbShW2qhl+7lkpDfQ8SaEkMRG7TwhYpREgvQ8P1CQk4RnH5mFFrsHyTploJGliaaJiY43IYQktmA7/9wP5uC62UbtPBn0qANFeocfMGpYGDWs8DdJYHS8CSEksfmBoRl6KBm/8DchgxWF8BFCCCGEEEJIjKgDRQghhBBCCCExog4UIYQQQgghhMSIOlCEEEIIIYQQEiPqQBFCCCGEEEJIjKgDRQghhBBCCCExog4UIYQQQgghhMSIOlCEEEIIIYQQEiPqQBFCCCGEEEJIjKgDRQghhHQBwzD9XQRCCCH9KK47UPv27cPy5ctx22234emnnwYAHDx4EEuWLMH8+fOxfv36fi4hIYSQRMEwDNa/9Tlee/8UdaIIIWQQi9sO1OXLl/Hzn/8cL7zwAnbs2IGvvvoK+/fvx5NPPokXXngB77//Pr788kvs37+/v4tKCCEkQTicHOwurr+LQQghpB/FbQeqsrISixYtQlZWFliWxfr166HRaJCbm4vhw4dDoVBgyZIl2L17d38XlRBCCCGEEJIgFP1dgBtVXV0NlmWxZs0a1NbWYs6cORgzZgzS09OF12RkZKCurq5L2zWZ9J2+Jj3d0OXyxrPBtr/A4NznkM5+A4PtuxlM+zuY9jWaWM4BrEKOtLTOXxcPEuWYJ8p+AP2/L4l0DoiXssZLOYH4KWtvlzNuO1A+nw9HjhzBm2++Ca1Wi4cffhhqtVoUl+73+7scp24228Dz/qjPp6cb0NBgveFyx5vBtr/A4NjnjhqWjn4Dg+G7CTeY9new7Ws0HdX/0PmE8/rQ2GiD3x/9XBEPEuWYJ8p+AH23L4PhHBAvZY2XcgLxU9ZYytndDlbcdqDS0tIwc+ZMpKamAgDmzZuH3bt3Qy6XC69paGhARkZGfxWREEIIIYQQkmDidg7UN7/5Tfz973+HxWKBz+fDgQMHsHDhQly8eBHV1dXw+XzYuXMnZs+e3d9FJYQQQgghhCSIuB2BmjRpElatWoWKigpwHIdbbrkFd999N0aNGoXHH38cbrcbRUVFWLhwYX8XlRBCCCGEEJIg4rYDBQB33XUX7rrrLtFjM2fOxI4dO/qpRIQQQgghhJBEFrchfIQQQgghhBDS16gDRQghhBBCCCExog4UIYQQQgghhMSIOlCEEEIIIYQQEiPqQBFCCCGEEEJIjKgDRQghhBBCCCExog4UIYQQQgghhMSIOlCEEEIIIYQQEiPqQBFCCCGEEEJIjKgDRQghhBBCCCExog4UIYQQQgghhMSIOlCEEEIIIYQQEiPqQBFCCCGEEEJIjKgDRQghhBBCCCExog4UIYQQQgghhMSIOlCEEEIIIYQQEiPqQBFCCCGEEEJIjBT9XYDuuOeee9DU1ASFIrAbv/zlL2G32/HrX/8abrcbt912G9atW9fPpSSEEEIIIYQkirjtQPn9fly6dAl/+9vfhA6Uy+XCwoUL8eabbyI7OxurV6/G/v37UVRU1M+lJYQQQgghhCSCuO1AXbhwAQDwwAMPoKWlBaWlpcjPz0dubi6GDx8OAFiyZAl2795NHShCCCGEEEJIj4jbOVAWiwUzZ87EH/7wB7z++uvYtGkTrl27hvT0dOE1GRkZqKur68dSEkIIIYQQQhJJ3I5ATZkyBVOmTBH+vuuuu/D8889j2rRpwmN+vx8Mw3RpuyaTvtPXpKcburTNeDfY9hcYnPsc0tlvYLB9N4NpfwfTvkYTyzmAVciRltb56+JBohzzRNkPoP/3JZHOAfFS1ngpJxA/Ze3tcsZtB+rIkSPgOA4zZ84EEOgsDR06FA0NDcJrGhoakJGR0aXtms028Lw/6vPp6QY0NFhvrNBxaLDtLzA49rmjhqWj38Bg+G7CDab9HWz7Gk1H9T90Q47z+tDYaIPfH/1cEQ8S5Zgnyn4Afbcvg+EcEC9ljZdyAvFT1ljK2d0OVtyG8FmtVvzmN7+B2+2GzWbDtm3b8IMf/AAXL15EdXU1fD4fdu7cidmzZ/d3UQkhhBBCCCEJIm5HoL75zW/iiy++wNKlS8HzPCoqKjBlyhQ888wzePzxx+F2u1FUVISFCxf2d1EJIYQQQgghCSJuO1AA8P3vfx/f//73RY/NnDkTO3bs6J8CEUIIIYQQQhJa3IbwEUIIIYQQQkhfow4UIYQQQgghhMSIOlCEEEIIIYQQEiPqQBFCCCGEEEJIjKgDRQghhBBCCCExog4UIYQQQgghhMSIOlCEEEIIIYQQEiPqQBFCCCGEEEJIjKgDRQghhBBCCCExog4UIYQQQgghhMSIOlCEEEIIIYQQEiPqQBFCCCGEEEJIjKgDRQghhBBCCCExog4UIYQQQgghhMSIOlCEEEIIIYQQEiPqQBFCCCGEEEJIjKgDRQghhBBCCCExSogO1LPPPosf//jHAICDBw9iyZIlmD9/PtavX9/PJSOEEEIIIYQkkrjvQH366afYtm0bAMDlcuHJJ5/ECy+8gPfffx9ffvkl9u/f388lJKSPMIDFyaGmwQ6Lywsw/V0gQvoY/QYI6T0McLXeRr8vQgAo+rsA3dHS0oL169djzZo1OH36NI4fP47c3FwMHz4cALBkyRLs3r0bRUVF/VxSQnoZA5yqacXzW47BzfmgYuVYWzoZBTlJgL+/C0dIH6DfACG9h35fhIjE9QjUz372M6xbtw5GoxEAUF9fj/T0dOH5jIwM1NXV9VfxCOkzFgcnnNgAwM358PyWY7A4uH4uGSF9g34DhPQe+n0RIha3I1Bvv/02srOzMXPmTGzduhUAwPM8GKZtTNnv94v+joXJpO/0Nenphq4VNs4Ntv0F4m+fr59rEE5sIW7OBwfnQ15Oape21dlvIN6+m+4aTPsbz/vaU7+BWM4BrEKOtLTOXxcP4vmYh0uU/QD6f1+kfgM9eY7pS/39XcYqXsoJxE9Ze7uccduBev/999HQ0ICSkhK0trbC4XDg6tWrkMvlwmsaGhqQkZHRpe2azTbwfPTx6PR0AxoarDdc7ngz2PYXiM991qoUULFy0QlOxcqhZeWS+9JRw9LRbyAev5vuGEz7G+/72pXfwI3W/9ANOc7rQ2OjDX5/fMcuxfsxD0mU/QD6bl+6+hvo6jlmIIiXehEv5QTip6yxlLO7Hay4DeF77bXXsHPnTmzfvh1r167F3Llz8corr+DixYuorq6Gz+fDzp07MXv27P4uKiG9zqhRYG3pZKjYwA2EUHy6Ucv2c8kI6Rv0GyCk99DvixCxuB2BkqJSqfDMM8/g8ccfh9vtRlFRERYuXNjfxSKk9/mBgpwkPPvILLTYPUjWKQMntvi+QU5I7Og3QEjvCf6+nvvBHFw32+j3RQa9hOhALV++HMuXLwcAzJw5Ezt27OjnEhHSD/yAUcPCqGGFvwkZVOg3QEjv8QNDM/RQMn7hb0IGq7gN4SOEEEIIIYSQvkYdKEIIIYQQQgiJEXWgCCGEEEIIISRG1IEihBBCCCGEkBj1axKJkydPdvj8+PHj+6gkhBBCCCGEENK5fu1A/eQnP8GlS5eQnp4esSAhwzD46KOP+qlkhBBCCCGEEBKpXztQGzZsQGlpKX73u99hwoQJ/VkUQgghhBBCCOlUv86BMhqN+MlPfoLnnnuuP4tBCCGEEEIIITHp94V0i4qKUFRU1N/FIIQQQgghhJBOURY+QgghhBBCCIlRv45Avfbaax0+f//99/dRSQghhBBCCCGkc/3agTpz5gz27NmDhQsX9mcxCCGEEEIIISQm/dqBeuaZZ1BbW4tvfOMbWLx4cX8WhRBCCCGEEEI61e9zoH72s5/h888/7+9iEEIIIYQQQkin+r0DlZeXh5/+9KfC3z6fD7t27cKKFSv6sVSEEEIIIYQQEqnf05iHtLa2YvPmzfjLX/4Ch8OBlStX9neRCCGEEEIIIUSk3ztQFy5cwBtvvIEdO3Zg6NChcLlc2LdvHwwGQ38XjRBCCCGEEEJE+jWE77vf/S5WrlwJlmXx5z//GTt37oROp4u58/Tcc89h0aJFWLx4sZAS/eDBg1iyZAnmz5+P9evX92bxCSGEEEIIIYNMv45AffXVVxg/fjzGjBmD3NxcAADDMDG991//+hf++c9/YseOHfB6vVi0aBFmzpyJJ598Em+++Says7OxevVq7N+/H0VFRb25G4QQQgghhJBBol9HoD7++GMsW7YMO3fuxDe+8Q2sXbsWbrc7pvd+7Wtfw5///GcoFAqYzWb4fD5YLBbk5uZi+PDhUCgUWLJkCXbv3t3Le0EIIYQQQggZLPq1A6VQKLBo0SK8+eab2Lp1KzIyMuB2uzF//ny89dZbnb6fZVk8//zzWLx4MWbOnIn6+nqkp6cLz2dkZKCurq43d4EQQgghhBAyiDB+v9/f34UI53Q6sWPHDmzatAnbtm2L+T1r1qzB9OnTUV1djd/+9rcAgH/84x/405/+hFdffbU3i0wIIWSQ+O8/HQIA/McDM/q5JIQQQvpLv2fha0+j0aCsrAxlZWUdvu78+fPweDwoKCiARqPB/PnzsXv3bsjlcuE1DQ0NyMjI6NLnm8028Hz0PmV6ugENDdYubTOeDbb9BQbHPqenR0/U0tFvYDB8N+EG0/4Otn2NpqP6H5qjy3l9aGy0YYDdf+yyRDnmibIfQN/ty2A4B8RLWeOlnED8lDWWcnb0G4hFvy+ke6OuXLmCp556Ch6PBx6PBx999BHKy8tx8eJFVFdXw+fzYefOnZg9e3Z/F5UQQgghhBCSIAbcCFSsioqKcPz4cSxduhRyuRzz58/H4sWLkZqaiscffxxutxtFRUVYuHBhfxeVEEIIIYQQkiDitgMFAI8//jgef/xx0WMzZ87Ejh07+qlEhBBCCCGEkEQWtyF8hBBCCCGEENLXqANFCCGEEEIIITGiDhQhhBBCCCGExIg6UIQQQgghhBASI+pAEUIIIYQQQkiMqANFCCGEEEIIITGiDhQhhBBCCCGExIg6UIQQQgghhBASI+pAEUIIIYQQQkiMqANFCCGEEEIIITGiDhQhhBBCCCGExIg6UL2FASxODjUNdlhcXoDp7wIR0k0McLXeRnWaEEIGM7q+IQSK/i5AQmKAUzWteH7LMbg5H1SsHGtLJ6MgJwnw93fhCLkBVKcJIWTQ43k/nQsIAY1A9QqLgxMaFwBwcz48v+UYLA6un0tGyI2hOk0IIaS20U7nAkJAHahe0WLzCI1LiJvzocXu6acSEdI9VKcJIYQ0WZx0LiAE1IHqFckGFVSsXPSYipUjWafspxIR0j1UpwkhhKQaNXQuIATUgeoVRo0Ca0snC41MKEbYqGX7uWSE3Biq04QQQrLTdHQuIASURKJ3+IGCnCQ8+8gstNg9SNYpA40LTbAk8SpYp5/7wRxcN9uoThNCyCAkkzF0fUMI4nwE6ve//z0WL16MxYsX4ze/+Q0A4ODBg1iyZAnmz5+P9evX9/hn8rw/tvSdfsCoYZGTpoNRQ43LDaN0qQMDE0gk0WRxIlmvohNmb6H6TggZqEJLWdTbAYZBTnovXN9QG0jiRNyOQB08eBB///vfsW3bNjAMg1WrVmHnzp343e9+hzfffBPZ2dlYvXo19u/fj6Kiop75UAb49EQt1r/1OaXv7AuUOntgoOPQN+h7JoQMVH3RPlEbSOJI3I5Apaen48c//jGUSiVYlkVeXh4uXbqE3NxcDB8+HAqFAkuWLMHu3bt77DMtDk7oPAGUvrO3UersgYGOQ9+g75kQMlD1RftEbSCJJ3E7AjVmzBjh35cuXcIHH3yAlStXIj09XXg8IyMDdXV1XdquyaSP+tz1cw2S6TsdnA95OakxbZ/n/ahttKPJ4kSqUYPsNB1ksoE9Rp2ebuiXz+2J7/tG9dc+DwTtfwNdPQ7xWMc70ld1oT/re8hgrvchHZ0DQliFHGlpnb8uHiTKMU+U/QD6f1+kfgPXzzXAoGNRMi1PCKvbd6SmR9un3mgD+/u7jFW8lBOIn7L2djnjtgMVcvbsWaxevRpPPPEE5HI5Ll26JDzn9/vBMF27cDObbeB56bFirUoBFSsX/cBVrBxaVo6GBmvnG4/D4en0dENs+9YLuv1936D+3Oe+0lHD0v430KXjEId1vCN9WRf6q76HDIZ6H9KV+h8udD7hvD40Ntrg98dhpQ6TKMc8UfYD6Lt96epvQK9hsXjWSGyqrBLa9vLifOhVih4rb0+3gfFSL+KlnED8lDWWcna3gxW3IXwA8Nlnn+G+++7Dv/3bv2HZsmXIyspCQ0OD8HxDQwMyMjJ67POMGgXW3T31htN30vB011Dq7IGhK8eB6viNo/pOCBmoeB8vdJ6AQNu+qbIq6s2GG0FtIIkncTsCVVtbi0cffRTr16/HzJkzAQCTJk3CxYsXUV1djWHDhmHnzp248847e+5D/cDMwmxkpdxY+s4WmyfqCt5GDTUQESgd/MAQdhwcnA9aVh71OFAd7waq74SQAapP2nZqA0kcidsO1Kuvvgq3241nnnlGeKy8vBzPPPMMHn/8cbjdbhQVFWHhwoU9+rkyGQOjhm1rMLrww042qCSHp2kF7w4E08HfyPdNelDwOOTlpAaGxaMcB6rj3UT1nRAyAPVZ205tIIkTcduBeuqpp/DUU09JPrdjx44+Lk1sQsPT7eeHxOUdluC6QC02D5INKhg1ioG9D/FW3jgVrY7LZAxqGuz03XeG6ikhZAAyahV4bMUk/P7tL4S2/eE7J0ImlwWSSlA7RQaZuO1AxaVEGZ6Ot0QB8VbeeCZRxxtaXPj33/+DvvvOUD0lhAxEDHCquhUb95xGyew8yGTAiOwkvPO3KtRct1E7RQaluE4iEZeCw9M5ab2wgncfibdEAfFW3rgXVscB4Hcbae20WFA9JYQMRKG2qdbswJaPqrCpsgrr3/ocU/IzqZ0igxaNQPWkngi/iYMQnnhLFNBhebVs5PdNuqaDOtsndSXs81OT1OB9/ID+/UQTb78rQsjg0L5tSktWY/GskcjNMuLxFZPRanfB5uKkz6dx0v4S0lV0tdhTeiL8Jk5CeOItUUC08qYaVJLftyk1MRbI7BOd1Nlerythn2/QRa5TMhB/P9HE2++KEDI4hLdNaclqLJ8zGm6PD8++eURoax8rnQSnyydEHMRb+0tIV1EIXw/pifCbeAnhibe1GqKVl+f9kt93baO9P4sbVzqrs71dV8I/f+60nIh1Sgbi7yeaePtdEUIGh/C2ae60HFjsXERb+/stX+D8NUvctr+EdBWNQPWQngi/ueFtdBT21xshgb2RDCOWct7ovkQpb029XfL7brI6kWVUd2NnElDwu79+rgFalUL47juts72cOKXFHvb5DCTL0mhxx0dISU9+V3EQCkwIiRPBtum3j90Cs9WNpla3ZFvL+/0Rj0lev1D7RBIAdaB6SE+E39zQNjoKoUIvhgT25FoNsYQudje8UaK80UP7NN3coQTTwXcfU53trXU9GIBhGNHnS5Xl3JVWbKo8Ex8hJT3xXcVJKDAhJL7UNTnRYvfA3OqSbGtlDCN6veT1C7VPJEFQCF8P6XL4DQNYnBxqGuywuLwA08VtBN9/4boNl+ttMOgCrwkfNrc4OGzYfQols/NQOi8f5fPzUdfswIXrNuEzOyqTze3FiXMN0q/tQdHCwK6YHTDbPYCsd8Ibo33f2cHscSSgfT0qKcrDht2nYHFw0eusjo2o3x2SAWabB1XXLMIxj9C+frq8eGnrcdy7uADlxWOhUcmxqmSCqCzlxfnYe7gaaclqlMzOw+V6K8xWT+flCX5WX9T/nhYvocCEkPhhc3nh8wOvbP8Sn52+jgfvGC9qax9ZMRHDM/UR7a9MJm48qX0iiYJGoHpKV8JvOrgDE9M2JN5fVpyP9w9eRGOLSxg2V8gYFM/IxebKKmGC/eZoE+wltllenI9dBy/Caud69Q5RtDCwLy80Yfv+81izvBBZqZqez1AW5Zi1b/AHO5uTE+pReH2zuTgYNWzkd6hjcaq6C3cYZcAX55vw0tYTwuvXLC/EpLxUgA++RqJ+PnznROi1LDgvj20fn4Ob8yHbpMWP770ZDACFQo7/2fQ5AGBRWN3f9vH5jssT53dIKZsfIaRHMcDF61bUNtph0LGYWTgE2z4+J6wJlT88Bc02FzZ9dCZinaiRQ4zQq9ouNal9IomCRqB6UoxrPHV4ByaGbUi9f3NlFeZOywHQNmyuUiqEi8bOJthLbXNTcJu9fYcoFAYWTsXKAX+gHC9tPQFGJpN8TbczlCXAuly9LbweAW31TcUGT4rtvkOLvWt3GM0Wj9B5Cr3+pa0nYLZ4hNdI1c8X3zmOZUVjsHHPGeHxWrMDz7xxBMk6JfRqBax2DnOn5USUv6PyxPsd0mi/J8rmRwi5ERYHhxf+ehy8H5g3PXAzLXxNqGffPIKGZlfEOlHTxmVFtDvUPpFEQR2oftDRHZjuvB+MOOzP7uI6nWAf+syOttnV8nWVVBhYWXE+9n1W0/bZVnf/ZSiTCLccTET1KMjN+WB3SXcoulq/zRaX5OvNFlen2/TD38HdzEC9ksk6rvtS5TfoWJR+Kx+l8wL/GXRsr9X/nkbZ/AghPSnU/u47UoPMVG3MCSRGDDGixe4RnTepfSKJgkL4+kF3E05Ee//E0WmYNT5TCPtL1otf19FnRttmaESmV+8QhYXSNVjcOH+lVQhHDH22yaiGyaDstWxuUcV5OFdPaF+PgI7rQ1frtylJLfl6U1gmxGjbzEjWRP+sYL3KSNFg28fnYy5PapI6Yj2p8uJ8pBpU0b6igaWXMx8SQgaXUPvb2OJCs9UZcwKJS9cskgl8qH0iiYBGoHqa1GhFu8eM2hu8AxPcjs3hwWMrJone/9iKSQDPA2GNmFGjwA8rpqK8eCyUChl+UDEV2SZt5GcygIwBHr5zYsQE0H2f1dxYYoCujtoEw8DysvXITNXAaueEcqxZXgiTUdkv4XbxHs7VE0J3DLNNWpR+Kx/lxfl48r7pMOokUtM6OdicHjwqUT9tTk6yLpgMSqxZXih6/ZrlheDhh83j6zDBismo7Pi35A9svyu/N97HR4S7bqqsAs/38Rm+OyOfFJpKCOkh4dcSPI+Ia4mKBeNg1LGSCXwAifMmtU8kAdAIVE+SGK34YcVUeLx85AhGbhfvwLTbdrZJiyfvmw6/3w+GYfDS1uOoNTsi0ph7wibYhy5kUwxK6NWscAEZ2q5Bx2LZnNEYnqnH0DQtZAyDsSNSoGXlXUsM0J1RGx6YlJeKp1fPhNniCow8GZVtyQT6GE14ReCOYW4SKhaMw+/f/iKmJCTZJi3W3T0VdU12DM804I/vnoisn6G6EDrma2airsmJK/U2/GXPaVjtHMqL8zEsXY+8oQYoFTIsmzMavN8PGcNAqZDFdjezi3c8B8Qxp5FPQshAwQB2t1d0LbGqZAIcLg9ysozQahS4dNWCnz04A5zXJyTwCUWRAIPwvEkSHo1A9SCp0Yrz1yzSIxh2rkt3YNpvu9bswK9ePwydmsWvXj+MWrNDvP1gGvP2n/37t78IdJ6Cnxn+msYWFzZVnsHzm48BfkCvUqAwL73LiQG6PWrDAya9EvlDjDDp+6/zBNCE1xCLnRM6T0DnSUhqzQ6sf+tzpCVr8Oyfj0jWTxEeYGUM/nfLMWyqPCNkk9xUWYXz1ywwWzz43cbPsanyDLbsrcKmyjP43cbPY0680pU7ngPhmNPIJyFkoDBbPHjxneOi9uiV7V/C7vThmTeOoLHZhRe3nsAvXz0kSuATbjCeN0lioxGoWAXDac5/WQutWg6FTIZWuwcpBhXUSjnMLS6wrBwGHQt3S9vda97vR06WHkuLRsPl9kGjlmPbx+dwvdkJMEzMK3BHuysebQJ+o9UNhYzp9E56tO22OgMT5q+fa4BWpUCLPcrnW93geD/MrS6YkgLzlGK+gx9tNfIBtEp5KHQsfGRlzfKJgYQCXTh+8S7a8W+yucH5/GhodeHJ+6fjWoMN+45cxqzCIchK00HGMPhBxVRca7Rh1z/Eafbb34mMVm94vx9NVul63tXfUSzaH3NRyF9PH+sodb1PR8GCZQj91gdLnSaExCbadcbIoUb8cvXX4fP58cQ90yCXyeDkvMhM0vRdG0pIP6EOVCwYcZhb+wnmD5VMwJ5Dl1Bz3SasnRQaujYZVVgwYwSe33xM9Ppmiwvr3zoac1hOtEn0JqP0BPxzl1tRMCKl08n8UtvNNmlR3+TCr7YfEcr85H3TJbfFef146qVPhdetWV6I0cOTOk8iEC1EKTepa2sI9baw8C+bi0Oz1YNfvX54YJStr8gBv186CQnA4KmX247/Y3dNRMnsPDQ0O/E/bx0VHq9YMA7L54zG1o/PwWrnwDBMYE5P2PcWrY6rlXKoWIXkcxeuWrr0O4pJ2DF3cL5ACGsvdZ6ihel1N9FMT5Qhoes0ISRmacnS1xkKmQynL7Vg457TQvvx8PKJyEzWUKIIkvDiPoTPZrPh9ttvx5UrVwAABw8exJIlSzB//nysX7++Rz4jPJxGaj2lP27/EkuLRgshR/Om5wIINDDDMg344/YvI16fYlR3KSynK5Poy4KTN1/aejwi2UT7yfNS27138Xi80q7MUtt68I7xeGPXyXavOwGXy9fppP1oIUpmi2fghS4Fw7/0arbDMLZEVd/ixv+9ewJlxfmiY/rwXRPxx3fF6zddbXTgSr094jeycc9pWOwc5k3PRVlxPl7aejzie5Oqi+XF+cjPScbL245HfH4o1X2vHIfgMQ+FsPbGib+jML2+SvVLoYKEkM74/cCa5RMj2t9rjTah8wQE1+fbejywhh8liiAJLq5HoL744gs89dRTuHTpEgDA5XLhySefxJtvvons7GysXr0a+/fvR1FRUbc+JzycRsnKooYZlc7Lx9EzdcgfnozHV0yGRiWHJUrok93lFf7dUWhbapIavI9Hi82Doek6/PaxW9BkdSNZp4RMxqCmzo7hmXr89MEZOH6uEfBDlAI8RSr1NwLhiKGwoYLcJPz0wRk4e7kZGSlaON2R6/7Umh1IMShFn2N3ccLclvB9M1tcnd596mpI4kCYfDogkgv0gyZLYIHE9w9eRMnsPGHkSKdS4NYpw7DvSA0aW1xIS1ZjeKYeLrcv6m8kM0WLtypPo7HFFQj/9Plhd3FI1gfC10L1ptHihjoYTtZkdYs+P9OkRV3w71A9j8fj0Fl96os7uIO1ThNCYlff7ISSZUTt//sHL2LuzTnSod1WN0wGJXWaSEKL6w7Uli1b8POf/xxPPPEEAOD48ePIzc3F8OHDAQBLlizB7t27u92BCoXTGHQshmUaJIeyL1+34cCxK7jzm2Pw7JttoW8/uVc69E2tbLuTEy20TSpcMFqY25P3Tcf2/ZFr3YQSRoRfDEmF7ORk6wE/8PzmYygpypMss17NAgwjfE7pvPzo6/cE7z4Jn9uuIe1qSOJAmHzaZ2FVA0xonabGFhe2fFQFIDgiUjYZ2/efR1lxPj49cQ0zC4d0WH9kDIO6JgcaW1zINmlhbnXhN29+FhE61r6+8sHwwdDnl87Lx/ZPYl/XaaDqtD518hvqkzIQQga9jBQN3B4ftn/yhaitkDGMZPtx8ZoFXi9PocAkocV1CN9///d/4+abbxb+rq+vR3p6uvB3RkYG6urquv05oXCaedNz8cbOk1FDiW6dPCwiXO/lbcfx8F3ioe+HSibg3f3nJNdXMls92LD7VNRwwWhhbrGE6wHRQ3ZcLp/wWfuO1ETs42MrJsGoY0WhRfuO1KC8fVjXnRMDacfDSaxn01FI4k++czOeWHkzHl8xGU/cczN+8p2b2/ajO2vjdCa47RPnGiS3PVhXUNeqFHioZIJov1cF67Cb82FzZRWWFo3G5g7qT8WCcUgxqHC0qg7lxWPx0NJCvLrjZEQ9lAodM+oU+OkDX8MTK6fh8RWTkaRTYm1Z53U9qt6sQ13Yfo/XpxvYr8FapwkhsWMYoLHFgSfuuRn33DYOT6ychvtvL8CYnGTcc9s4ySkEFApMEl1cj0C1x/N8YHJ6UGiNpK4wmfTSj6fq8dnpOmyqPBM9lIiBZOhbVqoWv3rkFphbnTAZ1TDolBiSoUOqQYPMVC0OnbyO9W99LtyJLyvOx/sHL0puz8350GxzS35OhkmD534wB01WJ1INGmSn6SCTife/9mxD1CH30OONLS5hH7NMWlw3O7Bxz2ncu3g8ZhZm4xupeuQNS4bZ4gQAlBXnw+XxQcYwMGiVMKXohc/leT8+PVEr2r91d08VbSe8vDzvxxfnm/HS1uNhiSkmYlJ+BmQyJuq22u9nV3VUzvBtmyTK3N3PHmja/waun2vAnkOXsLZssrAG07v7z+Hs5VYAEHWCAHH9yc02QC6XwaBlkZ6sgUopx4vvHMeKb42RDm31+JCXkyo85vXyOHjiGuqbHKKR2O+XT8Hz/zYHZkvXjkOsxzlceroh5u+uq9vvqfp0I/vV02VIFNHOAeFYhRxpaZ2/Lh50pX4PZImyH0D/70v730DN6evw8sBvwqJryorz8cq7J/CdxQV46oGv4cR5c8QUAgcnbs/7Q39/l7GKl3IC8VPW3i5nQnWgsrKy0NDQIPzd0NCAjIyMLm3DbLaB56XHnFOD4S6dhRK1/1vOMEjRKJCiCR5Mvx9ZRjUAP6qvtQgXPQCEO/ols/Oibi9FLx12o5LJoGTatm022yL2QamQSb43Sa8UPd7Y4sL2T86jZHaeELa1/q3PkZUyC0YNCyUD6JRy/OiFgxHbevaRWULYkcXJRexf++2El9ds8widp9DrX9p6HMPSdWDlTIfb6o7Oyin6DtuVOR511LC0/w1oVQrUXLfhtxs+C9R5iVBRpl0oR3j92f7JeTy9eiYcjra1RIak6STroVIuQ0ODta0sNg8u19mEBRyBwLH5n01H8ewjs7p8HLpynEPfU3h5enr7QM/Upxv53PZlKMxLR0ODNW7rdFd0pf6HC92Q47w+NDba4PfHd3xSV+v3QJUo+wH03b505TegYhX447tfSl6n/M9bx/CzB2dInhe0rLxfj0u81It4KScQP2WNpZzd7WAlVAdq0qRJuHjxIqqrqzFs2DDs3LkTd955Z49t36hR4Il7bsbZyy3g/X6kGJR48r7pOHWpCbwfOHG2HqtKJggZ7EJ3adycF0AwrE0WWJTObAmsm+T1BibcpyWrMXdajhB2o1PL8d7fL6JiwThRitDwzHs3sjaR2+NFWXG+EG4VKqPfz0es2yCMhIXey8W2hlT42jxdnaQeLYmE2eKCut0Fd2fb6gqaTB+dUaPAw3dOxIvvHMe+IzW4b3EBWu2cMBqVnqKGw+XBj++9GWeqm8H7gQNHr6B4Ri4qD1VjbdkksAoG15ucKCnKw9EzdZDJZVizfCLqmhzYe7gaVjsX+VtBoD7wfn/sx6aTtcWuNzt79Th3ew203v5cQgjpopZ2US+h65XMVC1KivLg9HjxbxVT4fX5ca3RBq/Pj7whxkCiqwZ7v6/nSEhvSKgOlEqlwjPPPIPHH38cbrcbRUVFWLhwYc99AANYHR5s+/ickOAhfE2gR1dMwj+OXRFlqqk8VI2pY6YF3i8DvjjfhJe2nggLTyvEjJsyMHaESdSpeXTFJPxbxRRYbByWzRktXKwqFbJurU2k1ypReahaooxpKMjR4NlHZuGq2QEGDN784CthKB6IbQ0pFStem2d4pr5Lk9RDCQukkkuwUUbPemLCO02m74AfGDXEiGVzRkOllIFVyLHt41NC571iwVg0trjwx3dPCnXwkbsmwqhVYlVJIawOD370h4PCc6tKJuCNnSdRa3YI6fDtTg4fhv9WgkxJalyqtcZ2bGJYWyxagoueOs4x1aNeWHuJ6m/f3sPrIQAAfgJJREFUY5hAemdCEl34OlBpyWosmjVSfL1y10Q0W93YuOeM8NjDd07Er/98RGjnaX05kmjiOolEyL59+zBs2DAAwMyZM7Fjxw7s2bMHTz75ZJfnQHXEbGkLQZJK8PCHt7/AoltGYfsn57FlbxW2f3IeKxcWCBOyzRaP0HkKveelrSdQUjRGaIzCt6WQyfH/3jqKTZVnsGVvFTZVnsHvNn4emJh5g2sTGTUKrFxYIF3GYMP2/OZj+NPOL1E8I7fDyeVSE9Dbr83D+/guTVI3GZRYs7xQ9Po1ywthMip7dcI7TabvmF4lx/AMPdweXpQo5dbJw3C1wRHxW3jhr8dxpqYFLo9X+M2Enntl+5e4dfIw4e9AMgle9FsJMRmUGJ6pi0hW0pUEKeFJV6QSXPTkcY6lHvXG2ktUf/uWVq3Apn1ne/T8QshA5fdDaIPnTsuJuF651ugQOk+hx15857ionaekEiTRJNQIVG8LhZelJauRm21ASVFgnlJoHRw354Pf7xev3aJjYbFzaLS44fHy0mE2NhdKivKE7YQejxbO1mhxC6E/LVHWmQoPoxPd8QkbvRLW2gm7yAqFArlbfKJ1fyaOToNRo0BNvR2mFDVcrkD5MlI1+O1jt+Ca2YELVy2Sa/N0aT0bHpiUl4qnV88MhDka1YGsfnzg6R5fGycslGp4ph7PPjILDs4HLSunldPDBetNko4Fz+cJoaYalRzODtZ98nDSdT48Q5yb82H0sCRkJKtRU28XrX2WbFAh26SDRs3i56tmwO7yQtOuzobEsrZYY4sLn564hrVlk8EwQHqSRlS/uiRKGN6NroHWrXC7GD63s/24fq4B2uDaW1TvO+cIruVHSKJraHZiV/B6IDtNG9F+RQuzHpKmQ+m8fACB6yQKKSaJhDpQXWBKUiPbpEXxjFw8vzlyrpDVzoFhGBi1wbVbGIjWa3rinpslw2z8fgjr6YQ6IKGwNanX19RZ8ef3T0HFBtZ/knrN1QabEEYnNWx+tdEhGUIUHgoUSpahYuUYPzIV//77fyAnS48FM0YIoxChEaK8oUlY/9ZR6RCirq5nwwMmvRImvVL4W9CTa+NECaX6xuShgYn0dBEZocXOCYlTQuF30dYCUSvlMOpYyefCv1sVKwerkOHff/8PybXPyovzsSv4+wr/d/u6HcvaYmnJamG9qm6Fz3UShncja6B1O9zuRn4bvRBOSAhJLGnJaljtnJA8q337FfUcoFJg35Eaoe1ONaj6o/iE9IqECOHrKyaDEt9dVhgxfL25sgrzpueirDgfL209jqtNTtS2uGC2iddr2vbxWcn1dP52pAYls/Pg4Xx44PbxyDZpUV6cD0bG4L7FBSgvHovSefkoLx6L+xYXCDfvAyGAx7Gq3TbLi/ORkxkYIbtcb4PN5Q0kr7B5UHXNggaLGzv/fl60Dxt2n4LZ5kFjqwtP3jcd999+E8YMT0J58VisLZuMC9daYdCxWFo0Gu/87SxKZuehdF4+SorysGVv4PsIhRClJauF94FhpNej6e21eGIQLZSqttHe94UZ6BjAbPXgSr0VJUV5SEtWC+F3OVmGiBC7e24bh7G5KXhl+5cRIXOrlxfiwLErwt8P3zkRl2otMOjYiNBYg46Fm+Nxd/E4lBTl4V8na3H/7ePFdTtYl2wOT8RaaI+tmAQ358VP7p2ObJNWMvzkRkJLuhOGN5DC7XojnJAQkljkMhnuXVyAbJMWKjaQAKi8eKwwNypJx0Zc25QV5+ONXScxd1oO3FxgnUne7+/38/5AxPP0vcQjGoHqCj/gihKulJ6swVuVp9HY4sKJ82Zs338ea5ZPFL02sG7OJTx533TYnIELlL8dqcFNo9JEEzIfvGM8Kv9VjcxULTxeXkjhrGLlqFgwVvTjqjU7YHN6REkhdh28iHnTc7Blb2D0KCdLDw/HC3NRQh03L+/H2cutSEtWY+HMEXjqpU+F5+9bXIBFs0aKEl6UFeeDlTEonpEbkcXPEgzV++1jt+BCrVX0WRF3tAfIXe9ooVRNVmcwrTQBIHm8wkdLr9YH0l6vLZsMuVwGVs7A5fHixLlG1AbXSQuvnxznxYN3TIDNyeG62YENu08JWfiYsLXPpCYrryqZgA0fnBImJmeZtNCpFPjdxs+FpBZP3jddWAPupa3HRckqlFEyOV41O2AcHnv9624YnlIhi0wO0w8oex8hpDN2pwd5wwwomz8WL/617dy+enkhfD4eNgcHg1YpaufD18cEgu1so6P7o/+JhkHEGn70vcQHGoHqAouDQ/V1q3CXJUTFylHX5BBC7+APNBZ1TY6I19Zct+HUpWYwCCRrGDU0JeKO+Ks7TmLauCwkG9QREzM37jmDjBSt6LPdHh5bPqrClr1V2PJRFax2Dnww7M3N+VBz3SY5kX9p0WgAwNxpORGf02rnIhJebK6sgk6nlByB02kC8y143h/xWe3vaA+Uu96hUKpwKlaOVIOmT8sx0Ekdr82VVZg7LQcqVo4UoxpvvH8Kz28+hkvXLDhT3YLnN38B3h/4PkOhoKGkJeZWD85dacWL7xzHpsozwvzBzZVVyEjRCsdEarSofQKKF985jvPXLMJras0O/Or1w9CpWfzq9cOoNTuE176646SwDlo4FSvH5Tpbl+pftLoTSxiexcHhdxs/l04O08e6sx+EkMFBySrg88mEzhMQaFNf3noCWjWLN94/hZp6m5CcastHVaLrIaCtne3v8/5AY3FEruFH30t8oA5UF7TYPNh7uDoiJGlVyXjs+6xGuDN/tKoOpd/Kh0LO4MffuRnZpkCHJ9ukxRP33IzhmXqwChm+u2wCZLK2O+4hbs6HzFQtWmxtk9/TktUo/VYgZE4uY0ThdQUjUoTPCM+EF3pPerJGCLsK/wy3JzAnJMukjfic9GSNZLmaLW7Jx1ttHlhc3qhJLVrsHtH3GO01fTmMHS2UKjtN17sfHGeiHS+ZDKhYMBZKhQz33DYOP3twBoZn6jF+VCrKi/OhVMiwrmKqZN2MNum4ttHeFg7ISP822ieg4Nvlkm6fOCL88bpmBx5aOgHZJi1Kv5WP8uJ8/KBiKj47fV1URzvTnTC8jup/XxtI4YSEkIGp2epCs1W6TeW8gbu1B45eiZhOsKpkAo5W1UHFBpa2UCllKJ2XL1yL9Em7NwCmC3RkIJ0PSNdQCF8XJBtUsNo5UUiSjGGQolfjoZJCXLxmwacnrmFm4RBR2NHDd05EqlGJJosHv3nziPD4Q0snYOrYDGz7OHIF7yaLE6OHJ0PFymHQsaJQpmyTFivm5ePlsPC6R1dMgk6tgE7D4rlNRwEgIvypfZKKYRl6rFxYgOvBEKfwz4m2Xo5MJj1Z9PyVVvy/jZ9HTWoRy/pRDMPgRy+0rRfU68PYUTKXyWQDrIXtZ9GO14hsI5otLvzuL5+L6tiGQ9WYPyMXu/95CVY7hwfvGA+nm0Nashav7TyJxhZX1EnHQ9J0qGtyoHTeGAzLMEi+RsXKRH/L2qWS7igBC8/7odcosPybY0QLXlcsGNe1Cc7dyHo3oNZsCtsPyj5JCJGSmaoF5+Ml260kvRI/+s40+HkGRp0CP7l3Ok5XN4Hnga1/O4uy4FypP7z9hRBOHZ54qzfbPZ73D4jpAh0ZUOcD0iU0AhUrBpAxwKMrJoGVB742FSvDTSNTwfE+NLY4kZOlx7RxWRFhRy++cxwKhSIitO2P734JuYyJuAO8Znkh9v6rBu99ch6Pl07CA7dPEG3z1snDhM5TaFt/ePsLmAwqZBhVWLmwAPOm50qG2oXCrtYsL4SaleHFd45j7+FqrCoZjwdunwAP50NJUR4uXGnGurunorw4H6Xz8oXEFts+Pouy4nzRHfx1FVNxtKoObi6Q1OLRdhP5Y1k/6rEVk/DS1o5D/3pFMHNZTpouMOdjgDSqA4mMAb67VHxnsWLBWLAKOVrtHlFSic2VVbh18jBsCta1UOjcsAwjNnxwSui8G3UsKhaMi7hb6QeEGxOc1yeZIEUh/P4CdStviDGivpmMSsk1yhRyGS7V2oTOExAKjT0Nnu/iwb/BujPgRn2C+1GYl06/AUJIBM7Lw+vx4SGJ88D/bTuBJJ0Kf9r5Jb680Ixfv3EYmyoDYXy1ZgdefOc4vjzfJAqnDiXe6u12r7bRPiCmC3TEqFFg3d1TB875gMSMRqBiEZxEv2H3KXxn0biIu9dlxfmoPFSNsuKxyEyNXCMhEPomPfzd0OKMvJOtYzEyaxpsLg7NNg9q6izi90YJbQpN/C7ISYJKKT1ZfsQQA55ePRMmoxI1dXa4OR9yDHrIGAbPbT4qjHAt/+YY0aTGR+6aiJ1/vxBMhAEsmzM6uABq23fQbHWj1uxAs8WJktl5kMmAghGpGJ6ujUhF3n6fbU5OaGCl9on0H4vdA61GgZLZeVCyMgzLMMDr9YpGU8NHN4X6GTZ5+HK9JTB3iQFyswx4bedJAMB/3P81XLjWgqxUPd7YdVK4Q1lenI/Xd30FVi7Durun4kq9FR6Ox66DF/FQSSF+sWpG26gPEDkSxIvrmE7Nws154fLwqLrc0r+JE7qzZhMhhPSxZosbvN8PVs6Ikt+wChk4Hw+zxYW754+NGuIvFWY9elgSRmXpe7Xda7I4+7etj4UfmFmYjawUOh/EG+pAxSA0ib5kdh6qr9uFrHhA292Uktl5ePGd4/he+RTJ4dgUg3RIkcmojly/hYfw7//60+Go4XRRh3z9QFqS9OcNSdUGts23DR0vLRotZMYBAiNc7e/Qv/DX41g2ZzTOXm7FlPxMofPU/jvY/sl52J0+bPmoSvjMZx+ZFdlYtd/nKCFdNIzd/1RKBSxOr7D+U+m38oV/A5HHH37xWk8qVg5HsE6oWDlKZucJI1EapRwuNx8xiXZTcHtbPqrC+rc+F/4dSPKhalsjLPgZkusfta9jUMLi8uLclQFQ13pyPTPSbwLRowz8fjqAJHElG1XgfX788tVDEe3msjmjcbXejpxMAzTp0uv+SYVZpxlVvd7upRo1/d/Wx0AmY+h8EIcohC8GwiQ/JvqK20pWBjfng0KGiDVxvrt0Aqx2Z0Q40urlhVCwMlxrcsDm8YkmOtrcXlxvDtw92XekRpS44sDRK/he+WTR+lA/qJgCp5fHZbMdzQ4ONpcX6+6egnsXFwhrNQjDwu3WzXF7fDDoWJR+KxCuF20UbXimvsPJ/TIZIhJYlBTlwe72dTpxc8CFNfW1ATzR1e7i0NzqRMWCsTEd/wPHrqA8WA9UbCAlvkopExI2hCYVP3znRMhkDHKzDJLJUkYMMWDM8CSUzM5DZqoW5cVj8b27J8PNeYXfiOj7Cn6HF+psuN7qQrODQ02j+Ps0ahTIG2KM+I0OqrpGeoRGpcCfdp3Ca++fAsMMoB8sIT3M7uRgcUgnO8hO02Lv4Wq4OS9YeeSUhIoFY4UF1UOPddje9uC5MDtNN7ivK0ivohGoGISn+o02+X1YhgHZJi0u19ugkMvw43unw+n2QsYw2L7/LEqKxuCrC9fx1ANfQ6vNAxnDYNv+s6i5bsMDS27C+WtWbNxzWgiJKi/Ohx9+qNhAGuhQ4gqZDJgxPgvV162i9aHWLC/EvsM1mJSfAbfHIixGGgq/G5llgF4dONzhkyqzTVqsq5iKxbNGCu8pLx4ruY9DTVo8+8gs2N0+bN8fmfhicn66ZAKL7fvPdz5xczCHNQ2QdbGiSTWqwfuBOrMdy+aMRn5OsmT9KBiRCruTw6qSCeB5Pyrmj8OQDB3qzA68vuuUqK5a7B5h/ad1FVMlk6WE5kVt/dtZIbSvYsE4/OnvJ4WV7XcFJyL/sGIqPF5e9B2GPx/+feYNMSAzVYMxOSlwub1IM6oGT10jPcruGjhzKQjpLcl6JewOTrLd16gUYOUymJI0SNax0KsVePaRWWi0unHucive+/sFABCuX6aNzYDJoJRub3v4XCiTMYP3uoL0OhqBikFodOTA0SvINmkiRpJCK27fu3g8Pvj0El7b+RWeeeMwLl2zYP1bn2P6+Gy8seskpt80BCcvNOF/txzDbzYcwdnLrYH5UVaP0HkC2kKYGDDCyFNjiwvbPzmP4RkGeL18REKKl7aewKJbRsFi54SOUOi5F/56PDBB3h+5pk+t2YGzNc2i9+w9XB31Dr1RwyI7RS15VycjKXoCi5gmbg7ShA4DZV2saHgfj0u1Fry+6xQ2VZ7BWx+exuplhRG/gf99+xie23wMl2ot+O/XD+P5Lcdw7EwjXvhrZF21O73C+k9v7DyJB+8YL1lv2q/7tHHPadHK9qF/n79mifgOw58XfZ9+QK9SYEiyGqMy9YOqrhFCSFf5eODSdavktc9r753EqpJCvLXnlHCdYdSwGJWpx/AMPax2TnT9ErXzhF46Fw7S6wrS+2gEKhbB0ZG1ZZPh4XzwcDzKi/ORkaqFy+2D081h/oxcuDxezL05B/uO1KCxxYW8YUl4bMUkJOtZjBk+CRa7BxNHmzBqiB5ajRJerx8ONwe5TIacLD2m5GcCDKBRBdItZ6RqoVUp8MvVX0ez1QOdWoEknRLXGu2SQ+kWhydqiGGL3QOjloXNHciyBwD7jtQAAJINatFjjS0u7Dp4ET99cAYYBlDKZXB7vLA4vTBqFbDYOeg0Cjy9eibcnBd6dSD1d12zE6ZkNRgGKCseAxUrh1rJQqMOLDRsc3EwallYHBxabB6kJqnB+3i02DxINqhg1Cj6pnFjIJShTz83io7WgRgIE11bbB6oFDKsvG0c0pI0MGiV8Hi9+MVDX4fV5oZKpcDFa61C3ff7gXsXFSAjVQue96OkKE+oV0Bg34ak6fDvK6fB5fah1e6CjAEyU6XXHsvJ0uPfV05DbaMdHi8PjUouPJdp0iItWS1Z7w06FrnZBpTOyweAQP0bAN/nQKt/hBDSkcYWJwxaFjnZRvxs1Qy02txIMajx4T8votbswOV6C05Vt6DF7oFMxsDi9MLl9mJoug6/fewWNFndMY3+DPRzISHhqAPVBRa7BxY7B0cwbCOUeCEULhQKSQpl5bt4zYK9h6tF4XGhECZzq1UU1vRQyQS887ez4Hw8Fs8aiS17z0Y8Fwpj+tmDMySH0o1aZdQQw2SdMmJo/N7FBeC8vGg/wtdn0KvkuN7sEib4Z5u0KJ2Xj5fC1p9aWzoZTpcPWz8+i7nTc0XZCcuL87Ft/2kh3Mru9OL8NSt+t/FzGHRsxPfSJ2FrAzBcbqCvA2FKUaPV4RFGkkL15PDJ2sAxf+uo6JjnDUvC+SutkvUqlDxCr2Hx2798Jjz/8J0ToddGTkDONmnhcHlFGR8fvGM80pLVsNo5NDQ7sWjWSDCMOLFKWrIai2eNFJVheIYeQ1K1/dtZGYD1jxBCOjI8W4+6BjsuXbXgj2Hn+NXLCuFweeHzBaYbKBRyfHamIfp5vZM2bqCfCwkJx/gpfZCI2WyTXA/G5vGi2eqGXC6DTMbgP/8YmY2mdN4YvPnBaahYOZ6452bU1FmQkaIVZbgLvbZiwVjYnV5hxMnvB5J0KmhUcrz5wSnUmh1IS1Zj7rQcIR34ht2ncPZyKwpykzH/6yNEHZnVywshgx8Mw6DJ4saHh6px6+RhUCllGJebCs7nw8VrFuz6x0VhJKC8eKwoo2CobMvmjMbwDD0yUjW4XGeDWiXHto/PYUp+pij7Wuj131k0DskGNTZ8cEpIVQ0Ekl3cOnmYkD1t2ZzR0KjksDu9yEzVoqHFib2Hq4XyqFg5fvrgDOjVil67K29xcsJiveH7EJ4pMD3dgIYGa+wb7e6IQlia/FsnD4ue/r0Hpacboj7X/jdQb3Xj5//3TxTmpaKkaAwcLg4alQJyBYNzNS147+8XRMfwP7/7dTy36WhEXVh5WwE2fHAKy785GsMy9Th3uRXWYGhGYBX7QphbnaLO0rq7p4oy9IU+o6w4MKr0/sGLYOUyfK98Cq4H1xwJzeOTqtuSGSE7+Z66VBdCQnUilELd44VeqwT8fjy74TPM+1oOkvVqaNRyNDQ7MWVMGvSq/r2fdcP7Goe6Uv/DMQyDl3ecBKtgoFWzaGxxAgAeWz4xLjPxJcoxT5T9APpuX7ryG6izuOH1+nDyYrOQknzfkRpY7Rx+vurrOHu5GQCD4Zl6PPvnIxE3wX5w91TYnRySDSrIGKDJ4pY+V0a7wZSbBIu96+fYAV8vgucJh8cHrar3rnt60oD/ToNiKWdHv4FY0AhULOTAlQY7Wq1uAIBGzUoOM6cla5CWrEZjiwuXalvx5genUV6cLxlapFEpsHHPGWEkJnzifFlxPj49cQ0zC4dETKgHLuFUdQvmTPPiZw/OQKvdDb1Gibf2nMKp6hZkm7RYWzYZqUnqiBGDykPVWPKNUcIFb7Rwv9HDk+D2ePHUS5+KPtvulB5eN+pUkMuA4hm5EfsRSk7l5nxQKWXCfkuNTLg5H46fa4wt6cQNarH3cIhAD40o6NSKiPXFBsrIhMXuQWFeKm6ZNBRP/+mQaLRJrZRj+ZzR2PrxOTS2uGDQsWi1uiXrQmOLA6XzxuL42TrYHJzoLmVZcT6u1Fvw3t8v4ntlk+H0+FBnduBKvTXqb+29A+cBBOrdz//vnzDo2EDnP1MPViHrv1AQiToR+v09sGQ8Fs4cIfoNlBfn40qjHeOG9f+xJoSQSDwaW12ixFWhc7fd5cGQNC1efvdL3Lv4Jhh0LNwtbZEAxTNy8dTLn4raO6nkPgCkk0npWJyqTsBRe4pGiHsJmUTivffew6JFizB//nz85S9/6fb26lvcqLluQ6udQ6udw/VgKF04FStHbaMDc6flBIagPYGhAz60Jk6YedNzhbvsc6flRCR92FxZhaVFoyUn1C8tGg0VK4e51YNfvnoI8DP479f+hVPVLQACSSG+OGuOmLi/ubIKt04eho17zmDutBwAbRkF2++HTs3i+c1fRHz2yCFJkq+/2mCHUaeOKO/myipkpGiF12Wm6CTXjwqVR8UG1g7qzSQKOjUbdZ9vRE9MerU4OJyuaYlYe2ugJJIw6JRYcmueMOIJtCVpaLVzsNg54RjOm54LHw/JupCWrMVLW49jTpQ6n5asDdx8uG5FQ7MT2z85D4+Xlzxe1xrsmJKfibnTcoTPamxxYVPlGTy/+RhS9CrJ9/VFKIhUnQj9/jivX+g8hZ7bVFmFmuu2AXGsSfcwDEMpzUkCkkW0/5srqzBvei70GiWUrAJWO4er9XbMm54rvCu8fQ69L2pyn5B2SR8s9oGdZOlGDfTkUaRzCTcCVVdXh/Xr12Pr1q1QKpUoLy/HjBkzMHr06BveZpPFhfzhBqjUSvi8PJqtbvz4Ozfj/949IcxLevjOiYHFa5Vy5OckIdmowpSx6WixufFfa2bC7uDg9HihUSnA834U5qXijtl5sDo4/GzVDDRbnKhrcsLNBTpequC6UqEwvlAolIqV4acPfg2sQoYxOUlQsQr85+oZ4HkGzRYXMlM1aIqyGnho/R6tRo7y4rEYlqHDT1dNB+9j0Gpzw6hXAn4eXh+Px0onISNFA87Lw+HyQq2UQ6GQ4af3T8cf3jku7Pf3756M9GQN7C4vHrlrIlKNaljsHug1LK7UWZGkV+LXj94Ci90Df5QRLwTnr6xZXghWLsNT909HrdmB681OgGGkh/xlgNnigdnigilJHcjsEwp3axdSF/5+r8+HsuL8iNERN+cF0MWLawZojPJdd2Wko8XWefKP/kw6YLN7oFTK8MNvT4VKKYfT44OalUOuYGCzc0gyqODz+jB13C1osXng56X3pbbRDoOOBcMw+O7SQqSnqMAqFGiyuILHyY+nH54J3ueH1cHhBxVT8e7HZ4XjZdCxmDc9F8My9EhLUYPn/WixulE+Px8874eb42HUsshM1aLV7sajKybhD29/IRznx1ZMgtPjBcf70WJzBzrOGhasjBHqR6iupKWqYXN4cfqqBaYkFdKTVbBYA79hRiZDi9UdWe+CWuweGHQsSqblCb/bfUdqAAa41miT/G54v7/jY02JJwY8hmHw2vunAAD3LyqIy5A+QqQ0WVxCm6ZkZRiSpkNdswOjhiTBw3nh8vD4/t1TkGJQAQwwcogRKlYGS5SID4RFpjRa3TDq2Kgher2eWKKf2lZKmNFLgsfz+rmGXg+LTLgO1MGDB/H1r38dycnJAIAFCxZg9+7deOyxx254myOH6XG+xorL9a2itZpWlUyAzemB28PD4eLwh8ozmD8jF0a9Ek6XF7//63HJZAlP3DMVsyYOxX+/dlg0GbOqugmHvqoXOmQFucmYPj5bdLH/yJ2FuNrgEJWjfQIKN8dLTsREcDQsJ9OIZ/98BDlZeiyYMSJiUmjloUtoaHVhyTfyItamUivlWHlbARpbHOB5wGLjcL3RIdq/igVjseGDU1hy6yhcumbBmx+cFualSJVr/KhUjM1JwSvbTwj7EL69iCH/EUn44lyTaA7YmuWFmJSXCvgjh8XD3//Yikk4fLIWJbODF7d+oPJQNaaOmda1ShEcfr9cb+v2pNfAhXvsyT/6eph/xHAtzly0osXiFo5l+PfKymVY8a18vLztRIfHWaWUY/Gskfjv1/4l+btYvawQeo0c/9/Gtn19+M6JSNKx+I/7p6OuyYFXtp8Mq2fj8PcvrmBW4RBR0pXy4nwcPHENc6cNx7I5o8H7/ZAxDDivD+euWrDhg8g6/c7H54RkJzXXW1E4OkPYn1DZqmtbMCwzSRRmKdS7sM67QiGTrMMAov42ZQwT/VjnJiVmCEsC6mhdKIZhqFNF4lJ2ujaiTSsrzsdLW4/j2wvHwev1YcOeMxGv+UFwjT+pa5HQv6/W22C1eyKSU4Xat15NLNGPYXSUMKMX9PHxTLgQvvr6eqSnpwt/Z2RkoK6urlvbbGn14kq9PWKtple2fwmny4dNlWfwxq5AAoBNlVVoaHbhaqMjaoieQi4XLs5Cj728LbCOU+jvF985jrsXFEQMf9eanRHl+GNwrZzQZ+09XC2sHwW0Tbo/cOwKHrxjPP74buCzlxaNFjpP4eW4/dY8zJ2WI7k2Vaudw+U6G+xOH5xuH5qt7oj927jnDG6dPAwWOydccAPS60s9eMd4cB4ev3nzCGrNDsnvq/2Qf32LOyKc4KWtJ2C2eCSHxcPf//u3v0D5/HHY/sl5bNlbhe2fnMfKhQVdXpk89DlS33VXVzo3ahTIG2KUXHtLJmP6fZi/0ezFlTq76FiGf6+3Th4mqs9Sx7m8OB/ZqTrh2Eod55e3nYBOoxI99uI7x+Fw+/DVxWah8xR6buOe01haNFqyviwtGi2sW7VlbxU2VZ5BfbNL6DyFv7Y1GIIY+nve10ZI/j5nTBgaEWYZqnchFgeHqpoWyTL5ARh1LFbeNi7iu8kbYox6rM0WT7/XAdI9DMNg89/OUngfiUseDy8Zdn3r5GH43y1fIDVJI9mmv77zZMTaUeXF+dj3WY1wXeL18RHn8/D2LbQOZ3fOsdH0Zxhdb+7XYNXXxzPhRqB4nhedpPx+f5dOWiaTPuKxU1dao4ZYhQ9Fh0Lk+PC7jMHHwkUb1rY4PKK/za3OiNfFUg53iw/vH7yIktmB4fYxw5Nx4Vorbp08DHYXh1qzAwDgcvskt+Xy+CTLLdo3pvPytH8utL7U2rLJcAWTBNhdgXWwhNdF+dzw/YsWothsc0OvkU7wEf5+hUKG534wB01WJ1INGmSn6SCTietIZ9lZrp9riPiuwQBT8tNx00hTxPY6Y0rVI8dsx7gRqXC5vcg06TA0XY+TFxol98fB+ZCXk9qlz4i5LO1+AzHX/6Dw41x93Qr4gV0HL+L+28d3epxbbO6Ix1weX9TPd3mi1GGJuh1tG7zfL9qPFluU+mV1Ra1340aaAATqRbQyJelUeKvyNACgdN4YJOvVSE/VIDNFiyyTLuqxbopSnt6oA93NSpQIpM4B7bEKufAfAKSl6YXHw/8Ox3n9ko/3t0Q55omyH0D/74vUOSBa++/mfGi1eyTb9FqzAzanB//xwNegkDOQMQysdg/m3pwD+ANZVOfenNNp+2ZK1SNvWHKH5+xoOvouQ+fxjj67N3Vnv/pTf9fPaPr6eCZcByorKwtHjhwR/m5oaEBGRkbM75dKYWtKUuNynXSoVvhQdChETtauw9b+fUa9UnJbRq1S9LeSlUe8LlqoV2ieROi5xhaXKH34psozAIDSefnCazTqyO2rWDnUyrY7Iu2fC+0bzwcuOjsqj0wW+Zw1OILF835s/+Q8SmbnITNVIXpdZ9+zySg99J2iV4FVyDp9v04ph5LxI8uoBuCH2WwTHa9Y0l9qVQrJ73rW+MyI7cWKBZBpVAFQAQjUxfDPCd8fLSvvVirRrqSw7bT+M5HHzGrnUF1rxZaPqoTX6jVsp8c5Wa8SlSVUH6PVM7VSug5rVLH/dmQMI+xvqAyS9cugjlrvQsdCq1JE/ZyGFqeQ7j203MGzj8wCG6yD0Y51apTydLcOtBcv6Wl7QnfSmAMA5/WB88rAeQPHpLHRJjwevo3QvCiNSgHO60Njo010U6+jkL6+mFOVKMc8UfYDGJhpzE1J0m1f6JondO0i9Rq3h4eGlcOkV8Li8uLYVQu2749cDqWz9k3JIOo5u6N97Oi77K3za1coGaAwLx0NDdYbvnboSwP5t9bV49ndjmDChfDNmjULn376KZqamuB0OvHhhx9i9uzZ3dpmRqoKwzJ0qFgQGXoTPhR94NgVlBfnIz1FjaFpWqhYOfYdqYkIZ7La3Vi9rFD02OplhXj/HxeEvysWjMO7+89FvNeoYyPK8VDJBBw4dkXys9YsL0RWqlp47MDRK8Jnb/v4HB5qN7y+elkhdh44j31HaiT3N0nHYmiaVvi8JB0b8ZkVC8biwLErMOpY3CMRrmTUsThw7IrwnSkVDNYsL4z6fYV/z2tLJyM9WSW8Pnw/TUal5LB4+/f3xBB5Xw2/D4Rh/oxUFYZl6iSP5b7PakR1KvRcqE6Gv/a9A+eF+iZ1nFcvK4Td6Zasj0bJeib9Gwks4Bz5eFKU8LkkHSvUj/LifOz91yXJ3+ehL69GhKOE6l1IR+GYeUOMHR7HaMfaZFT2ex0gsdOqFdi0ry1cz+7i4HC3hZCEOkavvX+q0+gIu4vrcF4VIX0hI1UV0SaGzt+Pl07C+/+4EPXcnZOlF9pIqfbxwNErEefzvmrfBsL5lfScvj6eCbmQ7nvvvYeXX34ZHMfhrrvuwkMPPRTze6PefWSBxhYPPFwgYYRWzYJVyGB1BBbKdLq9UChk0CjlaLV5kGRQwusNZPsyJanh8/GwOgILkMpkgFbDwuUKhAUlGwILatodXjhcHPQaFnI5g1abB6lGFXw80GxxIUmvgpsLfI5CJoPNwUGpDNyF53k/miwuZKRo4fXxaLK4kGJQI9mogLnZDRWrgN3FBdZV0LMwt3rQaHEJmfZCr9frFGi2eOD2+JCkV4LjeNhdHNQqBeTywCRojVIBH+9HsyWQuU8hY+B0e+HmfDBolbC7OOjULFyeQFlZuRwWu0cYGXC4OSjkcrg9Phi0bCCTGdqy6qUnayCXBbLUJOuUkMkYNFndgbJr2cgsfEZ1oIFun4XP3sH7OxDzHZZ2nxPLtm9IL3xOl+/As0BTqwdujofdGajHKqUczRY3kvRKeH0+sAoFWm1uqJSB7HY870erzQ2NigWrCNRnU5Iabo5Hi9WNjBSNqK5CxoOBDHKGQbM1sB2DloWH42FzcDDqlXB7fHC4vEg2qODjA4+nJavB+/xobHUhLUkNhmHQ0OJEerIGfn/gcVOSGiqFDBaHByqlAi02D1SsrC0LX7B+hOpKWkogC1+zxY0UowoZKcEsfJwXDBPMwte+3oUdL5vLC4vTC5fbizSjSmjAOz2O0Y51H9S1gXxnsaf1xkK6APD7rcehVSvAMAzuv62gw8cA4PE7J8Lvh+SoFMMwwut6a6HeRDnmibIfwMAcgQIAsECd2Y0WmxvJehU8Xi+MOhYuzgfwMthdHDRqBeQyBq1WDzRqBXRqBVJ0rLiNlGofQ1n4erh9i+m77KvzeAfiqf4O+LKGFifmfNCy8g6PJy2kK2HJkiVYsmRJz26UA9J0yojKk64P3X1uCz0yhWVRCYRkhf6tFm0ySakQPZ+kVABoe016WDiT1OdkGMThTuF/h/97SHAtJlNoG77Av4W/271el6Jp+9wOfixp4dliwv8tbEuq/OLvB4DQuLYvkzFsbSa9KlhV/W3vEb0+vIEOriMRngo04v09of3n9Faj21ef0xEOSNVG1v+0dscy/Di3f16ozxogyxi9HgPt6og67DW6di8M+02lhr0nJeyOU/jjoXrQvg4K9SPs31qDHONHpQX21ys+BkJ52neeAMAf2Eb4NkPHrNPjGO1YD4Q6QHqUVq3An3YFQvQeWFwg+nf7vlKgbyXO4hdLGCAhPYYLXM9MyAu2icHze1Ko+Q5v08NDsdu3kVLtI9+P7Ru1rYkleDzzclID9bQXj2dCdqAIIYSQgS48PM/u4iI6VYC4oxWaC0VrThFCSP+iDhQhhBAyQEjNeYrlsfbZZwkhhPQe6kARQgghcaR97gmGYbD9HxfR1BrI8hg+UtW+M9VZ4op4DQ2khYoD4vX4ERJvqAPVTiw5+OMhT39PGmz7CwzOfQ7pbN8H23czmPZ3MO1rNB19BwwTSADEyhhoVAroNIEJyvJA0ifo1Cw0KgUYWYyPMYzw/lgfAxh8cOhyxGcHCgjR6949cAlLbx0hzKliGGDj3rNQKxWQyRjcv2QC5PK2/Q09DwAV88ZEzMUaiBgGeHnrcXh9vrgpc2fCj0lXhB+/u791499FIp0D4qWs8VJOIH7K2tvlTMgsfIQQQgghhBDSGxJuHShCCCGEEEII6S3UgSKEEEIIIYSQGFEHivz/7d15fJTlvf//1+zZJgkJCUE2lUU8oNIaj8XaoFTWEFOjuEC1VVsKreLpObWlavF4qq1afsVaRT3VLu7iRhRjKB4K1uJXgaqIRVBkkyVkn2SSmcz2+yNkyJAZmEAyycy8n4+HD8zknsnnuu/PPff9ue/rvi4REREREYmSCigREREREZEoqYASERERERGJkgooERERERGRKKmAEhERERERiZIKKBERERERkSiZ+zqA/qa2thm/P/LcwgMGpFFf3xLDiPpWsrUXkqPNeXn2iL871j6QDOums2RqbzK19UTzHxJrPSVKWxKlHRC7tiTDMSBeYo2XOCF+Yo0mzmPtA9HQHahuMptNfR1CTCVbeyE52xytZFs3ydTeZGrryUik9ZQobUmUdkD/b0t/j6+zeIk1XuKE+Ik1FnGqgBIREREREYmSCigREREREZEoqYASERERERGJUq8WUM3NzcyaNYsvv/wSgPXr11NSUsLUqVNZunRpcLmtW7dSVlbGtGnTuP322/F6vQDs37+fuXPnMn36dBYsWIDT6QTA4XAwb948ZsyYwdy5c6murgagra2NW2+9lRkzZnDZZZexY8eO3myeiIiIiIgkmV4roD766COuueYadu3aBYDL5eK2225j2bJlVFRUsGXLFtatWwfArbfeyuLFi1m1ahWBQIDly5cDcNdddzFnzhwqKysZP348y5YtA+CBBx6gsLCQN998k9mzZ3PPPfcA8NRTT5Gamsqbb77Jbbfdxs9//vPeap4IGMDR6mFPtROHywuGvg6oFx1u68efVyd+W0XC0T4gIiKH9VoBtXz5cu68807y8/MB2Lx5MyNGjGDYsGGYzWZKSkqorKxk3759uFwuJkyYAEBZWRmVlZV4PB42bNjAtGnTQl4HWLt2LSUlJQDMmjWLt99+G4/Hw9q1a7n00ksBOO+886irq2P//v291URJZgbYuqeRny1bz38/8R4/e/gfbN3TmJgnVZ3aetsj6xO7rSLhaB8QEZFOeq2AuueeeygsLAz+fOjQIfLy8oI/5+fnU1VV1eX1vLw8qqqqqK+vJyMjA7PZHPL60Z9lNpvJyMigrq4u7GcdPHiwt5ooSczR4uHB5R/i9vgAcHt8PLj8Qxwtnj6OrOclU1tFwtE+ICIincVsIl2/34/BcORyXSAQwGAwRHy949/Ojv6583uMRmOX93S83h25uRnHXeZkJ9+KN8nWXjh+mw9+Xh08merg9vho8fgYOTynN0PrdUfvA4nc1mgkU/4nU1sjCXcMSOR9IFG2eaK0A/q+Lcc6D/rFo+v55fwLYhjNyenrdRmteIkT4ifW3o4zZgVUQUFBcLAHgOrqavLz87u8XlNTQ35+Pjk5OTQ1NeHz+TCZTMHlof3uVU1NDQUFBXi9XpxOJ9nZ2QwaNIhDhw4xfPjwkM/qjuPNQp+XZ6e6uqlbnxnPkq29EF2b02xmbBZTyEmVzWIizWKKi/XVnVno472tJyOZ8j/Z2hpJuGNAou4DibLNE6UdELu2dHcf6BAIBOJmXcdLXsRLnBA/sUYT58kWWDEbxvycc85h586d7N69G5/Px8qVKykqKmLIkCHYbDY2bdoEQHl5OUVFRVgsFgoLC6moqABgxYoVFBUVATBp0iRWrFgBQEVFBYWFhVgsFiZNmkR5eTkAGzduxGazccopp8SqiZJEMlPNLLxyAjZL+2zXNouJhVdOIDPN0seR9bxkaqtIONoHRESks5jdgbLZbNx7773cfPPNuN1uJk2axPTp0wFYsmQJd9xxB83NzYwbN47rrrsOgDvvvJNFixbxyCOPMHjwYH77298CcMstt7Bo0SKKi4ux2+0sWbIEgGuvvZbFixdTXFyM1Wrl/vvvj1XzJNkE4MzhWdz3wwtocLaRnW5tP5mKfPMyfnVqa4vHR5rFlLhtFQlH+4CIiHRiCAQCOgR0oi58oZKtvZAcbT7R7hvJsG46S6b2JltbI0mmY0CitCVR2gH9vwvf717azC1XnN1bYfWoeMmLeIkT4ifWhOrCJyIiIiIiEu9UQImIiIiIiERJBZSIiIiIiEiUVECJiIiIiIhESQWUiIiIiIhIlFRAiYiIiIiIREkFlIiIiIiISJRUQImIiIiIiERJBZSIiIiIiEiUVECJiIiIiIhESQWUiIiIiIhIlFRAiYiIiIiIREkFlIiIiIiISJRUQImIiIiIiERJBZSIiIiIiEiUVECJiIiIiIhESQWUiIiIiIhIlFRAiYiIiIiIREkFlIiIiIiISJRUQImIiIiIiERJBZSIiIiIiEiUVECJiIiIiIhESQWUiIiIiIhIlFRAiYiIiIiIREkFlIiIiIiISJRUQImIiIiIiESpTwqo8vJyiouLKS4u5r777gNg/fr1lJSUMHXqVJYuXRpcduvWrZSVlTFt2jRuv/12vF4vAPv372fu3LlMnz6dBQsW4HQ6AXA4HMybN48ZM2Ywd+5cqqurY99AERERERFJSDEvoFpbW7nnnnt46qmnKC8vZ+PGjaxZs4bbbruNZcuWUVFRwZYtW1i3bh0At956K4sXL2bVqlUEAgGWL18OwF133cWcOXOorKxk/PjxLFu2DIAHHniAwsJC3nzzTWbPns0999wT6yaKiIiIiEiCinkB5fP58Pv9tLa24vV68Xq9ZGRkMGLECIYNG4bZbKakpITKykr27duHy+ViwoQJAJSVlVFZWYnH42HDhg1MmzYt5HWAtWvXUlJSAsCsWbN4++238Xg8sW6miIiIiIgkIHOs/2BGRga33HILM2bMIDU1lfPOO49Dhw6Rl5cXXCY/P5+qqqour+fl5VFVVUV9fT0ZGRmYzeaQ14GQ95jNZjIyMqirq2PQoEExbKWIiIiIiCSimBdQn376KS+//DJ/+9vfsNvt/OQnP2HXrl0YDIbgMoFAAIPBgN/vD/t6x7+dHf1z5/cYjdHfaMvNzTjuMnl59qg/LxEkW3shOdvc4Xj7QLKtm2RqbzK1NZJkOwYkSlsSpR3Q921JpGNAvMQaL3FC/MTa23HGvIB65513mDhxIrm5uUB797snnngCk8kUXKa6upr8/HwKCgpCBoGoqakhPz+fnJwcmpqa8Pl8mEym4PLQfveqpqaGgoICvF4vTqeT7OzsqOOrrW3G7w9E/H1enp3q6qZutjp+JVt7ITnafKwvlmPtA8mwbjpLpvYmW1sjSaZjQKK0JVHaAbFry8nsA/GyruMlL+IlToifWKOJ82QLrJg/AzV27FjWr19PS0sLgUCANWvWcM4557Bz5052796Nz+dj5cqVFBUVMWTIEGw2G5s2bQLaR+8rKirCYrFQWFhIRUUFACtWrKCoqAiASZMmsWLFCgAqKiooLCzEYrHEupkiIiIiIpKAYn4H6sILL+Rf//oXZWVlWCwWzjrrLG6++Wa+/vWvc/PNN+N2u5k0aRLTp08HYMmSJdxxxx00Nzczbtw4rrvuOgDuvPNOFi1axCOPPMLgwYP57W9/C8Att9zCokWLKC4uxm63s2TJklg3UUREREREElTMCyiAefPmMW/evJDXJk6cyGuvvdZl2bFjx/LSSy91eX3IkCE89dRTXV7Pzs7m0Ucf7blgRUREREREDuuTiXRFRERERETikQooERERERGRKKmAEhERERERiZIKKBERERERkSipgBIREREREYmSCigREREREZEoqYASERERERGJkgooERERERGRKKmAEhERERERiZIKKBERERERkSipgBIREREREYmSCigREREREZEoqYASERERERGJkgooERERERGRKKmAEhERERERiZIKKBERERERkSipgBIREREREYmSCigREREREZEoqYASERERERGJkgooERERERGRKKmAEhERERERiZIKKBERERERkSipgBIREREREYmSCigREREREZEoqYASERERERGJkgooERERERGRKPVJAbVmzRrKysqYMWMGd999NwDr16+npKSEqVOnsnTp0uCyW7dupaysjGnTpnH77bfj9XoB2L9/P3PnzmX69OksWLAAp9MJgMPhYN68ecyYMYO5c+dSXV0d+waKiIiIiEhCinkBtXfvXu68806WLVvGa6+9xr/+9S/WrVvHbbfdxrJly6ioqGDLli2sW7cOgFtvvZXFixezatUqAoEAy5cvB+Cuu+5izpw5VFZWMn78eJYtWwbAAw88QGFhIW+++SazZ8/mnnvuiXUTRUREREQkQcW8gFq9ejUzZ86koKAAi8XC0qVLSU1NZcSIEQwbNgyz2UxJSQmVlZXs27cPl8vFhAkTACgrK6OyshKPx8OGDRuYNm1ayOsAa9eupaSkBIBZs2bx9ttv4/F4Yt1MERERERFJQOZY/8Hdu3djsViYP38+Bw4c4KKLLmL06NHk5eUFl8nPz6eqqopDhw6FvJ6Xl0dVVRX19fVkZGRgNptDXgdC3mM2m8nIyKCuro5BgwbFsJUiIiIiIpKIYl5A+Xw+Nm7cyFNPPUVaWhoLFiwgJSUFg8EQXCYQCGAwGPD7/WFf7/i3s6N/7vweozH6G225uRnHXSYvzx715yWCZGsvJGebOxxvH0i2dZNM7U2mtkaSbMeARGlLorQD+r4tiXQMiJdY4yVOiJ9YezvOmBdQAwcOZOLEieTk5ABwySWXUFlZiclkCi5TXV1Nfn4+BQUFIYNA1NTUkJ+fT05ODk1NTfh8PkwmU3B5aL97VVNTQ0FBAV6vF6fTSXZ2dtTx1dY24/cHIv4+L89OdXVTN1sdv5KtvZAcbT7WF8ux9oFkWDedJVN7k62tkSTTMSBR2pIo7YDYteVk9oF4WdfxkhfxEifET6zRxHmyBVbMn4G6+OKLeeedd3A4HPh8Pv7+978zffp0du7cye7du/H5fKxcuZKioiKGDBmCzWZj06ZNAJSXl1NUVITFYqGwsJCKigoAVqxYQVFREQCTJk1ixYoVAFRUVFBYWIjFYol1M0VEREREJAHF/A7UOeecw/e+9z3mzJmDx+Ph61//Otdccw2nn346N998M263m0mTJjF9+nQAlixZwh133EFzczPjxo3juuuuA+DOO+9k0aJFPPLIIwwePJjf/va3ANxyyy0sWrSI4uJi7HY7S5YsiXUTRUREREQkQcW8gAK44ooruOKKK0JemzhxIq+99lqXZceOHctLL73U5fUhQ4bw1FNPdXk9OzubRx99tOeCFREREREROaxPJtIVERERERGJRyqgREREREREoqQCSkREREREJEoRC6iVK1cC4Pf7efLJJ7n22mu54YYbwj6PJCIiIiIikgwiFlBPPPEEAI888ghvvvkm1157LVdddRXl5eU88MADsYpPRERERESk3zjuKHyrVq3i2WefJSOjfWbqSZMmUVpayn/8x3/0dmwiIiIiIiL9ynGfgbLb7SET0VqtVszmPhn9XEREREREpE9FLKD279/P9OnTqa+v5ze/+Q0A27ZtY+HChUyYMCFW8YmIiIiIiPQbEW8lvffee+zcuZMPPvgAn88HwKeffsqpp57KTTfdFLMApYcYwNHioaG5jWy7jcxUMwT6OiiRHqDclv5OOSoiklCO2RfvtNNO47TTTgv+XFpa2usBSS8wwNY9jTy4/EPcHh82i4mFV07gzOFZOohLfFNuS3+nHBURSTiaB6onGcDR6mFPtROHywuGvg6onaPFEzx4A7g9Ph5c/iGOFk8fRyYJJ8b7gHJbYs3vD3Qrx5WjIiKJJ+IdqD/96U/HfOP111/f48HEtX58lbGhuS148O7g9vhocLaRmWqJ8C6RbuqDfUC5LTFlgHc/PsDS5/4ZdY4rR0VEEk/EO1Dbtm3jwQcfZPv27WH/k1D9+Spjtt2GzWIKec1mMZGdbu2jiCQR9cU+oNyWWHK0eILFE0SX48pREZHEE/EO1L333suBAwe48MILKS4ujmVMcak/X2XMTDWz8MoJXe4MZKZZ+vzumCSOvtgHlNsSSyeS48pREZHEc8xBJBYvXsyzzz6rAioKHVcZOx9c+81VxgCcOTyL+354AQ3ONrLTrTp4S4/rk31AuS0xdEI5rhwVEUk4xxxEYuTIkfziF78I/uzz+XjjjTeYPXt2rwcWbzquMnZ01Qi5ytgfBCAz1cLwgentV0p18JYe1mf7gHJbYiQz1cyPr/lq93NcOSoiklCOeQeqQ2NjIy+88ALPPPMMLS0tfPvb3+7tuOKPrjJKstM+IIkuABPPGkzBAOW4iEgyO2YB9cUXX/CXv/yF1157jSFDhuByuVizZg12uz1W8cWXw1cZg33hdVCVZKN9QBKc0WhQjouIJLmIXfjmzZvHt7/9bSwWC08++SQrV64kPT1dxZOIiIiIiCStiAXUv/71L8aNG8fo0aMZMWIEAAZDP5kZVkREREREpA9ELKDWrl3LZZddxsqVK7nwwgtZuHAhbrc7lrGJiIiIiIj0KxELKLPZzMyZM3nqqad45ZVXyM/Px+12M3XqVJ577rlYxigiIiIiItIvHHMY8w6jRo3ijjvu4O233+bGG29k+fLlvR2XiIiIiIhIvxNVAdUhNTWVq666ildffbW34hEREREREem3ulVAiYiIiIiIJDMVUCIiIiIiIlHq0wLqvvvuY9GiRQCsX7+ekpISpk6dytKlS4PLbN26lbKyMqZNm8btt9+O1+sFYP/+/cydO5fp06ezYMECnE4nAA6Hg3nz5jFjxgzmzp1LdXV17BsmIiIiIiIJqc8KqHfffTf4LJXL5eK2225j2bJlVFRUsGXLFtatWwfArbfeyuLFi1m1ahWBQCA4gMVdd93FnDlzqKysZPz48SxbtgyABx54gMLCQt58801mz57NPffc0zcNFBERERGRhNMnBVRDQwNLly5l/vz5AGzevJkRI0YwbNgwzGYzJSUlVFZWsm/fPlwuFxMmTACgrKyMyspKPB4PGzZsYNq0aSGvQ/v8VSUlJQDMmjWLt99+G4/HE/tGioiIiIhIwumTAmrx4sX8+Mc/JjMzE4BDhw6Rl5cX/H1+fj5VVVVdXs/Ly6Oqqor6+noyMjIwm80hrx/9WWazmYyMDOrq6mLVNBERERERSWDmWP/BF198kcGDBzNx4kReeeUVAPx+PwaDIbhMIBDAYDBEfL3j386O/rnze4zG6OvE3NyM4y6Tl2eP+vMSQbK1F5KzzR2Otw8k27pJpvYmU1sjSbZjQKK0JVHaAX3flkQ6BsRLrPESJ8RPrL0dZ8wLqIqKCqqrqyktLaWxsZGWlhb27duHyWQKLlNdXU1+fj4FBQUhg0DU1NSQn59PTk4OTU1N+Hw+TCZTcHlov3tVU1NDQUEBXq8Xp9NJdnZ21PHV1jbj9wci/j4vz051dVP3Gx6nkq29kBxtPtYXy7H2gWRYN50lU3uTra2RJNMxIFHakijtgNi15WT2gXhZ1/GSF/ESJ8RPrNHEebIFVsy78P3pT39i5cqVlJeXs3DhQiZPnszjjz/Ozp072b17Nz6fj5UrV1JUVMSQIUOw2Wxs2rQJgPLycoqKirBYLBQWFlJRUQHAihUrKCoqAmDSpEmsWLECaC/WCgsLsVgssW6miIiIiIgkoJjfgQrHZrNx7733cvPNN+N2u5k0aRLTp08HYMmSJdxxxx00Nzczbtw4rrvuOgDuvPNOFi1axCOPPMLgwYP57W9/C8Att9zCokWLKC4uxm63s2TJkj5rl4iIiIiIJJY+LaDKysooKysDYOLEibz22mtdlhk7diwvvfRSl9eHDBnCU0891eX17OxsHn300Z4PVkREREREkl6fTqQrIiIiIiIST1RAiYiIiIiIREkFlIiIiIiISJRUQImIiIiIiERJBZSIiIiIiEiUVECJiIiIiIhESQWUiIiIiIhIlFRAnSwDOFo97Kl24nB5wdDXAYkkGe2DEguH8+zjz6uVZyIiSa5PJ9KNewbYuqeRB5d/iNvjw2YxsfDKCZw5PAsCfR2cSBLQPiixoDwTEZFOdAfqJDhaPMEDKoDb4+PB5R/iaPH0cWQiyUH7oMSC8kxERDpTAXUSGprbggfUDm6PjwZnWx9FJJJctA9KLCjPRESkMxVQJyHbbsNmMYW8ZrOYyE639lFEIslF+6DEgvJMREQ6UwF1EjJTzSy8ckLwwNrRLz4zzdLHkYkkB+2DEgvKMxER6UyDSJyMAJw5PIv7fngBDc42stOt7QdUPVQsEhvaByUWOuVZi8dHmsWkPBMRSWIqoE5WADJTLWSmWoI/i0gMaR+UWDicZyOH51Bd3aQ8ExFJYurCl8g0P470J8pHSTbKeRGRhKQ7UIlK85ZIf6J8lGSjnBcRSVi6A5WgNG+J9CfKR0k2ynkRkcSlAipBad4S6U+Uj5JslPMiIolLBVSC0rwl0p8oHyXZKOdFRBKXCqgEpXlLpD9RPkqyUc6LiCQuDSKRqDQ/jvQnykdJNsp5EZGEpQIqkWl+HOlPlI+SbJTzIiIJSV34REREREREoqQCSkREREREJEoqoERERERERKLUJwXUQw89RHFxMcXFxdx///0ArF+/npKSEqZOncrSpUuDy27dupWysjKmTZvG7bffjtfrBWD//v3MnTuX6dOns2DBApxOJwAOh4N58+YxY8YM5s6dS3V1dewbKCIiIiIiCSnmBdT69et55513ePXVV1mxYgWffPIJK1eu5LbbbmPZsmVUVFSwZcsW1q1bB8Ctt97K4sWLWbVqFYFAgOXLlwNw1113MWfOHCorKxk/fjzLli0D4IEHHqCwsJA333yT2bNnc88998S6iSIiIiIikqBiXkDl5eWxaNEirFYrFouFkSNHsmvXLkaMGMGwYcMwm82UlJRQWVnJvn37cLlcTJgwAYCysjIqKyvxeDxs2LCBadOmhbwOsHbtWkpKSgCYNWsWb7/9Nh6PJ9bNFBERERGRBBTzAmr06NHBgmjXrl28+eabGAwG8vLygsvk5+dTVVXFoUOHQl7Py8ujqqqK+vp6MjIyMJvNIa8DIe8xm81kZGRQV1cXo9aJiIiIiEgi67N5oD777DN+8IMf8NOf/hSTycSuXbuCvwsEAhgMBvx+PwaDocvrHf92dvTPnd9jNEZfJ+bmZhx3mbw8e9SflwiSrb2QnG3ucLx9INnWTTK1N5naGkmyHQMSpS2J0g7o+7Yk0jEgXmKNlzghfmLt7Tj7pIDatGkTCxcu5LbbbqO4uJj3338/ZLCH6upq8vPzKSgoCHm9pqaG/Px8cnJyaGpqwufzYTKZgstD+92rmpoaCgoK8Hq9OJ1OsrOzo46ttrYZvz/ybId5eXaqq5u63+gOBnC0eGhobiPbbiMz1dyvJ1c86fbGoWRo87G+WI61D3Rr3cRZroeTDLnQIdnaGsnxjgG5uRns/LI+rvO6Q6Js80RpB8SuLSezD8TLuo6XvIiXOCF+Yo0mzpMtsGJeQB04cIAf/ehHLF26lIkTJwJwzjnnsHPnTnbv3s3QoUNZuXIll19+OUOGDMFms7Fp0ybOPfdcysvLKSoqwmKxUFhYSEVFBSUlJaxYsYKioiIAJk2axIoVK5g/fz4VFRUUFhZisVhi3czwDLB1TyMPLv8Qt8eHzWJi4ZUTOHN4VtwegEXCUq5LIjLAux8fYOlz/1Rei4gksZg/A/XEE0/gdru59957KS0tpbS0lFdeeYV7772Xm2++mZkzZ3L66aczffp0AJYsWcKvf/1rpk+fTktLC9dddx0Ad955J8uXL2fmzJls3LiR//iP/wDglltu4cMPP6S4uJhnn32WxYsXx7qJETlaPMETSgC3x8eDyz/E0aJBLiSxKNclETlaPMHiCZTXIiLJKuZ3oO644w7uuOOOsL977bXXurw2duxYXnrppS6vDxkyhKeeeqrL69nZ2Tz66KMnH2gvaGhuCx54O7g9PhqcbWSm9pO7ZCI9QLkuiUh5LSIi0EcT6SarbLsNm8UU8prNYiI73dpHEYn0DuW6JCLltYiIgAqobvN6/dQ2t7F9v4NaZ1u31mBmqpmFV04IHoA7+s9npunKpcQHvz+Ao9XDnmonDpcXwg9+qVw/UQaiWr/SNzJTzfz4mq+Gz+t42naHY/348+r+H6uISD/UZ8OYxyUjrP3nlzz6yubgA8Tzy87inJE54I/i/QE4c3gW9/3wAhqcbWSnW9sPvHr4WOJBdx6gV653nwbe6P8CMPGswRQMOCqviaNtpzwTETlpugPVDbWOtmDxBO193x995WNqHW3Rf0gAMlMtDB+Y3t5nXgcsiRPdfoBeud4tGngjPhiNhi55HU/bLp5iFRHpr1RAdUOtwxX2AeJah6uPIkpQ8dQVJlkYoNnto3TSSK68ZAwDs1OAIw/Qy8k71gAF0g8co9tbPG27eIpVRKS/Uhe+bsjNSsFmMYUcfGwWE7mZKX0YVYJR95L+J8w2uWrKGCrW76TJ6dED9D2kY4CCo79ftH77geN8L8XTtounWEVE+ivdgeqGXLuV+WVnhzxAPL/sLHIzdeDpKepe0v+E2yYvrN7OJeeN0MAQPUgDb/Rfx/teiqdtF0+xioj0V7oD1R1+uOirQxmal06tw0VuZkp78RTNABISFc2z0v9E2iajhmZxekGG7gz2FA280W8d93spnrZdp1hbPD7SLKb+G6uISD+lAqqbzGYjuXYrFpOBhuY2LGYjmanmvj34GNqvkDY0t5Ftt/V9PCdB3Uv6n0jbZGCmre/zLIFyHwgOvBG8WBDPbUkgUX0v9dW2O5F94HCsI4fnUF3dpDwTEekmFVDd5PcH+tczOgn2zFBH95Kj29PlCmminTj3Y+G2ydVTxlDd4OrbK9d9kfvKu6SUmWZmftlZPPrKxyFTWGSmW/q2B0KCff+LiMQLFVDddKDGGbYv/C9uPJ+MFHPMT6gi9c2/74cXkJlmib+TvWi6wuikIbYCMCw/ncsuGoU/EIAAvHF4AIn7fnjBkSvuvVFcHOMzj5n7vdHdU3mXtBxOD8vf2k5p0UisFiODB6ZT09BCraONXLv1+Nu/lwrvmO8DIiICqIDqtjpHa9i+8Js/r6F83Y6Yn1BF6pvf7PKwr6YlPk/2jtMVRicNsVfncPP86m1dXg8+A9IbxcVxPjPWz8sp75JXjcPNgdoW1mzaw8wLTuPBF7qR571YeOuZURGRvqFR+LopJzM1OHpRB5vFBIG+GTGuo2/+0fHYLObYjGbXB3M2aR6T2IuUZx3PgPTG6ImOFg9PV26ltKh97qnSSSN5unJr8DOPF1NPU94lr1SbGZvFxORzh/PC6u3R57kBapva2HuoidJJIxmYndKj38Wx3gdERKSdCqjuMIA/EGDhVRO4esoZDMxOCc6Js2bTHiD2J1SRhqR1ujy9f7J3+Mrqz5at57+feI+fPfwPtu5p7PUiSicNsXe8oY+7XVxEUXg3t3qYcv4Iyt/ewfK3tlO+bgdTzh9Bs6tvho5W3iUve5qFq6eMwWgEe7qFK785hisvaf/Pnm4Jn+eHvx/veOxdnl/dnr8zLzgtWET1xHexhiQXEekb6sIXrTDdMBZcfjaNzW5ef+cLahpcQKcTqlg9bB7hmSFHq7fXR7Prqy5NUQ80IT3ncJ797j8v4mBt85Fn02gvhCwWU/T5FmWXJpvV3OVq/wurt3P3DyaGxBSroaOVd8krw2ZiaF4GBqMBm8XE84fzsmNAlRy77cjCh7/7m92+sPOnlRaNpPztHT3zXRxPw6eLiCQQFVBRClcsPPLyZm777nk0OduviAdPqNItbN0dRZ/3niqywjwzFIuTvT7rf6+Thr4RgCH5GVgNgWDu7qttYW9VM5s+PcjVU8aEnFhGyrdoC+9Id1GdLg+5GdZgTDEbOlp5l7wCMPIUO7XNbfzm6dCi/vnV2/nK6IHty3W6OFA6aWTY/E1PNXHbd89rvwNlMJz8xTUNfS8iEnMqoKIUqVgIBAJd7/44ozhB7O0RvWJwshdpbhSz2YTD5e3dUf9iedKgoatDhcndq6aMYf3H+7nsolGMGprFwExbxHyLtvDOzujDOcEOb/ODn1eTZus0umZP5Z1yKv4EwNkSuWt0Zqqly8WBo/N3cG4aAzJT+dWfN4T0ZDj9lEwybKY+G81PRES6RwVUlCIVC+kpli4Hs+ZWD6VFI4PPdazZuIeaBlfICWJMur/1cpERaX6gB57/J01OT/yM+ncsGrr6CAPsO9RMTaMruD4GZqcwY+KpZGfYuGbqWHYfdJBiNbbnXIT1E+1kyX3WZa63t7lyKj4ZITXFfMzc7XxxYM3GPXyn+EwcTg/+QACjwcD4kTn88on3u/RkuOyiUQzLz+iz0fxERKR7VEBFqfPJnD3dwiXnjWBofjpbdtayfvN+zh1bwLBBGQzLz6De2Ub52ztCrs6vfm93yAli3A8/e/hKaHqqmbt/MJEWt4etuxp4Y/1OahpcDMxOYe+hZmxWEwOzUuL2SqmGrj7MCPtqWml0usm2pzC/7GycrW1YzEb++Pq/grn+vdJxgKF9eJoIE4xGXRj1UZe53t7myqk4ZIRP9zZSXd/KjZeO44nXPgnm7k2zz6G51QMGAzlZKSEFlsfr59W1nweXLcg9m+EFGXxlzKCQC2z+QOC4OaC8ERHpP1RARevwydyD/3URW3fV8cjLmzudNI7nlb99xoHaFq6beWbYB99/fM1XMRqPDDUW7VX4k9adLh/hlo2wXLgBNd7asDtYPM284LTgegi5Uko/64JynDbHfaHbEwzwya4Gnl31KVPOH8Hvl38UcsfRnm7B3eDD7fHxePkn3HLVBLy+AMPz08IXUSdSGAUAQ4ThHTttw5ysFPw+/5HtmWbG4exevvX2NldOxZ96p4eq2haeX70de7qFyy4aRUFOGvm5qfz+hQ85UNsS/J77yZyvsuTZfzL53OE8u2rbUceCbZRdPJrHy7eE7EMdv+8YYTJcvnbOm4HZKUw+dzgYwOn2YTQacDjbsFnNOF0esjP6wXeriEgCUwHVHQEIBAgWT8Dhk8YtlBaNZM2mPQywp4Q9OfIH/Byoa2Vwblr7CZ6zjdu+ex6PvrI55OAb9kTyRPu9d6fLR4Rlc3MyunxspAE1brnqK/xx5ZaIc6Xc98ML+tfkvlG0OWaFbj/maPHw0IsfUVo0sst2ff7wqGLL/2978LVdB5soX7eDm2afw7gR2cHPODp/j9u9NJr87bSMPd1C8QWnhQxkMb/sLJa/tT1kHztevvX2NldOxR9nqzeYV+4GH8+v3obNYuJn1xVyoLYF6PQ996MLuO+HF3Cwvuuk69+YMDRYPHUUQW6Pj1MHZ3LmiGzqm9r45R83hM33jryxp1tCLlCVr9vBd4vPpM3rDxZsff7dKiKS4DQPVDfVOboeFN0eHxhg8rnDqaprCTtXzJ6Dzfyh/GM2fXqofd6kx9/jV3/ewJxpY7n7B1/jvh9ecMzC5kTmWurO5KaRlj1Q4+yybKQr6HuqHBRfcBqpKaawv69xuGMzuW9nx5hvKJo2a56VI9vbajFGzP0OnSeVfujFj2h2eXs1fzsvM/nc4cGT3I7lH33lY74xYWjE94fT29tcORV/Wt3esLkf9nuu0U1mqoWCnLQuxwKjkWDxNPOC0yh/ewfPr97O0uc+YNoFp/Hsqk8j5ntH3lxy3oguFzIanZ4ud7tiPam7iEgy0R2oaB2+C2QwGMJePR5RYOdQfQtv/GMnV00ZE9J97UdXnEV1g4trpoyluqE1pMvTQy9+dKQPe5grhc0uL3sPNVM6aSQAH2yr6vpskQFqHW3UOlzkZqWQa7eCv3tdhSItW9fUSkFmSsjrka6g+/3w/Ort3Pm9r4X9fYrNHF08PTXS1HHuYETVZg1dTbbdxuDcNEYMzgy7XY2Hu9bZLCZuvHQcTpeH0cOy+MqYQRyoa2XvoeaQnA/73EaYbV7jcGNPt1B6bvuALClWIwYMHKhrhdz24Z9DtqGB4xZ4UXWV67TNWzw+0iymnt3myqm4E+k7L+eo78aO7zkI/6zf2BE52CymsHfpH3lpc8jd3I47VPvrWvBkp5Jrt3Lm8Cxs1q4XqPyBgLqFiojEkAqoaBzVTejo+W6umjKGp9/cymUXjcJiMlKxfmdwFL70FDP+gIHlb30WsnzF4cEWgge5NEvYZ3G+ONAU8hByx/NWHV1IbrryHAwG+P0LR55LmV92FueMzAme+H5jwtDgSeTfP/gybFehiCcI9lRCzuwMUF3fGnYdVKzfidvjo83jjThIwHG7LvXgSFPHe+g6YleqjNCTomSfZyUzzcwPLz+bLw81d9nu354xlhSriZ/MPZcvDzWz/P+2YzEZuzzncXTO76ttIXPY4W0aYZvn56Ry+UWjaDw8ilmbJ0BWupknXt8SHOVxSF56yDYMtz0JHDkZNRohPcXSvj8c55mrzFQLI4fnUF3d1PPbPMlzKu4YAnz/W+P5w4ojOf39b40HQ4DBuWkcqG1hcG4a3ykeh7vNG5zG4cwRWdz9g4ntF7cyU/AGfMyZdkbEO1o2a3unkHDPkc4vO4tRw7IYeNRAFQDGCBf21C1URKR3qICKQucTcXeDjzfW7+SWq77CnioHfj/BE8MnXvuEn11XyH1PbmT5/20P9pG/78mNRz1IfOS5kY6DXLgTyGH56RGft1r+f+0H1oeWf8RlF43q0m3p7h9MJDfTypWXjOHRVz4OOQhnZlhwNIcWa5mpZn4y56vs2O8IDrk78pRMBg9Mp7a2OWRdLHn2n9jTLSy8agJ7q5pC1kFHe4bnp4ecOORmWiHAcUdf68mRpo53B85ooEtBcPWUMZiMxzu7Ti4Opwc/8Oc3trbfETp8ccBoMOD1+nF42geP6FjXV35zTLB4gvA5v7eqmSG5aWHnznF7fDxduZUfz/kqZrMx5ALC1VPGUHzBafylYisPLv+Q39z09WBOrdm4p8v2nF92Fn/9f7sou2hUcDjpTduqGXlKJiNPsffdZtZ8PnHF3ebn5TWfHZmeIgAvr/mMH82ewPdLz6K1zUubx8/S5/4ZzL0Fl5/NwOwUHn7xo+AzeL+44d+xmo2cOjgnbMFzrDtUj77yMf8556vY07pexMtKt3Dz7LP5srol5Ptbdzalp0XR+1okKaiAikKDM/REvKbBxa6DDpa/tT1kObfHx879jZQWjcRohPGnD2TbnrqI3Yo6DrK+ADxdubVL0XD79f/OVVNGU7F+FzUNrpD3dv4sm9XIld8cE9LNqbrRhccfYPlboQfh5W9tx2Qay8MvfhRSxJw5Iou2TkPunjkim/Ejc/nH5v3kZtnIy7KB70hR4m7wsWLd51x+8Rh2HWhkcuFw/v7Bl3x7+plkplvYujv8XaTOXZdy7Db8/gB7DjmDJ5G1Te6w66u2yd3tAup4D+vXOdy80eluIQF4Y/1Ozjh1QJdui0FJeOLb0NyG1+/vMrcZwIKys2nz+kO32TG60tksJuZddhaOZjf7alvwDEjF3eZleEEG35o0CpfbR1aGlRaXh39+Wh3Mx47PeH71dhZeNSH4c12TO+Qqf152Kl8ZM7B9+6RbyUy3MHyQnc2f13QpxAblpJJh64WvwOPliLF9VMOHjt4H+3AwlbCTBkuQx+vjQG1LsHtdhyanmwee/5DSopHBqStGD8viW5NG4W7z4fMHuOKbo3nur9uoaXCxfW8DL6zeztVTxzBn2hkhgz7MmXYGbo+Pu38wkepGV9h9yOf3c6i+lfUf72fhVRNwuX2k2kys2biHb3xlaEiO33TlOeyvbSEjzdq9bZqE33EiIt2lAioK6SntXc86n+TlDUjl4xHZbN3dENI9aEheBo+/toWaBhdXTwF/AM4ckc2sb4xsP9ilmHj97R3822k5GA0Gnq7cSpPTw7dnjKUgJw2H00NqiolX137Oli9qKV+3gznTzuD1d74A4JLzRpCXncoPLhtPblYqHq+ftBQz//vqx8GrnFdPGcMfD3dzmjPtDPz+AK1t7Qdje5qF51Z9GjwZTrEaqWlsZcd+Y/BZleH2DCafN4JfPvFe8GD8g7KzmDAqJ2QkqIlnnRJyxXX+5WeTlW7B4fTwdOXW4N9ItZmoqm858txWmoXMNEuXu243zT6H9DQLV085IzgkOrSfdKfaDhdP3Ti4H2++oWy7jSanJ+SZg0vOG4Hb7Qt2wQn57CSdyDJ3QAp7q5pJTzUzKDcdn8/PTVdMwGyEBqcbe5qNhVdOIMXWnrcQvivd2OEDOP2ar2Aywv++euSu6ILLz+ayi0bxu+dDJ2S2WcMPWuFyH+muZ0+zRizWof3uWXOrp8vgEs+v3s7o4QPISDH37Mni8XLEAHurW4LFU0c80T4XdszYjlreaGi/SHDM9yZpTndXWoqF8/8tn5lfP52mljYG2FOorneSm53KL248n8ZmN7+44d9paHYRCBjYW9XMWxt2YzEZ+f63zuJ7l44n1WamufXIxTir2chlF40K3jEacPiCUovbS7bdGqF7sQ2z2cAFZ53Cgy8c2WY/vbaQ+58K7enw0PKPuPKS0Sx/67Pot6nyQUQkKoZAIJBwX4uvv/46jzzyCF6vl+985zvMnTs36vfW1jbj94eukqrGVppbvTQ2t/GHTs91/PCKc8i2W7CazTS3tAHw1vu7mfa102ht82JPs1LT0MLgvAycLR7avD5SbWYsZiMmA3y+z0FTi4fsDAu5WWm0eX2YjAZef3sH3zxvBCOHZVHX6MLt8ZNtt2I2GalrdJFlt9Lq8rF9Tz3+QPtzTVPOHxHSjW7hVRM4UOPk1MGZmM1GahtcuNq8nD40k0O1LRyobQ0euLPSLby89nOanB5+ePlZDByQxsef1+APtA9a8bXxgxlgTyFvQCoWi5FAAA7VtWAxm3C5PQzMTsXh9JCZbiUt1UxjsxubxUxNQyspVhNWi4k/rPgYj8/PJeeNYNigDHKzUrjzf/9flxOEhVdNoKahlSEDM9h10IHXFyAz3UJ+Thr52ak0Nrfxyc7aYLu/Pf3MYx/cO04qOz+sz5HXDAYDj76yGY/P32UI7KNPHBytHn62bH2XmH9z09fx+wMndxJuhPpmD06XB7fHR15Wavc/pxsn3Hl59ogfc/Q+UN/q4UBNM14/PPLS5pD8z82yYsBIvcNFdWMredmpZGdYMVmM+H3Q2Nw+8a7H46XV7aOx2U1uZiq7DjowGsGAof2O56k5PF25lfomd/BixL+dlsvO/Y04XV5SbSasZiMD7CmYTEbSU8y42nykp1p48o1POGtUPqkpJvIHpHGw1snZIwfS0ORmybP/ZN63zuL3L37YpZ2/uOHfcbl9XYr4ARnW4FX7vIH29megolzfjpb2HLGnW4Lz9BgNBi4YP4gMmxlHq4ePdtTgbPWF3M2raXBx+/X/zsiCjGM+FxYx18Msf/WUMbyxfmfwebFw742U03E7OWuU+0B38h+gqrmV2np3yBxoN115DoMHpnOgupm9h5wYDQYGZtlY9d5uzh1bQMHANNJTLPzxtS3B776h+elYzCYcTndIt1doX+8dd7L+45oJ1Da4eOrNTzvdoRrLGadm0+rycu9fNoa8t6NL39Funj2B37/4YdjvKaOhfZCizncd4y4fDm/vljZfwtw9zcs7xndONHppH+jw4EubWXjF2SceXwyd9LqMkXiJE+In1mjiPNY+EI2EuwNVVVXF0qVLeeWVV7BarVx99dWcf/75jBo16oQ/02wyMSDTxJJn/hlyhW/ZSx8FD3hzpp1B5bu7uGrKGVjN4Gjxc8+f3g87N82caWM5/ZQMRhRk0tTSRk5mCvWOFg7VteLx+rnykjPIyrSx+0ATL6zexjcmDMVohNNOyeKt93dz/vhTujygv/q93Uw+dzhrNu1h8rnDCQQCDB1kp7nVw8HaFt7asJsmp4cFl5+Nuy20q96c6f/G9bPGYU+zUtfYyv88/l7wd1dPGctne+s5WNfCi/+3nbKLR5OWYqa2sZUNnxzkkvNP5ZGXNwdjPGPEAMyG9kkd65tcGA0Ghg2y853if8NmNXGoroWDtU7cbT6umjIaA4bg3bE1G/fg8fgZYLfx+b7GYIFnMhqpqnWy92BTyHq88dJx1DS2UNvUPkJV57mBQg4gh+94OVo87K9tod7ZxkOdT4Rmn0NuVgp3HW53x/Y9+q5AuGeq7OkWvjjQFDKxcrev2Bph654GDtW1hi/giOKA2ItXjtt8PuxpNn715w1d8n/RdwrZdaCeU3LTOLUgkzafH6PRQF2Di71VzvZteLCZIXlpvPPhPs4bN5jfPLMJt8fH4Nw05l12Fi2Hh5efM2UMjc42Dta58AcC/GtnHVnpFj7+sp6SC0+n1uHmd52uui+4/GzavD7mTBvL3kPNmE3GkKvyt177VX52XSEtLg8/vbaQV9d+Rn2Tmysmj2aAPQWL2YjNauL7peN4/q3t1DS4gvNd1TU6+ea/n8rWvY3kZqWQn2PD4Wi/m9UxWWlH8d15jqn0VDP2dEvIM1cAe6udDMvPwNHaRqrNwrOrtnfZfz0eHzv2N5GdaaPV7Q15Lsyebuk6+man7RruObLOc3RFeo4woSb17cV9IMVi4pnKT0O6sT5b+Sk/mj2BZ1dtC7n7f92MM7n7T0fmcvpO8Zl4jpqjaX7ZWcGRKTu4PT4G5aZROmkkT76xle+VnsVlF43CZjUyaEA6Hp8Pr8fPnoOOLtvMHwh/13dApo0rLxnDB9uqunxPhSuw4yofdLesK60TkZhJuAJq/fr1fO1rXyM7OxuAadOmUVlZyU033XTCn5k9wMSnXzRFfK7D7fHx7KptXHnJaB55eTM/u66QF1a3HyxLzx3ZpfvQv76oxp5m4bFO3Zh+cNlZbN9dx3v/OnT46v7ZrHp3J1POHxEyEtNPv30u9z+9KewD+qkpJmZecBqr39vd5X0do6A98vLm4KATo4dlMfm8Edz9xyNd9b5fOp7hBRnUN7m5uHB4sFtIx2e88rfP+MaEoZS/vYMbLx3HW+/t6vK3brx0HK+u/ZySb5yO3x8IDqIxODeNyy8eHTIi4dVTxrBm4x6anB6unjKGbLuVnfsdXZ5XGV6Q2aWLyhOvfUJp0UjueOzdkGIj3AHEajay5Nl/Bru0hHR1efEjbv32ucc9cQj3TNUl543oMtBHdwe9qHW0sbfK2eV5n+5MPtyTg28czWwwcjDC/Gdbd9Xz9w++5PKLR/OH8va/f/2sf8PvD3TZhiVFI/nlE+/j9rTPgzPl/BHBK+kd+8Cg3DQeeeXIxYHvFp/JhROGsnV3Q5f188jLm7nyktFUGQy4Pf6Q3w8vyKDBEXrH+KYrzqbF7eWPr/8rJK4Uq4mrLhnDC4eLqGH5aRTkpvHff/h/IbHtPtBAlj017H5V0+DiweUfcvcPJlJy4em423xd2l/T0Mppp2TxxGufhLTjhdXb+em1hRyqc+Jq87Hk2X9SOmlkcJlwI7IdnQORTnw7TvYjnQQn0qS+vbkPOJyesN+pO76sD7n7//zq7dx2/XkhMTicni65++grH3PZRaN4fvW24N+wWUxU1bZQ/vYOrpoyhi8POXhrw25mXnAav3vhg+Df/V7p+ODIfx3+/sGX3HjpuGBudeTc7gMOytft4MfXfDXY3bojhnAFdjzlQ29u73gVi3WiyUNF2iXcvnDo0CHy8vKCP+fn51NVVXVSn1lT62XfIWf7kMiddAyRDO1fVNkZKbg97V3rOibvDPdA/cyvnx4snjre+9irHzPz66cHf1720mZmfWNkl5GYPvuyIeyJktEI+QPSeGH1dr4xYWiX972wentw1vuOq+LfmjSqy2hpfyjfwrcmjWLyucPDnuh1DIneUcCEi/GJ1z7hGxOG4nB6gl1QAL4xYWjwhLZj2ec7xfX86u0Yjcawz6sYjjEwQcdBwtHiiXgA2bHfEbKNjv6cFKsp7PbtfOIQbgLUYYMyIhZe0ap1uCLO4xLt5MPHunJ8slrdvogTRBPoul0HZqeG3YZe35E2hhtl7LFXP4aAIeS1RqeHR17eHHH9ZGek8Pzq7V1+/61Jo7rk2r6almDx1DmuRqeH2sb2roM2i4nc7PSw++f544dE3K86fm5xexg2yB62/QOzU/lsb33YdrS4PbS4vSHv61jf4dbV0TnQceIbbvt0/H+4k+COkSg75/TVU8ZgNMbfWFu9uQ9Yzeaw235gdlqXHOh4Rq9DpNztPNFuR0G2ZtOekM8Ot+0fL9/Cd4rHhbx3yvkjWP3+bkqLRnL1lDHcctVXsFlNvHF4aoldBxqjLLDjZ5Ln3tze8UrrRCR2Eu4OlN/vx2A4cvAPBAIhPx9Pbm5Gl9e2ftnIWxt2d7nC13H1GTomUGw/Cff722ec73D0FT1HS/gvOUdLW8jP7rauM91H6qoxZviAI3OLHGcUtI6JT13urp/v9vhwtUX+DKMR/P5jx9jxt7qcOBxnotP2E+bwo/C1ur1h2925gG3x+CAQ/m90FI2pKaawn2O1mkKu0tos7T+fNnRAyMlkbk4GI4dmU9fUSo49lUAgEPbzCnIzyMvrmkvh1Ld62XWgKeznpKdawp9we3yMHJ4TfK0tEH4emO7EEWzjUfvA9gPtV8J/cNlZIXdNO/J/cuHwkL97rLwKxhghFxqa3SGvdc6hcO1LsYWfAypcDJFOZDtyw2iEq6aMob4p/AhokV7vyF+bxYTVYm7vohqu/W4fbo8/bDsO1bXg9hwZzXDNxj3BCbkjravOOZDrD3TJ344uWpFyGeDg59URR6I8begA4klP7QPhjgHb9nXtNuf2+DhQ4+ySA2lHXemPNEdTraOV0qKRDB6YxoGaluBdrI7PPljrjLjtvzzURGnRSKwWI0Pz7fzljU84UNvCnoPNfK90HBazgVfWfh78vEjHjc4FdkFuBnkDM7p8xw0emN4vC+qe/M7rb0702Yze3Ad6Ir6+EC+xxkucED+x9nacCVdAFRQUsHHjxuDP1dXV5OfnR/3+cA9P5mal0OT0sPr93fz02kKaWtpIsZr5yxufBAdt6Oii0/E8Q8cVwnBz0+Rmdp0I0WYxkZlmDfl5YHZql+X+/sGXfK90fMgzUPPLzmLVuzuZ9NVhIVcOj/58o8HAnGlnYDUbsVlMEYuJVKs54mecOjiLx1/7OPhz/uGrqOEOzEZj+C/zYx3ELSZj2GXqHK6Ik/d2LJNmMUGEk5WOorGqriXs3E8pZiNjhti574cX0OLxkWYxkZlmCZkDq4PVwOFhzgNgDD+3ldUYiPpBywHpZoYNSu8S18IrJ5CeYg7bnjSLKeTzrd2MozsPEA84PFqhq83DZReNIm9AKtX1rSEnfJ1jbHS6wsbsaHLx/dLx/KF8S5f3dPxsTwu9S9Jx8tm5oOho3/dKx3OoviXs71PDrLdIJ7IduTF+ZC4Pv/ghNx2+An/0cgPs4fdbAoRsr4Zmd9jlGppdEbtavbF+J5ecNyL4vpoGFxXrd3LZRaMYd3oO5euOnwMd+dsxYIrRaOC0UzKDg6eEy+U0mzlkJMpInx0PurMPdPcB+gGZ4bu2tR0uiDtyYM60sVjNR/LMZjFxysC0LpPwLrjibF74a/uzU1deMiY4BHrnzz51cBaf7W0I+3e9vkCX0UMH5aRSVddKZpqVP77+SXDfhPbjxk2zzwkZOr9zgX30eur8HRcub/qD7n7nxYuTeUi/N/eBDgaIm/WbSAMe9BfxEmssBpFIuFH4qqqquOaaa3jppZdITU3l6quv5pe//CVnnx3dqDFhvzgs8OG2Oh579WOGF2RwzdSxNLe42V9zZCS7UwamUtvo5q/v7Wb6xFOxp1k4VN/eNSs9xcyIAjttPj8pVjNWC+w/1NrlGaj3tuwPPgM1Z9pYPv78UJcBI+aXncWwQRk4XV627qzD74e/f/glV15yBuAHjCx/a1uX/vrfKx1Hc4uHv763m2/PGIvZZKLF1UYAA4+9EhrH8MEZ1DW4aHR6Qv72gsvbn8vaurshGIs91YTT7WdZp9HZOorIjmegOrrxdTwD1fm5lM4PMl89ZQzrP97PhecM5dlVR0af+v63xtPU0obRYOD0U7LwHb7LePQD/NE8A2VPt3D5RaNoPPyAf8eEk50nVe32F0S4kf5OahQ+P3lZtmCf9agfCu5GHN06eFpgy44Gnlv1KdMnnkrlu6HPvQ3OTeOKyaP538MniINz07jim2O6DFU+MDsFl9vL5186sKeaSUu18ugrm0NyL8Vq5HcvHDnJ+/E1X8HV1v68kz3dwiXnjaAgJ41su5UXVm+jutEVHKSl8++9fh9gCDlpvfnKc3C3+YJxBotnq4nsTBtnDMvC0ezBi589B5xd9s9wz0DdNPscBtitZKRYgt2cduxvYn9tS0gOdwwyM/X8Eaz/eD/nji1g2KAMhgxMw2gwUNfkJsdu6/Kg//yyszhnVA5bd/XSg+GJ9tB5lPtAt08eOx0Djv6eu2rKGThb2mhq9TJsUDruNh8pVgsBAgyw23C1+fB6fdjTbTQ0tQ8rbzT62fFlE385PDn10QMNff9b4zEbIT83nYM1LSF/d8HlZ5NuM7Pk2X+Gz8NI8/CNyMLh9IQU2M1ub/BiUTxv784XveKyHZ302Ch8Pb0PHLbspc24vD7+8+qvnHiMMZJIJ/v9RbzEqgLqBL3++us89thjeDwerrjiCr7//e9H/d6IXxwWqKp143C2MSDThtfnx+sL4HJ7ycqwYTIaqGtyYU+14mxtIzPDhs/np6nF0z50ucWIp81Hiq19+GWrxYDfb6C+yUW2PYW0FBPNLV5aXB4yUi0YTQYam9vIzUzB6/NT53AxwJ5CepqZQ7UtZGem4PH4qW9yk5Npw2o1UV3fSm5W++vO1jbSU620uj2kWNuvxje1HP5CzbBQ29hGjcNFQW4aLnd796QB9hQG5dqorW/DYA7g9xnauwW2+bCnW7CYTbS0emjz+klPseBsbSMjzUpqiglHswf34WGlW9we0mwW3B4vZrMRi8mEw9nWfpct3ULb4bjTUy1YLUaanG3kZtowGgwcanCRnmbBbDTgbPUED/R1Te7Qg8GxDhLHGbq8YwLfSAeYfvcF0RMF2lFO5ASyztFGk9OD1WLC4/Vhs7SPRpeRasHd5iXFZmkfwt7a3vXQ7w/Q2OwmxWrGaDJgAKwWE60uLy0uL3kDUnG3Hck9DH78AQMGDDS3tmFPteIP+LCazbg9flpc7blsOnyF3+X24Wz1kJuV0j4nVXMb2XYrbd4ANQ2t5OekhewjGWlmGhxuUlPM1Da6g5+VajWRnWZpv/7QwQxVde6Q/cLh8NDs8gTbHXFbHB4e2tHqxd3mJTPNitvjJSPFEj6XOzO2DypS63CRm5lCbqa1Pa5eyIHO8SbaSejxnNDJ4+FjQEOzm+wMG21eLzaLGbPZyKG6FgbYU0hNMXGwtoWsdFv795fdhs8foLaxlQH2FNo8XmzW9qks6pvcpKe07zO5WSkEgNpGF9kZNlxtXuxpFgIBaGxuIz3V0j7/VIatPScCx8mHbpxE96vvuhOUKO2A2LXlZAqoVo+X/7rmq70VWo+Jl7yIlzghfmJVAdUHjvXFAfGTPD0l2doLydHmEz14JsO66SyZ2ptsbY0kmY4BidKWRGkHxEcB5fJ4CRgM/Fc/vwsVL3kRL3FC/MQaiwIq4UbhExEREZHeYaR9gC6RZKYCSkRERESiYiA48CQA/9/zH/RVKCJ9JuFG4TtZ0QzX2h+HdO1NydZeSM42dzhe25Nt3SRTe5OprZEk2zEgUdqSKO2Avm/LMf++wYDp8MilHcsZj/eePtRf4zpavMQJ8RNrb8epZ6BERERERESipC58IiIiIiIiUVIBJSIiIiIiEiUVUCIiIiIiIlFSASUiIiIiIhIlFVAiIiIiIiJRUgElIiIiIiISJRVQIiIiIiIiUVIBJSIiIiIiEiUVUCIiIiIiIlFSARWl119/nZkzZzJ16lSeeeaZvg6nVzU3NzNr1iy+/PJLANavX09JSQlTp05l6dKlfRxdz3rooYcoLi6muLiY+++/H0js9p6MZNgHlPuJ296TFe/5n2jb+7777mPRokVA/LZjzZo1lJWVMWPGDO6++26gf7elr/aBcLn785//nKlTp1JaWkppaSmrV68GYOvWrZSVlTFt2jRuv/12vF4vAPv372fu3LlMnz6dBQsW4HQ6AXA4HMybN48ZM2Ywd+5cqqurTzjOa6+9luLi4mBMH330UcTt2Zdxvvjii8EYS0tLOffcc/mf//mffrVOoz0W91RsbW1t3HrrrcyYMYPLLruMHTt2HD/IgBzXwYMHAxdffHGgvr4+4HQ6AyUlJYHPPvusr8PqFR9++GFg1qxZgXHjxgX27t0baG1tDUyaNCmwZ8+egMfjCdxwww2BtWvX9nWYPeIf//hH4Kqrrgq43e5AW1tb4Lrrrgu8/vrrCdvek5EM+4ByX7kfSbznf6Jt7/Xr1wfOP//8wM9+9rO43U/37NkTuPDCCwMHDhwItLW1Ba655prA2rVr+21b+mofCJe7f/3rXwOzZs0KVFVVdVm+uLg48MEHHwQCgUDg5z//eeCZZ54JBAKBwLx58wIrV64MBAKBwEMPPRS4//77A4FAIHDXXXcFHnvssUAgEAi8+uqrgVtuueWE4vT7/YELL7ww4PF4gq8dKzf7Ks6jbd++PTBlypRAbW1tv1mn3TkW91Rsjz/+eOAXv/hFIBAIBN5///3A7Nmzjxun7kBFYf369Xzta18jOzubtLQ0pk2bRmVlZV+H1SuWL1/OnXfeSX5+PgCbN29mxIgRDBs2DLPZTElJScK0PS8vj0WLFmG1WrFYLIwcOZJdu3YlbHtPRjLsA8p95X4k8Z7/ibS9GxoaWLp0KfPnzwfidz9dvXo1M2fOpKCgAIvFwtKlS0lNTe23bemrfSBc7u7fv5/9+/dz2223UVJSwoMPPojf72ffvn24XC4mTJgAQFlZGZWVlXg8HjZs2MC0adNCXgdYu3YtJSUlAMyaNYu3334bj8fT7Ti/+OILAG644QYuvfRSnn766Yi52ZdxHu2///u/+fGPf0xqamq/WafRHot7Mra1a9dy6aWXAnDeeedRV1fH/v37jxmnCqgoHDp0iLy8vODP+fn5VFVV9WFEveeee+6hsLAw+HMit3306NHBHW/Xrl28+eabGAyGhG3vyUjkPOig3FfuRxLvuZBI23vx4sX8+Mc/JjMzE4jfbbN79258Ph/z58+ntLSUZ599tl+3pa9iC5e73/jGN/ja177Gr371K5YvX87GjRt56aWXusSYl5dHVVUV9fX1ZGRkYDabQ14/ul1ms5mMjAzq6uq6HafD4WDixIk8/PDD/PnPf+b5559n//79YddZX8bZ2fr163G5XMyYMYOampp+s06jPRb3ZGzhPuvgwYPHjFMFVBT8fj8GgyH4cyAQCPk5kSVD2z/77DNuuOEGfvrTnzJs2LCEb++JSIY8OFoytFm5H51EyYV4394vvvgigwcPZuLEicHX4nXb+Hw+3n33XX71q1/xwgsvsHnzZvbu3dtv29LX67lz7p5++uk8/PDD5Ofnk5qayrXXXsu6desixhgu1kixBwIBjMbunxp/5Stf4f7778dut5OTk8MVV1zBgw8+GDaevoyzs+eff57rr78egGHDhvW7ddohUgw9GdvR74kmZhVQUSgoKAh5CK66ujp4azHRJXrbN23axHe/+13+67/+i8suuyzh23uiknG9JHqblfvRS4R1kwjbu6Kign/84x+Ulpby4IMPsmbNGl588cW4awfAwIEDmThxIjk5OaSkpHDJJZewfv36ftuWvsyXo3N327ZtrFq1Kvj7QCCA2WzuEmNNTQ35+fnk5OTQ1NSEz+frEnt+fj41NTUAeL1enE4n2dnZ3Y5x48aNvPvuuyExDRkyJOw668s4O7S1tbFhwwYmT54M0C/XaYdIudeTsQ0aNIhDhw51+axjUQEVhQsuuIB3332Xuro6Wltb+etf/0pRUVFfhxUT55xzDjt37gx2N1i5cmXCtP3AgQP86Ec/YsmSJRQXFwOJ3d6TkYz7QCLngnK/e+I9/xNle//pT39i5cqVlJeXs3DhQiZPnszjjz8ed+0AuPjii3nnnXdwOBz4fD7+/ve/M3369H7blr7aB8LlbiAQ4Fe/+hWNjY14PB5eeOEFpkyZwpAhQ7DZbGzatAmA8vJyioqKsFgsFBYWUlFRAcCKFSuCsU+aNIkVK1YA7QV6YWEhFoul23E2NTVx//3343a7aW5u5tVXX+U///M/w27Pvoyzw7Zt2zj11FNJS0sD+uc67RDpu6onY5s0aRLl5eVAezFss9k45ZRTjhmXIRAIBE64VUnk9ddf57HHHsPj8XDFFVfw/e9/v69D6lWTJ0/mySefZOjQobz77rv8+te/xu12M2nSJH7+85/3m24FJ+Puu+/m5ZdfZvjw4cHXrr76ak499dSEbO/JSpZ9QLmfeO3tCfGc/4m4vV955RXef/997r333rjdT1966SX+/Oc/4/F4+PrXv84dd9zBe++912/b0hf7QKTc9fv9PPPMM3i9XqZOncpPfvITAD799FPuuOMOmpubGTduHL/+9a+xWq3s27ePRYsWUVtby+DBg/ntb39LVlYWDQ0NLFq0iL1792K321myZAlDhw49oVgfeOABVq1ahd/vZ86cOXznO9+JmJt9GSe0Fw+rV68OGRL8mWee6VfrNJpjcU/F5na7Wbx4MVu2bMFqtXL33Xczbty4Y8anAkpERERERCRK6sInIiIiIiISJRVQIiIiIiIiUVIBJSIiIiIiEiUVUCIiIiIiIlFSASUiIiIiIhIlFVASUx6PhwsvvJDvfe97Ia8//fTTFBcXM2vWLBYsWEBtbW0fRSjSuyLtA6tXr6akpITS0lKuu+469uzZ00cRivS8SHkP7XPQ/OxnP+OJJ54Ied3hcFBSUsLHH38cqzBFesWJ5P/5559PaWlp8L/XXnstVuFKFFRASUytXr2asWPHsmXLFnbs2AHAli1b+OMf/8jzzz/PypUrOfXUU/nd737Xx5GK9I5w+4DL5eLWW2/loYceory8nMmTJ3P33Xf3caQiPSdc3gPs2LGD73znO6xatSpk+XXr1jF79mx27twZ61BFelx38/+LL74gOzub8vLy4H+XXnpprMOWY1ABJTH13HPP8c1vfpOZM2fyl7/8BYDx48ezatUq7HY7brebqqoqsrOz+zZQkV4Sbh/w+XwEAgGampoAcDqd2Gy2vgxTpEeFy3ton7xz9uzZTJ8+PWT5J598kt/85jfk5+fHOlSRHtfd/P/ggw8wGo3MmTOHkpISHnroIXw+X6zDlmNQASUx8/nnn/PBBx8wffp0vvWtb1FeXk59fT0AFouFt956i6KiIjZs2EBZWVkfRyvS8yLtA+np6dx1111cffXVXHjhhTzzzDPBWeBF4t2xvvsXL15MSUlJl/c88cQTnH322bEOVaTHnUj++3w+LrjgAh5//HGeeeYZ3nnnHZ566qlYhy7HoAJKYua5557j4osvZsCAAZx99tkMHTqU5cuXB39/ySWX8N5773HzzTdz44034vf7+zBakZ4XaR/Ytm0bDz/8MBUVFbzzzjvMnz+fm2++mUAg0Nchi5y04333iySyE8n/K6+8kl/84hekpaWRmZnJ9ddfz1tvvRWjiCUa5r4OQJJDS0sL5eXlWK1WJk+eDEBzczNPP/0006ZNo6amhsLCQgAuv/xy7rzzThobGxkwYEBfhi3SY461D5hMJr761a8yfPhwAObOncuvf/1r6uvrycnJ6cuwRU7KsfL+hhtuwGKx9HGEIr3nRPN/xYoVjB07lrFjxwLtA02YzTpl70+0NSQmXn/9dbKzs1m1ahUmkwloH2Hp4osvZuXKlSxfvpwVK1aQk5PD66+/zujRo1U8SUI51j4waNAgnn32WWpqahg4cCBvvfUWQ4cOVfEkce9YeV9ZWRm2+5JIojjR/P/ss8/461//yu9//3s8Hg/PPPOM9pV+RgWUxMRzzz3H9ddfH/wCAcjMzOTaa6/lb3/7G/Pnz+e6667DZDKRn5/Pww8/3IfRivS8Y+0Df/7zn7nxxhu59tprsVgsZGVlsWzZsj6MVqRnHC/vdVIoiexE8/+mm27if/7nfygpKcHr9TJ9+nRmz54dq7AlCoaAOtmLiIiIiIhERYNIiIiIiIiIREkFlIiIiIiISJRUQImIiIiIiERJBZSIiIiIiEiUVECJiIiIiIhESQWUiIiIiIhIlFRAiYiIiIiIREkFlIiIiIiISJT+fyWnDNdbrNw6AAAAAElFTkSuQmCC\n",
      "text/plain": [
       "<Figure size 864x864 with 20 Axes>"
      ]
     },
     "metadata": {},
     "output_type": "display_data"
    }
   ],
   "source": [
    "# pair plot\n",
    "sns.set()\n",
    "cols = ['A3','A8', 'A11','A15']\n",
    "sns.pairplot(credit_data[cols], size = 3)\n",
    "plt.show()"
   ]
  },
  {
   "cell_type": "markdown",
   "id": "c6da4a88",
   "metadata": {},
   "source": [
    "# Outliers"
   ]
  },
  {
   "cell_type": "code",
   "execution_count": 74,
   "id": "1179899b",
   "metadata": {},
   "outputs": [
    {
     "data": {
      "image/png": "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\n",
      "text/plain": [
       "<Figure size 432x288 with 1 Axes>"
      ]
     },
     "metadata": {},
     "output_type": "display_data"
    }
   ],
   "source": [
    "sns.boxplot(credit_data.A2, color='green')\n",
    "plt.title(\"Boxplot of the A2 outliers\")\n",
    "plt.xlabel('A2')\n",
    "plt.show()"
   ]
  },
  {
   "cell_type": "code",
   "execution_count": 75,
   "id": "52afb550",
   "metadata": {},
   "outputs": [
    {
     "data": {
      "image/png": "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\n",
      "text/plain": [
       "<Figure size 432x288 with 1 Axes>"
      ]
     },
     "metadata": {},
     "output_type": "display_data"
    }
   ],
   "source": [
    "sns.boxplot(credit_data.A3, color='green')\n",
    "plt.title(\"Boxplot of the A3 outliers\")\n",
    "plt.xlabel('A3')\n",
    "plt.show()"
   ]
  },
  {
   "cell_type": "code",
   "execution_count": 76,
   "id": "6e86747c",
   "metadata": {},
   "outputs": [
    {
     "data": {
      "image/png": "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\n",
      "text/plain": [
       "<Figure size 432x288 with 1 Axes>"
      ]
     },
     "metadata": {},
     "output_type": "display_data"
    }
   ],
   "source": [
    "sns.boxplot(credit_data.A8, color='green')\n",
    "plt.title(\"Boxplot of the A8 outliers\")\n",
    "plt.xlabel('A8')\n",
    "plt.show()"
   ]
  },
  {
   "cell_type": "code",
   "execution_count": 77,
   "id": "e697a790",
   "metadata": {},
   "outputs": [
    {
     "data": {
      "image/png": "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\n",
      "text/plain": [
       "<Figure size 432x288 with 1 Axes>"
      ]
     },
     "metadata": {},
     "output_type": "display_data"
    }
   ],
   "source": [
    "sns.boxplot(credit_data.A11, color='green')\n",
    "plt.title(\"Boxplot of the A11 outliers\")\n",
    "plt.xlabel('A11')\n",
    "plt.show()"
   ]
  },
  {
   "cell_type": "code",
   "execution_count": 78,
   "id": "5144d185",
   "metadata": {},
   "outputs": [
    {
     "data": {
      "image/png": "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\n",
      "text/plain": [
       "<Figure size 432x288 with 1 Axes>"
      ]
     },
     "metadata": {},
     "output_type": "display_data"
    }
   ],
   "source": [
    "sns.boxplot(credit_data.A14, color='green')\n",
    "plt.title(\"Boxplot of the A14 outliers\")\n",
    "plt.xlabel('A14')\n",
    "plt.show()"
   ]
  },
  {
   "cell_type": "code",
   "execution_count": 79,
   "id": "addc033d",
   "metadata": {},
   "outputs": [
    {
     "data": {
      "image/png": "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\n",
      "text/plain": [
       "<Figure size 432x288 with 1 Axes>"
      ]
     },
     "metadata": {},
     "output_type": "display_data"
    }
   ],
   "source": [
    "sns.boxplot(credit_data.A15, color='green')\n",
    "plt.title(\"Boxplot of the A15 outliers\")\n",
    "plt.xlabel('A15')\n",
    "plt.show()"
   ]
  },
  {
   "cell_type": "markdown",
   "id": "a70d15e7",
   "metadata": {},
   "source": [
    "# Encoding"
   ]
  },
  {
   "cell_type": "code",
   "execution_count": null,
   "id": "5e133c71",
   "metadata": {},
   "outputs": [],
   "source": []
  },
  {
   "cell_type": "markdown",
   "id": "2c34371c",
   "metadata": {},
   "source": [
    "# Feature  selection and feature engineering"
   ]
  },
  {
   "cell_type": "code",
   "execution_count": 80,
   "id": "70ef1a94",
   "metadata": {},
   "outputs": [],
   "source": [
    "# credit_data.drop(['A14'],axis = 1)"
   ]
  },
  {
   "cell_type": "code",
   "execution_count": 81,
   "id": "6a4c4bae",
   "metadata": {},
   "outputs": [
    {
     "data": {
      "text/html": [
       "<div>\n",
       "<style scoped>\n",
       "    .dataframe tbody tr th:only-of-type {\n",
       "        vertical-align: middle;\n",
       "    }\n",
       "\n",
       "    .dataframe tbody tr th {\n",
       "        vertical-align: top;\n",
       "    }\n",
       "\n",
       "    .dataframe thead th {\n",
       "        text-align: right;\n",
       "    }\n",
       "</style>\n",
       "<table border=\"1\" class=\"dataframe\">\n",
       "  <thead>\n",
       "    <tr style=\"text-align: right;\">\n",
       "      <th></th>\n",
       "      <th>A1</th>\n",
       "      <th>A2</th>\n",
       "      <th>A3</th>\n",
       "      <th>A4</th>\n",
       "      <th>A5</th>\n",
       "      <th>A6</th>\n",
       "      <th>A7</th>\n",
       "      <th>A8</th>\n",
       "      <th>A9</th>\n",
       "      <th>A10</th>\n",
       "      <th>A11</th>\n",
       "      <th>A12</th>\n",
       "      <th>A13</th>\n",
       "      <th>A14</th>\n",
       "      <th>A15</th>\n",
       "      <th>A16</th>\n",
       "    </tr>\n",
       "  </thead>\n",
       "  <tbody>\n",
       "    <tr>\n",
       "      <th>0</th>\n",
       "      <td>b</td>\n",
       "      <td>30.83</td>\n",
       "      <td>0.000</td>\n",
       "      <td>u</td>\n",
       "      <td>g</td>\n",
       "      <td>w</td>\n",
       "      <td>v</td>\n",
       "      <td>1.25</td>\n",
       "      <td>t</td>\n",
       "      <td>t</td>\n",
       "      <td>1</td>\n",
       "      <td>f</td>\n",
       "      <td>g</td>\n",
       "      <td>202</td>\n",
       "      <td>0</td>\n",
       "      <td>+</td>\n",
       "    </tr>\n",
       "    <tr>\n",
       "      <th>1</th>\n",
       "      <td>a</td>\n",
       "      <td>58.67</td>\n",
       "      <td>4.460</td>\n",
       "      <td>u</td>\n",
       "      <td>g</td>\n",
       "      <td>q</td>\n",
       "      <td>h</td>\n",
       "      <td>3.04</td>\n",
       "      <td>t</td>\n",
       "      <td>t</td>\n",
       "      <td>6</td>\n",
       "      <td>f</td>\n",
       "      <td>g</td>\n",
       "      <td>43</td>\n",
       "      <td>560</td>\n",
       "      <td>+</td>\n",
       "    </tr>\n",
       "    <tr>\n",
       "      <th>2</th>\n",
       "      <td>a</td>\n",
       "      <td>24.50</td>\n",
       "      <td>0.500</td>\n",
       "      <td>u</td>\n",
       "      <td>g</td>\n",
       "      <td>q</td>\n",
       "      <td>h</td>\n",
       "      <td>1.50</td>\n",
       "      <td>t</td>\n",
       "      <td>f</td>\n",
       "      <td>0</td>\n",
       "      <td>f</td>\n",
       "      <td>g</td>\n",
       "      <td>280</td>\n",
       "      <td>824</td>\n",
       "      <td>+</td>\n",
       "    </tr>\n",
       "    <tr>\n",
       "      <th>3</th>\n",
       "      <td>b</td>\n",
       "      <td>27.83</td>\n",
       "      <td>1.540</td>\n",
       "      <td>u</td>\n",
       "      <td>g</td>\n",
       "      <td>w</td>\n",
       "      <td>v</td>\n",
       "      <td>3.75</td>\n",
       "      <td>t</td>\n",
       "      <td>t</td>\n",
       "      <td>5</td>\n",
       "      <td>t</td>\n",
       "      <td>g</td>\n",
       "      <td>100</td>\n",
       "      <td>3</td>\n",
       "      <td>+</td>\n",
       "    </tr>\n",
       "    <tr>\n",
       "      <th>4</th>\n",
       "      <td>b</td>\n",
       "      <td>20.17</td>\n",
       "      <td>5.625</td>\n",
       "      <td>u</td>\n",
       "      <td>g</td>\n",
       "      <td>w</td>\n",
       "      <td>v</td>\n",
       "      <td>1.71</td>\n",
       "      <td>t</td>\n",
       "      <td>f</td>\n",
       "      <td>0</td>\n",
       "      <td>f</td>\n",
       "      <td>s</td>\n",
       "      <td>120</td>\n",
       "      <td>0</td>\n",
       "      <td>+</td>\n",
       "    </tr>\n",
       "    <tr>\n",
       "      <th>...</th>\n",
       "      <td>...</td>\n",
       "      <td>...</td>\n",
       "      <td>...</td>\n",
       "      <td>...</td>\n",
       "      <td>...</td>\n",
       "      <td>...</td>\n",
       "      <td>...</td>\n",
       "      <td>...</td>\n",
       "      <td>...</td>\n",
       "      <td>...</td>\n",
       "      <td>...</td>\n",
       "      <td>...</td>\n",
       "      <td>...</td>\n",
       "      <td>...</td>\n",
       "      <td>...</td>\n",
       "      <td>...</td>\n",
       "    </tr>\n",
       "    <tr>\n",
       "      <th>685</th>\n",
       "      <td>b</td>\n",
       "      <td>21.08</td>\n",
       "      <td>10.085</td>\n",
       "      <td>y</td>\n",
       "      <td>p</td>\n",
       "      <td>e</td>\n",
       "      <td>h</td>\n",
       "      <td>1.25</td>\n",
       "      <td>f</td>\n",
       "      <td>f</td>\n",
       "      <td>0</td>\n",
       "      <td>f</td>\n",
       "      <td>g</td>\n",
       "      <td>260</td>\n",
       "      <td>0</td>\n",
       "      <td>-</td>\n",
       "    </tr>\n",
       "    <tr>\n",
       "      <th>686</th>\n",
       "      <td>a</td>\n",
       "      <td>22.67</td>\n",
       "      <td>0.750</td>\n",
       "      <td>u</td>\n",
       "      <td>g</td>\n",
       "      <td>c</td>\n",
       "      <td>v</td>\n",
       "      <td>2.00</td>\n",
       "      <td>f</td>\n",
       "      <td>t</td>\n",
       "      <td>2</td>\n",
       "      <td>t</td>\n",
       "      <td>g</td>\n",
       "      <td>200</td>\n",
       "      <td>394</td>\n",
       "      <td>-</td>\n",
       "    </tr>\n",
       "    <tr>\n",
       "      <th>687</th>\n",
       "      <td>a</td>\n",
       "      <td>25.25</td>\n",
       "      <td>13.500</td>\n",
       "      <td>y</td>\n",
       "      <td>p</td>\n",
       "      <td>ff</td>\n",
       "      <td>ff</td>\n",
       "      <td>2.00</td>\n",
       "      <td>f</td>\n",
       "      <td>t</td>\n",
       "      <td>1</td>\n",
       "      <td>t</td>\n",
       "      <td>g</td>\n",
       "      <td>200</td>\n",
       "      <td>1</td>\n",
       "      <td>-</td>\n",
       "    </tr>\n",
       "    <tr>\n",
       "      <th>688</th>\n",
       "      <td>b</td>\n",
       "      <td>17.92</td>\n",
       "      <td>0.205</td>\n",
       "      <td>u</td>\n",
       "      <td>g</td>\n",
       "      <td>aa</td>\n",
       "      <td>v</td>\n",
       "      <td>0.04</td>\n",
       "      <td>f</td>\n",
       "      <td>f</td>\n",
       "      <td>0</td>\n",
       "      <td>f</td>\n",
       "      <td>g</td>\n",
       "      <td>280</td>\n",
       "      <td>750</td>\n",
       "      <td>-</td>\n",
       "    </tr>\n",
       "    <tr>\n",
       "      <th>689</th>\n",
       "      <td>b</td>\n",
       "      <td>35.00</td>\n",
       "      <td>3.375</td>\n",
       "      <td>u</td>\n",
       "      <td>g</td>\n",
       "      <td>c</td>\n",
       "      <td>h</td>\n",
       "      <td>8.29</td>\n",
       "      <td>f</td>\n",
       "      <td>f</td>\n",
       "      <td>0</td>\n",
       "      <td>t</td>\n",
       "      <td>g</td>\n",
       "      <td>0</td>\n",
       "      <td>0</td>\n",
       "      <td>-</td>\n",
       "    </tr>\n",
       "  </tbody>\n",
       "</table>\n",
       "<p>638 rows × 16 columns</p>\n",
       "</div>"
      ],
      "text/plain": [
       "    A1     A2      A3 A4 A5  A6  A7    A8 A9 A10  A11 A12 A13  A14  A15 A16\n",
       "0    b  30.83   0.000  u  g   w   v  1.25  t   t    1   f   g  202    0   +\n",
       "1    a  58.67   4.460  u  g   q   h  3.04  t   t    6   f   g   43  560   +\n",
       "2    a  24.50   0.500  u  g   q   h  1.50  t   f    0   f   g  280  824   +\n",
       "3    b  27.83   1.540  u  g   w   v  3.75  t   t    5   t   g  100    3   +\n",
       "4    b  20.17   5.625  u  g   w   v  1.71  t   f    0   f   s  120    0   +\n",
       "..  ..    ...     ... .. ..  ..  ..   ... ..  ..  ...  ..  ..  ...  ...  ..\n",
       "685  b  21.08  10.085  y  p   e   h  1.25  f   f    0   f   g  260    0   -\n",
       "686  a  22.67   0.750  u  g   c   v  2.00  f   t    2   t   g  200  394   -\n",
       "687  a  25.25  13.500  y  p  ff  ff  2.00  f   t    1   t   g  200    1   -\n",
       "688  b  17.92   0.205  u  g  aa   v  0.04  f   f    0   f   g  280  750   -\n",
       "689  b  35.00   3.375  u  g   c   h  8.29  f   f    0   t   g    0    0   -\n",
       "\n",
       "[638 rows x 16 columns]"
      ]
     },
     "execution_count": 81,
     "metadata": {},
     "output_type": "execute_result"
    }
   ],
   "source": [
    "from scipy import stats\n",
    "z_scores = stats.zscore(credit_data[['A2','A3','A8','A11','A14','A15']])\n",
    "abs_z_scores = np.abs(z_scores)\n",
    "filtered_entries = (abs_z_scores < 3).all(axis=1)\n",
    "credit_data = credit_data[filtered_entries]\n",
    "credit_data"
   ]
  },
  {
   "cell_type": "code",
   "execution_count": 82,
   "id": "84e71dce",
   "metadata": {},
   "outputs": [],
   "source": [
    "# credit_data['A2'] = credit_data['A2'].astype('float')"
   ]
  },
  {
   "cell_type": "code",
   "execution_count": 83,
   "id": "73e520f6",
   "metadata": {},
   "outputs": [],
   "source": [
    "scaler=MinMaxScaler()\n",
    "credit_data[['A2','A3','A8','A11','A14','A15']] = scaler.fit_transform(credit_data[['A2','A3','A8','A11','A14','A15']])"
   ]
  },
  {
   "cell_type": "code",
   "execution_count": 84,
   "id": "ac9f14e8",
   "metadata": {},
   "outputs": [
    {
     "name": "stdout",
     "output_type": "stream",
     "text": [
      "A1:['b' 'a']\n",
      "A4:['u' 'y' 'l']\n",
      "A5:['g' 'p' 'gg']\n",
      "A6:['w' 'q' 'm' 'cc' 'k' 'c' 'd' 'x' 'i' 'e' 'aa' 'ff' 'j' 'r']\n",
      "A7:['v' 'h' 'bb' 'ff' 'j' 'o' 'dd' 'n' 'z']\n",
      "A9:['t' 'f']\n",
      "A10:['t' 'f']\n",
      "A12:['f' 't']\n",
      "A13:['g' 's' 'p']\n",
      "A16:['+' '-']\n"
     ]
    }
   ],
   "source": [
    "for i in  credit_data.select_dtypes(include=['object']).columns:\n",
    "    print(f'{i}:{credit_data[i].unique()}')"
   ]
  },
  {
   "cell_type": "code",
   "execution_count": 85,
   "id": "6308f74b",
   "metadata": {},
   "outputs": [
    {
     "data": {
      "text/html": [
       "<div>\n",
       "<style scoped>\n",
       "    .dataframe tbody tr th:only-of-type {\n",
       "        vertical-align: middle;\n",
       "    }\n",
       "\n",
       "    .dataframe tbody tr th {\n",
       "        vertical-align: top;\n",
       "    }\n",
       "\n",
       "    .dataframe thead th {\n",
       "        text-align: right;\n",
       "    }\n",
       "</style>\n",
       "<table border=\"1\" class=\"dataframe\">\n",
       "  <thead>\n",
       "    <tr style=\"text-align: right;\">\n",
       "      <th></th>\n",
       "      <th>A2</th>\n",
       "      <th>A3</th>\n",
       "      <th>A8</th>\n",
       "      <th>A11</th>\n",
       "      <th>A14</th>\n",
       "      <th>A15</th>\n",
       "      <th>A16</th>\n",
       "      <th>A1_a</th>\n",
       "      <th>A1_b</th>\n",
       "      <th>A4_l</th>\n",
       "      <th>...</th>\n",
       "      <th>A7_z</th>\n",
       "      <th>A9_f</th>\n",
       "      <th>A9_t</th>\n",
       "      <th>A10_f</th>\n",
       "      <th>A10_t</th>\n",
       "      <th>A12_f</th>\n",
       "      <th>A12_t</th>\n",
       "      <th>A13_g</th>\n",
       "      <th>A13_p</th>\n",
       "      <th>A13_s</th>\n",
       "    </tr>\n",
       "  </thead>\n",
       "  <tbody>\n",
       "    <tr>\n",
       "      <th>0</th>\n",
       "      <td>0.332166</td>\n",
       "      <td>0.000000</td>\n",
       "      <td>0.108696</td>\n",
       "      <td>0.0625</td>\n",
       "      <td>0.297059</td>\n",
       "      <td>0.000000</td>\n",
       "      <td>+</td>\n",
       "      <td>0</td>\n",
       "      <td>1</td>\n",
       "      <td>0</td>\n",
       "      <td>...</td>\n",
       "      <td>0</td>\n",
       "      <td>0</td>\n",
       "      <td>1</td>\n",
       "      <td>0</td>\n",
       "      <td>1</td>\n",
       "      <td>1</td>\n",
       "      <td>0</td>\n",
       "      <td>1</td>\n",
       "      <td>0</td>\n",
       "      <td>0</td>\n",
       "    </tr>\n",
       "    <tr>\n",
       "      <th>1</th>\n",
       "      <td>0.873590</td>\n",
       "      <td>0.228718</td>\n",
       "      <td>0.264348</td>\n",
       "      <td>0.3750</td>\n",
       "      <td>0.063235</td>\n",
       "      <td>0.037066</td>\n",
       "      <td>+</td>\n",
       "      <td>1</td>\n",
       "      <td>0</td>\n",
       "      <td>0</td>\n",
       "      <td>...</td>\n",
       "      <td>0</td>\n",
       "      <td>0</td>\n",
       "      <td>1</td>\n",
       "      <td>0</td>\n",
       "      <td>1</td>\n",
       "      <td>1</td>\n",
       "      <td>0</td>\n",
       "      <td>1</td>\n",
       "      <td>0</td>\n",
       "      <td>0</td>\n",
       "    </tr>\n",
       "    <tr>\n",
       "      <th>2</th>\n",
       "      <td>0.209063</td>\n",
       "      <td>0.025641</td>\n",
       "      <td>0.130435</td>\n",
       "      <td>0.0000</td>\n",
       "      <td>0.411765</td>\n",
       "      <td>0.054541</td>\n",
       "      <td>+</td>\n",
       "      <td>1</td>\n",
       "      <td>0</td>\n",
       "      <td>0</td>\n",
       "      <td>...</td>\n",
       "      <td>0</td>\n",
       "      <td>0</td>\n",
       "      <td>1</td>\n",
       "      <td>1</td>\n",
       "      <td>0</td>\n",
       "      <td>1</td>\n",
       "      <td>0</td>\n",
       "      <td>1</td>\n",
       "      <td>0</td>\n",
       "      <td>0</td>\n",
       "    </tr>\n",
       "    <tr>\n",
       "      <th>3</th>\n",
       "      <td>0.273823</td>\n",
       "      <td>0.078974</td>\n",
       "      <td>0.326087</td>\n",
       "      <td>0.3125</td>\n",
       "      <td>0.147059</td>\n",
       "      <td>0.000199</td>\n",
       "      <td>+</td>\n",
       "      <td>0</td>\n",
       "      <td>1</td>\n",
       "      <td>0</td>\n",
       "      <td>...</td>\n",
       "      <td>0</td>\n",
       "      <td>0</td>\n",
       "      <td>1</td>\n",
       "      <td>0</td>\n",
       "      <td>1</td>\n",
       "      <td>0</td>\n",
       "      <td>1</td>\n",
       "      <td>1</td>\n",
       "      <td>0</td>\n",
       "      <td>0</td>\n",
       "    </tr>\n",
       "    <tr>\n",
       "      <th>4</th>\n",
       "      <td>0.124854</td>\n",
       "      <td>0.288462</td>\n",
       "      <td>0.148696</td>\n",
       "      <td>0.0000</td>\n",
       "      <td>0.176471</td>\n",
       "      <td>0.000000</td>\n",
       "      <td>+</td>\n",
       "      <td>0</td>\n",
       "      <td>1</td>\n",
       "      <td>0</td>\n",
       "      <td>...</td>\n",
       "      <td>0</td>\n",
       "      <td>0</td>\n",
       "      <td>1</td>\n",
       "      <td>1</td>\n",
       "      <td>0</td>\n",
       "      <td>1</td>\n",
       "      <td>0</td>\n",
       "      <td>0</td>\n",
       "      <td>0</td>\n",
       "      <td>1</td>\n",
       "    </tr>\n",
       "    <tr>\n",
       "      <th>...</th>\n",
       "      <td>...</td>\n",
       "      <td>...</td>\n",
       "      <td>...</td>\n",
       "      <td>...</td>\n",
       "      <td>...</td>\n",
       "      <td>...</td>\n",
       "      <td>...</td>\n",
       "      <td>...</td>\n",
       "      <td>...</td>\n",
       "      <td>...</td>\n",
       "      <td>...</td>\n",
       "      <td>...</td>\n",
       "      <td>...</td>\n",
       "      <td>...</td>\n",
       "      <td>...</td>\n",
       "      <td>...</td>\n",
       "      <td>...</td>\n",
       "      <td>...</td>\n",
       "      <td>...</td>\n",
       "      <td>...</td>\n",
       "      <td>...</td>\n",
       "    </tr>\n",
       "    <tr>\n",
       "      <th>685</th>\n",
       "      <td>0.142552</td>\n",
       "      <td>0.517179</td>\n",
       "      <td>0.108696</td>\n",
       "      <td>0.0000</td>\n",
       "      <td>0.382353</td>\n",
       "      <td>0.000000</td>\n",
       "      <td>-</td>\n",
       "      <td>0</td>\n",
       "      <td>1</td>\n",
       "      <td>0</td>\n",
       "      <td>...</td>\n",
       "      <td>0</td>\n",
       "      <td>1</td>\n",
       "      <td>0</td>\n",
       "      <td>1</td>\n",
       "      <td>0</td>\n",
       "      <td>1</td>\n",
       "      <td>0</td>\n",
       "      <td>1</td>\n",
       "      <td>0</td>\n",
       "      <td>0</td>\n",
       "    </tr>\n",
       "    <tr>\n",
       "      <th>686</th>\n",
       "      <td>0.173473</td>\n",
       "      <td>0.038462</td>\n",
       "      <td>0.173913</td>\n",
       "      <td>0.1250</td>\n",
       "      <td>0.294118</td>\n",
       "      <td>0.026079</td>\n",
       "      <td>-</td>\n",
       "      <td>1</td>\n",
       "      <td>0</td>\n",
       "      <td>0</td>\n",
       "      <td>...</td>\n",
       "      <td>0</td>\n",
       "      <td>1</td>\n",
       "      <td>0</td>\n",
       "      <td>0</td>\n",
       "      <td>1</td>\n",
       "      <td>0</td>\n",
       "      <td>1</td>\n",
       "      <td>1</td>\n",
       "      <td>0</td>\n",
       "      <td>0</td>\n",
       "    </tr>\n",
       "    <tr>\n",
       "      <th>687</th>\n",
       "      <td>0.223648</td>\n",
       "      <td>0.692308</td>\n",
       "      <td>0.173913</td>\n",
       "      <td>0.0625</td>\n",
       "      <td>0.294118</td>\n",
       "      <td>0.000066</td>\n",
       "      <td>-</td>\n",
       "      <td>1</td>\n",
       "      <td>0</td>\n",
       "      <td>0</td>\n",
       "      <td>...</td>\n",
       "      <td>0</td>\n",
       "      <td>1</td>\n",
       "      <td>0</td>\n",
       "      <td>0</td>\n",
       "      <td>1</td>\n",
       "      <td>0</td>\n",
       "      <td>1</td>\n",
       "      <td>1</td>\n",
       "      <td>0</td>\n",
       "      <td>0</td>\n",
       "    </tr>\n",
       "    <tr>\n",
       "      <th>688</th>\n",
       "      <td>0.081097</td>\n",
       "      <td>0.010513</td>\n",
       "      <td>0.003478</td>\n",
       "      <td>0.0000</td>\n",
       "      <td>0.411765</td>\n",
       "      <td>0.049643</td>\n",
       "      <td>-</td>\n",
       "      <td>0</td>\n",
       "      <td>1</td>\n",
       "      <td>0</td>\n",
       "      <td>...</td>\n",
       "      <td>0</td>\n",
       "      <td>1</td>\n",
       "      <td>0</td>\n",
       "      <td>1</td>\n",
       "      <td>0</td>\n",
       "      <td>1</td>\n",
       "      <td>0</td>\n",
       "      <td>1</td>\n",
       "      <td>0</td>\n",
       "      <td>0</td>\n",
       "    </tr>\n",
       "    <tr>\n",
       "      <th>689</th>\n",
       "      <td>0.413263</td>\n",
       "      <td>0.173077</td>\n",
       "      <td>0.720870</td>\n",
       "      <td>0.0000</td>\n",
       "      <td>0.000000</td>\n",
       "      <td>0.000000</td>\n",
       "      <td>-</td>\n",
       "      <td>0</td>\n",
       "      <td>1</td>\n",
       "      <td>0</td>\n",
       "      <td>...</td>\n",
       "      <td>0</td>\n",
       "      <td>1</td>\n",
       "      <td>0</td>\n",
       "      <td>1</td>\n",
       "      <td>0</td>\n",
       "      <td>0</td>\n",
       "      <td>1</td>\n",
       "      <td>1</td>\n",
       "      <td>0</td>\n",
       "      <td>0</td>\n",
       "    </tr>\n",
       "  </tbody>\n",
       "</table>\n",
       "<p>638 rows × 47 columns</p>\n",
       "</div>"
      ],
      "text/plain": [
       "           A2        A3        A8     A11       A14       A15 A16  A1_a  A1_b  \\\n",
       "0    0.332166  0.000000  0.108696  0.0625  0.297059  0.000000   +     0     1   \n",
       "1    0.873590  0.228718  0.264348  0.3750  0.063235  0.037066   +     1     0   \n",
       "2    0.209063  0.025641  0.130435  0.0000  0.411765  0.054541   +     1     0   \n",
       "3    0.273823  0.078974  0.326087  0.3125  0.147059  0.000199   +     0     1   \n",
       "4    0.124854  0.288462  0.148696  0.0000  0.176471  0.000000   +     0     1   \n",
       "..        ...       ...       ...     ...       ...       ...  ..   ...   ...   \n",
       "685  0.142552  0.517179  0.108696  0.0000  0.382353  0.000000   -     0     1   \n",
       "686  0.173473  0.038462  0.173913  0.1250  0.294118  0.026079   -     1     0   \n",
       "687  0.223648  0.692308  0.173913  0.0625  0.294118  0.000066   -     1     0   \n",
       "688  0.081097  0.010513  0.003478  0.0000  0.411765  0.049643   -     0     1   \n",
       "689  0.413263  0.173077  0.720870  0.0000  0.000000  0.000000   -     0     1   \n",
       "\n",
       "     A4_l  ...  A7_z  A9_f  A9_t  A10_f  A10_t  A12_f  A12_t  A13_g  A13_p  \\\n",
       "0       0  ...     0     0     1      0      1      1      0      1      0   \n",
       "1       0  ...     0     0     1      0      1      1      0      1      0   \n",
       "2       0  ...     0     0     1      1      0      1      0      1      0   \n",
       "3       0  ...     0     0     1      0      1      0      1      1      0   \n",
       "4       0  ...     0     0     1      1      0      1      0      0      0   \n",
       "..    ...  ...   ...   ...   ...    ...    ...    ...    ...    ...    ...   \n",
       "685     0  ...     0     1     0      1      0      1      0      1      0   \n",
       "686     0  ...     0     1     0      0      1      0      1      1      0   \n",
       "687     0  ...     0     1     0      0      1      0      1      1      0   \n",
       "688     0  ...     0     1     0      1      0      1      0      1      0   \n",
       "689     0  ...     0     1     0      1      0      0      1      1      0   \n",
       "\n",
       "     A13_s  \n",
       "0        0  \n",
       "1        0  \n",
       "2        0  \n",
       "3        0  \n",
       "4        1  \n",
       "..     ...  \n",
       "685      0  \n",
       "686      0  \n",
       "687      0  \n",
       "688      0  \n",
       "689      0  \n",
       "\n",
       "[638 rows x 47 columns]"
      ]
     },
     "execution_count": 85,
     "metadata": {},
     "output_type": "execute_result"
    }
   ],
   "source": [
    "credit_data= pd.get_dummies(credit_data,columns=['A1','A4','A5','A6','A7','A9','A10','A12','A13'])\n",
    "credit_data"
   ]
  },
  {
   "cell_type": "markdown",
   "id": "6b444f70",
   "metadata": {},
   "source": [
    "# Label encoding"
   ]
  },
  {
   "cell_type": "code",
   "execution_count": 86,
   "id": "6d225921",
   "metadata": {},
   "outputs": [],
   "source": [
    "credit_data['A16']=LabelEncoder().fit_transform(credit_data['A16'])"
   ]
  },
  {
   "cell_type": "markdown",
   "id": "9b2bdf9c",
   "metadata": {},
   "source": [
    "# Building the neural network model"
   ]
  },
  {
   "cell_type": "code",
   "execution_count": 87,
   "id": "6d6b5637",
   "metadata": {},
   "outputs": [],
   "source": [
    "X = credit_data.loc[:, credit_data.columns != 'A16']\n",
    "y= credit_data[['A16']]"
   ]
  },
  {
   "cell_type": "code",
   "execution_count": 88,
   "id": "290ab3d8",
   "metadata": {},
   "outputs": [
    {
     "data": {
      "text/plain": [
       "array([0, 0, 0, 0, 0, 0, 0, 0, 0, 1, 0, 0, 1, 0, 0, 0, 0, 0, 0, 0, 0, 0,\n",
       "       0, 0, 0, 0, 0, 0, 0, 0, 0, 0, 0, 0, 0, 0, 0, 0, 0, 0, 0, 0, 1, 1,\n",
       "       1, 0, 0, 0, 0, 0, 0, 0, 0, 0, 0, 0, 0, 0, 0, 0, 0, 1, 1, 1, 0, 1,\n",
       "       1, 1, 0, 1, 1, 1, 1, 1, 1, 1, 1, 1, 1, 0, 1, 1, 1, 1, 1, 1, 1, 0,\n",
       "       1, 1, 0, 0, 1, 1, 1, 1, 0, 0, 1, 0, 1, 1, 0, 0, 0, 0, 0, 0, 0, 0,\n",
       "       0, 0, 0, 0, 0, 0, 0, 0, 0, 0, 0, 0, 0, 0, 0, 0, 0, 0, 0, 0, 0, 0,\n",
       "       0, 0, 0, 0, 0, 0, 0, 0, 0, 0, 0, 0, 0, 0, 0, 0, 0, 0, 0, 1, 1, 0,\n",
       "       0, 0, 0, 0, 0, 0, 0, 0, 0, 0, 0, 0, 0, 0, 0, 0, 0, 0, 0, 0, 0, 0,\n",
       "       0, 0, 0, 1, 0, 0, 0, 0, 0, 0, 0, 0, 0, 0, 0, 0, 0, 0, 0, 0, 0, 0,\n",
       "       0, 0, 0, 1, 0, 0, 0, 0, 0, 0, 0, 0, 0, 0, 1, 0, 0, 0, 0, 0, 0, 0,\n",
       "       0, 1, 1, 1, 1, 1, 1, 1, 1, 1, 1, 1, 1, 1, 1, 0, 0, 0, 1, 1, 1, 1,\n",
       "       1, 1, 1, 1, 1, 1, 1, 1, 1, 1, 1, 1, 1, 1, 1, 1, 1, 1, 1, 1, 1, 1,\n",
       "       1, 1, 1, 1, 1, 1, 1, 1, 1, 1, 1, 1, 1, 1, 1, 1, 1, 1, 1, 1, 0, 1,\n",
       "       0, 1, 1, 1, 1, 1, 1, 1, 1, 1, 1, 1, 1, 1, 1, 1, 1, 1, 1, 1, 1, 1,\n",
       "       1, 1, 0, 1, 1, 1, 1, 1, 1, 1, 1, 1, 1, 1, 1, 1, 1, 1, 1, 1, 1, 1,\n",
       "       1, 1, 1, 1, 1, 1, 1, 1, 1, 1, 1, 1, 1, 1, 1, 1, 1, 1, 1, 1, 1, 1,\n",
       "       1, 1, 1, 1, 1, 1, 1, 1, 1, 1, 1, 1, 1, 1, 1, 1, 1, 1, 1, 1, 1, 1,\n",
       "       1, 1, 1, 1, 1, 1, 1, 1, 1, 1, 1, 1, 1, 1, 1, 1, 1, 1, 1, 1, 1, 1,\n",
       "       1, 1, 1, 1, 1, 1, 1, 1, 1, 1, 1, 1, 1, 1, 1, 1, 1, 1, 0, 1, 1, 1,\n",
       "       1, 1, 1, 1, 1, 1, 1, 1, 1, 1, 1, 1, 1, 1, 1, 1, 1, 1, 1, 1, 1, 1,\n",
       "       1, 1, 1, 1, 1, 1, 1, 0, 0, 0, 0, 0, 0, 0, 0, 0, 0, 0, 0, 0, 0, 0,\n",
       "       0, 0, 0, 0, 0, 0, 0, 0, 1, 0, 0, 0, 0, 0, 0, 0, 0, 0, 1, 0, 0, 1,\n",
       "       0, 0, 0, 1, 1, 1, 1, 1, 1, 0, 1, 0, 1, 0, 0, 1, 0, 0, 0, 0, 0, 0,\n",
       "       0, 0, 0, 0, 0, 0, 0, 0, 0, 0, 0, 0, 0, 0, 0, 0, 0, 0, 0, 0, 0, 0,\n",
       "       0, 0, 0, 1, 0, 0, 0, 0, 0, 0, 0, 0, 1, 1, 0, 0, 0, 0, 1, 0, 0, 1,\n",
       "       1, 1, 0, 1, 1, 1, 1, 1, 1, 1, 1, 1, 1, 1, 1, 1, 1, 1, 1, 0, 0, 1,\n",
       "       1, 1, 1, 1, 1, 1, 1, 1, 1, 1, 1, 1, 1, 1, 1, 1, 1, 1, 1, 1, 1, 1,\n",
       "       1, 1, 1, 1, 1, 1, 1, 1, 1, 1, 1, 1, 1, 1, 1, 1, 1, 1, 1, 1, 1, 1,\n",
       "       1, 1, 1, 1, 1, 1, 1, 1, 1, 1, 1, 1, 1, 1, 1, 1, 1, 1, 1, 1, 1, 1])"
      ]
     },
     "execution_count": 88,
     "metadata": {},
     "output_type": "execute_result"
    }
   ],
   "source": [
    "mlp = MLPClassifier()\n",
    "mlp.fit(X,y)\n",
    "y_pred = mlp.predict(X)\n",
    "y_pred "
   ]
  },
  {
   "cell_type": "code",
   "execution_count": null,
   "id": "3d7c8a80",
   "metadata": {},
   "outputs": [],
   "source": []
  },
  {
   "cell_type": "code",
   "execution_count": 89,
   "id": "90e007da",
   "metadata": {},
   "outputs": [
    {
     "name": "stdout",
     "output_type": "stream",
     "text": [
      "Precision:0.865\n",
      "f1_score:0.858\n"
     ]
    }
   ],
   "source": [
    "kfold=KFold(n_splits=10,shuffle = True,random_state=0)\n",
    "fold_Precision = cross_val_score(mlp, X, y, cv=kfold, scoring='precision_weighted')\n",
    "print(f\"Precision:{np.mean(fold_Precision):.3f}\")\n",
    "fold_f1 = cross_val_score(mlp, X, y, cv=kfold, scoring='f1_weighted')\n",
    "print(f\"f1_score:{np.mean(fold_f1):.3f}\")\n",
    "model_param=[np.round(np.mean(fold_Precision),3),np.round(np.mean(fold_f1),3)]"
   ]
  },
  {
   "cell_type": "markdown",
   "id": "1419ee2d",
   "metadata": {},
   "source": [
    "# hyper parameter tuning "
   ]
  },
  {
   "cell_type": "code",
   "execution_count": 90,
   "id": "5f317dce",
   "metadata": {},
   "outputs": [],
   "source": [
    "mlp = MLPClassifier()\n",
    "sample_parameters = {'hidden_layer_sizes':[(10,10,10),(30,30,30),(30,40,30),(50,100,50)],'max_iter':[1,10,50],'activation':['identity','logistic','tanh','relu'],'learning_rate':['constant','adaptive'],'solver':['sdg','adam','lbfgs']}"
   ]
  },
  {
   "cell_type": "code",
   "execution_count": 91,
   "id": "a8254a21",
   "metadata": {},
   "outputs": [],
   "source": [
    "kfold=KFold(n_splits=10,shuffle = True,random_state=0)\n",
    "search_mlp = GridSearchCV(mlp,param_grid=sample_parameters, scoring='accuracy',cv=kfold)"
   ]
  },
  {
   "cell_type": "code",
   "execution_count": 92,
   "id": "bc1dc919",
   "metadata": {},
   "outputs": [
    {
     "data": {
      "text/plain": [
       "GridSearchCV(cv=KFold(n_splits=10, random_state=0, shuffle=True),\n",
       "             estimator=MLPClassifier(),\n",
       "             param_grid={'activation': ['identity', 'logistic', 'tanh', 'relu'],\n",
       "                         'hidden_layer_sizes': [(10, 10, 10), (30, 30, 30),\n",
       "                                                (30, 40, 30), (50, 100, 50)],\n",
       "                         'learning_rate': ['constant', 'adaptive'],\n",
       "                         'max_iter': [1, 10, 50],\n",
       "                         'solver': ['sdg', 'adam', 'lbfgs']},\n",
       "             scoring='accuracy')"
      ]
     },
     "execution_count": 92,
     "metadata": {},
     "output_type": "execute_result"
    }
   ],
   "source": [
    "search_mlp.fit(X,y)"
   ]
  },
  {
   "cell_type": "code",
   "execution_count": 93,
   "id": "cf2aa646",
   "metadata": {},
   "outputs": [],
   "source": [
    "best_param = search_mlp.best_params_"
   ]
  },
  {
   "cell_type": "code",
   "execution_count": 94,
   "id": "3cbb7852",
   "metadata": {},
   "outputs": [],
   "source": [
    "MLP = MLPClassifier(activation=best_param['activation'],hidden_layer_sizes=best_param['hidden_layer_sizes'],learning_rate=best_param['learning_rate'],max_iter=best_param['max_iter'],solver=best_param['solver'])"
   ]
  },
  {
   "cell_type": "code",
   "execution_count": 95,
   "id": "87cb8c03",
   "metadata": {},
   "outputs": [
    {
     "data": {
      "text/plain": [
       "MLPClassifier(hidden_layer_sizes=(10, 10, 10), max_iter=10, solver='lbfgs')"
      ]
     },
     "execution_count": 95,
     "metadata": {},
     "output_type": "execute_result"
    }
   ],
   "source": [
    "MLP.fit(X,y)"
   ]
  },
  {
   "cell_type": "code",
   "execution_count": 96,
   "id": "0622565e",
   "metadata": {},
   "outputs": [
    {
     "name": "stdout",
     "output_type": "stream",
     "text": [
      "Precision:0.864\n",
      "f1_score:0.858\n"
     ]
    }
   ],
   "source": [
    "kfold=KFold(n_splits=10,shuffle = True,random_state=0)\n",
    "fold_Precision_tn = cross_val_score(MLP, X, y, cv=kfold, scoring='precision_weighted')\n",
    "print(f\"Precision:{np.mean(fold_Precision_tn):.3f}\")\n",
    "fold_f1_tn = cross_val_score(MLP, X, y, cv=kfold, scoring='f1_weighted')\n",
    "print(f\"f1_score:{np.mean(fold_f1_tn):.3f}\")\n",
    "model_param_tn=[np.round(np.mean(fold_Precision_tn),3),np.round(np.mean(fold_f1_tn),3)]"
   ]
  },
  {
   "cell_type": "code",
   "execution_count": 98,
   "id": "a5a0d322",
   "metadata": {},
   "outputs": [
    {
     "data": {
      "image/png": "iVBORw0KGgoAAAANSUhEUgAAAeUAAAFdCAYAAAA9qXV6AAAAOXRFWHRTb2Z0d2FyZQBNYXRwbG90bGliIHZlcnNpb24zLjMuNCwgaHR0cHM6Ly9tYXRwbG90bGliLm9yZy8QVMy6AAAACXBIWXMAAAsTAAALEwEAmpwYAAAyy0lEQVR4nO3de3yP9f/H8ednm21mModtilpFDl8slJwVlcNsJhHRUA4J+VKJnHOOQqqv8E3Yz7lCvgrlUJgQwjf69nUqx30+NjMzs8Pn/fvDt08Wszl8tos97rdbt1vX57qu9/W6LnU9vd+f63O9bcYYIwAAkOc88roAAABwCaEMAIBFEMoAAFgEoQwAgEUQygAAWAShDACARRDKuOMcO3ZMFStWVGRkpOufFi1a6LPPPrvutk6ePKnw8HBFRkZq165dbqg2b13r/JYsWaJ58+ZJkj744AONHDnypo61YcMGvf/++zfVRm7Yu3evGjVqlO12UVFRWrVqVS5UhPzEK68LANzB19dXy5cvdy3HxsYqPDxclStXVoUKFXLcztatW1WiRAnNnj3bDVXmvWud344dO/TQQw/dsmPt3btXZ8+evWXtAXciQhn5QnBwsEJCQnTkyBFVqFBBS5Ys0YIFC+R0OhUQEKChQ4eqTJkyGjhwoBISEnT06FH5+fnJ4XDo3LlzioqKUnR0tBYtWqTo6Gh5eHioRIkSGjp0qB544AENHDhQvr6++vXXXxUXF6dGjRopICBA69evl8Ph0OjRo1W7dm0dPnxYI0eO1Pnz5+VwOFShQgVNmTJFPj4+qlKlirp3767NmzfLbrera9euat++vSRp+vTpWrp0qby8vBQSEqLx48ercOHCWZ7HX12t7tjYWE2ZMiXT+f3hm2++0bp167R582b5+vpKkg4dOqSoqCg5HA6VKFFCkyZNUlBQkGJjYzVy5EidPHlSaWlpat68uXr06JHp+Lt379bChQuVkZGhQoUKacmSJVq0aJFCQkI0ffp0LVy4UOvXr5ckde7cWS+++KLKly+vESNG6Pjx4zLGqGXLluratesV5xYVFaVKlSrpp59+Unx8vJ577jmdPn1a27Zt04ULFzRlyhSVL19ep06dyrK9+fPna86cOfL391e5cuUytT9t2jStWbNGTqdTpUqV0vDhwxUcHOxan56erlGjRmnnzp0qUKCASpcurXHjxqlQoUI38p8q8jsD3GGOHj1qqlatmumznTt3mho1apgTJ06YrVu3mvbt25vk5GRjjDEbN240TZs2NcYYM2DAANOpUyfXfp9//rnp3r27McaYmJgY89RTT5m4uDjXumbNmhmn02kGDBhg2rRpY1JTU43dbjflypUzc+fONcYYM3v2bPPiiy8aY4wZP368WbZsmTHGmNTUVBMeHm5WrVpljDGmXLlyJjo62hhjzN69e03lypVNSkqK+fbbb03jxo1NQkKCMcaYsWPHmn/84x/XPI/LXavuy8/vrwYMGGD++c9/GmOMmTp1qmnUqJGrjVdeecV8+OGHxhhjoqKizNq1a40xxqSkpJioqCizcuXKK9qbOnWqefvtt40xxgwcONB1rh06dDB169Y1hw4dMomJiaZmzZrm4sWLpkOHDmbWrFnGGGMSExNNRESE+de//nVFuy+88ILp3bu3McaYn376yZQrV85Vz5gxY8yQIUNcx7lae/v27TO1a9c2drvdGGPM0KFDTcOGDY0xxixdutT07dvXpKWlGWOMWbhwoenatavruF9//bXZvn27adq0qXE6ncYYYyZMmGB27Nhx1WsKZIeeMu5IKSkpioyMlCRlZGSoaNGimjhxou6++25FR0frt99+U7t27VzbJyYmKiEhQZL0yCOPXLXNjRs3KiwsTMWKFZMktWrVSmPGjNGxY8ckSQ0bNlSBAgUUGBgoPz8/1a9fX5J03333udru37+/Nm/erJkzZ+rIkSOy2+1KTk52HePJJ5+UJFWqVEmpqalKTk7Wli1b1LRpUxUpUkSS9NZbb0mSJkyYkOV5BAQE5LjunKpbt66rjQoVKig+Pl7Jycnavn27zp496/q+ODk5Wb/88ovCwsKybOvpp5/WwoUL1bJlSzkcDoWHhysmJkZFihRR/fr1lZ6erp07d2rWrFmSpMKFC6tVq1b6/vvv1bx586u2J0n33nuvJGW69tu2bVNycnKW7cXGxqpu3boKDAyUJLVt21abNm2SJK1fv1579+7Vs88+K0lyOp26cOFCpmOXK1dOnp6eatOmjerVq6cmTZooNDT0uq4t8AdCGXekv36nfDmn06nIyEj179/ftWy3212h5+fnl+V+f2WMUXp6uiTJ29s70zovryv/93rttdeUkZGhZs2a6YknntDJkydlLnv9vI+PjyTJZrO52vf09HQtS5eCNzExMdvzyGndOXX5+dhsNhlj5HQ6ZYzRwoULVbBgQUlSfHy86zyyUrduXQ0ZMkTfffedatasqTp16mjBggUqWLCgwsLCXO3+9Tyyqvmv175AgQJX7Hut9i5f5+npmWmby79GSE1NveJ78bvuukvLly/Xzp079cMPP6hv377q0qWLOnTocM1rAFwNT18j36lXr55Wrlwpu90uSVqwYIE6deqU7X7169fXV199pfj4eEnS559/roCAAIWEhOT42Js2bVKvXr1cvcjdu3crIyPjmvvUqVNH33zzjZKSkiRdehJ69uzZOT6PG63b09Mz2+D29/dX1apV9emnn0q69BeG559/XmvXrr1mez4+PqpRo4Y+/PBD1a1bV4899ph++ukn/fjjj6pfv778/f318MMPu57+PnfunJYtW6Y6depcs55r1ZlVe3Xr1tXmzZt16tQpSdLSpUtd+9WrV0+fffaZ69q///77evPNNzO1vX79enXu3FnVqlXTq6++qpYtW+rf//73DdUJ0FNGvlOvXj1169ZNL730kmw2m/z9/fXhhx9m6o1eTd26ddW5c2d16tRJTqdTxYoV0/Tp0+XhkfO/2/br10+9evWSn5+f/P39VaNGDf3+++/X3Ofxxx/XgQMH9Pzzz0uSypYtq1GjRsnf3z9H53GjdTdo0EDjx4/P9pzeffddjRo1ShEREUpNTVV4eLhatGhxxXa1atXSG2+8oVGjRmno0KF6+umntWbNGtWqVUu+vr6qUKGCihQp4uplv/vuuxo5cqS++OILpaamKiIiQq1atcq2nmvVebX2bDab+vfvr06dOqlQoUKZhp7btGmj2NhYPffcc7LZbLr77ruvuCYNGjTQ999/r/DwcPn5+alIkSIaNWrUDdeJ/M1m/jqmAwAA8gTD1wAAWIRbQzkpKUnh4eFXfcpz//79atWqlZo0aaLBgwdf90MnAADcadwWyrt379bzzz+vI0eOXHV9//79NWzYMK1evVrGGC1evNhdpQAAcFtwWygvXrxYw4cPV1BQ0BXrjh8/rpSUFFWtWlXSpd9N8g5ZAEB+57anr8eMGZPlOrvd7vqhviQFBgYqNjbWXaUAAHBbyJOfRDmdzkw/2zDGZPtzlKs5c+a8nM474+Hx4sX9FReXlNdlAIDl3En3Rw8Pm4oWzfq96HkSyiVLlpTD4XAtnz59+qrD3NlxOs0dE8qS7qhzAYBbKb/cH/PkJ1GlSpWSj4+PduzYIUlavny5GjRokBelAABgGbkayt26ddPevXslXXq7zrhx49S0aVMlJyerY8eOuVkKAACWc1u/0SsuLumOGdIIDCwsh+NcXpcBAJZzJ90fPTxsKl7cP8v1vPsaACzIGKOkpLO6cCFJTue1Jy2509ntHled7czKPDw8VbCgv/z9i1zXg8yEMgBY0JkzDtlsNhUrFixPT68b+oXKncLLy0Pp6bdPKBtjlJGRrnPnEnTmjEPFiuX8QWbefQ0AFpSamqKAgOLy8iqQrwP5dmSz2eTlVUABAcWVmppyXfsSygBgSUY2G7fo29mlP7/re+6JP3EAACyCUAaA20ThuwoqMLDwLf+n8F0Fc/U8du78Ub17d7/mNmPGjNBXX6246rpRo4bp9GnHFZ+3bh2hkydPXLPdsWPfVps2kfrmm+ufb+GP9k+cOK5x40ZKkuz2WI0ePfy628oKD3oBwG3C18dLEa8vv+XtrngvUrfLD442b96owMAglSgRmP3GV/H11//SunUxKlCgwA3XcOrUSR0/fmlK4qCgYBUrVkxbtmxS7dr1brjNPxDKAIBs7dz5o+bOnaUCBQro5MkTqlu3gQoWLKiNG7+TMUbvvvu+ihUrrs2bN2rmzGkyxql77iml/v0HqVix4tq27QdNnTpJ3t7eCgm539XusWNH9e6745SYeFY+Pr7q16+/ypWrkGUd8+fP1ZtvDpYkJSae1ciRQ2W3x+r++x9UamqqJCkjI0P/+Mf72rVrhzIynAoLC1fbth00YEA/GWPUrVsnTZ78oRYvXqAdO7YrMTFRJUqU0MiR41SsWHHVq/eoNm36UZL01VcrtGvXDg0ePMJVw/vvv6sTJ47rvffe0euvD1DTps01adKEWxLKDF8DAHJk376f9cYbb+mf/4zWF18sVkBAUX3ySbTKln1I3367RmfOxGvixLEaN+5dzZmzUFWqPKxJkyYoNTVVY8YM1+jR72jWrP+Tj4+Pq80xY4arZ88+mjVrnt58c7CGDx+U5fETE8/q6NHfXaH+z39+rHLlKmju3EVq1aqN4uPjJEkrViyVJM2aNU8zZ87Rxo3faffuXXrnncmSpNmz5+v8+fP6/fcj+vjjWVq48AsFB5fU6tVf5+g6/P3vb6h8+Yp6/fUBkqQHHyyrI0cOKTHx7HVf07+ipwwAyJEHHyyj4OCSkqQiRQL06KOPSZKCg0vq3LlE7dv3sypWrKS7775HktSiRStFR8/WoUMHVLx4oO6//wFJUrNm4Zo5c5qSk5O1f/8+jR070nWMCxcu6OzZhKse//jxYypRooRredeuHRoxYqwkqWrV6rrnnlKSpB9/3Kb//vdX7djx4//aTNbBgwf08MPVXPuWLn2vevfupxUrlun333/Tzz/vValSpW/42gQGBunEieO6664iN9yGRCgDAHLIyytzZHh6emZaNsb5l2WjjIwMSTZd/tOgP/ZzOp3y9vbR7NnzXevs9tgsg81ms8nT0yvT8uVviv6j3YwMp3r27KPHH28kSUpISFDBgpkfZvvll/0aMWKw2rVrr4YNn5Snp0emtv6YUjg9Pf2qtfzVpRe83PzgM8PXAIBb4m9/q6x9+/a6noD+8ssvVL36Iypb9iHFx8frv//9VZL07berJUn+/v4qXfperV79lSRp+/Yf1KtX1k9l33NPKdntsa7lRx99zLXv/v0/ux6+euSRR/Xll8uUnp6u5ORk9ezZRT//vDdTWz/9tEPVqj2ili1b695771NMzCbXqzwDAgJ0+PBBGWO0adP3V9Th6en1v79s/MnhiHWNENwMesoAcJtIuZiuFe9FuqXdW6FYseLq33+wBg16Q2lp6SpZsqQGDhwmLy8vjRgxRqNHD5Onp2emB7mGDx+tiRPHav78ufLyKqCRI8dm+Qazu+4qolKlSuvw4UN64IEH1aXLyxoz5m298MJzCgkJcQ1ft2zZWseOHdWLL7ZXRkaGwsIiVL36o5naevLJxho0qL86dmwrSSpfvqLrLxM9evTWm2/2U7FixRUaWvWK4fT7779fSUnnNGrUUA0dOkqHDh3Qfffdr7vuuuumryGzRFnEnTQLCoCbd+rUbypZMiSvy7CEy999vWnTd/rpp13q3btv3hZ1malT39Ojj9ZUnTpXPn391z/H7GaJYvgaAHDbqFfvcZ0+7bjqy0PyQmzsKcXFxV01kG8EPWWLoKcM4HL0lP90u80SdTl6ygAA3KYIZQAALIJQBgDAIghlAAAsgt8pA8BtomgRb3l5+2S/4XVKT72oM2dTb3m7uH6EMgDcJry8fXRozLO3vN0HB38uKfdCeefOHzVr1gx9+OGMLLcZM2aEqlV7RGFhEVesGzVqmF555VXZ7bHasGGdevbs47ZaL58latSoYerRo7cCA4PcdjyGrwEAt43L51M+cuSwzpyJz7Vjv/BCZ02dOsmtx6CnDADIltXmUz537pz++c+PdeHCBc2Z84kCA4MyzXvcu3d3vfTSpfdoR0d/Kl9fXx05clhlypTV8OFjVKBAAX399b+0ZMkCOZ1G5ctX0GuvDZCPj49WrVqpOXM+UaFC/ipZsqQKFvSTJD3wwIM6deqEjh8/dlMzSl0LPWUAQI5YaT7lwoULq2vXHqpXr4E6depyzbr//e896tfvTc2b95liY09p69YtOnTooFasWKZp02Zp9uz5Klq0mBYsiNbp0w5NmzZVH300Ux9/PEvJycmZ2goNrarNmzfe3IW8BnrKAIAcsdp8yjn1wANlFBQULEkKCXlA584lateukzp27KhefvlFSVJ6eprKlaugvXt3q3LlUBUrVlyS1LhxM+3Ysd3VVnDw3Tp27PfrriGnCGUAQI5YbT7lv667/K3RGRl/znzl7e19xXYZGU41avSU+vbtL0lKTk5WRkaGduzYpstfPv3Xc/T09JSHh/sGmRm+BgDcErk9n7Knp6drXuMiRQL022+HZYzRiRPHdeDAgWvWWq3aI/r++w06cyZexhi99944LV48X6GhVfXzz3vkcNjldDq1bt03mfY7deqkSpW69zqvTM7RUwaA20R66sX//Xzp1rd7K+T2fMoVK1bSrFkzNG3aB+rS5WWtXLlczz//rEJCQhQaWvWatT70UDm9+GI39enTQ8YYlS1bTi+80Fk+Pj7q27e/+vbtKV/fgq4h9z/89NMOvf32uJu+VllhliiLYJYoAJdjlqg/WWU+5f/+91fNmfOJRo9+J8f7MEsUAOCOlZfzKc+fP1e9e/dz6zHoKVsEPWUAl6On/CfmUwYA5DHbFU8z4/Zy6c/v6t+PZ4UHvf6n8F0F5euTd5fDmZaqwMDCeXZ8iZfSA1bi7e2rhITTKly4qDw9vbJ8+AnWc+knV+k6d+6MvL19r2tfQvl/fH28FPH68jw7/or3It3yovnrkdsvpQeQtaJFA5WUdFbx8bFyOjPyupw85eHhIafz9ho18PDwVMGC/vL3v/pvrrNCKAOABdlsNhUuHKDChQPytI68HkWULo0kehTwzn5DN8nNUURCGQCQpbweRZTyfiQxN0cRedALAACLIJQBALAIQhkAAIsglAEAsAhCGQAAiyCUAQCwCEIZAACLIJQBALAIQhkAAIsglAEAsAhCGQAAiyCUAQCwCLeG8ooVKxQWFqbGjRtr3rx5V6z/+eef9eyzz6pFixZ6+eWXlZiY6M5yAACwNLeFcmxsrCZPnqz58+dr2bJlWrRokQ4cOJBpmzFjxqhPnz768ssv9cADD+iTTz5xVzkAAFie20I5JiZGtWrVUkBAgPz8/NSkSROtWrUq0zZOp1Pnz5+XJF24cEG+vr7uKgcAAMtz23zKdrtdgYGBruWgoCDt2bMn0zYDBw7USy+9pLFjx6pgwYJavHjxdR2jeHH/W1Ir/hQYWDivSwAAy8mte6PbQtnpdMpms7mWjTGZllNSUjR48GDNnj1boaGh+vTTTzVgwADNmDEjx8eIi0uS02luSb2E0SUOx7m8LgGAhXBvvORW3Rs9PGzX7FC6bfi6ZMmScjgcrmWHw6GgoCDX8q+//iofHx+FhoZKktq2batt27a5qxwAACzPbaFcp04dbdmyRfHx8bpw4YLWrFmjBg0auNaHhITo1KlTOnTokCRp7dq1qlKlirvKAQDA8tw2fB0cHKx+/fqpY8eOSktLU+vWrRUaGqpu3bqpT58+qlKlisaNG6e+ffvKGKPixYtr7Nix7ioHAADLc1soS1JERIQiIiIyfTZz5kzXvz/++ON6/PHH3VkCAAC3Dd7oBQCARRDKAABYBKEMAIBFEMoAAFgEoQwAgEUQygAAWAShDACARRDKAABYBKEMAIBFEMoAAFgEoQwAgEUQygAAWAShDACARRDKAABYBKEMAIBFEMoAAFgEoQwAgEUQygAAWAShDACARRDKAABYBKEMAIBFEMoAAFgEoQwAgEUQygAAWAShDACARRDKAABYBKEMAIBFEMoAAFgEoQwAgEUQygAAWAShDACARRDKAABYBKEMAIBFEMoAAFgEoQwAgEUQygAAWAShDACARRDKAABYBKEMAIBFEMoAAFgEoQwAgEUQygAAWAShDACARRDKAABYBKEMAIBFEMoAAFgEoQwAgEUQygAAWIRbQ3nFihUKCwtT48aNNW/evCvWHzp0SFFRUWrRooW6dOmis2fPurMcAAAszW2hHBsbq8mTJ2v+/PlatmyZFi1apAMHDrjWG2P0yiuvqFu3bvryyy9VsWJFzZgxw13lAABgeW4L5ZiYGNWqVUsBAQHy8/NTkyZNtGrVKtf6n3/+WX5+fmrQoIEkqUePHurQoYO7ygEAwPLcFsp2u12BgYGu5aCgIMXGxrqWf//9d5UoUUKDBg3SM888o+HDh8vPz89d5QAAYHle2W1w8OBB7dy5U61bt1a/fv3073//W6NHj1atWrWuuZ/T6ZTNZnMtG2MyLaenp2vbtm36v//7P1WpUkVTpkzR+PHjNX78+BwXX7y4f463Rc4EBhbO6xIAwHJy696YbSgPHz5czz33nDZs2KDY2FiNGTNGkyZN0qJFi665X8mSJfXjjz+6lh0Oh4KCglzLgYGBCgkJUZUqVSRJ4eHh6tOnz3UVHxeXJKfTXNc+WSGMLnE4zuV1CQAshHvjJbfq3ujhYbtmhzLb4euLFy+qRYsW2rRpk5o1a6aaNWsqLS0t2wPXqVNHW7ZsUXx8vC5cuKA1a9a4vj+WpGrVqik+Pl6//PKLJGndunWqVKlSTs4JAIA7UrY95dTUVJ0+fVobNmzQ9OnTdfr0aV28eDHbhoODg9WvXz917NhRaWlpat26tUJDQ9WtWzf16dNHVapU0UcffaQhQ4bowoULKlmypCZMmHBLTgoAgNtRtqHctm1bNWzYUM2aNVPZsmX1xBNPqGfPnjlqPCIiQhEREZk+mzlzpuvfH374YX322WfXWTIAAHembEO5ffv2ateunTw8Lo10L126VEWLFnV7YQAA5DfZfqd8/vx5jR49Wp06dVJCQoImT56s8+fP50ZtAADkK9mG8ujRo1W4cGHFxcXJx8dHSUlJGjZsWG7UBgBAvpJtKO/fv1/9+vWTl5eXChYsqHfffVf79+/PjdoAAMhXsg3lP75L/kNGRsYVnwEAgJuX7YNeNWrU0MSJE5WSkqKNGzdq3rx5qlmzZm7UBgBAvpJtl/eNN96Qn5+fChcurMmTJ6t8+fJ68803c6M2AADylWx7ylOnTtXrr7+uXr165UY9AADkW9n2lDds2JALZQAAgGx7yqVLl9ZLL72k6tWrq1ChQq7PX3zxRbcWBgBAfpNtKAcEBEiSjh8/7u5aAADI17IN5XHjxkm6FMrp6ekKCQlxe1EAAORH2Ybyb7/9pp49e8put8vpdKpo0aKaPn26ypQpkxv1AQCQb2T7oNfIkSPVtWtXbd++XTt27NArr7yit99+OzdqAwAgX8k2lOPi4vTMM8+4lp999lmdOXPGrUUBAJAfZRvKGRkZSkhIcC3Hx8e7sx4AAPKtbL9TfuGFF9S2bVs1a9ZMNptNX331lTp16pQbtQEAkK9kG8pt27ZVSEiINm7cKKfTqREjRqh27dq5URsAAPlKtsPXsbGxWrVqlfr37682bdooOjpaDocjN2oDACBfyTaUBwwYoAcffFCSVKpUKT322GMaNGiQ2wsDACC/yTaUz5w5o44dO0qSfHx81LlzZ3rKAAC4QY6evo6NjXUtnz59WsYYtxYFAEB+lO2DXp07d1bLli1Vv3592Ww2xcTEMJ8yAABukG0ot27dWpUrV9YPP/wgT09PdenSReXKlcuN2gAAyFeuGcrGGGVkZKhChQoqXbq0YmJi5O3tnVu1AQCQr2T5nfKBAwf05JNPauPGjUpJSVGbNm00efJkRUVFafPmzblZIwAA+UKWoTxhwgT17dtXDRs21MqVK2WM0cqVK7V48WJ98MEHuVkjAAD5QpahfPLkSbVo0UKStHXrVj311FPy8PDQ3XffraSkpFwrEACA/CLLUPbw+HPVrl27VKNGDdfyxYsX3VsVAAD5UJYPehUpUkS//PKLkpKS5HA4XKG8c+dOBQcH51qBAADkF1mG8muvvabOnTsrKSlJb7zxhvz8/PTJJ5/o448/1kcffZSbNQIAkC9kGcpVq1bV999/r5SUFN11112SpGrVqmnJkiW6//77c6s+AADyjWv+Ttnb2zvT75KrV6/u9oIAAMivsn33NQAAyB2EMgAAFpHjUE5MTHRnHQAA5HvZhvKhQ4cUFham5s2bKzY2Vs2aNdPBgwdzozYAAPKVbEN59OjRGjx4sIoXL67g4GC98MILGjZsWG7UBgBAvpJtKCckJKhu3bqu5Q4dOvCaTQAA3CBH3ylfvHhRNptNkuRwOOR0Ot1aFAAA+dE1f6csSe3bt1eXLl0UFxen9957TytXrlTXrl1zozYAAPKVbEO5devWuu+++/Tdd98pPT1do0aNyjScDQAAbo1sQ1mSHnnkEZUvX17GGEmXvmcOCAhwZ10AAOQ72YbyvHnz9M477ygtLU2SZIyRzWbT/v373V4cAAD5SbahPGvWLC1atEgVK1bMjXoAAMi3sn36ukiRIgQyAAC5IMtQTkhIUEJCgqpWrarZs2fr9OnTrs8SEhJysUQAAPKHLIeva9WqJZvN5nq4a/z48a51fKcMAMCtl2Uo7969Wz4+PrlZCwAA+VqWw9ft2rW76cZXrFihsLAwNW7cWPPmzctyuw0bNqhRo0Y3fTwAAG5nWfaU/xi2vlGxsbGaPHmyvvjiC3l7e6tdu3aqWbOmypYtm2m706dP65133rmpYwEAcCfIMpQvXryoffv2ZRnOlSpVumbDMTExqlWrluslI02aNNGqVavUu3fvTNsNGTJEvXv31nvvvXedpQMAcGfJMpSPHj2qV1999aqhbLPZtHbt2ms2bLfbFRgY6FoOCgrSnj17Mm0zd+5c/e1vf9PDDz98vXVLkooX97+h/ZC1wMDCeV0CAFhObt0bswzlsmXLatmyZTfcsNPpdM0sJf35JrA//Prrr1qzZo1mz56tU6dO3dAx4uKS5HTe3DD7HwijSxyOc3ldAgAL4d54ya26N3p42K7ZoczR1I03omTJknI4HK5lh8OhoKAg1/KqVavkcDj07LPPqnv37rLb7Wrfvr27ygEAwPKyDOVHH330phquU6eOtmzZovj4eF24cEFr1qxRgwYNXOv79Omj1atXa/ny5ZoxY4aCgoI0f/78mzomAAC3syxDeciQITfVcHBwsPr166eOHTuqZcuWCg8PV2hoqLp166a9e/feVNsAANyJcjR1442KiIhQREREps9mzpx5xXalS5fWunXr3FkKAACW57bvlAEAwPUhlAEAsAhCGQAAiyCUAQCwCEIZAACLIJQBALAIQhkAAIsglAEAsAhCGQAAiyCUAQCwCEIZAACLIJQBALAIQhkAAIsglAEAsAhCGQAAiyCUAQCwCEIZAACLIJQBALAIQhkAAIsglAEAsAhCGQAAiyCUAQCwCEIZAACLIJQBALAIQhkAAIsglAEAsAhCGQAAiyCUAQCwCEIZAACLIJQBALAIQhkAAIsglAEAsAhCGQAAiyCUAQCwCEIZAACLIJQBALAIQhkAAIsglAEAsAhCGQAAiyCUAQCwCEIZAACLIJQBALAIQhkAAIsglAEAsAhCGQAAiyCUAQCwCEIZAACLIJQBALAIQhkAAItwayivWLFCYWFhaty4sebNm3fF+m+//VaRkZFq0aKFevbsqbNnz7qzHAAALM1toRwbG6vJkydr/vz5WrZsmRYtWqQDBw641iclJWnEiBGaMWOGvvzyS5UvX14ffPCBu8oBAMDy3BbKMTExqlWrlgICAuTn56cmTZpo1apVrvVpaWkaPny4goODJUnly5fXyZMn3VUOAACW5+Wuhu12uwIDA13LQUFB2rNnj2u5aNGievrppyVJKSkpmjFjhqKioq7rGMWL+9+aYuESGFg4r0sAAMvJrXuj20LZ6XTKZrO5lo0xmZb/cO7cOfXq1UsVKlTQM888c13HiItLktNpbrpWiTD6g8NxLq9LAGAh3BsvuVX3Rg8P2zU7lG4bvi5ZsqQcDodr2eFwKCgoKNM2drtd7du3V/ny5TVmzBh3lQIAwG3BbaFcp04dbdmyRfHx8bpw4YLWrFmjBg0auNZnZGSoR48eatasmQYPHnzVXjQAAPmJ24avg4OD1a9fP3Xs2FFpaWlq3bq1QkND1a1bN/Xp00enTp3Svn37lJGRodWrV0uSKleuTI8ZAJBvuS2UJSkiIkIRERGZPps5c6YkqUqVKvrll1/ceXgAAG4rvNELAACLIJQBALAIQhkAAIsglAEAsAhCGQAAiyCUAQCwCEIZAACLIJQBALAIQhkAAIsglAEAsAhCGQAAiyCUAQCwCEIZAACLIJQBALAIQhkAAIsglAEAsAhCGQAAiyCUAQCwCEIZAACLIJQBALAIQhkAAIsglAEAsAhCGQAAiyCUAQCwCEIZAACLIJQBALAIQhkAAIsglAEAsAhCGQAAiyCUAQCwCEIZAACLIJQBALAIQhkAAIsglAEAsAhCGQAAiyCUAQCwCEIZAACLIJQBALAIQhkAAIsglAEAsAhCGQAAiyCUAQCwCEIZAACLIJQBALAIQhkAAIsglAEAsAhCGQAAiyCUAQCwCLeG8ooVKxQWFqbGjRtr3rx5V6zfv3+/WrVqpSZNmmjw4MFKT093ZzkAAFia20I5NjZWkydP1vz587Vs2TItWrRIBw4cyLRN//79NWzYMK1evVrGGC1evNhd5QAAYHle7mo4JiZGtWrVUkBAgCSpSZMmWrVqlXr37i1JOn78uFJSUlS1alVJUqtWrTR16lS1b98+x8fw8LDd0pqDiha8pe1dL68igXl6fOnWX1MAt7+8vjdKeX9/vFX3xuzacVso2+12BQb+eRGDgoK0Z8+eLNcHBgYqNjb2uo5RtGihmy/0Mp8MaXxL27te9/X+OE+PL0nFi/vndQkALCav741S3t8fc+ve6Lbha6fTKZvtz78RGGMyLWe3HgCA/MZtoVyyZEk5HA7XssPhUFBQUJbrT58+nWk9AAD5jdtCuU6dOtqyZYvi4+N14cIFrVmzRg0aNHCtL1WqlHx8fLRjxw5J0vLlyzOtBwAgv7EZY4y7Gl+xYoWmT5+utLQ0tW7dWt26dVO3bt3Up08fValSRb/88ouGDBmipKQkVapUSePGjZO3t7e7ygEAwNLcGsoAACDneKMXAAAWQSgDAGARhDIAABZBKAMAYBGEMgAAFuG212zeyY4dO6amTZuqTJkystlsSktLU1BQkMaNG6eSJUvecLsLFiyQJD3//PNXXf/++++rcuXKevLJJ2/4GAAA6+InUTfg2LFj6tixo9atW+f6bPz48bLb7Zo0aVIeVgYAee+tt97Stm3b1K9fPzVp0kRdu3ZVz549VbNmzbwuzfLoKd8iNWvW1KRJk9SoUSOFhoZq//79mj9/vjZu3Kg5c+bI6XSqUqVKGj58uHx8fLRixQpNmzZNNptNVapU0ahRo/Txx5deuN6jRw8NGjRI//3vfyVJ7du313PPPaeBAwfqscceU6tWrfT555/r008/lc1mU6VKlTR06FAVKlRI9erVU5MmTbRjxw55enpqypQpuvfee/Py0gDIZ5YuXao9e/bo2LFjioqK0r59+/K6pNsG3ynfAmlpaVq9erVrGsoGDRpo9erVio+P1+LFi7Vw4UItX75cxYsX1yeffKLY2FiNGzdOs2bN0sqVK5WRkaHvvvvO1d6uXbt09uxZLVu2TNOnT9ePP/6Y6Xj/+c9/9PHHHys6OlorVqxQwYIF9eGHH0q69I7x2rVra9myZapRo4bmzZuXa9cBAHr06CFjjNq0aaOZM2eqa9euevjhh3O07zvvvKMWLVqoZcuWrntaQkKCevXqpWbNmikyMlJbtmyRJK1fv16RkZGKiIhQz549dfr0aUlSo0aN1LdvXzVp0kRxcXFatmyZnnnmGUVGRmrQoEG6ePGie078FiGUb5DdbldkZKQiIyPVokULGWP0+uuvS5LrP8CtW7fqt99+03PPPafIyEitXbtWhw4d0q5du1S9enXX988TJ07UU0895Wr7oYce0uHDh9WlSxetWrVKb775ZqZjb9++XQ0bNlTRokUlSW3bttUPP/zgWl+/fn1XO2fPnnXfRQCAv/hjxG/58uUaN25cpnvbtRw/flzff/+9vvzySy1YsEAHDhzQxYsX9f777+u+++7T119/rQkTJmjKlCmKi4vTsGHD9NFHH2nFihWqXr26Ro4c6Woru46RlTF8fYOCgoK0fPnyq67z8fGRJGVkZKhZs2YaMmSIJOn8+fPKyMjQtm3bMk1TGR8fn2n/okWLauXKldq8ebO+++47PfPMM1q5cqVrvdPpzLS9MUbp6elXHN9ms4lHBgDcDoKDg+Xj46N27dqpYcOGeuONN+Tj46Pt27fr3XfflSSVL19eixYt0vr16xUaGqrSpUtLutQxmTFjhqutq3WMpEujmn/7299y+cyuDz1lN6pZs6a++eYbxcXFyRijESNGaM6cOapSpYp++ukn19SVY8eO1dq1a137rV27Vv3799cTTzyhIUOGyM/PTydPnnStf+yxx7Ru3TolJCRIkhYvXswDFABua15eXlqyZIn+/ve/KyEhQe3atdPhw4fl5eWVqRNz8ODBHHdM/ugYLV++XMuXL9eSJUs0bNiw3DmhG0Qou1GFChXUu3dvderUSc2bN5fT6VT37t0VHByswYMHq0uXLgoPD5evr69atWrl2q9Bgwby9fVV8+bN1aZNG7Vo0ULly5fP1O7LL7+sqKgoNW3aVImJierbt28enCEA3Br79u3TCy+8oBo1amjAgAEqU6aMDh8+rEcffdQ1Unjw4EF169ZNDz/8sHbv3q1jx45JkhYtWnTVjklWHSMr4ydRAIBbqnz58vrPf/7jWo6KilLv3r2zHdF75513tH79ehUsWFDVq1fXW2+9peTkZA0ZMkRHjhyRl5eXBg0apEcffVTr1q3T1KlTlZaWpnvuuUdjxoxRUFCQGjVqpLlz57qGtpcsWeL6BUzFihU1duxYV0/aighlAAAsgge9AAC5JioqSomJiVd83q5duyzfZpif0FMGAMAieNALAACLIJQBALAIQhm4QceOHVPFihVdb3b74+1un3322XW3dfLkSYWHhysyMlK7du1yQ7W3p6NHj+rVV1+96rrY2Fi1a9culysC3IsHvYCb4Ovrm+nNbrGxsQoPD1flypVVoUKFHLezdetWlShRQrNnz3ZDlbevEydO6PDhw1ddFxwcrIULF+ZyRYB7EcrALRQcHKyQkBAdOXJEFSpU0JIlS7RgwQI5nU4FBARo6NChKlOmjAYOHKiEhAQdPXpUfn5+cjgcOnfunKKiohQdHa1FixYpOjpaHh4eKlGihIYOHaoHHngg035PPPGE4uLi5Ovrq19//VVxcXFq1KiRAgICtH79ejkcDo0ePVq1a9fW4cOHNXLkSJ0/f14Oh0MVKlTQlClT5OPjoypVqqh79+7avHmz7Ha7unbtqvbt20uSpk+frqVLl8rLy0shISEaP368ChcunOV5XW7r1q2aNGmS7r77bh0+fFgFCxZU9+7dFR0drcOHD6tx48YaNGiQJGndunWaNm2a0tLS5OvrqwEDBig0NFRDhgxRbGysunTporffflsdOnRQmTJldPz4cY0fP14vvfSSdu3apfT0dE2cOFEbNmyQp6enqlWrpuHDh+vo0aMaPHiwUlNTZYxR69at1aFDh1z/7wLIMQPghhw9etRUrVo102c7d+40NWrUMCdOnDBbt2417du3N8nJycYYYzZu3GiaNm1qjDFmwIABplOnTq79Pv/8c9O9e3djjDExMTHmqaeeMnFxca51zZo1M06n84r9BgwYYNq0aWNSU1ON3W435cqVM3PnzjXGGDN79mzz4osvGmOMGT9+vFm2bJkxxpjU1FQTHh5uVq1aZYwxply5ciY6OtoYY8zevXtN5cqVTUpKivn2229N48aNTUJCgjHGmLFjx5p//OMf1zyvy/3www+mYsWK5ueffzbGGNOlSxfTtm1bc/HiRRMXF2cqVapkTp06ZQ4fPmzCw8NNfHy8McaYX3/91dStW9ecP3/e/PDDD6Z58+au612uXDmzffv2K67/nDlzTIcOHcyFCxdMRkaG+fvf/26WLl1q3nrrLTN9+nRjjDF2u9307dvXZGRk5OjPF8gL9JSBm5CSkqLIyEhJl96zW7RoUU2cOFF33323oqOj9dtvv2X63jMxMdH1zvJHHnnkqm1u3LhRYWFhKlasmCSpVatWGjNmjOuVgn/dr2HDhipQoIACAwPl5+fnmiXsvvvucx2rf//+2rx5s2bOnKkjR47IbrcrOTnZ1caTTz4pSapUqZJSU1OVnJysLVu2qGnTpipSpIikSxPXS9KECROyPK+AgIBMtZUuXdo1AcB9992nwoULy9vbW8WKFVOhQoV09uxZbd++XXa7XZ07d3btZ7PZ9Pvvv19xbby8vFxTpF4uJiZGkZGR8vX1lSRNmTJFklSkSBENGDBAe/bsUe3atTVkyBB5ePAoDayLUAZuwl+/U76c0+lUZGSk+vfv71q22+2ukPPz88tyv78yl71w/6/7eXt7Z1r28rryf+vXXnvN9XL+J554QidPnsw0g9jlM4v9cTxPT89MEwEkJiYqMTEx2/O63tqcTqdq167tClLp0oNvQUFBV8wl7u3tfdU2/vrZ6dOn5XQ61bBhQ61evVoxMTHasmWLPvroI33xxReuaVMBq+GvjICb1KtXTytXrpTdbpckLViwQJ06dcp2v/r16+urr75yTen5+eefKyAgQCEhITdcy6ZNm9SrVy+FhYVJknbv3q2MjIxr7lOnTh198803SkpKkiR98MEHmj179g2fV1Zq166tzZs36+DBg5Kk7777Ti1atFBKSoo8PT2VlpaWozb+9a9/KTU1VU6nUyNGjNDKlSv1+uuv66uvvlLz5s01fPhw+fv7X7UHDlgFPWXATerVq6du3brppZdeks1mk7+/vz788MNMvc+rqVu3rjp37qxOnTrJ6XSqWLFimj59+k0Nu/br10+9evWSn5+f/P39VaNGjWzD6fHHH9eBAwdcrz4sW7asRo0aJX9//xs6r6yULVtWI0eO1GuvvSZjjLy8vDRt2jQVKlRIZcuWlY+Pj1q3bq3Jkydn2Ua7du10/PhxtWrVSsYYPfbYY4qKitJvv/2mwYMHa9GiRfL09NRTTz2lGjVq3FCdQG7gNZsAAFgEw9cAAFgEoQwAgEUQygAAWAShDACARRDKAABYBKEMAIBFEMoAAFjE/wOQp/1Y7hrYywAAAABJRU5ErkJggg==\n",
      "text/plain": [
       "<Figure size 432x288 with 1 Axes>"
      ]
     },
     "metadata": {},
     "output_type": "display_data"
    }
   ],
   "source": [
    "metrics=['Precision','f1_score']\n",
    "x=np.arange(2)\n",
    "fig=plt.figure()\n",
    "ax=fig.add_axes([0,0,1,1])\n",
    "ax.bar(x,model_param,width=0.1,label='model (default)')\n",
    "ax.bar(x+0.1,model_param_tn,width=0.1,label='model (tuned)')\n",
    "plt.xticks( [i+0.05 for i in x],metrics)\n",
    "plt.title('Perfomance of the two models')\n",
    "plt.yticks(np.arange(0,1.2,0.2))\n",
    "plt.ylabel('The Scores')\n",
    "plt.xlabel('Performance metrics')\n",
    "plt.legend()\n",
    "plt.show()"
   ]
  }
 ],
 "metadata": {
  "kernelspec": {
   "display_name": "Python 3",
   "language": "python",
   "name": "python3"
  },
  "language_info": {
   "codemirror_mode": {
    "name": "ipython",
    "version": 3
   },
   "file_extension": ".py",
   "mimetype": "text/x-python",
   "name": "python",
   "nbconvert_exporter": "python",
   "pygments_lexer": "ipython3",
   "version": "3.8.8"
  }
 },
 "nbformat": 4,
 "nbformat_minor": 5
}
